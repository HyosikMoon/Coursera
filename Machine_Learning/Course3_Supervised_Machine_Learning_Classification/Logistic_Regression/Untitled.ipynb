{
 "cells": [
  {
   "cell_type": "code",
   "execution_count": 2,
   "id": "4e3e6263-9957-4c0c-9224-658aa54c926f",
   "metadata": {},
   "outputs": [],
   "source": [
    "demo = [1, 2, 3]"
   ]
  },
  {
   "cell_type": "code",
   "execution_count": 3,
   "id": "bc89ad6d-8ddf-48e1-96de-ae42167fb83e",
   "metadata": {
    "tags": []
   },
   "outputs": [
    {
     "name": "stdout",
     "output_type": "stream",
     "text": [
      "10\n",
      "I ran this code.\n",
      "20\n",
      "I ran this code.\n",
      "30\n",
      "I ran this code.\n"
     ]
    }
   ],
   "source": [
    "for i in demo:\n",
    "    k = i*10\n",
    "    print(k)\n",
    "    print('I ran this code.')"
   ]
  },
  {
   "cell_type": "code",
   "execution_count": null,
   "id": "8906b254-1a16-4f3d-bee0-3211c70cf4c0",
   "metadata": {},
   "outputs": [],
   "source": []
  },
  {
   "cell_type": "code",
   "execution_count": null,
   "id": "4be0f1a5-1a5d-4816-bf57-58a2a73e7eb6",
   "metadata": {},
   "outputs": [],
   "source": []
  },
  {
   "cell_type": "code",
   "execution_count": null,
   "id": "cfcc45ea-aa80-46a2-9163-a1730da88d6b",
   "metadata": {},
   "outputs": [],
   "source": []
  }
 ],
 "metadata": {
  "kernelspec": {
   "display_name": "Python 3.8 (XPython)",
   "language": "python",
   "name": "xpython"
  },
  "language_info": {
   "file_extension": ".py",
   "mimetype": "text/x-python",
   "name": "python",
   "version": "3.8.10"
  }
 },
 "nbformat": 4,
 "nbformat_minor": 5
}
