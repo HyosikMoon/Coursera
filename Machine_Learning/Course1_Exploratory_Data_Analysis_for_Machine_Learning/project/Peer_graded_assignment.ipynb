{
 "cells": [
  {
   "cell_type": "code",
   "execution_count": null,
   "id": "f12a8905",
   "metadata": {},
   "outputs": [],
   "source": [
    "# I will analyze the Goldman Sachs's Stock Data from 1999-05-04 to 2021-07-01.\n",
    "# In the data, there are several features and I will try to find the relationships  between features.\n",
    "# To be specific, I will analize if the difference between OPEN PRICE of the stock and HIGH PRICE of the stock affects the CLOSE PRICE compared to the yesterday's CLOSE PRICE.\n",
    "\n",
    "# This is steps of the data analysis.\n",
    "# 1. Retrieve data - Use \n",
    "# 2. Data Cleaning \n",
    "# 3. Exploratory Data Analysis\n",
    "# 4. "
   ]
  }
 ],
 "metadata": {
  "kernelspec": {
   "display_name": "Python 3",
   "language": "python",
   "name": "python3"
  },
  "language_info": {
   "codemirror_mode": {
    "name": "ipython",
    "version": 3
   },
   "file_extension": ".py",
   "mimetype": "text/x-python",
   "name": "python",
   "nbconvert_exporter": "python",
   "pygments_lexer": "ipython3",
   "version": "3.8.3"
  }
 },
 "nbformat": 4,
 "nbformat_minor": 5
}
