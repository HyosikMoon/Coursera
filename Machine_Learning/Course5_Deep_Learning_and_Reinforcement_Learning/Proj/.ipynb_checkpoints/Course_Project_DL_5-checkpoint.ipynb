{
 "cells": [
  {
   "cell_type": "code",
   "execution_count": 2,
   "id": "a4020b9e",
   "metadata": {},
   "outputs": [],
   "source": [
    "import gym\n",
    "import pandas\n",
    "import numpy as np\n",
    "\n",
    "env = gym.make('CartPole-v0')"
   ]
  },
  {
   "cell_type": "code",
   "execution_count": 2,
   "id": "d56ce698",
   "metadata": {},
   "outputs": [],
   "source": [
    "env.env?"
   ]
  },
  {
   "cell_type": "code",
   "execution_count": 3,
   "id": "09e0466f",
   "metadata": {},
   "outputs": [],
   "source": [
    "num_episodes = 10000\n",
    "\n",
    "life_memory = []\n",
    "\n",
    "for i in range(num_episodes):\n",
    "    old_observation = env.reset()\n",
    "    done = False\n",
    "    tot_reward = 0\n",
    "    ep_memory = []\n",
    "    while not done:\n",
    "        new_action = env.action_space.sample()\n",
    "        observation, reward, done, info = env.step(new_action)\n",
    "        tot_reward += reward\n",
    "        \n",
    "        ep_memory.append({\n",
    "            \"obs0\": old_observation[0],\n",
    "            \"obs1\": old_observation[1],\n",
    "            \"obs2\": old_observation[2],\n",
    "            \"obs3\": old_observation[3],\n",
    "            \"action\": new_action,\n",
    "            \"reward\": reward,\n",
    "            \"episode\": i,\n",
    "        })\n",
    "        old_observation = observation\n",
    "        \n",
    "    for ep_mem in ep_memory:\n",
    "        ep_mem[\"tot_reward\"] = tot_reward\n",
    "        \n",
    "    life_memory.extend(ep_memory)\n",
    "    \n",
    "memory_df = pandas.DataFrame(life_memory)\n"
   ]
  },
  {
   "cell_type": "code",
   "execution_count": 4,
   "id": "c0715606",
   "metadata": {},
   "outputs": [],
   "source": [
    "memory_df.groupby(\"episode\").reward.sum().mean()\n",
    "memory_df[\"comb_reward\"] = .5*memory_df.reward + memory_df.tot_reward"
   ]
  },
  {
   "cell_type": "code",
   "execution_count": 5,
   "id": "ec3e170b",
   "metadata": {},
   "outputs": [
    {
     "data": {
      "text/html": [
       "<div>\n",
       "<style scoped>\n",
       "    .dataframe tbody tr th:only-of-type {\n",
       "        vertical-align: middle;\n",
       "    }\n",
       "\n",
       "    .dataframe tbody tr th {\n",
       "        vertical-align: top;\n",
       "    }\n",
       "\n",
       "    .dataframe thead th {\n",
       "        text-align: right;\n",
       "    }\n",
       "</style>\n",
       "<table border=\"1\" class=\"dataframe\">\n",
       "  <thead>\n",
       "    <tr style=\"text-align: right;\">\n",
       "      <th></th>\n",
       "      <th>obs0</th>\n",
       "      <th>obs1</th>\n",
       "      <th>obs2</th>\n",
       "      <th>obs3</th>\n",
       "      <th>action</th>\n",
       "      <th>reward</th>\n",
       "      <th>episode</th>\n",
       "      <th>tot_reward</th>\n",
       "      <th>comb_reward</th>\n",
       "    </tr>\n",
       "  </thead>\n",
       "  <tbody>\n",
       "    <tr>\n",
       "      <th>0</th>\n",
       "      <td>-0.026115</td>\n",
       "      <td>0.036655</td>\n",
       "      <td>0.034567</td>\n",
       "      <td>0.017027</td>\n",
       "      <td>1</td>\n",
       "      <td>1.0</td>\n",
       "      <td>0</td>\n",
       "      <td>36.0</td>\n",
       "      <td>36.5</td>\n",
       "    </tr>\n",
       "    <tr>\n",
       "      <th>1</th>\n",
       "      <td>-0.025382</td>\n",
       "      <td>0.231265</td>\n",
       "      <td>0.034907</td>\n",
       "      <td>-0.264553</td>\n",
       "      <td>1</td>\n",
       "      <td>1.0</td>\n",
       "      <td>0</td>\n",
       "      <td>36.0</td>\n",
       "      <td>36.5</td>\n",
       "    </tr>\n",
       "    <tr>\n",
       "      <th>2</th>\n",
       "      <td>-0.020757</td>\n",
       "      <td>0.425871</td>\n",
       "      <td>0.029616</td>\n",
       "      <td>-0.546024</td>\n",
       "      <td>0</td>\n",
       "      <td>1.0</td>\n",
       "      <td>0</td>\n",
       "      <td>36.0</td>\n",
       "      <td>36.5</td>\n",
       "    </tr>\n",
       "    <tr>\n",
       "      <th>3</th>\n",
       "      <td>-0.012239</td>\n",
       "      <td>0.230346</td>\n",
       "      <td>0.018696</td>\n",
       "      <td>-0.244159</td>\n",
       "      <td>0</td>\n",
       "      <td>1.0</td>\n",
       "      <td>0</td>\n",
       "      <td>36.0</td>\n",
       "      <td>36.5</td>\n",
       "    </tr>\n",
       "    <tr>\n",
       "      <th>4</th>\n",
       "      <td>-0.007632</td>\n",
       "      <td>0.034962</td>\n",
       "      <td>0.013813</td>\n",
       "      <td>0.054362</td>\n",
       "      <td>0</td>\n",
       "      <td>1.0</td>\n",
       "      <td>0</td>\n",
       "      <td>36.0</td>\n",
       "      <td>36.5</td>\n",
       "    </tr>\n",
       "    <tr>\n",
       "      <th>...</th>\n",
       "      <td>...</td>\n",
       "      <td>...</td>\n",
       "      <td>...</td>\n",
       "      <td>...</td>\n",
       "      <td>...</td>\n",
       "      <td>...</td>\n",
       "      <td>...</td>\n",
       "      <td>...</td>\n",
       "      <td>...</td>\n",
       "    </tr>\n",
       "    <tr>\n",
       "      <th>444571</th>\n",
       "      <td>0.070134</td>\n",
       "      <td>0.546968</td>\n",
       "      <td>-0.081985</td>\n",
       "      <td>-0.932677</td>\n",
       "      <td>1</td>\n",
       "      <td>1.0</td>\n",
       "      <td>19999</td>\n",
       "      <td>14.0</td>\n",
       "      <td>14.5</td>\n",
       "    </tr>\n",
       "    <tr>\n",
       "      <th>444572</th>\n",
       "      <td>0.081074</td>\n",
       "      <td>0.743095</td>\n",
       "      <td>-0.100638</td>\n",
       "      <td>-1.249956</td>\n",
       "      <td>1</td>\n",
       "      <td>1.0</td>\n",
       "      <td>19999</td>\n",
       "      <td>14.0</td>\n",
       "      <td>14.5</td>\n",
       "    </tr>\n",
       "    <tr>\n",
       "      <th>444573</th>\n",
       "      <td>0.095936</td>\n",
       "      <td>0.939352</td>\n",
       "      <td>-0.125637</td>\n",
       "      <td>-1.572390</td>\n",
       "      <td>0</td>\n",
       "      <td>1.0</td>\n",
       "      <td>19999</td>\n",
       "      <td>14.0</td>\n",
       "      <td>14.5</td>\n",
       "    </tr>\n",
       "    <tr>\n",
       "      <th>444574</th>\n",
       "      <td>0.114723</td>\n",
       "      <td>0.745933</td>\n",
       "      <td>-0.157085</td>\n",
       "      <td>-1.321389</td>\n",
       "      <td>1</td>\n",
       "      <td>1.0</td>\n",
       "      <td>19999</td>\n",
       "      <td>14.0</td>\n",
       "      <td>14.5</td>\n",
       "    </tr>\n",
       "    <tr>\n",
       "      <th>444575</th>\n",
       "      <td>0.129641</td>\n",
       "      <td>0.942652</td>\n",
       "      <td>-0.183513</td>\n",
       "      <td>-1.658827</td>\n",
       "      <td>1</td>\n",
       "      <td>1.0</td>\n",
       "      <td>19999</td>\n",
       "      <td>14.0</td>\n",
       "      <td>14.5</td>\n",
       "    </tr>\n",
       "  </tbody>\n",
       "</table>\n",
       "<p>444576 rows × 9 columns</p>\n",
       "</div>"
      ],
      "text/plain": [
       "            obs0      obs1      obs2      obs3  action  reward  episode  \\\n",
       "0      -0.026115  0.036655  0.034567  0.017027       1     1.0        0   \n",
       "1      -0.025382  0.231265  0.034907 -0.264553       1     1.0        0   \n",
       "2      -0.020757  0.425871  0.029616 -0.546024       0     1.0        0   \n",
       "3      -0.012239  0.230346  0.018696 -0.244159       0     1.0        0   \n",
       "4      -0.007632  0.034962  0.013813  0.054362       0     1.0        0   \n",
       "...          ...       ...       ...       ...     ...     ...      ...   \n",
       "444571  0.070134  0.546968 -0.081985 -0.932677       1     1.0    19999   \n",
       "444572  0.081074  0.743095 -0.100638 -1.249956       1     1.0    19999   \n",
       "444573  0.095936  0.939352 -0.125637 -1.572390       0     1.0    19999   \n",
       "444574  0.114723  0.745933 -0.157085 -1.321389       1     1.0    19999   \n",
       "444575  0.129641  0.942652 -0.183513 -1.658827       1     1.0    19999   \n",
       "\n",
       "        tot_reward  comb_reward  \n",
       "0             36.0         36.5  \n",
       "1             36.0         36.5  \n",
       "2             36.0         36.5  \n",
       "3             36.0         36.5  \n",
       "4             36.0         36.5  \n",
       "...            ...          ...  \n",
       "444571        14.0         14.5  \n",
       "444572        14.0         14.5  \n",
       "444573        14.0         14.5  \n",
       "444574        14.0         14.5  \n",
       "444575        14.0         14.5  \n",
       "\n",
       "[444576 rows x 9 columns]"
      ]
     },
     "execution_count": 5,
     "metadata": {},
     "output_type": "execute_result"
    }
   ],
   "source": [
    "memory_df"
   ]
  },
  {
   "cell_type": "code",
   "execution_count": 7,
   "id": "38cb2507",
   "metadata": {},
   "outputs": [
    {
     "name": "stdout",
     "output_type": "stream",
     "text": [
      "Training time: 0:06:21.387082s\n"
     ]
    }
   ],
   "source": [
    "from sklearn.ensemble import RandomForestRegressor, AdaBoostRegressor, ExtraTreesRegressor\n",
    "import datetime\n",
    "\n",
    "n = datetime.datetime.now\n",
    "t = n()\n",
    "\n",
    "RandomForest = RandomForestRegressor()\n",
    "RandomForest.fit(memory_df[[\"obs0\", \"obs1\", \"obs2\", \"obs3\", \"action\"]], memory_df.comb_reward)\n",
    "print(f\"Training time: {n() - t}s\")"
   ]
  },
  {
   "cell_type": "code",
   "execution_count": null,
   "id": "c9677653",
   "metadata": {},
   "outputs": [],
   "source": [
    "AdaBoost = AdaBoostRegressor()\n",
    "AdaBoost.fit(memory_df[[\"obs0\", \"obs1\", \"obs2\", \"obs3\", \"action\"]], memory_df.comb_reward)"
   ]
  },
  {
   "cell_type": "code",
   "execution_count": 5,
   "id": "f1c77271",
   "metadata": {},
   "outputs": [
    {
     "data": {
      "text/plain": [
       "ExtraTreesRegressor()"
      ]
     },
     "execution_count": 5,
     "metadata": {},
     "output_type": "execute_result"
    }
   ],
   "source": [
    "from sklearn.ensemble import RandomForestRegressor, AdaBoostRegressor, ExtraTreesRegressor\n",
    "\n",
    "ExtraTrees = ExtraTreesRegressor()\n",
    "ExtraTrees.fit(memory_df[[\"obs0\", \"obs1\", \"obs2\", \"obs3\", \"action\"]], memory_df.comb_reward)"
   ]
  },
  {
   "cell_type": "code",
   "execution_count": null,
   "id": "ec5a7ed2",
   "metadata": {},
   "outputs": [],
   "source": [
    "t = n()\n",
    "num_episodes = 100\n",
    "a_life_memory = []\n",
    "a_env = gym.make('CartPole-v0')\n",
    "for i in range(num_episodes):\n",
    "    a_old_observation = a_env.reset()\n",
    "    a_done = False\n",
    "    a_tot_reward = 0\n",
    "    a_em_memory = []\n",
    "    \n",
    "    while not a_done:\n",
    "        pred_in = [list(a_old_observation) + [i] for i in range(2)]\n",
    "        a_new_action = np.argmax(AdaBoost.predict(pred_in))\n",
    "        a_observation, a_reward, a_done, a_info = a_env.step(a_new_action)\n",
    "        a_tot_reward += a_reward\n",
    "        \n",
    "        a_em_memory.append({\n",
    "            \"obs0\": a_old_observation[0],\n",
    "            \"obs1\": a_old_observation[1],\n",
    "            \"obs2\": a_old_observation[2],\n",
    "            \"obs3\": a_old_observation[3],\n",
    "            \"action\": a_new_action,\n",
    "            \"reward\": a_reward,\n",
    "            \"episode\": i,\n",
    "        })\n",
    "        \n",
    "        a_old_observation = a_observation\n",
    "\n",
    "    for a_em in a_em_memory:\n",
    "        a_em[\"tot_reward\"] = a_tot_reward\n",
    "        \n",
    "    a_life_memory.extend(a_em_memory)\n",
    "a_memory_df = pandas.DataFrame(a_life_memory)\n",
    "print(f\"Training time: {n() - t}s\")"
   ]
  },
  {
   "cell_type": "code",
   "execution_count": null,
   "id": "7540e8ca",
   "metadata": {},
   "outputs": [],
   "source": [
    "a_memory_df.shape"
   ]
  },
  {
   "cell_type": "code",
   "execution_count": null,
   "id": "26063d43",
   "metadata": {},
   "outputs": [],
   "source": []
  },
  {
   "cell_type": "code",
   "execution_count": 8,
   "id": "8e3c65ee",
   "metadata": {},
   "outputs": [
    {
     "name": "stdout",
     "output_type": "stream",
     "text": [
      "Training time: 0:01:32.868485s\n"
     ]
    }
   ],
   "source": [
    "t = n()\n",
    "num_episodes = 100\n",
    "r_life_memory = []\n",
    "r_env = gym.make('CartPole-v0')\n",
    "for i in range(num_episodes):\n",
    "    r_old_observation = r_env.reset()\n",
    "    r_done = False\n",
    "    r_tot_reward = 0\n",
    "    r_em_memory = []\n",
    "    while not r_done:\n",
    "        pred_in = [list(r_old_observation) + [i] for i in range(2)]\n",
    "        r_new_action = np.argmax(RandomForest.predict(pred_in))\n",
    "        r_observation, r_reward, r_done, r_info = r_env.step(r_new_action)\n",
    "        r_tot_reward += r_reward\n",
    "        \n",
    "        r_em_memory.append({\n",
    "            \"obs0\": r_old_observation[0],\n",
    "            \"obs1\": r_old_observation[1],\n",
    "            \"obs2\": r_old_observation[2],\n",
    "            \"obs3\": r_old_observation[3],\n",
    "            \"action\": r_new_action,\n",
    "            \"reward\": r_reward,\n",
    "            \"episode\": i,\n",
    "        })\n",
    "        \n",
    "        r_old_observation = r_observation\n",
    "        \n",
    "    for r_em in r_em_memory:\n",
    "        r_em[\"tot_reward\"] = r_tot_reward\n",
    "        \n",
    "    r_life_memory.extend(r_em_memory)\n",
    "r_memory_df = pandas.DataFrame(r_life_memory)\n",
    "print(f\"Training time: {n() - t}s\")"
   ]
  },
  {
   "cell_type": "code",
   "execution_count": 9,
   "id": "7126a344",
   "metadata": {},
   "outputs": [
    {
     "data": {
      "text/plain": [
       "(15715, 8)"
      ]
     },
     "execution_count": 9,
     "metadata": {},
     "output_type": "execute_result"
    }
   ],
   "source": [
    "pandas.DataFrame(r_life_memory).shape"
   ]
  },
  {
   "cell_type": "code",
   "execution_count": 10,
   "id": "612c6d30",
   "metadata": {},
   "outputs": [
    {
     "data": {
      "text/plain": [
       "157.15"
      ]
     },
     "execution_count": 10,
     "metadata": {},
     "output_type": "execute_result"
    }
   ],
   "source": [
    "r_memory_df.groupby(\"episode\").reward.sum().mean()"
   ]
  },
  {
   "cell_type": "code",
   "execution_count": 8,
   "id": "2f6dc13e",
   "metadata": {},
   "outputs": [],
   "source": [
    "import datetime \n",
    "\n",
    "n = datetime.datetime.now\n",
    "t = n()"
   ]
  },
  {
   "cell_type": "code",
   "execution_count": 10,
   "id": "bcc4ff4e",
   "metadata": {},
   "outputs": [
    {
     "name": "stdout",
     "output_type": "stream",
     "text": [
      "Training time: 0:01:24.926064s\n"
     ]
    }
   ],
   "source": [
    "t = n()\n",
    "num_episodes = 100\n",
    "e_life_memory = []\n",
    "e_env = gym.make('CartPole-v0')\n",
    "for i in range(num_episodes):\n",
    "    e_old_observation = e_env.reset()\n",
    "    e_done = False\n",
    "    e_tot_reward = 0\n",
    "    e_em_memory = []\n",
    "    while not e_done:\n",
    "        pred_in = [list(e_old_observation) + [i] for i in range(2)]\n",
    "        e_new_action = np.argmax(ExtraTrees.predict(pred_in))\n",
    "        e_observation, e_reward, e_done, e_info = e_env.step(e_new_action)\n",
    "        e_tot_reward += e_reward\n",
    "        e_em_memory.append({\n",
    "            \"obs0\": e_old_observation[0],\n",
    "            \"obs1\": e_old_observation[1],\n",
    "            \"obs2\": e_old_observation[2],\n",
    "            \"obs3\": e_old_observation[3],\n",
    "            \"action\": e_new_action,\n",
    "            \"reward\": e_reward,\n",
    "            \"episode\": i,\n",
    "        })\n",
    "        \n",
    "        e_old_observation = e_observation\n",
    "\n",
    "    for e_em in e_em_memory:\n",
    "        e_em[\"tot_reward\"] = e_tot_reward\n",
    "    e_life_memory.extend(e_em_memory)\n",
    "e_memory_df = pandas.DataFrame(e_life_memory)\n",
    "print(f\"Training time: {n() - t}s\")"
   ]
  },
  {
   "cell_type": "code",
   "execution_count": null,
   "id": "1568ec4b",
   "metadata": {},
   "outputs": [],
   "source": [
    "e_env.reset()\n",
    "e_env.step(1)"
   ]
  },
  {
   "cell_type": "code",
   "execution_count": null,
   "id": "e0467558",
   "metadata": {},
   "outputs": [],
   "source": [
    "np.argmax(ExtraTrees.predict([[ 0.03719052,  0.20216305,  0.01937592, -0.24454289, 1], [ 0.03719052,  0.20216305,  0.01937592, -0.24454289, 0]]))"
   ]
  },
  {
   "cell_type": "code",
   "execution_count": 11,
   "id": "2189b699",
   "metadata": {},
   "outputs": [
    {
     "data": {
      "text/plain": [
       "157.15"
      ]
     },
     "execution_count": 11,
     "metadata": {},
     "output_type": "execute_result"
    }
   ],
   "source": [
    "r_memory_df.groupby(\"episode\").reward.sum().mean()"
   ]
  },
  {
   "cell_type": "code",
   "execution_count": 12,
   "id": "0b47dfb1",
   "metadata": {},
   "outputs": [
    {
     "data": {
      "text/plain": [
       "False    65\n",
       "True     35\n",
       "Name: reward, dtype: int64"
      ]
     },
     "execution_count": 12,
     "metadata": {},
     "output_type": "execute_result"
    }
   ],
   "source": [
    "(r_memory_df.groupby(\"episode\").reward.sum() >= 200).value_counts()"
   ]
  },
  {
   "cell_type": "code",
   "execution_count": null,
   "id": "619692ee",
   "metadata": {},
   "outputs": [],
   "source": [
    "a_memory_df.groupby(\"episode\").reward.sum().mean()"
   ]
  },
  {
   "cell_type": "code",
   "execution_count": null,
   "id": "8c79dd1f",
   "metadata": {},
   "outputs": [],
   "source": [
    "(a_memory_df.groupby(\"episode\").reward.sum() >= 200).value_counts()"
   ]
  },
  {
   "cell_type": "code",
   "execution_count": 11,
   "id": "4e3c1f45",
   "metadata": {},
   "outputs": [
    {
     "data": {
      "text/plain": [
       "138.02"
      ]
     },
     "execution_count": 11,
     "metadata": {},
     "output_type": "execute_result"
    }
   ],
   "source": [
    "e_memory_df.groupby(\"episode\").reward.sum().mean()"
   ]
  },
  {
   "cell_type": "code",
   "execution_count": 12,
   "id": "98dbe905",
   "metadata": {},
   "outputs": [
    {
     "data": {
      "text/plain": [
       "False    83\n",
       "True     17\n",
       "Name: reward, dtype: int64"
      ]
     },
     "execution_count": 12,
     "metadata": {},
     "output_type": "execute_result"
    }
   ],
   "source": [
    "(e_memory_df.groupby(\"episode\").reward.sum() >= 200).value_counts()"
   ]
  },
  {
   "cell_type": "code",
   "execution_count": 15,
   "id": "754bd40f",
   "metadata": {},
   "outputs": [
    {
     "data": {
      "text/plain": [
       "[]"
      ]
     },
     "execution_count": 15,
     "metadata": {},
     "output_type": "execute_result"
    }
   ],
   "source": [
    "[i for i in range(50, 40)]"
   ]
  },
  {
   "cell_type": "code",
   "execution_count": 13,
   "id": "31b55ce4",
   "metadata": {},
   "outputs": [
    {
     "data": {
      "text/plain": [
       "(221395, 9)"
      ]
     },
     "execution_count": 13,
     "metadata": {},
     "output_type": "execute_result"
    }
   ],
   "source": [
    "memory_df.shape"
   ]
  },
  {
   "cell_type": "code",
   "execution_count": 14,
   "id": "a76d9952",
   "metadata": {},
   "outputs": [],
   "source": [
    "x = memory_df[[\"obs0\", \"obs1\", \"obs2\", \"obs3\", \"action\"]]\n",
    "y = memory_df.comb_reward"
   ]
  },
  {
   "cell_type": "code",
   "execution_count": 15,
   "id": "7ee4d702",
   "metadata": {},
   "outputs": [],
   "source": [
    "from tensorflow.keras.layers import Input, Dense\n",
    "from tensorflow.keras.models import Model"
   ]
  },
  {
   "cell_type": "code",
   "execution_count": 16,
   "id": "98a661af",
   "metadata": {},
   "outputs": [],
   "source": [
    "ENCODING_DIM = 64\n",
    "HIDDEN_DIM = 256\n",
    "### BEGIN SOLUTION\n",
    "# Encoder model\n",
    "inputs = Input(shape=(5,)) \n",
    "encoder_hidden = Dense(HIDDEN_DIM, activation=\"sigmoid\")(inputs)\n",
    "encoded = Dense(ENCODING_DIM, activation=\"relu\")(encoder_hidden)\n",
    "encoder_model = Model(inputs, encoded, name='encoder')\n",
    "\n",
    "# Decoder model\n",
    "encoded_inputs = Input(shape=(ENCODING_DIM,), name='encoding')\n",
    "decoder_hidden = Dense(HIDDEN_DIM, activation=\"relu\")(encoded_inputs)\n",
    "reconstruction = Dense(1, activation=\"sigmoid\")(decoder_hidden)\n",
    "decoder_model = Model(encoded_inputs, reconstruction, name='decoder')\n",
    "\n",
    "# Defining the full model as the combination of the two\n",
    "outputs = decoder_model(encoder_model(inputs))\n",
    "full_model = Model(inputs, outputs, name='full_ae')"
   ]
  },
  {
   "cell_type": "code",
   "execution_count": 17,
   "id": "d9962856",
   "metadata": {},
   "outputs": [],
   "source": [
    "# full_model = Model(inputs=inputs, \n",
    "#                    outputs=outputs)\n",
    "\n",
    "full_model.compile(optimizer='rmsprop',\n",
    "                 loss='binary_crossentropy',\n",
    "                 metrics=['accuracy'])"
   ]
  },
  {
   "cell_type": "code",
   "execution_count": 18,
   "id": "68fc3443",
   "metadata": {},
   "outputs": [
    {
     "name": "stdout",
     "output_type": "stream",
     "text": [
      "Model: \"full_ae\"\n",
      "_________________________________________________________________\n",
      "Layer (type)                 Output Shape              Param #   \n",
      "=================================================================\n",
      "input_1 (InputLayer)         [(None, 5)]               0         \n",
      "_________________________________________________________________\n",
      "encoder (Functional)         (None, 64)                17984     \n",
      "_________________________________________________________________\n",
      "decoder (Functional)         (None, 1)                 16897     \n",
      "=================================================================\n",
      "Total params: 34,881\n",
      "Trainable params: 34,881\n",
      "Non-trainable params: 0\n",
      "_________________________________________________________________\n"
     ]
    }
   ],
   "source": [
    "full_model.summary()"
   ]
  },
  {
   "cell_type": "code",
   "execution_count": 19,
   "id": "a8e4c938",
   "metadata": {
    "scrolled": true
   },
   "outputs": [
    {
     "name": "stdout",
     "output_type": "stream",
     "text": [
      "Epoch 1/5\n",
      "6919/6919 [==============================] - 8s 1ms/step - loss: -1186426880.0000 - accuracy: 0.0000e+00\n",
      "Epoch 2/5\n",
      "6919/6919 [==============================] - 8s 1ms/step - loss: -17254608896.0000 - accuracy: 0.0000e+00\n",
      "Epoch 3/5\n",
      "6919/6919 [==============================] - 8s 1ms/step - loss: -73768976384.0000 - accuracy: 0.0000e+00\n",
      "Epoch 4/5\n",
      "6919/6919 [==============================] - 8s 1ms/step - loss: -197406605312.0000 - accuracy: 0.0000e+00\n",
      "Epoch 5/5\n",
      "6919/6919 [==============================] - 8s 1ms/step - loss: -414615437312.0000 - accuracy: 0.0000e+00\n"
     ]
    }
   ],
   "source": [
    "history = full_model.fit(x, y, shuffle=True, epochs=5)"
   ]
  },
  {
   "cell_type": "code",
   "execution_count": 22,
   "id": "a7c6fd1e",
   "metadata": {},
   "outputs": [],
   "source": [
    "x_mat = x\n",
    "y = y\n",
    "num_ = memory_df.shape[0]"
   ]
  },
  {
   "cell_type": "code",
   "execution_count": 36,
   "id": "c2485354",
   "metadata": {},
   "outputs": [],
   "source": [
    "# Practice\n",
    "def sigmoid(x):\n",
    "    return 1 / (1 + np.exp(-x))\n",
    "\n",
    "def loss_fn(y_true, y_pred, eps=1e-16):\n",
    "    \"\"\"\n",
    "    Loss function we would like to optimize (minimize)\n",
    "    We are using Logarithmic Loss\n",
    "    http://scikit-learn.org/stable/modules/model_evaluation.html#log-loss\n",
    "    \"\"\"\n",
    "    y_pred = np.maximum(y_pred,eps)\n",
    "    y_pred = np.minimum(y_pred,(1-eps))\n",
    "    return -(np.sum(y_true * np.log(y_pred)) + np.sum((1-y_true)*np.log(1-y_pred)))/len(y_true)\n",
    "\n",
    "# def loss_fn(y_true, y_pred, eps=1e-16):\n",
    "#     y_pred = np.maximum(y_pred, eps)\n",
    "#     y_pred = np.minimum(y_pred, (1-eps))\n",
    "#     return -(np.sum(y_true * np.log(y_pred)) + np.sum((1-y_true)*np.log(1-y_pred)))/len(y_true)\n",
    "\n",
    "\n",
    "def forward_pass(W1, W2):\n",
    "    global x_mat\n",
    "    global y\n",
    "    global num_\n",
    "\n",
    "    z_2 = np.dot(x_mat, W_1)    # (221395, 5) x (5, 64) = (221395, 64)\n",
    "    a_2 = sigmoid(z_2)          # (221395, 64)\n",
    "    z_3 = np.dot(a_2, W_2)      # (221395, 64) x (64, 1) = (221395, 1)\n",
    "    y_pred = sigmoid(z_3)      # (221395, 1)\n",
    "    \n",
    "    J_z_3_grad = -y + y_pred      # (221395, )\n",
    "    J_W_2_grad = np.dot(J_z_3_grad.reshape(-1,), a_2)      # (221395, ) x (221395, 64) = (64, )\n",
    "    a_2_z_2_grad = sigmoid(z_2)*(1 - sigmoid(z_2))  # (221395, 64) * (221395, 64) = (221395, 64)\n",
    "#     J_W_1_grad = a_1 * a_2_z_2_grad * W_2 * J_z_3_grad\n",
    "#     J_W_1_grad = np.dot(x_mat, a_2_z_2_grad).dot(W_2).dot(J_z_3_grad)\n",
    "    J_W_1_grad = (np.dot((J_z_3_grad).reshape(-1,1), W_2.reshape(-1,1).T)*a_2_z_2_grad).T.dot(x_mat).T\n",
    "# (221395, )->(221395, 1) x (64 x 1).T = (221395, 64) * (221395, 64) = (221395, 64).T = (64, 221395) x (221395, 5) = (64, 5).T \n",
    "# = (5, 64)\n",
    "    gradient = (J_W_1_grad, J_W_2_grad)\n",
    "    return y_pred, gradient\n",
    "\n",
    "def plot_loss_accuracy(loss_vals, accuracies):\n",
    "    fig = plt.figure(figsize=(16, 8))\n",
    "    fig.suptitle('Log Loss and Accuracy over iterations')\n",
    "    \n",
    "    ax = fig.add_subplot(1, 2, 1)\n",
    "    ax.plot(loss_vals)\n",
    "    ax.grid(True)\n",
    "    ax.set(xlabel='iterations', title='Log Loss')\n",
    "    \n",
    "    ax = fig.add_subplot(1, 2, 2)\n",
    "    ax.plot(accuracies)\n",
    "    ax.grid(True)\n",
    "    ax.set(xlabel='iterations', title='Accuracy');"
   ]
  },
  {
   "cell_type": "code",
   "execution_count": 25,
   "id": "f3237bf5",
   "metadata": {},
   "outputs": [],
   "source": [
    "W_1 = np.random.uniform(-1,1,size=(5,64))\n",
    "W_2 = np.random.uniform(-1,1,size=(64,1))"
   ]
  },
  {
   "cell_type": "code",
   "execution_count": 33,
   "id": "211ca2f3",
   "metadata": {},
   "outputs": [],
   "source": [
    "y = memory_df[['comb_reward']]"
   ]
  },
  {
   "cell_type": "code",
   "execution_count": 34,
   "id": "bc922e49",
   "metadata": {},
   "outputs": [
    {
     "data": {
      "text/html": [
       "<div>\n",
       "<style scoped>\n",
       "    .dataframe tbody tr th:only-of-type {\n",
       "        vertical-align: middle;\n",
       "    }\n",
       "\n",
       "    .dataframe tbody tr th {\n",
       "        vertical-align: top;\n",
       "    }\n",
       "\n",
       "    .dataframe thead th {\n",
       "        text-align: right;\n",
       "    }\n",
       "</style>\n",
       "<table border=\"1\" class=\"dataframe\">\n",
       "  <thead>\n",
       "    <tr style=\"text-align: right;\">\n",
       "      <th></th>\n",
       "      <th>comb_reward</th>\n",
       "    </tr>\n",
       "  </thead>\n",
       "  <tbody>\n",
       "    <tr>\n",
       "      <th>0</th>\n",
       "      <td>27.5</td>\n",
       "    </tr>\n",
       "    <tr>\n",
       "      <th>1</th>\n",
       "      <td>27.5</td>\n",
       "    </tr>\n",
       "    <tr>\n",
       "      <th>2</th>\n",
       "      <td>27.5</td>\n",
       "    </tr>\n",
       "    <tr>\n",
       "      <th>3</th>\n",
       "      <td>27.5</td>\n",
       "    </tr>\n",
       "    <tr>\n",
       "      <th>4</th>\n",
       "      <td>27.5</td>\n",
       "    </tr>\n",
       "    <tr>\n",
       "      <th>...</th>\n",
       "      <td>...</td>\n",
       "    </tr>\n",
       "    <tr>\n",
       "      <th>221390</th>\n",
       "      <td>24.5</td>\n",
       "    </tr>\n",
       "    <tr>\n",
       "      <th>221391</th>\n",
       "      <td>24.5</td>\n",
       "    </tr>\n",
       "    <tr>\n",
       "      <th>221392</th>\n",
       "      <td>24.5</td>\n",
       "    </tr>\n",
       "    <tr>\n",
       "      <th>221393</th>\n",
       "      <td>24.5</td>\n",
       "    </tr>\n",
       "    <tr>\n",
       "      <th>221394</th>\n",
       "      <td>24.5</td>\n",
       "    </tr>\n",
       "  </tbody>\n",
       "</table>\n",
       "<p>221395 rows × 1 columns</p>\n",
       "</div>"
      ],
      "text/plain": [
       "        comb_reward\n",
       "0              27.5\n",
       "1              27.5\n",
       "2              27.5\n",
       "3              27.5\n",
       "4              27.5\n",
       "...             ...\n",
       "221390         24.5\n",
       "221391         24.5\n",
       "221392         24.5\n",
       "221393         24.5\n",
       "221394         24.5\n",
       "\n",
       "[221395 rows x 1 columns]"
      ]
     },
     "execution_count": 34,
     "metadata": {},
     "output_type": "execute_result"
    }
   ],
   "source": [
    "y"
   ]
  },
  {
   "cell_type": "code",
   "execution_count": 37,
   "id": "b47690a1",
   "metadata": {},
   "outputs": [
    {
     "ename": "ValueError",
     "evalue": "shapes (221395,1) and (221395,64) not aligned: 1 (dim 1) != 221395 (dim 0)",
     "output_type": "error",
     "traceback": [
      "\u001b[1;31m---------------------------------------------------------------------------\u001b[0m",
      "\u001b[1;31mValueError\u001b[0m                                Traceback (most recent call last)",
      "\u001b[1;32m~\\AppData\\Local\\Temp/ipykernel_3860/2656951121.py\u001b[0m in \u001b[0;36m<module>\u001b[1;34m\u001b[0m\n\u001b[0;32m      7\u001b[0m \u001b[0mtotal_pred\u001b[0m \u001b[1;33m=\u001b[0m \u001b[1;33m[\u001b[0m\u001b[1;33m]\u001b[0m\u001b[1;33m\u001b[0m\u001b[1;33m\u001b[0m\u001b[0m\n\u001b[0;32m      8\u001b[0m \u001b[1;32mfor\u001b[0m \u001b[0mi\u001b[0m \u001b[1;32min\u001b[0m \u001b[0mrange\u001b[0m\u001b[1;33m(\u001b[0m\u001b[0mnum_iter\u001b[0m\u001b[1;33m)\u001b[0m\u001b[1;33m:\u001b[0m\u001b[1;33m\u001b[0m\u001b[1;33m\u001b[0m\u001b[0m\n\u001b[1;32m----> 9\u001b[1;33m     \u001b[0my_pred\u001b[0m\u001b[1;33m,\u001b[0m \u001b[1;33m(\u001b[0m\u001b[0mJ_W_1_grad\u001b[0m\u001b[1;33m,\u001b[0m \u001b[0mJ_W_2_grad\u001b[0m\u001b[1;33m)\u001b[0m \u001b[1;33m=\u001b[0m \u001b[0mforward_pass\u001b[0m\u001b[1;33m(\u001b[0m\u001b[0mW_1\u001b[0m\u001b[1;33m,\u001b[0m \u001b[0mW_2\u001b[0m\u001b[1;33m)\u001b[0m\u001b[1;33m\u001b[0m\u001b[1;33m\u001b[0m\u001b[0m\n\u001b[0m\u001b[0;32m     10\u001b[0m \u001b[1;33m\u001b[0m\u001b[0m\n\u001b[0;32m     11\u001b[0m     \u001b[0mW_1\u001b[0m \u001b[1;33m=\u001b[0m \u001b[0mW_1\u001b[0m \u001b[1;33m-\u001b[0m \u001b[0mlearning_rate\u001b[0m \u001b[1;33m*\u001b[0m \u001b[0mJ_W_1_grad\u001b[0m\u001b[1;33m\u001b[0m\u001b[1;33m\u001b[0m\u001b[0m\n",
      "\u001b[1;32m~\\AppData\\Local\\Temp/ipykernel_3860/2825556426.py\u001b[0m in \u001b[0;36mforward_pass\u001b[1;34m(W1, W2)\u001b[0m\n\u001b[0;32m     30\u001b[0m \u001b[1;33m\u001b[0m\u001b[0m\n\u001b[0;32m     31\u001b[0m     \u001b[0mJ_z_3_grad\u001b[0m \u001b[1;33m=\u001b[0m \u001b[1;33m-\u001b[0m\u001b[0my\u001b[0m \u001b[1;33m+\u001b[0m \u001b[0my_pred\u001b[0m      \u001b[1;31m# (221395, )\u001b[0m\u001b[1;33m\u001b[0m\u001b[1;33m\u001b[0m\u001b[0m\n\u001b[1;32m---> 32\u001b[1;33m     \u001b[0mJ_W_2_grad\u001b[0m \u001b[1;33m=\u001b[0m \u001b[0mnp\u001b[0m\u001b[1;33m.\u001b[0m\u001b[0mdot\u001b[0m\u001b[1;33m(\u001b[0m\u001b[0mJ_z_3_grad\u001b[0m\u001b[1;33m,\u001b[0m \u001b[0ma_2\u001b[0m\u001b[1;33m)\u001b[0m      \u001b[1;31m# (221395, ) x (221395, 64) = (64, )\u001b[0m\u001b[1;33m\u001b[0m\u001b[1;33m\u001b[0m\u001b[0m\n\u001b[0m\u001b[0;32m     33\u001b[0m     \u001b[0ma_2_z_2_grad\u001b[0m \u001b[1;33m=\u001b[0m \u001b[0msigmoid\u001b[0m\u001b[1;33m(\u001b[0m\u001b[0mz_2\u001b[0m\u001b[1;33m)\u001b[0m\u001b[1;33m*\u001b[0m\u001b[1;33m(\u001b[0m\u001b[1;36m1\u001b[0m \u001b[1;33m-\u001b[0m \u001b[0msigmoid\u001b[0m\u001b[1;33m(\u001b[0m\u001b[0mz_2\u001b[0m\u001b[1;33m)\u001b[0m\u001b[1;33m)\u001b[0m  \u001b[1;31m# (221395, 64) * (221395, 64) = (221395, 64)\u001b[0m\u001b[1;33m\u001b[0m\u001b[1;33m\u001b[0m\u001b[0m\n\u001b[0;32m     34\u001b[0m \u001b[1;31m#     J_W_1_grad = a_1 * a_2_z_2_grad * W_2 * J_z_3_grad\u001b[0m\u001b[1;33m\u001b[0m\u001b[1;33m\u001b[0m\u001b[1;33m\u001b[0m\u001b[0m\n",
      "\u001b[1;32m<__array_function__ internals>\u001b[0m in \u001b[0;36mdot\u001b[1;34m(*args, **kwargs)\u001b[0m\n",
      "\u001b[1;31mValueError\u001b[0m: shapes (221395,1) and (221395,64) not aligned: 1 (dim 1) != 221395 (dim 0)"
     ]
    }
   ],
   "source": [
    "# Practice\n",
    "np.random.seed(1241)\n",
    "num_iter = 10000\n",
    "learning_rate = .001\n",
    "# x_mat = x_mat_full\n",
    "\n",
    "total_pred = []\n",
    "for i in range(num_iter):\n",
    "    y_pred, (J_W_1_grad, J_W_2_grad) = forward_pass(W_1, W_2)\n",
    "    \n",
    "    W_1 = W_1 - learning_rate * J_W_1_grad\n",
    "    W_2 = W_2 - learning_rate * J_W_2_grad\n",
    "    \n",
    "    total_pred.append(y_pred)\n"
   ]
  }
 ],
 "metadata": {
  "kernelspec": {
   "display_name": "Python 3 (ipykernel)",
   "language": "python",
   "name": "python3"
  },
  "language_info": {
   "codemirror_mode": {
    "name": "ipython",
    "version": 3
   },
   "file_extension": ".py",
   "mimetype": "text/x-python",
   "name": "python",
   "nbconvert_exporter": "python",
   "pygments_lexer": "ipython3",
   "version": "3.9.6"
  }
 },
 "nbformat": 4,
 "nbformat_minor": 5
}
