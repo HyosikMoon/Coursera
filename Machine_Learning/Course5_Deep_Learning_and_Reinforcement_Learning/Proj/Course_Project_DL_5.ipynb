{
 "cells": [
  {
   "cell_type": "code",
   "execution_count": 1,
   "id": "a4020b9e",
   "metadata": {},
   "outputs": [],
   "source": [
    "import gym\n",
    "import pandas\n",
    "import numpy as np\n",
    "\n",
    "env = gym.make('CartPole-v0')"
   ]
  },
  {
   "cell_type": "code",
   "execution_count": null,
   "id": "d56ce698",
   "metadata": {},
   "outputs": [],
   "source": [
    "env.env?"
   ]
  },
  {
   "cell_type": "code",
   "execution_count": 2,
   "id": "89a5e8fb",
   "metadata": {},
   "outputs": [
    {
     "data": {
      "text/plain": [
       "(array([-0.04470379, -0.1539854 ,  0.01456947,  0.27373274]), 1.0, False, {})"
      ]
     },
     "execution_count": 2,
     "metadata": {},
     "output_type": "execute_result"
    }
   ],
   "source": [
    "old_observation = env.reset()\n",
    "new_action = env.action_space.sample()\n",
    "env.step(new_action)"
   ]
  },
  {
   "cell_type": "code",
   "execution_count": 3,
   "id": "09e0466f",
   "metadata": {},
   "outputs": [],
   "source": [
    "num_episodes = 1000\n",
    "\n",
    "life_memory = []\n",
    "\n",
    "for i in range(num_episodes):\n",
    "    old_observation = env.reset()\n",
    "    done = False\n",
    "    tot_reward = 0\n",
    "    ep_memory = []\n",
    "    while not done:\n",
    "        new_action = env.action_space.sample()\n",
    "        observation, reward, done, info = env.step(new_action)\n",
    "        tot_reward += reward\n",
    "        \n",
    "        ep_memory.append({\n",
    "            \"obs0\": old_observation[0],\n",
    "            \"obs1\": old_observation[1],\n",
    "            \"obs2\": old_observation[2],\n",
    "            \"obs3\": old_observation[3],\n",
    "            \"action\": new_action,\n",
    "            \"reward\": reward,\n",
    "            \"episode\": i,\n",
    "        })\n",
    "        old_observation = observation\n",
    "        \n",
    "    for ep_mem in ep_memory:\n",
    "        ep_mem[\"tot_reward\"] = tot_reward\n",
    "        \n",
    "    life_memory.extend(ep_memory)\n",
    "    \n",
    "memory_df = pandas.DataFrame(life_memory)\n"
   ]
  },
  {
   "cell_type": "code",
   "execution_count": null,
   "id": "32b257f0",
   "metadata": {
    "scrolled": true
   },
   "outputs": [],
   "source": [
    "memory_df"
   ]
  },
  {
   "cell_type": "code",
   "execution_count": 4,
   "id": "2402223a",
   "metadata": {},
   "outputs": [],
   "source": [
    "memory_df.groupby(\"episode\").reward.sum().mean()\n",
    "memory_df[\"comb_reward\"] = .5*memory_df.reward + 1.2 * memory_df.tot_reward"
   ]
  },
  {
   "cell_type": "code",
   "execution_count": null,
   "id": "7d8f7448",
   "metadata": {},
   "outputs": [],
   "source": [
    "memory_df"
   ]
  },
  {
   "cell_type": "code",
   "execution_count": null,
   "id": "5177427d",
   "metadata": {},
   "outputs": [],
   "source": [
    "cnt = [i for i in memory_df.groupby(\"episode\").count().tot_reward]"
   ]
  },
  {
   "cell_type": "code",
   "execution_count": null,
   "id": "9a509b31",
   "metadata": {},
   "outputs": [],
   "source": [
    "a = []\n",
    "for j in range(len(cnt)):\n",
    "    for i in range(1, cnt[j] + 1):\n",
    "        a.append(i / cnt[j])"
   ]
  },
  {
   "cell_type": "code",
   "execution_count": null,
   "id": "d6ac6ee3",
   "metadata": {},
   "outputs": [],
   "source": [
    "memory_df2 = memory_df.copy()\n",
    "memory_df2[\"res_reward\"] = memory_df.tot_reward * a"
   ]
  },
  {
   "cell_type": "code",
   "execution_count": null,
   "id": "27b2d388",
   "metadata": {},
   "outputs": [],
   "source": [
    "memory_df2.describe()"
   ]
  },
  {
   "cell_type": "code",
   "execution_count": null,
   "id": "c0715606",
   "metadata": {},
   "outputs": [],
   "source": [
    "memory_df2.groupby(\"episode\").reward.sum().mean()\n",
    "memory_df2[\"comb_reward\"] = .5*memory_df.reward + memory_df2.res_reward"
   ]
  },
  {
   "cell_type": "code",
   "execution_count": null,
   "id": "280f46c1",
   "metadata": {},
   "outputs": [],
   "source": [
    "memory_df2"
   ]
  },
  {
   "cell_type": "code",
   "execution_count": 5,
   "id": "38cb2507",
   "metadata": {},
   "outputs": [
    {
     "name": "stdout",
     "output_type": "stream",
     "text": [
      "Training time: 0:00:11.463180s\n"
     ]
    }
   ],
   "source": [
    "from sklearn.ensemble import RandomForestRegressor, AdaBoostRegressor, ExtraTreesRegressor\n",
    "import datetime\n",
    "\n",
    "n = datetime.datetime.now\n",
    "t = n()\n",
    "\n",
    "RandomForest = RandomForestRegressor()\n",
    "RandomForest.fit(memory_df[[\"obs0\", \"obs1\", \"obs2\", \"obs3\", \"action\"]], memory_df.comb_reward)\n",
    "print(f\"Training time: {n() - t}s\")"
   ]
  },
  {
   "cell_type": "code",
   "execution_count": null,
   "id": "0bbb196c",
   "metadata": {},
   "outputs": [],
   "source": [
    "n = datetime.datetime.now\n",
    "t = n()\n",
    "\n",
    "RandomForest2 = RandomForestRegressor()\n",
    "RandomForest2.fit(memory_df[[\"obs0\", \"obs1\", \"obs2\", \"obs3\", \"action\"]], memory_df2.comb_reward)\n",
    "print(f\"Training time: {n() - t}s\")"
   ]
  },
  {
   "cell_type": "code",
   "execution_count": null,
   "id": "c9677653",
   "metadata": {},
   "outputs": [],
   "source": [
    "AdaBoost = AdaBoostRegressor()\n",
    "AdaBoost.fit(memory_df[[\"obs0\", \"obs1\", \"obs2\", \"obs3\", \"action\"]], memory_df.comb_reward)"
   ]
  },
  {
   "cell_type": "code",
   "execution_count": null,
   "id": "f1c77271",
   "metadata": {},
   "outputs": [],
   "source": [
    "from sklearn.ensemble import RandomForestRegressor, AdaBoostRegressor, ExtraTreesRegressor\n",
    "\n",
    "ExtraTrees = ExtraTreesRegressor()\n",
    "ExtraTrees.fit(memory_df[[\"obs0\", \"obs1\", \"obs2\", \"obs3\", \"action\"]], memory_df.comb_reward)"
   ]
  },
  {
   "cell_type": "code",
   "execution_count": null,
   "id": "ec5a7ed2",
   "metadata": {},
   "outputs": [],
   "source": [
    "t = n()\n",
    "num_episodes = 100\n",
    "a_life_memory = []\n",
    "a_env = gym.make('CartPole-v0')\n",
    "for i in range(num_episodes):\n",
    "    a_old_observation = a_env.reset()\n",
    "    a_done = False\n",
    "    a_tot_reward = 0\n",
    "    a_em_memory = []\n",
    "    \n",
    "    while not a_done:\n",
    "        pred_in = [list(a_old_observation) + [i] for i in range(2)]\n",
    "        a_new_action = np.argmax(AdaBoost.predict(pred_in))\n",
    "        a_observation, a_reward, a_done, a_info = a_env.step(a_new_action)\n",
    "        a_tot_reward += a_reward\n",
    "        \n",
    "        a_em_memory.append({\n",
    "            \"obs0\": a_old_observation[0],\n",
    "            \"obs1\": a_old_observation[1],\n",
    "            \"obs2\": a_old_observation[2],\n",
    "            \"obs3\": a_old_observation[3],\n",
    "            \"action\": a_new_action,\n",
    "            \"reward\": a_reward,\n",
    "            \"episode\": i,\n",
    "        })\n",
    "        \n",
    "        a_old_observation = a_observation\n",
    "\n",
    "    for a_em in a_em_memory:\n",
    "        a_em[\"tot_reward\"] = a_tot_reward\n",
    "        \n",
    "    a_life_memory.extend(a_em_memory)\n",
    "a_memory_df = pandas.DataFrame(a_life_memory)\n",
    "print(f\"Training time: {n() - t}s\")"
   ]
  },
  {
   "cell_type": "code",
   "execution_count": null,
   "id": "7540e8ca",
   "metadata": {},
   "outputs": [],
   "source": [
    "a_memory_df.shape"
   ]
  },
  {
   "cell_type": "code",
   "execution_count": null,
   "id": "4c2d071b",
   "metadata": {},
   "outputs": [],
   "source": [
    "RandomForest.predict(np.array([[-0.098034,-0.008808,-0.006247,0.023553,1], [-0.098034,-0.008808,-0.006247,0.023553,0]]))"
   ]
  },
  {
   "cell_type": "code",
   "execution_count": 6,
   "id": "8e3c65ee",
   "metadata": {},
   "outputs": [
    {
     "name": "stdout",
     "output_type": "stream",
     "text": [
      "Training time: 0:02:21.706683s\n"
     ]
    }
   ],
   "source": [
    "t = n()\n",
    "num_episodes = 100\n",
    "r_life_memory = []\n",
    "r_env = gym.make('CartPole-v0')\n",
    "pred = []\n",
    "for i in range(num_episodes):\n",
    "    r_old_observation = r_env.reset()\n",
    "    r_done = False\n",
    "    r_tot_reward = 0\n",
    "    r_em_memory = []\n",
    "    while not r_done:\n",
    "        pred_in = [list(r_old_observation) + [i] for i in range(2)]\n",
    "        r_new_action = np.argmax(RandomForest.predict(pred_in))\n",
    "        r_observation, r_reward, r_done, r_info = r_env.step(r_new_action)\n",
    "        r_tot_reward += r_reward\n",
    "        \n",
    "        r_em_memory.append({\n",
    "            \"obs0\": r_old_observation[0],\n",
    "            \"obs1\": r_old_observation[1],\n",
    "            \"obs2\": r_old_observation[2],\n",
    "            \"obs3\": r_old_observation[3],\n",
    "            \"action\": r_new_action,\n",
    "            \"reward\": r_reward,\n",
    "            \"episode\": i,\n",
    "        })\n",
    "        \n",
    "        pred.append(RandomForest.predict([list(r_old_observation) + [r_new_action]]))\n",
    "        \n",
    "        r_old_observation = r_observation\n",
    "        \n",
    "    for r_em in r_em_memory:\n",
    "        r_em[\"tot_reward\"] = r_tot_reward\n",
    "        \n",
    "    r_life_memory.extend(r_em_memory)\n",
    "r_memory_df = pandas.DataFrame(r_life_memory)\n",
    "print(f\"Training time: {n() - t}s\")"
   ]
  },
  {
   "cell_type": "code",
   "execution_count": null,
   "id": "5247e414",
   "metadata": {},
   "outputs": [],
   "source": [
    "len(pred)"
   ]
  },
  {
   "cell_type": "code",
   "execution_count": 10,
   "id": "15a8721f",
   "metadata": {},
   "outputs": [],
   "source": [
    "r_memory_df[\"comb_reward\"] = .5*r_memory_df.reward + 1.2 * r_memory_df.tot_reward"
   ]
  },
  {
   "cell_type": "code",
   "execution_count": null,
   "id": "ee3e77db",
   "metadata": {},
   "outputs": [],
   "source": [
    "len(r_memory_df.comb_reward)"
   ]
  },
  {
   "cell_type": "code",
   "execution_count": null,
   "id": "a1017fa6",
   "metadata": {},
   "outputs": [],
   "source": [
    "pred"
   ]
  },
  {
   "cell_type": "code",
   "execution_count": null,
   "id": "6bf04eae",
   "metadata": {
    "scrolled": false
   },
   "outputs": [],
   "source": [
    "r_memory_df"
   ]
  },
  {
   "cell_type": "code",
   "execution_count": 7,
   "id": "6da510ff",
   "metadata": {},
   "outputs": [
    {
     "data": {
      "text/plain": [
       "114.75"
      ]
     },
     "execution_count": 7,
     "metadata": {},
     "output_type": "execute_result"
    }
   ],
   "source": [
    "r_memory_df.groupby(\"episode\").reward.sum().mean()"
   ]
  },
  {
   "cell_type": "code",
   "execution_count": 8,
   "id": "7e86c515",
   "metadata": {},
   "outputs": [
    {
     "data": {
      "text/plain": [
       "False    90\n",
       "True     10\n",
       "Name: reward, dtype: int64"
      ]
     },
     "execution_count": 8,
     "metadata": {},
     "output_type": "execute_result"
    }
   ],
   "source": [
    "(r_memory_df.groupby(\"episode\").reward.sum() >= 200).value_counts()"
   ]
  },
  {
   "cell_type": "code",
   "execution_count": 11,
   "id": "7d6cce38",
   "metadata": {},
   "outputs": [
    {
     "data": {
      "image/png": "[encoded data removed]",
      "text/plain": [
       "<Figure size 864x720 with 1 Axes>"
      ]
     },
     "metadata": {
      "needs_background": "light"
     },
     "output_type": "display_data"
    }
   ],
   "source": [
    "import matplotlib.pyplot as plt\n",
    "\n",
    "fig_y = []\n",
    "for i in range(len(pred)):\n",
    "    error = np.sqrt(np.power((r_memory_df.comb_reward[i] - pred[i]), 2))\n",
    "    fig_y.append(error)\n",
    "\n",
    "fig = plt.figure(figsize=(12,10))\n",
    "plt.plot([i for i in range(len(pred))], fig_y)\n",
    "plt.show()\n",
    "    "
   ]
  },
  {
   "cell_type": "code",
   "execution_count": 12,
   "id": "8546942a",
   "metadata": {},
   "outputs": [
    {
     "data": {
      "text/plain": [
       "98.86905516339868"
      ]
     },
     "execution_count": 12,
     "metadata": {},
     "output_type": "execute_result"
    }
   ],
   "source": [
    "np.array(fig_y).mean()"
   ]
  },
  {
   "cell_type": "code",
   "execution_count": null,
   "id": "02a62e87",
   "metadata": {},
   "outputs": [],
   "source": [
    "t = n()\n",
    "num_episodes = 100\n",
    "r_life_memory2 = []\n",
    "r_env = gym.make('CartPole-v0')\n",
    "pred2 = []\n",
    "for i in range(num_episodes):\n",
    "    r_old_observation = r_env.reset()\n",
    "    r_done = False\n",
    "    r_tot_reward = 0\n",
    "    r_em_memory2 = []\n",
    "    while not r_done:\n",
    "        pred_in = [list(r_old_observation) + [i] for i in range(2)]\n",
    "        r_new_action = np.argmax(RandomForest2.predict(pred_in))\n",
    "        r_observation, r_reward, r_done, r_info = r_env.step(r_new_action)\n",
    "        r_tot_reward += r_reward\n",
    "        \n",
    "        r_em_memory2.append({\n",
    "            \"obs0\": r_old_observation[0],\n",
    "            \"obs1\": r_old_observation[1],\n",
    "            \"obs2\": r_old_observation[2],\n",
    "            \"obs3\": r_old_observation[3],\n",
    "            \"action\": r_new_action,\n",
    "            \"reward\": r_reward,\n",
    "            \"episode\": i,\n",
    "        })\n",
    "        \n",
    "        pred2.append(RandomForest2.predict([list(r_old_observation) + [r_new_action]]))\n",
    "\n",
    "        r_old_observation = r_observation\n",
    "        \n",
    "    for r_em in r_em_memory2:\n",
    "        r_em[\"tot_reward\"] = r_tot_reward\n",
    "        \n",
    "    r_life_memory2.extend(r_em_memory2)\n",
    "r_memory_df2 = pandas.DataFrame(r_life_memory2)\n",
    "print(f\"Training time: {n() - t}s\")"
   ]
  },
  {
   "cell_type": "code",
   "execution_count": null,
   "id": "8b753a02",
   "metadata": {},
   "outputs": [],
   "source": [
    "r_memory_df2.groupby('episode').reward.sum().mean()"
   ]
  },
  {
   "cell_type": "code",
   "execution_count": null,
   "id": "77b28702",
   "metadata": {},
   "outputs": [],
   "source": [
    "(r_memory_df2.groupby('episode').reward.sum() >= 200).value_counts()"
   ]
  },
  {
   "cell_type": "code",
   "execution_count": null,
   "id": "3bad5d1d",
   "metadata": {},
   "outputs": [],
   "source": [
    "r_memory_df2[\"comb_reward\"] = .5*r_memory_df2.reward + 1.2 * r_memory_df2.tot_reward"
   ]
  },
  {
   "cell_type": "code",
   "execution_count": null,
   "id": "8179d20b",
   "metadata": {},
   "outputs": [],
   "source": [
    "len(r_memory_df2)"
   ]
  },
  {
   "cell_type": "code",
   "execution_count": null,
   "id": "5b2c288f",
   "metadata": {},
   "outputs": [],
   "source": [
    "len(pred2)"
   ]
  },
  {
   "cell_type": "code",
   "execution_count": null,
   "id": "9740f083",
   "metadata": {},
   "outputs": [],
   "source": [
    "fig_y2 = []\n",
    "for i in range(len(pred2)):\n",
    "    error = np.sqrt(np.power((r_memory_df2.comb_reward[i] - pred2[i]), 2))\n",
    "    fig_y2.append(error)\n",
    "\n",
    "fig = plt.figure(figsize=(12,10))\n",
    "plt.plot([i for i in range(len(pred2))], fig_y2)\n",
    "plt.show()   "
   ]
  },
  {
   "cell_type": "code",
   "execution_count": null,
   "id": "8563615d",
   "metadata": {},
   "outputs": [],
   "source": [
    "np.array(fig_y2).mean()"
   ]
  },
  {
   "cell_type": "code",
   "execution_count": null,
   "id": "34177ec3",
   "metadata": {},
   "outputs": [],
   "source": [
    "import datetime \n",
    "\n",
    "n = datetime.datetime.now\n",
    "t = n()"
   ]
  },
  {
   "cell_type": "code",
   "execution_count": null,
   "id": "bcc4ff4e",
   "metadata": {},
   "outputs": [],
   "source": [
    "t = n()\n",
    "num_episodes = 100\n",
    "e_life_memory = []\n",
    "e_env = gym.make('CartPole-v0')\n",
    "for i in range(num_episodes):\n",
    "    e_old_observation = e_env.reset()\n",
    "    e_done = False\n",
    "    e_tot_reward = 0\n",
    "    e_em_memory = []\n",
    "    while not e_done:\n",
    "        pred_in = [list(e_old_observation) + [i] for i in range(2)]\n",
    "        e_new_action = np.argmax(ExtraTrees.predict(pred_in))\n",
    "        e_observation, e_reward, e_done, e_info = e_env.step(e_new_action)\n",
    "        e_tot_reward += e_reward\n",
    "        e_em_memory.append({\n",
    "            \"obs0\": e_old_observation[0],\n",
    "            \"obs1\": e_old_observation[1],\n",
    "            \"obs2\": e_old_observation[2],\n",
    "            \"obs3\": e_old_observation[3],\n",
    "            \"action\": e_new_action,\n",
    "            \"reward\": e_reward,\n",
    "            \"episode\": i,\n",
    "        })\n",
    "        \n",
    "        e_old_observation = e_observation\n",
    "\n",
    "    for e_em in e_em_memory:\n",
    "        e_em[\"tot_reward\"] = e_tot_reward\n",
    "    e_life_memory.extend(e_em_memory)\n",
    "e_memory_df = pandas.DataFrame(e_life_memory)\n",
    "print(f\"Training time: {n() - t}s\")"
   ]
  },
  {
   "cell_type": "code",
   "execution_count": null,
   "id": "1568ec4b",
   "metadata": {},
   "outputs": [],
   "source": [
    "e_env.reset()\n",
    "e_env.step(1)"
   ]
  },
  {
   "cell_type": "code",
   "execution_count": null,
   "id": "e0467558",
   "metadata": {},
   "outputs": [],
   "source": [
    "np.argmax(ExtraTrees.predict([[ 0.03719052,  0.20216305,  0.01937592, -0.24454289, 1], [ 0.03719052,  0.20216305,  0.01937592, -0.24454289, 0]]))"
   ]
  },
  {
   "cell_type": "code",
   "execution_count": null,
   "id": "2189b699",
   "metadata": {},
   "outputs": [],
   "source": [
    "r_memory_df.groupby(\"episode\").reward.sum().mean()"
   ]
  },
  {
   "cell_type": "code",
   "execution_count": null,
   "id": "0b47dfb1",
   "metadata": {},
   "outputs": [],
   "source": [
    "(r_memory_df.groupby(\"episode\").reward.sum() >= 200).value_counts()"
   ]
  },
  {
   "cell_type": "code",
   "execution_count": null,
   "id": "619692ee",
   "metadata": {},
   "outputs": [],
   "source": [
    "a_memory_df.groupby(\"episode\").reward.sum().mean()"
   ]
  },
  {
   "cell_type": "code",
   "execution_count": null,
   "id": "8c79dd1f",
   "metadata": {},
   "outputs": [],
   "source": [
    "(a_memory_df.groupby(\"episode\").reward.sum() >= 200).value_counts()"
   ]
  },
  {
   "cell_type": "code",
   "execution_count": null,
   "id": "4e3c1f45",
   "metadata": {},
   "outputs": [],
   "source": [
    "e_memory_df.groupby(\"episode\").reward.sum().mean()"
   ]
  },
  {
   "cell_type": "code",
   "execution_count": null,
   "id": "98dbe905",
   "metadata": {},
   "outputs": [],
   "source": [
    "(e_memory_df.groupby(\"episode\").reward.sum() >= 200).value_counts()"
   ]
  },
  {
   "cell_type": "code",
   "execution_count": null,
   "id": "754bd40f",
   "metadata": {},
   "outputs": [],
   "source": [
    "[i for i in range(50, 40)]"
   ]
  },
  {
   "cell_type": "code",
   "execution_count": null,
   "id": "d6b381d1",
   "metadata": {},
   "outputs": [],
   "source": [
    "memory_df.shape"
   ]
  },
  {
   "cell_type": "code",
   "execution_count": null,
   "id": "d0ebf1dd",
   "metadata": {},
   "outputs": [],
   "source": [
    "x = memory_df[[\"obs0\", \"obs1\", \"obs2\", \"obs3\", \"action\"]]\n",
    "y = memory_df.comb_reward"
   ]
  },
  {
   "cell_type": "code",
   "execution_count": null,
   "id": "0331e74d",
   "metadata": {},
   "outputs": [],
   "source": [
    "from tensorflow.keras.layers import Input, Dense\n",
    "from tensorflow.keras.models import Model"
   ]
  },
  {
   "cell_type": "code",
   "execution_count": null,
   "id": "f6df662a",
   "metadata": {},
   "outputs": [],
   "source": [
    "ENCODING_DIM = 64\n",
    "HIDDEN_DIM = 256\n",
    "### BEGIN SOLUTION\n",
    "# Encoder model\n",
    "inputs = Input(shape=(5,)) \n",
    "encoder_hidden = Dense(HIDDEN_DIM, activation=\"sigmoid\")(inputs)\n",
    "encoded = Dense(ENCODING_DIM, activation=\"relu\")(encoder_hidden)\n",
    "encoder_model = Model(inputs, encoded, name='encoder')\n",
    "\n",
    "# Decoder model\n",
    "encoded_inputs = Input(shape=(ENCODING_DIM,), name='encoding')\n",
    "decoder_hidden = Dense(HIDDEN_DIM, activation=\"relu\")(encoded_inputs)\n",
    "reconstruction = Dense(1, activation=\"sigmoid\")(decoder_hidden)\n",
    "decoder_model = Model(encoded_inputs, reconstruction, name='decoder')\n",
    "\n",
    "# Defining the full model as the combination of the two\n",
    "outputs = decoder_model(encoder_model(inputs))\n",
    "full_model = Model(inputs, outputs, name='full_ae')"
   ]
  },
  {
   "cell_type": "code",
   "execution_count": null,
   "id": "14b982c2",
   "metadata": {},
   "outputs": [],
   "source": [
    "# full_model = Model(inputs=inputs, \n",
    "#                    outputs=outputs)\n",
    "\n",
    "full_model.compile(optimizer='rmsprop',\n",
    "                 loss='binary_crossentropy',\n",
    "                 metrics=['accuracy'])"
   ]
  },
  {
   "cell_type": "code",
   "execution_count": null,
   "id": "d437cf46",
   "metadata": {},
   "outputs": [],
   "source": [
    "full_model.summary()"
   ]
  },
  {
   "cell_type": "code",
   "execution_count": null,
   "id": "227cab55",
   "metadata": {
    "scrolled": true
   },
   "outputs": [],
   "source": [
    "history = full_model.fit(x, y, shuffle=True, epochs=5)"
   ]
  },
  {
   "cell_type": "code",
   "execution_count": null,
   "id": "655d712f",
   "metadata": {},
   "outputs": [],
   "source": [
    "memory_df"
   ]
  },
  {
   "cell_type": "code",
   "execution_count": 13,
   "id": "61c848d8",
   "metadata": {},
   "outputs": [],
   "source": [
    "x_mat = memory_df[[\"obs0\", \"obs1\", \"obs2\", \"obs3\", \"action\"]].to_numpy()\n",
    "y = memory_df['comb_reward'].to_numpy()\n",
    "# num_ = memory_df.shape[0]"
   ]
  },
  {
   "cell_type": "code",
   "execution_count": null,
   "id": "639b7dbf",
   "metadata": {},
   "outputs": [],
   "source": [
    "from sklearn.preprocessing import MinMaxScaler"
   ]
  },
  {
   "cell_type": "code",
   "execution_count": null,
   "id": "9b5a16d7",
   "metadata": {},
   "outputs": [],
   "source": [
    "s = MinMaxScaler()\n",
    "y = s.fit_transform(y.reshape(-1,1))\n",
    "y = y.reshape(-1,)"
   ]
  },
  {
   "cell_type": "code",
   "execution_count": 14,
   "id": "0a0bb377",
   "metadata": {},
   "outputs": [],
   "source": [
    "W_1 = np.random.uniform(-1,1,size=(5,8))\n",
    "W_2 = np.random.uniform(-1,1,size=(8))"
   ]
  },
  {
   "cell_type": "code",
   "execution_count": null,
   "id": "a4b5c6e7",
   "metadata": {},
   "outputs": [],
   "source": [
    "x_mat"
   ]
  },
  {
   "cell_type": "code",
   "execution_count": 15,
   "id": "d076e63a",
   "metadata": {},
   "outputs": [],
   "source": [
    "# Practice\n",
    "def sigmoid(x):\n",
    "    return 1 / (1 + np.exp(-x))\n",
    "\n",
    "# def loss_fn(y_true, y_pred, eps=1e-16):\n",
    "#     \"\"\"\n",
    "#     Loss function we would like to optimize (minimize)\n",
    "#     We are using Logarithmic Loss\n",
    "#     http://scikit-learn.org/stable/modules/model_evaluation.html#log-loss\n",
    "#     \"\"\"\n",
    "#     y_pred = np.maximum(y_pred,eps)\n",
    "#     y_pred = np.minimum(y_pred,(1-eps))\n",
    "#     return -(np.sum(y_true * np.log(y_pred)) + np.sum((1-y_true)*np.log(1-y_pred)))/len(y_true)\n",
    "\n",
    "def relu(x):\n",
    "    return np.maximum(0, x)\n",
    "\n",
    "def forward_pass(W_1, W_2):\n",
    "    global x_mat\n",
    "    global y\n",
    "    global num_\n",
    "\n",
    "    z_2 = np.dot(x_mat, W_1)    # (221191 , 5) x (5, 64) = (221191 , 64)\n",
    "    a_2 = sigmoid(z_2)          # (221191 , 64)\n",
    "    z_3 = np.dot(a_2, W_2)      # (221191 , 64) x (64, ) = (221191 , )\n",
    "    y_pred = sigmoid(z_3).reshape((len(x_mat),))      # (221191 , )\n",
    "    J_z_3_grad = -y + y_pred      # (221191 , )\n",
    "    J_W_2_grad = np.dot(J_z_3_grad, a_2)      # (221191 , ) x (221191 , 64) = (64, )\n",
    "    a_2_z_2_grad = sigmoid(z_2)*(1 - sigmoid(z_2))  # (221191 , 64) * (221191 , 64) = (221191 , 64)\n",
    "                                                    #     J_W_1_grad = a_1 * a_2_z_2_grad * W_2 * J_z_3_grad\n",
    "                                                    #     J_W_1_grad = np.dot(x_mat, a_2_z_2_grad).dot(W_2).dot(J_z_3_grad)\n",
    "    J_W_1_grad = (np.dot((J_z_3_grad).reshape(-1,1), W_2.reshape(-1,1).T)*a_2_z_2_grad).T.dot(x_mat).T\n",
    "# (221191 , )->(221191 , 1) x (64 x 1).T = (221191 , 64) * (221191 , 64) = (221191 , 64).T = (64, 221191 ) x (221191 , 5)\n",
    "# = (64, 5).T = (5, 64)\n",
    "    gradient = (J_W_1_grad, J_W_2_grad)\n",
    "    \n",
    "    return y_pred, gradient\n",
    "\n",
    "# def plot_loss_accuracy(loss_vals, accuracies):\n",
    "#     fig = plt.figure(figsize=(16, 8))\n",
    "#     fig.suptitle('Log Loss and Accuracy over iterations')\n",
    "    \n",
    "#     ax = fig.add_subplot(1, 2, 1)\n",
    "#     ax.plot(loss_vals)\n",
    "#     ax.grid(True)\n",
    "#     ax.set(xlabel='iterations', title='Log Loss')\n",
    "    \n",
    "#     ax = fig.add_subplot(1, 2, 2)\n",
    "#     ax.plot(accuracies)\n",
    "#     ax.grid(True)\n",
    "#     ax.set(xlabel='iterations', title='Accuracy');"
   ]
  },
  {
   "cell_type": "code",
   "execution_count": 16,
   "id": "96f97705",
   "metadata": {},
   "outputs": [
    {
     "name": "stderr",
     "output_type": "stream",
     "text": [
      "C:\\Users\\moon\\AppData\\Local\\Temp/ipykernel_29512/2272599921.py:3: RuntimeWarning: overflow encountered in exp\n",
      "  return 1 / (1 + np.exp(-x))\n"
     ]
    },
    {
     "name": "stdout",
     "output_type": "stream",
     "text": [
      "Training time: 0:00:01.157572s\n"
     ]
    }
   ],
   "source": [
    "# Practice\n",
    "import datetime\n",
    "n = datetime.datetime.now\n",
    "t = n()\n",
    "\n",
    "np.random.seed(1241)\n",
    "\n",
    "num_iter = 50\n",
    "learning_rate = .001\n",
    "# x_mat = x_mat_full\n",
    "\n",
    "total_pred = []\n",
    "for i in range(num_iter):\n",
    "    y_pred, (J_W_1_grad, J_W_2_grad) = forward_pass(W_1, W_2)\n",
    "    \n",
    "    W_1 = W_1 - learning_rate * J_W_1_grad\n",
    "    W_2 = W_2 - learning_rate * J_W_2_grad\n",
    "    \n",
    "    total_pred.append(y_pred)\n",
    "print(f\"Training time: {n() - t}s\")"
   ]
  },
  {
   "cell_type": "code",
   "execution_count": null,
   "id": "df926e56",
   "metadata": {},
   "outputs": [],
   "source": [
    "# total_pred[0]"
   ]
  },
  {
   "cell_type": "code",
   "execution_count": null,
   "id": "b8981bf6",
   "metadata": {},
   "outputs": [],
   "source": [
    "# y"
   ]
  },
  {
   "cell_type": "code",
   "execution_count": null,
   "id": "ad8a14b2",
   "metadata": {},
   "outputs": [],
   "source": [
    "errorfi = np.sqrt(np.power((y - total_pred[0]), 2))\n",
    "errorff = np.sqrt(np.power((y - total_pred[-1]), 2))"
   ]
  },
  {
   "cell_type": "code",
   "execution_count": null,
   "id": "25499d59",
   "metadata": {},
   "outputs": [],
   "source": [
    "# W_2"
   ]
  },
  {
   "cell_type": "code",
   "execution_count": null,
   "id": "b0d14581",
   "metadata": {},
   "outputs": [],
   "source": [
    "# errorfi"
   ]
  },
  {
   "cell_type": "code",
   "execution_count": null,
   "id": "b7b5b848",
   "metadata": {},
   "outputs": [],
   "source": [
    "# errorff"
   ]
  },
  {
   "cell_type": "code",
   "execution_count": null,
   "id": "4af9e5e2",
   "metadata": {},
   "outputs": [],
   "source": [
    "errorfi.sum()/len(errorfi)"
   ]
  },
  {
   "cell_type": "code",
   "execution_count": null,
   "id": "1981a838",
   "metadata": {},
   "outputs": [],
   "source": [
    "errorff.sum()/len(errorff)"
   ]
  },
  {
   "cell_type": "code",
   "execution_count": null,
   "id": "30461c8e",
   "metadata": {},
   "outputs": [],
   "source": [
    "# a = np.array([1,2,3])\n",
    "# b = np.array([2,4,9])\n",
    "# np.power((b - a), 2).mean()"
   ]
  },
  {
   "cell_type": "code",
   "execution_count": null,
   "id": "783fdb4c",
   "metadata": {},
   "outputs": [],
   "source": [
    "fig_y3 = []\n",
    "for i in range(len(total_pred)):\n",
    "    errorfi = np.sqrt(np.power((y - total_pred[i]), 2).mean())\n",
    "    fig_y3.append(errorfi)"
   ]
  },
  {
   "cell_type": "code",
   "execution_count": null,
   "id": "edf5c4d4",
   "metadata": {},
   "outputs": [],
   "source": [
    "len(fig_y3)"
   ]
  },
  {
   "cell_type": "code",
   "execution_count": null,
   "id": "65f03938",
   "metadata": {},
   "outputs": [],
   "source": [
    "import matplotlib.pyplot as plt\n",
    "\n",
    "plt.figure(figsize=(12,9))\n",
    "plt.plot([i for i in range(len(fig_y3))], fig_y3, marker='o')\n",
    "# plt.xlim(900, 1000)\n",
    "plt.show()"
   ]
  },
  {
   "cell_type": "code",
   "execution_count": null,
   "id": "b226197f",
   "metadata": {},
   "outputs": [],
   "source": [
    "def nn_predict(pred_in):\n",
    "    z_2 = np.dot(pred_in[0], W_1)\n",
    "    a_2 = sigmoid(z_2)\n",
    "    z_3 = np.dot(a_2, W_2)\n",
    "    y_pred1 = sigmoid(z_3)\n",
    "    \n",
    "    z2_2 = np.dot(pred_in[1], W_1)\n",
    "    a2_2 = sigmoid(z2_2)\n",
    "    z2_3 = np.dot(a2_2, W_2)\n",
    "    y_pred2 = sigmoid(z2_3)\n",
    "    \n",
    "    return y_pred1, y_pred2"
   ]
  },
  {
   "cell_type": "code",
   "execution_count": null,
   "id": "bfec0314",
   "metadata": {},
   "outputs": [],
   "source": [
    "t = n()\n",
    "num_episodes = 100\n",
    "n_life_memory = []\n",
    "n_env = gym.make('CartPole-v0')\n",
    "for i in range(num_episodes):\n",
    "    n_old_observation = n_env.reset()\n",
    "    n_done = False\n",
    "    n_tot_reward = 0\n",
    "    n_em_memory = []\n",
    "    while not n_done:\n",
    "        pred_in = [list(n_old_observation) + [i] for i in range(2)]\n",
    "        n_new_action = np.argmax([nn_predict(pred_in)])\n",
    "        n_observation, n_reward, n_done, n_info = n_env.step(n_new_action)\n",
    "        n_tot_reward += n_reward\n",
    "        n_em_memory.append({\n",
    "            \"obs0\": n_old_observation[0],\n",
    "            \"obs1\": n_old_observation[1],\n",
    "            \"obs2\": n_old_observation[2],\n",
    "            \"obs3\": n_old_observation[3],\n",
    "            \"action\": n_new_action,\n",
    "            \"reward\": n_reward,\n",
    "            \"episode\": i,\n",
    "        })\n",
    "        \n",
    "        n_old_observation = n_observation\n",
    "\n",
    "    for n_em in n_em_memory:\n",
    "        n_em[\"tot_reward\"] = n_tot_reward\n",
    "    n_life_memory.extend(n_em_memory)\n",
    "n_memory_df = pandas.DataFrame(n_life_memory)\n",
    "print(f\"Training time: {n() - t}s\")"
   ]
  },
  {
   "cell_type": "code",
   "execution_count": null,
   "id": "e65b93c3",
   "metadata": {},
   "outputs": [],
   "source": [
    "n_memory_df"
   ]
  },
  {
   "cell_type": "code",
   "execution_count": null,
   "id": "391a3715",
   "metadata": {},
   "outputs": [],
   "source": [
    "n_memory_df.groupby(\"episode\").reward.sum().mean()"
   ]
  },
  {
   "cell_type": "code",
   "execution_count": null,
   "id": "243f1e77",
   "metadata": {},
   "outputs": [],
   "source": [
    "(n_memory_df.groupby(\"episode\").reward.sum() >= 200).value_counts()"
   ]
  },
  {
   "cell_type": "code",
   "execution_count": null,
   "id": "0b734f16",
   "metadata": {},
   "outputs": [],
   "source": [
    "x_mat.shape"
   ]
  },
  {
   "cell_type": "code",
   "execution_count": null,
   "id": "80cffd68",
   "metadata": {},
   "outputs": [],
   "source": []
  },
  {
   "cell_type": "code",
   "execution_count": 18,
   "id": "b85afb7e",
   "metadata": {},
   "outputs": [],
   "source": [
    "import tensorflow as tf\n",
    "from tensorflow.keras import models, layers\n",
    "\n",
    "# optimizer = tf.keras.optimizers.RMSprop(0.001)\n",
    "\n",
    "def build_model1():\n",
    "    model = models.Sequential()\n",
    "    model.add(layers.Dense(64, activation = 'relu', input_shape=(x_mat.shape[1], )))\n",
    "#     model.add(layers.Dense(64, activation='relu'))\n",
    "    model.add(layers.Dense(1))\n",
    "    model.compile(optimizer='rmsprop', loss='mse', metrics=['mae'])\n",
    "    return model"
   ]
  },
  {
   "cell_type": "code",
   "execution_count": 28,
   "id": "b0504d48",
   "metadata": {},
   "outputs": [
    {
     "name": "stdout",
     "output_type": "stream",
     "text": [
      "Epoch 1/100\n",
      "695/695 [==============================] - 1s 750us/step - loss: 935.9998 - mae: 23.7269\n",
      "Epoch 2/100\n",
      "695/695 [==============================] - 1s 816us/step - loss: 403.0857 - mae: 15.0692\n",
      "Epoch 3/100\n",
      "695/695 [==============================] - 1s 774us/step - loss: 364.2706 - mae: 14.4562\n",
      "Epoch 4/100\n",
      "695/695 [==============================] - 1s 831us/step - loss: 358.5028 - mae: 14.3767\n",
      "Epoch 5/100\n",
      "695/695 [==============================] - 1s 808us/step - loss: 352.7475 - mae: 14.2667\n",
      "Epoch 6/100\n",
      "695/695 [==============================] - 1s 839us/step - loss: 345.0305 - mae: 14.1078\n",
      "Epoch 7/100\n",
      "695/695 [==============================] - 1s 764us/step - loss: 335.3260 - mae: 13.8968\n",
      "Epoch 8/100\n",
      "695/695 [==============================] - 1s 762us/step - loss: 323.7812 - mae: 13.6531\n",
      "Epoch 9/100\n",
      "695/695 [==============================] - 1s 763us/step - loss: 310.2866 - mae: 13.3776\n",
      "Epoch 10/100\n",
      "695/695 [==============================] - 1s 783us/step - loss: 295.9395 - mae: 13.0418\n",
      "Epoch 11/100\n",
      "695/695 [==============================] - 1s 807us/step - loss: 281.6968 - mae: 12.7143\n",
      "Epoch 12/100\n",
      "695/695 [==============================] - 1s 768us/step - loss: 268.8209 - mae: 12.3492\n",
      "Epoch 13/100\n",
      "695/695 [==============================] - 1s 771us/step - loss: 257.8868 - mae: 12.0658\n",
      "Epoch 14/100\n",
      "695/695 [==============================] - 1s 778us/step - loss: 250.1268 - mae: 11.8463\n",
      "Epoch 15/100\n",
      "695/695 [==============================] - 1s 768us/step - loss: 244.6846 - mae: 11.6841\n",
      "Epoch 16/100\n",
      "695/695 [==============================] - 1s 770us/step - loss: 241.3866 - mae: 11.5767\n",
      "Epoch 17/100\n",
      "695/695 [==============================] - 1s 774us/step - loss: 239.3712 - mae: 11.5169\n",
      "Epoch 18/100\n",
      "695/695 [==============================] - 1s 778us/step - loss: 238.1646 - mae: 11.4725\n",
      "Epoch 19/100\n",
      "695/695 [==============================] - 1s 770us/step - loss: 237.4123 - mae: 11.4407\n",
      "Epoch 20/100\n",
      "695/695 [==============================] - 1s 782us/step - loss: 236.7122 - mae: 11.4118\n",
      "Epoch 21/100\n",
      "695/695 [==============================] - 1s 785us/step - loss: 236.1453 - mae: 11.3989\n",
      "Epoch 22/100\n",
      "695/695 [==============================] - 1s 835us/step - loss: 235.7145 - mae: 11.37370s - loss: 233.8936 - mae: 11.33\n",
      "Epoch 23/100\n",
      "695/695 [==============================] - 1s 769us/step - loss: 235.3710 - mae: 11.3668\n",
      "Epoch 24/100\n",
      "695/695 [==============================] - 1s 780us/step - loss: 234.9668 - mae: 11.3488\n",
      "Epoch 25/100\n",
      "695/695 [==============================] - 1s 793us/step - loss: 234.5926 - mae: 11.3302\n",
      "Epoch 26/100\n",
      "695/695 [==============================] - 1s 803us/step - loss: 234.2747 - mae: 11.3350\n",
      "Epoch 27/100\n",
      "695/695 [==============================] - 1s 778us/step - loss: 233.8913 - mae: 11.3147\n",
      "Epoch 28/100\n",
      "695/695 [==============================] - 1s 788us/step - loss: 233.6412 - mae: 11.3082\n",
      "Epoch 29/100\n",
      "695/695 [==============================] - 1s 788us/step - loss: 233.3147 - mae: 11.2920\n",
      "Epoch 30/100\n",
      "695/695 [==============================] - 1s 791us/step - loss: 232.9612 - mae: 11.2840\n",
      "Epoch 31/100\n",
      "695/695 [==============================] - 1s 777us/step - loss: 232.6458 - mae: 11.2748\n",
      "Epoch 32/100\n",
      "695/695 [==============================] - 1s 801us/step - loss: 232.4010 - mae: 11.2726\n",
      "Epoch 33/100\n",
      "695/695 [==============================] - 1s 789us/step - loss: 232.1342 - mae: 11.2534\n",
      "Epoch 34/100\n",
      "695/695 [==============================] - 1s 786us/step - loss: 231.8110 - mae: 11.2455\n",
      "Epoch 35/100\n",
      "695/695 [==============================] - 1s 798us/step - loss: 231.4456 - mae: 11.23250s - loss: 224.2831 - ma\n",
      "Epoch 36/100\n",
      "695/695 [==============================] - 1s 783us/step - loss: 231.1596 - mae: 11.2296\n",
      "Epoch 37/100\n",
      "695/695 [==============================] - 1s 888us/step - loss: 230.8508 - mae: 11.2105\n",
      "Epoch 38/100\n",
      "695/695 [==============================] - 1s 847us/step - loss: 230.5769 - mae: 11.2062\n",
      "Epoch 39/100\n",
      "695/695 [==============================] - 1s 823us/step - loss: 230.2850 - mae: 11.2101\n",
      "Epoch 40/100\n",
      "695/695 [==============================] - 1s 768us/step - loss: 229.9787 - mae: 11.1880\n",
      "Epoch 41/100\n",
      "695/695 [==============================] - 1s 774us/step - loss: 229.6892 - mae: 11.1834\n",
      "Epoch 42/100\n",
      "695/695 [==============================] - 1s 768us/step - loss: 229.4400 - mae: 11.1803\n",
      "Epoch 43/100\n",
      "695/695 [==============================] - 1s 830us/step - loss: 229.1228 - mae: 11.1547\n",
      "Epoch 44/100\n",
      "695/695 [==============================] - 1s 791us/step - loss: 228.7936 - mae: 11.1440\n",
      "Epoch 45/100\n",
      "695/695 [==============================] - 1s 782us/step - loss: 228.5182 - mae: 11.1488\n",
      "Epoch 46/100\n",
      "695/695 [==============================] - 1s 840us/step - loss: 228.2030 - mae: 11.1311\n",
      "Epoch 47/100\n",
      "695/695 [==============================] - 1s 844us/step - loss: 227.8883 - mae: 11.1177\n",
      "Epoch 48/100\n",
      "695/695 [==============================] - 1s 929us/step - loss: 227.4645 - mae: 11.1220\n",
      "Epoch 49/100\n",
      "695/695 [==============================] - 1s 786us/step - loss: 227.2725 - mae: 11.0948\n",
      "Epoch 50/100\n",
      "695/695 [==============================] - 1s 789us/step - loss: 226.8989 - mae: 11.0987\n",
      "Epoch 51/100\n",
      "695/695 [==============================] - 1s 790us/step - loss: 226.6635 - mae: 11.0738\n",
      "Epoch 52/100\n",
      "695/695 [==============================] - 1s 770us/step - loss: 226.4251 - mae: 11.0795\n",
      "Epoch 53/100\n",
      "695/695 [==============================] - 1s 775us/step - loss: 226.1087 - mae: 11.0607\n",
      "Epoch 54/100\n",
      "695/695 [==============================] - 1s 901us/step - loss: 226.0027 - mae: 11.0612\n",
      "Epoch 55/100\n",
      "695/695 [==============================] - 1s 822us/step - loss: 225.7164 - mae: 11.0616\n",
      "Epoch 56/100\n",
      "695/695 [==============================] - 1s 869us/step - loss: 225.5232 - mae: 11.0471\n",
      "Epoch 57/100\n",
      "695/695 [==============================] - 1s 848us/step - loss: 225.2160 - mae: 11.0353\n",
      "Epoch 58/100\n",
      "695/695 [==============================] - 1s 815us/step - loss: 225.0977 - mae: 11.0242\n",
      "Epoch 59/100\n",
      "695/695 [==============================] - 1s 791us/step - loss: 224.7842 - mae: 11.0127\n",
      "Epoch 60/100\n",
      "695/695 [==============================] - 1s 805us/step - loss: 224.5751 - mae: 11.0213\n",
      "Epoch 61/100\n",
      "695/695 [==============================] - 1s 793us/step - loss: 224.4322 - mae: 11.0115\n",
      "Epoch 62/100\n",
      "695/695 [==============================] - 1s 770us/step - loss: 224.2976 - mae: 11.0082\n",
      "Epoch 63/100\n",
      "695/695 [==============================] - 1s 825us/step - loss: 224.1702 - mae: 10.9944\n",
      "Epoch 64/100\n",
      "695/695 [==============================] - 1s 807us/step - loss: 224.0194 - mae: 10.9966\n",
      "Epoch 65/100\n",
      "695/695 [==============================] - 1s 796us/step - loss: 223.9328 - mae: 10.9866\n",
      "Epoch 66/100\n",
      "695/695 [==============================] - 1s 841us/step - loss: 223.6417 - mae: 10.9875\n",
      "Epoch 67/100\n",
      "695/695 [==============================] - 1s 880us/step - loss: 223.6491 - mae: 10.9851\n",
      "Epoch 68/100\n",
      "695/695 [==============================] - 1s 856us/step - loss: 223.4716 - mae: 10.9752\n",
      "Epoch 69/100\n",
      "695/695 [==============================] - 1s 804us/step - loss: 223.3847 - mae: 10.9770\n",
      "Epoch 70/100\n",
      "695/695 [==============================] - 1s 804us/step - loss: 223.3221 - mae: 10.9597\n",
      "Epoch 71/100\n",
      "695/695 [==============================] - 1s 734us/step - loss: 223.1054 - mae: 10.9704\n",
      "Epoch 72/100\n",
      "695/695 [==============================] - 1s 723us/step - loss: 223.0373 - mae: 10.9486\n",
      "Epoch 73/100\n",
      "695/695 [==============================] - 1s 748us/step - loss: 223.0049 - mae: 10.9474\n",
      "Epoch 74/100\n",
      "695/695 [==============================] - 1s 753us/step - loss: 222.7720 - mae: 10.9550\n",
      "Epoch 75/100\n",
      "695/695 [==============================] - 1s 771us/step - loss: 222.7510 - mae: 10.9390\n",
      "Epoch 76/100\n",
      "695/695 [==============================] - 1s 759us/step - loss: 222.7957 - mae: 10.9521\n",
      "Epoch 77/100\n",
      "695/695 [==============================] - 1s 755us/step - loss: 222.6627 - mae: 10.9416\n",
      "Epoch 78/100\n",
      "695/695 [==============================] - 1s 753us/step - loss: 222.5938 - mae: 10.9413\n",
      "Epoch 79/100\n",
      "695/695 [==============================] - 1s 793us/step - loss: 222.4915 - mae: 10.9326\n",
      "Epoch 80/100\n"
     ]
    },
    {
     "name": "stdout",
     "output_type": "stream",
     "text": [
      "695/695 [==============================] - 1s 878us/step - loss: 222.5219 - mae: 10.9315\n",
      "Epoch 81/100\n",
      "695/695 [==============================] - 1s 828us/step - loss: 222.3673 - mae: 10.9378\n",
      "Epoch 82/100\n",
      "695/695 [==============================] - 1s 848us/step - loss: 222.3162 - mae: 10.9240\n",
      "Epoch 83/100\n",
      "695/695 [==============================] - 1s 866us/step - loss: 222.1980 - mae: 10.9070\n",
      "Epoch 84/100\n",
      "695/695 [==============================] - 1s 871us/step - loss: 222.2139 - mae: 10.9308\n",
      "Epoch 85/100\n",
      "695/695 [==============================] - 1s 840us/step - loss: 222.0371 - mae: 10.9105\n",
      "Epoch 86/100\n",
      "695/695 [==============================] - 1s 756us/step - loss: 222.0097 - mae: 10.9206\n",
      "Epoch 87/100\n",
      "695/695 [==============================] - 1s 774us/step - loss: 222.0032 - mae: 10.9204\n",
      "Epoch 88/100\n",
      "695/695 [==============================] - 1s 749us/step - loss: 221.8045 - mae: 10.9103\n",
      "Epoch 89/100\n",
      "695/695 [==============================] - 1s 761us/step - loss: 221.8311 - mae: 10.9071\n",
      "Epoch 90/100\n",
      "695/695 [==============================] - 1s 828us/step - loss: 221.7930 - mae: 10.9051\n",
      "Epoch 91/100\n",
      "695/695 [==============================] - 1s 821us/step - loss: 221.7298 - mae: 10.9049\n",
      "Epoch 92/100\n",
      "695/695 [==============================] - 1s 828us/step - loss: 221.6059 - mae: 10.8992\n",
      "Epoch 93/100\n",
      "695/695 [==============================] - 1s 782us/step - loss: 221.5858 - mae: 10.8998\n",
      "Epoch 94/100\n",
      "695/695 [==============================] - 0s 713us/step - loss: 221.5846 - mae: 10.8973\n",
      "Epoch 95/100\n",
      "695/695 [==============================] - 1s 727us/step - loss: 221.4962 - mae: 10.8979\n",
      "Epoch 96/100\n",
      "695/695 [==============================] - 1s 726us/step - loss: 221.5060 - mae: 10.8930\n",
      "Epoch 97/100\n",
      "695/695 [==============================] - 0s 713us/step - loss: 221.3199 - mae: 10.8921\n",
      "Epoch 98/100\n",
      "695/695 [==============================] - 1s 722us/step - loss: 221.1913 - mae: 10.8799\n",
      "Epoch 99/100\n",
      "695/695 [==============================] - 0s 716us/step - loss: 221.1956 - mae: 10.8840\n",
      "Epoch 100/100\n",
      "695/695 [==============================] - 1s 735us/step - loss: 221.2061 - mae: 10.8981\n"
     ]
    },
    {
     "data": {
      "text/plain": [
       "<tensorflow.python.keras.callbacks.History at 0x207aa937be0>"
      ]
     },
     "execution_count": 28,
     "metadata": {},
     "output_type": "execute_result"
    }
   ],
   "source": [
    "model1 = build_model1()\n",
    "model1.fit(x_mat, y, epochs = 100)"
   ]
  },
  {
   "cell_type": "code",
   "execution_count": 29,
   "id": "142ec542",
   "metadata": {},
   "outputs": [
    {
     "name": "stdout",
     "output_type": "stream",
     "text": [
      "Training time: 0:01:10.516190s\n"
     ]
    }
   ],
   "source": [
    "t = n()\n",
    "num_episodes = 10\n",
    "n_life_memory1 = []\n",
    "n_env = gym.make('CartPole-v0')\n",
    "for i in range(num_episodes):\n",
    "    n_old_observation = n_env.reset()\n",
    "    n_done = False\n",
    "    n_tot_reward = 0\n",
    "    n_em_memory1 = []\n",
    "    while not n_done:\n",
    "        pred_in = [list(n_old_observation) + [i] for i in range(2)]\n",
    "        n_new_action = np.argmax([model1.predict(pred_in)])\n",
    "        n_observation, n_reward, n_done, n_info = n_env.step(n_new_action)\n",
    "        n_tot_reward += n_reward\n",
    "        n_em_memory1.append({\n",
    "            \"obs0\": n_old_observation[0],\n",
    "            \"obs1\": n_old_observation[1],\n",
    "            \"obs2\": n_old_observation[2],\n",
    "            \"obs3\": n_old_observation[3],\n",
    "            \"action\": n_new_action,\n",
    "            \"reward\": n_reward,\n",
    "            \"episode\": i,\n",
    "        })\n",
    "        \n",
    "        n_old_observation = n_observation\n",
    "\n",
    "    for n_em in n_em_memory1:\n",
    "        n_em[\"tot_reward\"] = n_tot_reward\n",
    "    n_life_memory1.extend(n_em_memory1)\n",
    "n_memory_df1 = pandas.DataFrame(n_life_memory1)\n",
    "print(f\"Training time: {n() - t}s\")"
   ]
  },
  {
   "cell_type": "code",
   "execution_count": 30,
   "id": "c5b5843d",
   "metadata": {},
   "outputs": [
    {
     "data": {
      "text/plain": [
       "172.8"
      ]
     },
     "execution_count": 30,
     "metadata": {},
     "output_type": "execute_result"
    }
   ],
   "source": [
    "n_memory_df1.groupby('episode').reward.sum().mean()"
   ]
  },
  {
   "cell_type": "code",
   "execution_count": 31,
   "id": "712458da",
   "metadata": {},
   "outputs": [
    {
     "data": {
      "text/plain": [
       "True     5\n",
       "False    5\n",
       "Name: reward, dtype: int64"
      ]
     },
     "execution_count": 31,
     "metadata": {},
     "output_type": "execute_result"
    }
   ],
   "source": [
    "(n_memory_df1.groupby('episode').reward.sum() >= 200).value_counts()"
   ]
  },
  {
   "cell_type": "code",
   "execution_count": 32,
   "id": "c9f4f3cc",
   "metadata": {},
   "outputs": [],
   "source": [
    "import tensorflow as tf\n",
    "from tensorflow.keras import models, layers\n",
    "\n",
    "# optimizer = tf.keras.optimizers.RMSprop(0.001)\n",
    "\n",
    "def build_model2():\n",
    "    model = models.Sequential()\n",
    "    model.add(layers.Dense(64, activation = 'relu', input_shape=(x_mat.shape[1], )))\n",
    "    model.add(layers.Dense(64, activation='relu'))\n",
    "    model.add(layers.Dense(1))\n",
    "    model.compile(optimizer='rmsprop', loss='mse', metrics=['mae'])\n",
    "    return model"
   ]
  },
  {
   "cell_type": "code",
   "execution_count": 36,
   "id": "54c9a81d",
   "metadata": {},
   "outputs": [
    {
     "name": "stdout",
     "output_type": "stream",
     "text": [
      "Epoch 1/100\n",
      "695/695 [==============================] - 1s 866us/step - loss: 538.6140 - mae: 17.3431\n",
      "Epoch 2/100\n",
      "695/695 [==============================] - 1s 880us/step - loss: 339.2955 - mae: 14.0555\n",
      "Epoch 3/100\n",
      "695/695 [==============================] - 1s 1ms/step - loss: 285.3219 - mae: 12.8211\n",
      "Epoch 4/100\n",
      "695/695 [==============================] - 1s 956us/step - loss: 245.3028 - mae: 11.6896\n",
      "Epoch 5/100\n",
      "695/695 [==============================] - 1s 1ms/step - loss: 235.2709 - mae: 11.3326\n",
      "Epoch 6/100\n",
      "695/695 [==============================] - 1s 944us/step - loss: 232.1004 - mae: 11.2158\n",
      "Epoch 7/100\n",
      "695/695 [==============================] - 1s 1ms/step - loss: 229.9737 - mae: 11.1543\n",
      "Epoch 8/100\n",
      "695/695 [==============================] - 1s 1ms/step - loss: 227.5175 - mae: 11.0755\n",
      "Epoch 9/100\n",
      "695/695 [==============================] - 1s 1ms/step - loss: 225.3427 - mae: 11.0221\n",
      "Epoch 10/100\n",
      "695/695 [==============================] - 1s 1ms/step - loss: 223.7870 - mae: 10.9743\n",
      "Epoch 11/100\n",
      "695/695 [==============================] - 1s 1ms/step - loss: 221.5027 - mae: 10.8863\n",
      "Epoch 12/100\n",
      "695/695 [==============================] - 1s 1ms/step - loss: 220.2977 - mae: 10.8519\n",
      "Epoch 13/100\n",
      "695/695 [==============================] - 1s 956us/step - loss: 219.2718 - mae: 10.8057\n",
      "Epoch 14/100\n",
      "695/695 [==============================] - 1s 975us/step - loss: 217.8042 - mae: 10.7570\n",
      "Epoch 15/100\n",
      "695/695 [==============================] - 1s 1ms/step - loss: 216.5301 - mae: 10.7329\n",
      "Epoch 16/100\n",
      "695/695 [==============================] - 1s 930us/step - loss: 215.8276 - mae: 10.6896\n",
      "Epoch 17/100\n",
      "695/695 [==============================] - 1s 934us/step - loss: 214.3962 - mae: 10.6587\n",
      "Epoch 18/100\n",
      "695/695 [==============================] - 1s 923us/step - loss: 213.6031 - mae: 10.6334\n",
      "Epoch 19/100\n",
      "695/695 [==============================] - 1s 924us/step - loss: 212.8862 - mae: 10.5982\n",
      "Epoch 20/100\n",
      "695/695 [==============================] - 1s 914us/step - loss: 212.4036 - mae: 10.5909\n",
      "Epoch 21/100\n",
      "695/695 [==============================] - 1s 937us/step - loss: 211.2013 - mae: 10.5604\n",
      "Epoch 22/100\n",
      "695/695 [==============================] - 1s 927us/step - loss: 210.9514 - mae: 10.5276\n",
      "Epoch 23/100\n",
      "695/695 [==============================] - 1s 1ms/step - loss: 210.2921 - mae: 10.5238\n",
      "Epoch 24/100\n",
      "695/695 [==============================] - 1s 953us/step - loss: 210.0157 - mae: 10.5200\n",
      "Epoch 25/100\n",
      "695/695 [==============================] - 1s 950us/step - loss: 209.2152 - mae: 10.4858\n",
      "Epoch 26/100\n",
      "695/695 [==============================] - 1s 878us/step - loss: 208.9347 - mae: 10.4884\n",
      "Epoch 27/100\n",
      "695/695 [==============================] - 1s 904us/step - loss: 208.4481 - mae: 10.4683\n",
      "Epoch 28/100\n",
      "695/695 [==============================] - 1s 936us/step - loss: 208.0190 - mae: 10.4443\n",
      "Epoch 29/100\n",
      "695/695 [==============================] - 1s 956us/step - loss: 208.0202 - mae: 10.4522\n",
      "Epoch 30/100\n",
      "695/695 [==============================] - 1s 942us/step - loss: 207.7359 - mae: 10.4349\n",
      "Epoch 31/100\n",
      "695/695 [==============================] - 1s 1ms/step - loss: 207.2503 - mae: 10.4283\n",
      "Epoch 32/100\n",
      "695/695 [==============================] - 1s 964us/step - loss: 207.0806 - mae: 10.4188\n",
      "Epoch 33/100\n",
      "695/695 [==============================] - 1s 999us/step - loss: 206.7760 - mae: 10.4136\n",
      "Epoch 34/100\n",
      "695/695 [==============================] - 1s 989us/step - loss: 206.1387 - mae: 10.3999\n",
      "Epoch 35/100\n",
      "695/695 [==============================] - 1s 917us/step - loss: 206.2286 - mae: 10.3797\n",
      "Epoch 36/100\n",
      "695/695 [==============================] - 1s 991us/step - loss: 205.9613 - mae: 10.3771\n",
      "Epoch 37/100\n",
      "695/695 [==============================] - 1s 888us/step - loss: 206.0573 - mae: 10.3807\n",
      "Epoch 38/100\n",
      "695/695 [==============================] - 1s 924us/step - loss: 205.5897 - mae: 10.3728\n",
      "Epoch 39/100\n",
      "695/695 [==============================] - 1s 939us/step - loss: 205.3379 - mae: 10.3632\n",
      "Epoch 40/100\n",
      "695/695 [==============================] - 1s 967us/step - loss: 205.3704 - mae: 10.3760\n",
      "Epoch 41/100\n",
      "695/695 [==============================] - 1s 928us/step - loss: 205.0273 - mae: 10.3555\n",
      "Epoch 42/100\n",
      "695/695 [==============================] - 1s 1ms/step - loss: 204.6008 - mae: 10.3377\n",
      "Epoch 43/100\n",
      "695/695 [==============================] - 1s 928us/step - loss: 204.5699 - mae: 10.3441\n",
      "Epoch 44/100\n",
      "695/695 [==============================] - 1s 977us/step - loss: 204.7416 - mae: 10.3446\n",
      "Epoch 45/100\n",
      "695/695 [==============================] - 1s 982us/step - loss: 204.4398 - mae: 10.3254\n",
      "Epoch 46/100\n",
      "695/695 [==============================] - 1s 1ms/step - loss: 204.3130 - mae: 10.3334\n",
      "Epoch 47/100\n",
      "695/695 [==============================] - 1s 1ms/step - loss: 203.9867 - mae: 10.3252: 0s - loss: 205\n",
      "Epoch 48/100\n",
      "695/695 [==============================] - 1s 1ms/step - loss: 204.0458 - mae: 10.3284\n",
      "Epoch 49/100\n",
      "695/695 [==============================] - 1s 1ms/step - loss: 203.8847 - mae: 10.3152\n",
      "Epoch 50/100\n",
      "695/695 [==============================] - 1s 1ms/step - loss: 203.6344 - mae: 10.3198\n",
      "Epoch 51/100\n",
      "695/695 [==============================] - 1s 1ms/step - loss: 203.3623 - mae: 10.3030\n",
      "Epoch 52/100\n",
      "695/695 [==============================] - 1s 1ms/step - loss: 203.4154 - mae: 10.3122\n",
      "Epoch 53/100\n",
      "695/695 [==============================] - 1s 1ms/step - loss: 203.2682 - mae: 10.3059\n",
      "Epoch 54/100\n",
      "695/695 [==============================] - 1s 1ms/step - loss: 203.3477 - mae: 10.2887\n",
      "Epoch 55/100\n",
      "695/695 [==============================] - 1s 937us/step - loss: 203.2125 - mae: 10.3028\n",
      "Epoch 56/100\n",
      "695/695 [==============================] - 1s 919us/step - loss: 202.6844 - mae: 10.2899\n",
      "Epoch 57/100\n",
      "695/695 [==============================] - 1s 1ms/step - loss: 202.8437 - mae: 10.2782\n",
      "Epoch 58/100\n",
      "695/695 [==============================] - 1s 1ms/step - loss: 202.8618 - mae: 10.2885\n",
      "Epoch 59/100\n",
      "695/695 [==============================] - 1s 1ms/step - loss: 202.6967 - mae: 10.2925\n",
      "Epoch 60/100\n",
      "695/695 [==============================] - 1s 1ms/step - loss: 202.4290 - mae: 10.2766\n",
      "Epoch 61/100\n",
      "695/695 [==============================] - 1s 936us/step - loss: 202.5373 - mae: 10.2752\n",
      "Epoch 62/100\n",
      "695/695 [==============================] - 1s 1ms/step - loss: 202.2696 - mae: 10.2694\n",
      "Epoch 63/100\n",
      "695/695 [==============================] - 1s 921us/step - loss: 202.0042 - mae: 10.2616\n",
      "Epoch 64/100\n",
      "695/695 [==============================] - 1s 961us/step - loss: 202.1160 - mae: 10.2609\n",
      "Epoch 65/100\n",
      "695/695 [==============================] - 1s 952us/step - loss: 201.8482 - mae: 10.2571\n",
      "Epoch 66/100\n",
      "695/695 [==============================] - 1s 991us/step - loss: 201.6467 - mae: 10.2509\n",
      "Epoch 67/100\n",
      "695/695 [==============================] - 1s 934us/step - loss: 201.7013 - mae: 10.2633\n",
      "Epoch 68/100\n",
      "695/695 [==============================] - 1s 930us/step - loss: 201.7827 - mae: 10.2464\n",
      "Epoch 69/100\n",
      "695/695 [==============================] - 1s 954us/step - loss: 201.3441 - mae: 10.2370\n",
      "Epoch 70/100\n",
      "695/695 [==============================] - 1s 960us/step - loss: 201.6907 - mae: 10.2597\n",
      "Epoch 71/100\n",
      "695/695 [==============================] - 1s 1ms/step - loss: 201.2539 - mae: 10.2369\n",
      "Epoch 72/100\n",
      "695/695 [==============================] - 1s 999us/step - loss: 201.4543 - mae: 10.2427\n",
      "Epoch 73/100\n",
      "695/695 [==============================] - 1s 1ms/step - loss: 201.0778 - mae: 10.2344\n",
      "Epoch 74/100\n",
      "695/695 [==============================] - 1s 1ms/step - loss: 201.0754 - mae: 10.2295\n",
      "Epoch 75/100\n",
      "695/695 [==============================] - 1s 988us/step - loss: 200.9111 - mae: 10.2172\n",
      "Epoch 76/100\n",
      "695/695 [==============================] - 1s 1ms/step - loss: 200.8226 - mae: 10.2325\n",
      "Epoch 77/100\n",
      "695/695 [==============================] - 1s 945us/step - loss: 200.6891 - mae: 10.2163\n",
      "Epoch 78/100\n",
      "695/695 [==============================] - 1s 1ms/step - loss: 200.6996 - mae: 10.2227\n",
      "Epoch 79/100\n",
      "695/695 [==============================] - 1s 1ms/step - loss: 200.2360 - mae: 10.2014\n",
      "Epoch 80/100\n",
      "695/695 [==============================] - 1s 936us/step - loss: 200.3938 - mae: 10.1989\n",
      "Epoch 81/100\n"
     ]
    },
    {
     "name": "stdout",
     "output_type": "stream",
     "text": [
      "695/695 [==============================] - 1s 950us/step - loss: 200.4897 - mae: 10.2094\n",
      "Epoch 82/100\n",
      "695/695 [==============================] - 1s 935us/step - loss: 200.0910 - mae: 10.2111\n",
      "Epoch 83/100\n",
      "695/695 [==============================] - 1s 914us/step - loss: 200.0364 - mae: 10.1815\n",
      "Epoch 84/100\n",
      "695/695 [==============================] - 1s 926us/step - loss: 199.8094 - mae: 10.1817\n",
      "Epoch 85/100\n",
      "695/695 [==============================] - 1s 906us/step - loss: 199.7741 - mae: 10.1866\n",
      "Epoch 86/100\n",
      "695/695 [==============================] - 1s 928us/step - loss: 199.4401 - mae: 10.1737\n",
      "Epoch 87/100\n",
      "695/695 [==============================] - 1s 926us/step - loss: 199.7622 - mae: 10.1865\n",
      "Epoch 88/100\n",
      "695/695 [==============================] - 1s 919us/step - loss: 199.5882 - mae: 10.1784\n",
      "Epoch 89/100\n",
      "695/695 [==============================] - 1s 936us/step - loss: 199.4207 - mae: 10.1846\n",
      "Epoch 90/100\n",
      "695/695 [==============================] - 1s 1ms/step - loss: 199.6069 - mae: 10.1725\n",
      "Epoch 91/100\n",
      "695/695 [==============================] - 1s 1ms/step - loss: 199.3001 - mae: 10.1731\n",
      "Epoch 92/100\n",
      "695/695 [==============================] - 1s 954us/step - loss: 199.1953 - mae: 10.1807\n",
      "Epoch 93/100\n",
      "695/695 [==============================] - 1s 847us/step - loss: 199.1947 - mae: 10.1638\n",
      "Epoch 94/100\n",
      "695/695 [==============================] - 1s 923us/step - loss: 199.2218 - mae: 10.1662\n",
      "Epoch 95/100\n",
      "695/695 [==============================] - 1s 915us/step - loss: 199.0553 - mae: 10.1639\n",
      "Epoch 96/100\n",
      "695/695 [==============================] - 1s 883us/step - loss: 199.0574 - mae: 10.1682\n",
      "Epoch 97/100\n",
      "695/695 [==============================] - 1s 857us/step - loss: 198.9428 - mae: 10.1589\n",
      "Epoch 98/100\n",
      "695/695 [==============================] - 1s 883us/step - loss: 198.9416 - mae: 10.1552\n",
      "Epoch 99/100\n",
      "695/695 [==============================] - 1s 865us/step - loss: 198.7719 - mae: 10.1536\n",
      "Epoch 100/100\n",
      "695/695 [==============================] - 1s 841us/step - loss: 198.9859 - mae: 10.1775\n"
     ]
    },
    {
     "data": {
      "text/plain": [
       "<tensorflow.python.keras.callbacks.History at 0x207aa95f700>"
      ]
     },
     "execution_count": 36,
     "metadata": {},
     "output_type": "execute_result"
    }
   ],
   "source": [
    "model2 = build_model2()\n",
    "model2.fit(x_mat, y, epochs = 100)"
   ]
  },
  {
   "cell_type": "code",
   "execution_count": 50,
   "id": "515efe1a",
   "metadata": {},
   "outputs": [
    {
     "ename": "KeyboardInterrupt",
     "evalue": "",
     "output_type": "error",
     "traceback": [
      "\u001b[1;31m---------------------------------------------------------------------------\u001b[0m",
      "\u001b[1;31mKeyboardInterrupt\u001b[0m                         Traceback (most recent call last)",
      "\u001b[1;32m~\\AppData\\Local\\Temp/ipykernel_29512/866596553.py\u001b[0m in \u001b[0;36m<module>\u001b[1;34m\u001b[0m\n\u001b[0;32m     10\u001b[0m     \u001b[1;32mwhile\u001b[0m \u001b[1;32mnot\u001b[0m \u001b[0mn_done\u001b[0m\u001b[1;33m:\u001b[0m\u001b[1;33m\u001b[0m\u001b[1;33m\u001b[0m\u001b[0m\n\u001b[0;32m     11\u001b[0m         \u001b[0mpred_in\u001b[0m \u001b[1;33m=\u001b[0m \u001b[1;33m[\u001b[0m\u001b[0mlist\u001b[0m\u001b[1;33m(\u001b[0m\u001b[0mn_old_observation\u001b[0m\u001b[1;33m)\u001b[0m \u001b[1;33m+\u001b[0m \u001b[1;33m[\u001b[0m\u001b[0mi\u001b[0m\u001b[1;33m]\u001b[0m \u001b[1;32mfor\u001b[0m \u001b[0mi\u001b[0m \u001b[1;32min\u001b[0m \u001b[0mrange\u001b[0m\u001b[1;33m(\u001b[0m\u001b[1;36m2\u001b[0m\u001b[1;33m)\u001b[0m\u001b[1;33m]\u001b[0m\u001b[1;33m\u001b[0m\u001b[1;33m\u001b[0m\u001b[0m\n\u001b[1;32m---> 12\u001b[1;33m         \u001b[0mn_new_action\u001b[0m \u001b[1;33m=\u001b[0m \u001b[0mnp\u001b[0m\u001b[1;33m.\u001b[0m\u001b[0margmax\u001b[0m\u001b[1;33m(\u001b[0m\u001b[1;33m[\u001b[0m\u001b[0mmodel2\u001b[0m\u001b[1;33m.\u001b[0m\u001b[0mpredict\u001b[0m\u001b[1;33m(\u001b[0m\u001b[0mpred_in\u001b[0m\u001b[1;33m)\u001b[0m\u001b[1;33m]\u001b[0m\u001b[1;33m)\u001b[0m\u001b[1;33m\u001b[0m\u001b[1;33m\u001b[0m\u001b[0m\n\u001b[0m\u001b[0;32m     13\u001b[0m         \u001b[0mn_observation\u001b[0m\u001b[1;33m,\u001b[0m \u001b[0mn_reward\u001b[0m\u001b[1;33m,\u001b[0m \u001b[0mn_done\u001b[0m\u001b[1;33m,\u001b[0m \u001b[0mn_info\u001b[0m \u001b[1;33m=\u001b[0m \u001b[0mn_env\u001b[0m\u001b[1;33m.\u001b[0m\u001b[0mstep\u001b[0m\u001b[1;33m(\u001b[0m\u001b[0mn_new_action\u001b[0m\u001b[1;33m)\u001b[0m\u001b[1;33m\u001b[0m\u001b[1;33m\u001b[0m\u001b[0m\n\u001b[0;32m     14\u001b[0m         \u001b[0mn_tot_reward\u001b[0m \u001b[1;33m+=\u001b[0m \u001b[0mn_reward\u001b[0m\u001b[1;33m\u001b[0m\u001b[1;33m\u001b[0m\u001b[0m\n",
      "\u001b[1;32mc:\\users\\moon\\appdata\\local\\programs\\python\\python39\\lib\\site-packages\\tensorflow\\python\\keras\\engine\\training.py\u001b[0m in \u001b[0;36mpredict\u001b[1;34m(self, x, batch_size, verbose, steps, callbacks, max_queue_size, workers, use_multiprocessing)\u001b[0m\n\u001b[0;32m   1694\u001b[0m                         '. Consider setting it to AutoShardPolicy.DATA.')\n\u001b[0;32m   1695\u001b[0m \u001b[1;33m\u001b[0m\u001b[0m\n\u001b[1;32m-> 1696\u001b[1;33m       data_handler = data_adapter.get_data_handler(\n\u001b[0m\u001b[0;32m   1697\u001b[0m           \u001b[0mx\u001b[0m\u001b[1;33m=\u001b[0m\u001b[0mx\u001b[0m\u001b[1;33m,\u001b[0m\u001b[1;33m\u001b[0m\u001b[1;33m\u001b[0m\u001b[0m\n\u001b[0;32m   1698\u001b[0m           \u001b[0mbatch_size\u001b[0m\u001b[1;33m=\u001b[0m\u001b[0mbatch_size\u001b[0m\u001b[1;33m,\u001b[0m\u001b[1;33m\u001b[0m\u001b[1;33m\u001b[0m\u001b[0m\n",
      "\u001b[1;32mc:\\users\\moon\\appdata\\local\\programs\\python\\python39\\lib\\site-packages\\tensorflow\\python\\keras\\engine\\data_adapter.py\u001b[0m in \u001b[0;36mget_data_handler\u001b[1;34m(*args, **kwargs)\u001b[0m\n\u001b[0;32m   1362\u001b[0m   \u001b[1;32mif\u001b[0m \u001b[0mgetattr\u001b[0m\u001b[1;33m(\u001b[0m\u001b[0mkwargs\u001b[0m\u001b[1;33m[\u001b[0m\u001b[1;34m\"model\"\u001b[0m\u001b[1;33m]\u001b[0m\u001b[1;33m,\u001b[0m \u001b[1;34m\"_cluster_coordinator\"\u001b[0m\u001b[1;33m,\u001b[0m \u001b[1;32mNone\u001b[0m\u001b[1;33m)\u001b[0m\u001b[1;33m:\u001b[0m\u001b[1;33m\u001b[0m\u001b[1;33m\u001b[0m\u001b[0m\n\u001b[0;32m   1363\u001b[0m     \u001b[1;32mreturn\u001b[0m \u001b[0m_ClusterCoordinatorDataHandler\u001b[0m\u001b[1;33m(\u001b[0m\u001b[1;33m*\u001b[0m\u001b[0margs\u001b[0m\u001b[1;33m,\u001b[0m \u001b[1;33m**\u001b[0m\u001b[0mkwargs\u001b[0m\u001b[1;33m)\u001b[0m\u001b[1;33m\u001b[0m\u001b[1;33m\u001b[0m\u001b[0m\n\u001b[1;32m-> 1364\u001b[1;33m   \u001b[1;32mreturn\u001b[0m \u001b[0mDataHandler\u001b[0m\u001b[1;33m(\u001b[0m\u001b[1;33m*\u001b[0m\u001b[0margs\u001b[0m\u001b[1;33m,\u001b[0m \u001b[1;33m**\u001b[0m\u001b[0mkwargs\u001b[0m\u001b[1;33m)\u001b[0m\u001b[1;33m\u001b[0m\u001b[1;33m\u001b[0m\u001b[0m\n\u001b[0m\u001b[0;32m   1365\u001b[0m \u001b[1;33m\u001b[0m\u001b[0m\n\u001b[0;32m   1366\u001b[0m \u001b[1;33m\u001b[0m\u001b[0m\n",
      "\u001b[1;32mc:\\users\\moon\\appdata\\local\\programs\\python\\python39\\lib\\site-packages\\tensorflow\\python\\keras\\engine\\data_adapter.py\u001b[0m in \u001b[0;36m__init__\u001b[1;34m(self, x, y, sample_weight, batch_size, steps_per_epoch, initial_epoch, epochs, shuffle, class_weight, max_queue_size, workers, use_multiprocessing, model, steps_per_execution, distribute)\u001b[0m\n\u001b[0;32m   1152\u001b[0m     \u001b[0madapter_cls\u001b[0m \u001b[1;33m=\u001b[0m \u001b[0mselect_data_adapter\u001b[0m\u001b[1;33m(\u001b[0m\u001b[0mx\u001b[0m\u001b[1;33m,\u001b[0m \u001b[0my\u001b[0m\u001b[1;33m)\u001b[0m\u001b[1;33m\u001b[0m\u001b[1;33m\u001b[0m\u001b[0m\n\u001b[0;32m   1153\u001b[0m     \u001b[0mself\u001b[0m\u001b[1;33m.\u001b[0m\u001b[0m_verify_data_adapter_compatibility\u001b[0m\u001b[1;33m(\u001b[0m\u001b[0madapter_cls\u001b[0m\u001b[1;33m)\u001b[0m\u001b[1;33m\u001b[0m\u001b[1;33m\u001b[0m\u001b[0m\n\u001b[1;32m-> 1154\u001b[1;33m     self._adapter = adapter_cls(\n\u001b[0m\u001b[0;32m   1155\u001b[0m         \u001b[0mx\u001b[0m\u001b[1;33m,\u001b[0m\u001b[1;33m\u001b[0m\u001b[1;33m\u001b[0m\u001b[0m\n\u001b[0;32m   1156\u001b[0m         \u001b[0my\u001b[0m\u001b[1;33m,\u001b[0m\u001b[1;33m\u001b[0m\u001b[1;33m\u001b[0m\u001b[0m\n",
      "\u001b[1;32mc:\\users\\moon\\appdata\\local\\programs\\python\\python39\\lib\\site-packages\\tensorflow\\python\\keras\\engine\\data_adapter.py\u001b[0m in \u001b[0;36m__init__\u001b[1;34m(self, x, y, sample_weights, sample_weight_modes, batch_size, shuffle, **kwargs)\u001b[0m\n\u001b[0;32m    671\u001b[0m         sample_weights, sample_weight_modes)\n\u001b[0;32m    672\u001b[0m \u001b[1;33m\u001b[0m\u001b[0m\n\u001b[1;32m--> 673\u001b[1;33m     self._internal_adapter = TensorLikeDataAdapter(\n\u001b[0m\u001b[0;32m    674\u001b[0m         \u001b[0mx\u001b[0m\u001b[1;33m,\u001b[0m\u001b[1;33m\u001b[0m\u001b[1;33m\u001b[0m\u001b[0m\n\u001b[0;32m    675\u001b[0m         \u001b[0my\u001b[0m\u001b[1;33m=\u001b[0m\u001b[0my\u001b[0m\u001b[1;33m,\u001b[0m\u001b[1;33m\u001b[0m\u001b[1;33m\u001b[0m\u001b[0m\n",
      "\u001b[1;32mc:\\users\\moon\\appdata\\local\\programs\\python\\python39\\lib\\site-packages\\tensorflow\\python\\keras\\engine\\data_adapter.py\u001b[0m in \u001b[0;36m__init__\u001b[1;34m(self, x, y, sample_weights, sample_weight_modes, batch_size, epochs, steps, shuffle, **kwargs)\u001b[0m\n\u001b[0;32m    337\u001b[0m     \u001b[0mindices_dataset\u001b[0m \u001b[1;33m=\u001b[0m \u001b[0mindices_dataset\u001b[0m\u001b[1;33m.\u001b[0m\u001b[0mflat_map\u001b[0m\u001b[1;33m(\u001b[0m\u001b[0mslice_batch_indices\u001b[0m\u001b[1;33m)\u001b[0m\u001b[1;33m\u001b[0m\u001b[1;33m\u001b[0m\u001b[0m\n\u001b[0;32m    338\u001b[0m \u001b[1;33m\u001b[0m\u001b[0m\n\u001b[1;32m--> 339\u001b[1;33m     \u001b[0mdataset\u001b[0m \u001b[1;33m=\u001b[0m \u001b[0mself\u001b[0m\u001b[1;33m.\u001b[0m\u001b[0mslice_inputs\u001b[0m\u001b[1;33m(\u001b[0m\u001b[0mindices_dataset\u001b[0m\u001b[1;33m,\u001b[0m \u001b[0minputs\u001b[0m\u001b[1;33m)\u001b[0m\u001b[1;33m\u001b[0m\u001b[1;33m\u001b[0m\u001b[0m\n\u001b[0m\u001b[0;32m    340\u001b[0m \u001b[1;33m\u001b[0m\u001b[0m\n\u001b[0;32m    341\u001b[0m     \u001b[1;32mif\u001b[0m \u001b[0mshuffle\u001b[0m \u001b[1;33m==\u001b[0m \u001b[1;34m\"batch\"\u001b[0m\u001b[1;33m:\u001b[0m\u001b[1;33m\u001b[0m\u001b[1;33m\u001b[0m\u001b[0m\n",
      "\u001b[1;32mc:\\users\\moon\\appdata\\local\\programs\\python\\python39\\lib\\site-packages\\tensorflow\\python\\keras\\engine\\data_adapter.py\u001b[0m in \u001b[0;36mslice_inputs\u001b[1;34m(self, indices_dataset, inputs)\u001b[0m\n\u001b[0;32m    369\u001b[0m       \u001b[1;32mreturn\u001b[0m \u001b[0mnest\u001b[0m\u001b[1;33m.\u001b[0m\u001b[0mmap_structure\u001b[0m\u001b[1;33m(\u001b[0m\u001b[1;32mlambda\u001b[0m \u001b[0md\u001b[0m\u001b[1;33m:\u001b[0m \u001b[0marray_ops\u001b[0m\u001b[1;33m.\u001b[0m\u001b[0mgather\u001b[0m\u001b[1;33m(\u001b[0m\u001b[0md\u001b[0m\u001b[1;33m,\u001b[0m \u001b[0mi\u001b[0m\u001b[1;33m,\u001b[0m \u001b[0maxis\u001b[0m\u001b[1;33m=\u001b[0m\u001b[1;36m0\u001b[0m\u001b[1;33m)\u001b[0m\u001b[1;33m,\u001b[0m \u001b[0mdata\u001b[0m\u001b[1;33m)\u001b[0m\u001b[1;33m\u001b[0m\u001b[1;33m\u001b[0m\u001b[0m\n\u001b[0;32m    370\u001b[0m \u001b[1;33m\u001b[0m\u001b[0m\n\u001b[1;32m--> 371\u001b[1;33m     dataset = dataset.map(\n\u001b[0m\u001b[0;32m    372\u001b[0m         grab_batch, num_parallel_calls=dataset_ops.AUTOTUNE)\n\u001b[0;32m    373\u001b[0m \u001b[1;33m\u001b[0m\u001b[0m\n",
      "\u001b[1;32mc:\\users\\moon\\appdata\\local\\programs\\python\\python39\\lib\\site-packages\\tensorflow\\python\\data\\ops\\dataset_ops.py\u001b[0m in \u001b[0;36mmap\u001b[1;34m(self, map_func, num_parallel_calls, deterministic)\u001b[0m\n\u001b[0;32m   1925\u001b[0m       \u001b[1;32mreturn\u001b[0m \u001b[0mMapDataset\u001b[0m\u001b[1;33m(\u001b[0m\u001b[0mself\u001b[0m\u001b[1;33m,\u001b[0m \u001b[0mmap_func\u001b[0m\u001b[1;33m,\u001b[0m \u001b[0mpreserve_cardinality\u001b[0m\u001b[1;33m=\u001b[0m\u001b[1;32mTrue\u001b[0m\u001b[1;33m)\u001b[0m\u001b[1;33m\u001b[0m\u001b[1;33m\u001b[0m\u001b[0m\n\u001b[0;32m   1926\u001b[0m     \u001b[1;32melse\u001b[0m\u001b[1;33m:\u001b[0m\u001b[1;33m\u001b[0m\u001b[1;33m\u001b[0m\u001b[0m\n\u001b[1;32m-> 1927\u001b[1;33m       return ParallelMapDataset(\n\u001b[0m\u001b[0;32m   1928\u001b[0m           \u001b[0mself\u001b[0m\u001b[1;33m,\u001b[0m\u001b[1;33m\u001b[0m\u001b[1;33m\u001b[0m\u001b[0m\n\u001b[0;32m   1929\u001b[0m           \u001b[0mmap_func\u001b[0m\u001b[1;33m,\u001b[0m\u001b[1;33m\u001b[0m\u001b[1;33m\u001b[0m\u001b[0m\n",
      "\u001b[1;32mc:\\users\\moon\\appdata\\local\\programs\\python\\python39\\lib\\site-packages\\tensorflow\\python\\data\\ops\\dataset_ops.py\u001b[0m in \u001b[0;36m__init__\u001b[1;34m(self, input_dataset, map_func, num_parallel_calls, deterministic, use_inter_op_parallelism, preserve_cardinality, use_legacy_function)\u001b[0m\n\u001b[0;32m   4520\u001b[0m     \u001b[0mself\u001b[0m\u001b[1;33m.\u001b[0m\u001b[0m_input_dataset\u001b[0m \u001b[1;33m=\u001b[0m \u001b[0minput_dataset\u001b[0m\u001b[1;33m\u001b[0m\u001b[1;33m\u001b[0m\u001b[0m\n\u001b[0;32m   4521\u001b[0m     \u001b[0mself\u001b[0m\u001b[1;33m.\u001b[0m\u001b[0m_use_inter_op_parallelism\u001b[0m \u001b[1;33m=\u001b[0m \u001b[0muse_inter_op_parallelism\u001b[0m\u001b[1;33m\u001b[0m\u001b[1;33m\u001b[0m\u001b[0m\n\u001b[1;32m-> 4522\u001b[1;33m     self._map_func = StructuredFunctionWrapper(\n\u001b[0m\u001b[0;32m   4523\u001b[0m         \u001b[0mmap_func\u001b[0m\u001b[1;33m,\u001b[0m\u001b[1;33m\u001b[0m\u001b[1;33m\u001b[0m\u001b[0m\n\u001b[0;32m   4524\u001b[0m         \u001b[0mself\u001b[0m\u001b[1;33m.\u001b[0m\u001b[0m_transformation_name\u001b[0m\u001b[1;33m(\u001b[0m\u001b[1;33m)\u001b[0m\u001b[1;33m,\u001b[0m\u001b[1;33m\u001b[0m\u001b[1;33m\u001b[0m\u001b[0m\n",
      "\u001b[1;32mc:\\users\\moon\\appdata\\local\\programs\\python\\python39\\lib\\site-packages\\tensorflow\\python\\data\\ops\\dataset_ops.py\u001b[0m in \u001b[0;36m__init__\u001b[1;34m(self, func, transformation_name, dataset, input_classes, input_shapes, input_types, input_structure, add_to_graph, use_legacy_function, defun_kwargs)\u001b[0m\n\u001b[0;32m   3710\u001b[0m     \u001b[0mresource_tracker\u001b[0m \u001b[1;33m=\u001b[0m \u001b[0mtracking\u001b[0m\u001b[1;33m.\u001b[0m\u001b[0mResourceTracker\u001b[0m\u001b[1;33m(\u001b[0m\u001b[1;33m)\u001b[0m\u001b[1;33m\u001b[0m\u001b[1;33m\u001b[0m\u001b[0m\n\u001b[0;32m   3711\u001b[0m     \u001b[1;32mwith\u001b[0m \u001b[0mtracking\u001b[0m\u001b[1;33m.\u001b[0m\u001b[0mresource_tracker_scope\u001b[0m\u001b[1;33m(\u001b[0m\u001b[0mresource_tracker\u001b[0m\u001b[1;33m)\u001b[0m\u001b[1;33m:\u001b[0m\u001b[1;33m\u001b[0m\u001b[1;33m\u001b[0m\u001b[0m\n\u001b[1;32m-> 3712\u001b[1;33m       \u001b[0mself\u001b[0m\u001b[1;33m.\u001b[0m\u001b[0m_function\u001b[0m \u001b[1;33m=\u001b[0m \u001b[0mfn_factory\u001b[0m\u001b[1;33m(\u001b[0m\u001b[1;33m)\u001b[0m\u001b[1;33m\u001b[0m\u001b[1;33m\u001b[0m\u001b[0m\n\u001b[0m\u001b[0;32m   3713\u001b[0m       \u001b[1;31m# There is no graph to add in eager mode.\u001b[0m\u001b[1;33m\u001b[0m\u001b[1;33m\u001b[0m\u001b[1;33m\u001b[0m\u001b[0m\n\u001b[0;32m   3714\u001b[0m       \u001b[0madd_to_graph\u001b[0m \u001b[1;33m&=\u001b[0m \u001b[1;32mnot\u001b[0m \u001b[0mcontext\u001b[0m\u001b[1;33m.\u001b[0m\u001b[0mexecuting_eagerly\u001b[0m\u001b[1;33m(\u001b[0m\u001b[1;33m)\u001b[0m\u001b[1;33m\u001b[0m\u001b[1;33m\u001b[0m\u001b[0m\n",
      "\u001b[1;32mc:\\users\\moon\\appdata\\local\\programs\\python\\python39\\lib\\site-packages\\tensorflow\\python\\eager\\function.py\u001b[0m in \u001b[0;36mget_concrete_function\u001b[1;34m(self, *args, **kwargs)\u001b[0m\n\u001b[0;32m   3132\u001b[0m          \u001b[1;32mor\u001b[0m\u001b[0;31m \u001b[0m\u001b[0;31m`\u001b[0m\u001b[0mtf\u001b[0m\u001b[1;33m.\u001b[0m\u001b[0mTensor\u001b[0m\u001b[0;31m`\u001b[0m \u001b[1;32mor\u001b[0m\u001b[0;31m \u001b[0m\u001b[0;31m`\u001b[0m\u001b[0mtf\u001b[0m\u001b[1;33m.\u001b[0m\u001b[0mTensorSpec\u001b[0m\u001b[0;31m`\u001b[0m\u001b[1;33m.\u001b[0m\u001b[1;33m\u001b[0m\u001b[1;33m\u001b[0m\u001b[0m\n\u001b[0;32m   3133\u001b[0m     \"\"\"\n\u001b[1;32m-> 3134\u001b[1;33m     graph_function = self._get_concrete_function_garbage_collected(\n\u001b[0m\u001b[0;32m   3135\u001b[0m         *args, **kwargs)\n\u001b[0;32m   3136\u001b[0m     \u001b[0mgraph_function\u001b[0m\u001b[1;33m.\u001b[0m\u001b[0m_garbage_collector\u001b[0m\u001b[1;33m.\u001b[0m\u001b[0mrelease\u001b[0m\u001b[1;33m(\u001b[0m\u001b[1;33m)\u001b[0m  \u001b[1;31m# pylint: disable=protected-access\u001b[0m\u001b[1;33m\u001b[0m\u001b[1;33m\u001b[0m\u001b[0m\n",
      "\u001b[1;32mc:\\users\\moon\\appdata\\local\\programs\\python\\python39\\lib\\site-packages\\tensorflow\\python\\eager\\function.py\u001b[0m in \u001b[0;36m_get_concrete_function_garbage_collected\u001b[1;34m(self, *args, **kwargs)\u001b[0m\n\u001b[0;32m   3098\u001b[0m       \u001b[0margs\u001b[0m\u001b[1;33m,\u001b[0m \u001b[0mkwargs\u001b[0m \u001b[1;33m=\u001b[0m \u001b[1;32mNone\u001b[0m\u001b[1;33m,\u001b[0m \u001b[1;32mNone\u001b[0m\u001b[1;33m\u001b[0m\u001b[1;33m\u001b[0m\u001b[0m\n\u001b[0;32m   3099\u001b[0m     \u001b[1;32mwith\u001b[0m \u001b[0mself\u001b[0m\u001b[1;33m.\u001b[0m\u001b[0m_lock\u001b[0m\u001b[1;33m:\u001b[0m\u001b[1;33m\u001b[0m\u001b[1;33m\u001b[0m\u001b[0m\n\u001b[1;32m-> 3100\u001b[1;33m       \u001b[0mgraph_function\u001b[0m\u001b[1;33m,\u001b[0m \u001b[0m_\u001b[0m \u001b[1;33m=\u001b[0m \u001b[0mself\u001b[0m\u001b[1;33m.\u001b[0m\u001b[0m_maybe_define_function\u001b[0m\u001b[1;33m(\u001b[0m\u001b[0margs\u001b[0m\u001b[1;33m,\u001b[0m \u001b[0mkwargs\u001b[0m\u001b[1;33m)\u001b[0m\u001b[1;33m\u001b[0m\u001b[1;33m\u001b[0m\u001b[0m\n\u001b[0m\u001b[0;32m   3101\u001b[0m       \u001b[0mseen_names\u001b[0m \u001b[1;33m=\u001b[0m \u001b[0mset\u001b[0m\u001b[1;33m(\u001b[0m\u001b[1;33m)\u001b[0m\u001b[1;33m\u001b[0m\u001b[1;33m\u001b[0m\u001b[0m\n\u001b[0;32m   3102\u001b[0m       captured = object_identity.ObjectIdentitySet(\n",
      "\u001b[1;32mc:\\users\\moon\\appdata\\local\\programs\\python\\python39\\lib\\site-packages\\tensorflow\\python\\eager\\function.py\u001b[0m in \u001b[0;36m_maybe_define_function\u001b[1;34m(self, args, kwargs)\u001b[0m\n\u001b[0;32m   3442\u001b[0m \u001b[1;33m\u001b[0m\u001b[0m\n\u001b[0;32m   3443\u001b[0m           \u001b[0mself\u001b[0m\u001b[1;33m.\u001b[0m\u001b[0m_function_cache\u001b[0m\u001b[1;33m.\u001b[0m\u001b[0mmissed\u001b[0m\u001b[1;33m.\u001b[0m\u001b[0madd\u001b[0m\u001b[1;33m(\u001b[0m\u001b[0mcall_context_key\u001b[0m\u001b[1;33m)\u001b[0m\u001b[1;33m\u001b[0m\u001b[1;33m\u001b[0m\u001b[0m\n\u001b[1;32m-> 3444\u001b[1;33m           \u001b[0mgraph_function\u001b[0m \u001b[1;33m=\u001b[0m \u001b[0mself\u001b[0m\u001b[1;33m.\u001b[0m\u001b[0m_create_graph_function\u001b[0m\u001b[1;33m(\u001b[0m\u001b[0margs\u001b[0m\u001b[1;33m,\u001b[0m \u001b[0mkwargs\u001b[0m\u001b[1;33m)\u001b[0m\u001b[1;33m\u001b[0m\u001b[1;33m\u001b[0m\u001b[0m\n\u001b[0m\u001b[0;32m   3445\u001b[0m           \u001b[0mself\u001b[0m\u001b[1;33m.\u001b[0m\u001b[0m_function_cache\u001b[0m\u001b[1;33m.\u001b[0m\u001b[0mprimary\u001b[0m\u001b[1;33m[\u001b[0m\u001b[0mcache_key\u001b[0m\u001b[1;33m]\u001b[0m \u001b[1;33m=\u001b[0m \u001b[0mgraph_function\u001b[0m\u001b[1;33m\u001b[0m\u001b[1;33m\u001b[0m\u001b[0m\n\u001b[0;32m   3446\u001b[0m \u001b[1;33m\u001b[0m\u001b[0m\n",
      "\u001b[1;32mc:\\users\\moon\\appdata\\local\\programs\\python\\python39\\lib\\site-packages\\tensorflow\\python\\eager\\function.py\u001b[0m in \u001b[0;36m_create_graph_function\u001b[1;34m(self, args, kwargs, override_flat_arg_shapes)\u001b[0m\n\u001b[0;32m   3277\u001b[0m     \u001b[0marg_names\u001b[0m \u001b[1;33m=\u001b[0m \u001b[0mbase_arg_names\u001b[0m \u001b[1;33m+\u001b[0m \u001b[0mmissing_arg_names\u001b[0m\u001b[1;33m\u001b[0m\u001b[1;33m\u001b[0m\u001b[0m\n\u001b[0;32m   3278\u001b[0m     graph_function = ConcreteFunction(\n\u001b[1;32m-> 3279\u001b[1;33m         func_graph_module.func_graph_from_py_func(\n\u001b[0m\u001b[0;32m   3280\u001b[0m             \u001b[0mself\u001b[0m\u001b[1;33m.\u001b[0m\u001b[0m_name\u001b[0m\u001b[1;33m,\u001b[0m\u001b[1;33m\u001b[0m\u001b[1;33m\u001b[0m\u001b[0m\n\u001b[0;32m   3281\u001b[0m             \u001b[0mself\u001b[0m\u001b[1;33m.\u001b[0m\u001b[0m_python_function\u001b[0m\u001b[1;33m,\u001b[0m\u001b[1;33m\u001b[0m\u001b[1;33m\u001b[0m\u001b[0m\n",
      "\u001b[1;32mc:\\users\\moon\\appdata\\local\\programs\\python\\python39\\lib\\site-packages\\tensorflow\\python\\framework\\func_graph.py\u001b[0m in \u001b[0;36mfunc_graph_from_py_func\u001b[1;34m(name, python_func, args, kwargs, signature, func_graph, autograph, autograph_options, add_control_dependencies, arg_names, op_return_value, collections, capture_by_value, override_flat_arg_shapes)\u001b[0m\n\u001b[0;32m   1001\u001b[0m       \u001b[1;31m# invariant: `func_outputs` contains only Tensors, CompositeTensors,\u001b[0m\u001b[1;33m\u001b[0m\u001b[1;33m\u001b[0m\u001b[1;33m\u001b[0m\u001b[0m\n\u001b[0;32m   1002\u001b[0m       \u001b[1;31m# TensorArrays and `None`s.\u001b[0m\u001b[1;33m\u001b[0m\u001b[1;33m\u001b[0m\u001b[1;33m\u001b[0m\u001b[0m\n\u001b[1;32m-> 1003\u001b[1;33m       func_outputs = nest.map_structure(convert, func_outputs,\n\u001b[0m\u001b[0;32m   1004\u001b[0m                                         expand_composites=True)\n\u001b[0;32m   1005\u001b[0m \u001b[1;33m\u001b[0m\u001b[0m\n",
      "\u001b[1;32mc:\\users\\moon\\appdata\\local\\programs\\python\\python39\\lib\\site-packages\\tensorflow\\python\\util\\nest.py\u001b[0m in \u001b[0;36mmap_structure\u001b[1;34m(func, *structure, **kwargs)\u001b[0m\n\u001b[0;32m    865\u001b[0m \u001b[1;33m\u001b[0m\u001b[0m\n\u001b[0;32m    866\u001b[0m   return pack_sequence_as(\n\u001b[1;32m--> 867\u001b[1;33m       \u001b[0mstructure\u001b[0m\u001b[1;33m[\u001b[0m\u001b[1;36m0\u001b[0m\u001b[1;33m]\u001b[0m\u001b[1;33m,\u001b[0m \u001b[1;33m[\u001b[0m\u001b[0mfunc\u001b[0m\u001b[1;33m(\u001b[0m\u001b[1;33m*\u001b[0m\u001b[0mx\u001b[0m\u001b[1;33m)\u001b[0m \u001b[1;32mfor\u001b[0m \u001b[0mx\u001b[0m \u001b[1;32min\u001b[0m \u001b[0mentries\u001b[0m\u001b[1;33m]\u001b[0m\u001b[1;33m,\u001b[0m\u001b[1;33m\u001b[0m\u001b[1;33m\u001b[0m\u001b[0m\n\u001b[0m\u001b[0;32m    868\u001b[0m       expand_composites=expand_composites)\n\u001b[0;32m    869\u001b[0m \u001b[1;33m\u001b[0m\u001b[0m\n",
      "\u001b[1;32mc:\\users\\moon\\appdata\\local\\programs\\python\\python39\\lib\\site-packages\\tensorflow\\python\\util\\nest.py\u001b[0m in \u001b[0;36m<listcomp>\u001b[1;34m(.0)\u001b[0m\n\u001b[0;32m    865\u001b[0m \u001b[1;33m\u001b[0m\u001b[0m\n\u001b[0;32m    866\u001b[0m   return pack_sequence_as(\n\u001b[1;32m--> 867\u001b[1;33m       \u001b[0mstructure\u001b[0m\u001b[1;33m[\u001b[0m\u001b[1;36m0\u001b[0m\u001b[1;33m]\u001b[0m\u001b[1;33m,\u001b[0m \u001b[1;33m[\u001b[0m\u001b[0mfunc\u001b[0m\u001b[1;33m(\u001b[0m\u001b[1;33m*\u001b[0m\u001b[0mx\u001b[0m\u001b[1;33m)\u001b[0m \u001b[1;32mfor\u001b[0m \u001b[0mx\u001b[0m \u001b[1;32min\u001b[0m \u001b[0mentries\u001b[0m\u001b[1;33m]\u001b[0m\u001b[1;33m,\u001b[0m\u001b[1;33m\u001b[0m\u001b[1;33m\u001b[0m\u001b[0m\n\u001b[0m\u001b[0;32m    868\u001b[0m       expand_composites=expand_composites)\n\u001b[0;32m    869\u001b[0m \u001b[1;33m\u001b[0m\u001b[0m\n",
      "\u001b[1;32mc:\\users\\moon\\appdata\\local\\programs\\python\\python39\\lib\\site-packages\\tensorflow\\python\\framework\\func_graph.py\u001b[0m in \u001b[0;36mconvert\u001b[1;34m(x)\u001b[0m\n\u001b[0;32m    961\u001b[0m               (str(python_func), type(x)))\n\u001b[0;32m    962\u001b[0m       \u001b[1;32mif\u001b[0m \u001b[0madd_control_dependencies\u001b[0m\u001b[1;33m:\u001b[0m\u001b[1;33m\u001b[0m\u001b[1;33m\u001b[0m\u001b[0m\n\u001b[1;32m--> 963\u001b[1;33m         \u001b[0mx\u001b[0m \u001b[1;33m=\u001b[0m \u001b[0mdeps_ctx\u001b[0m\u001b[1;33m.\u001b[0m\u001b[0mmark_as_return\u001b[0m\u001b[1;33m(\u001b[0m\u001b[0mx\u001b[0m\u001b[1;33m)\u001b[0m\u001b[1;33m\u001b[0m\u001b[1;33m\u001b[0m\u001b[0m\n\u001b[0m\u001b[0;32m    964\u001b[0m       \u001b[1;32mreturn\u001b[0m \u001b[0mx\u001b[0m\u001b[1;33m\u001b[0m\u001b[1;33m\u001b[0m\u001b[0m\n\u001b[0;32m    965\u001b[0m \u001b[1;33m\u001b[0m\u001b[0m\n",
      "\u001b[1;32mc:\\users\\moon\\appdata\\local\\programs\\python\\python39\\lib\\site-packages\\tensorflow\\python\\framework\\auto_control_deps.py\u001b[0m in \u001b[0;36mmark_as_return\u001b[1;34m(self, tensor)\u001b[0m\n\u001b[0;32m    229\u001b[0m     \u001b[1;31m# of a new identity operation that the stateful operations definitely don't\u001b[0m\u001b[1;33m\u001b[0m\u001b[1;33m\u001b[0m\u001b[1;33m\u001b[0m\u001b[0m\n\u001b[0;32m    230\u001b[0m     \u001b[1;31m# depend on.\u001b[0m\u001b[1;33m\u001b[0m\u001b[1;33m\u001b[0m\u001b[1;33m\u001b[0m\u001b[0m\n\u001b[1;32m--> 231\u001b[1;33m     \u001b[0mtensor\u001b[0m \u001b[1;33m=\u001b[0m \u001b[0marray_ops\u001b[0m\u001b[1;33m.\u001b[0m\u001b[0midentity\u001b[0m\u001b[1;33m(\u001b[0m\u001b[0mtensor\u001b[0m\u001b[1;33m)\u001b[0m\u001b[1;33m\u001b[0m\u001b[1;33m\u001b[0m\u001b[0m\n\u001b[0m\u001b[0;32m    232\u001b[0m     \u001b[0mself\u001b[0m\u001b[1;33m.\u001b[0m\u001b[0m_returned_tensors\u001b[0m\u001b[1;33m.\u001b[0m\u001b[0madd\u001b[0m\u001b[1;33m(\u001b[0m\u001b[0mtensor\u001b[0m\u001b[1;33m)\u001b[0m\u001b[1;33m\u001b[0m\u001b[1;33m\u001b[0m\u001b[0m\n\u001b[0;32m    233\u001b[0m     \u001b[1;32mreturn\u001b[0m \u001b[0mtensor\u001b[0m\u001b[1;33m\u001b[0m\u001b[1;33m\u001b[0m\u001b[0m\n",
      "\u001b[1;32mc:\\users\\moon\\appdata\\local\\programs\\python\\python39\\lib\\site-packages\\tensorflow\\python\\util\\dispatch.py\u001b[0m in \u001b[0;36mwrapper\u001b[1;34m(*args, **kwargs)\u001b[0m\n\u001b[0;32m    204\u001b[0m     \u001b[1;34m\"\"\"Call target, and fall back on dispatchers if there is a TypeError.\"\"\"\u001b[0m\u001b[1;33m\u001b[0m\u001b[1;33m\u001b[0m\u001b[0m\n\u001b[0;32m    205\u001b[0m     \u001b[1;32mtry\u001b[0m\u001b[1;33m:\u001b[0m\u001b[1;33m\u001b[0m\u001b[1;33m\u001b[0m\u001b[0m\n\u001b[1;32m--> 206\u001b[1;33m       \u001b[1;32mreturn\u001b[0m \u001b[0mtarget\u001b[0m\u001b[1;33m(\u001b[0m\u001b[1;33m*\u001b[0m\u001b[0margs\u001b[0m\u001b[1;33m,\u001b[0m \u001b[1;33m**\u001b[0m\u001b[0mkwargs\u001b[0m\u001b[1;33m)\u001b[0m\u001b[1;33m\u001b[0m\u001b[1;33m\u001b[0m\u001b[0m\n\u001b[0m\u001b[0;32m    207\u001b[0m     \u001b[1;32mexcept\u001b[0m \u001b[1;33m(\u001b[0m\u001b[0mTypeError\u001b[0m\u001b[1;33m,\u001b[0m \u001b[0mValueError\u001b[0m\u001b[1;33m)\u001b[0m\u001b[1;33m:\u001b[0m\u001b[1;33m\u001b[0m\u001b[1;33m\u001b[0m\u001b[0m\n\u001b[0;32m    208\u001b[0m       \u001b[1;31m# Note: convert_to_eager_tensor currently raises a ValueError, not a\u001b[0m\u001b[1;33m\u001b[0m\u001b[1;33m\u001b[0m\u001b[1;33m\u001b[0m\u001b[0m\n",
      "\u001b[1;32mc:\\users\\moon\\appdata\\local\\programs\\python\\python39\\lib\\site-packages\\tensorflow\\python\\ops\\array_ops.py\u001b[0m in \u001b[0;36midentity\u001b[1;34m(input, name)\u001b[0m\n\u001b[0;32m    286\u001b[0m     \u001b[1;31m# variables. Variables have correct handle data when graph building.\u001b[0m\u001b[1;33m\u001b[0m\u001b[1;33m\u001b[0m\u001b[1;33m\u001b[0m\u001b[0m\n\u001b[0;32m    287\u001b[0m     \u001b[0minput\u001b[0m \u001b[1;33m=\u001b[0m \u001b[0mops\u001b[0m\u001b[1;33m.\u001b[0m\u001b[0mconvert_to_tensor\u001b[0m\u001b[1;33m(\u001b[0m\u001b[0minput\u001b[0m\u001b[1;33m)\u001b[0m\u001b[1;33m\u001b[0m\u001b[1;33m\u001b[0m\u001b[0m\n\u001b[1;32m--> 288\u001b[1;33m   \u001b[0mret\u001b[0m \u001b[1;33m=\u001b[0m \u001b[0mgen_array_ops\u001b[0m\u001b[1;33m.\u001b[0m\u001b[0midentity\u001b[0m\u001b[1;33m(\u001b[0m\u001b[0minput\u001b[0m\u001b[1;33m,\u001b[0m \u001b[0mname\u001b[0m\u001b[1;33m=\u001b[0m\u001b[0mname\u001b[0m\u001b[1;33m)\u001b[0m\u001b[1;33m\u001b[0m\u001b[1;33m\u001b[0m\u001b[0m\n\u001b[0m\u001b[0;32m    289\u001b[0m   \u001b[1;31m# Propagate handle data for happier shape inference for resource variables.\u001b[0m\u001b[1;33m\u001b[0m\u001b[1;33m\u001b[0m\u001b[1;33m\u001b[0m\u001b[0m\n\u001b[0;32m    290\u001b[0m   \u001b[1;32mif\u001b[0m \u001b[0mhasattr\u001b[0m\u001b[1;33m(\u001b[0m\u001b[0minput\u001b[0m\u001b[1;33m,\u001b[0m \u001b[1;34m\"_handle_data\"\u001b[0m\u001b[1;33m)\u001b[0m\u001b[1;33m:\u001b[0m\u001b[1;33m\u001b[0m\u001b[1;33m\u001b[0m\u001b[0m\n",
      "\u001b[1;32mc:\\users\\moon\\appdata\\local\\programs\\python\\python39\\lib\\site-packages\\tensorflow\\python\\ops\\gen_array_ops.py\u001b[0m in \u001b[0;36midentity\u001b[1;34m(input, name)\u001b[0m\n\u001b[0;32m   3959\u001b[0m       \u001b[1;32mpass\u001b[0m  \u001b[1;31m# Add nodes to the TensorFlow graph.\u001b[0m\u001b[1;33m\u001b[0m\u001b[1;33m\u001b[0m\u001b[0m\n\u001b[0;32m   3960\u001b[0m   \u001b[1;31m# Add nodes to the TensorFlow graph.\u001b[0m\u001b[1;33m\u001b[0m\u001b[1;33m\u001b[0m\u001b[1;33m\u001b[0m\u001b[0m\n\u001b[1;32m-> 3961\u001b[1;33m   _, _, _op, _outputs = _op_def_library._apply_op_helper(\n\u001b[0m\u001b[0;32m   3962\u001b[0m         \"Identity\", input=input, name=name)\n\u001b[0;32m   3963\u001b[0m   \u001b[0m_result\u001b[0m \u001b[1;33m=\u001b[0m \u001b[0m_outputs\u001b[0m\u001b[1;33m[\u001b[0m\u001b[1;33m:\u001b[0m\u001b[1;33m]\u001b[0m\u001b[1;33m\u001b[0m\u001b[1;33m\u001b[0m\u001b[0m\n",
      "\u001b[1;32mc:\\users\\moon\\appdata\\local\\programs\\python\\python39\\lib\\site-packages\\tensorflow\\python\\framework\\op_def_library.py\u001b[0m in \u001b[0;36m_apply_op_helper\u001b[1;34m(op_type_name, name, **keywords)\u001b[0m\n\u001b[0;32m    746\u001b[0m       \u001b[1;31m# Add Op to graph\u001b[0m\u001b[1;33m\u001b[0m\u001b[1;33m\u001b[0m\u001b[1;33m\u001b[0m\u001b[0m\n\u001b[0;32m    747\u001b[0m       \u001b[1;31m# pylint: disable=protected-access\u001b[0m\u001b[1;33m\u001b[0m\u001b[1;33m\u001b[0m\u001b[1;33m\u001b[0m\u001b[0m\n\u001b[1;32m--> 748\u001b[1;33m       op = g._create_op_internal(op_type_name, inputs, dtypes=None,\n\u001b[0m\u001b[0;32m    749\u001b[0m                                  \u001b[0mname\u001b[0m\u001b[1;33m=\u001b[0m\u001b[0mscope\u001b[0m\u001b[1;33m,\u001b[0m \u001b[0minput_types\u001b[0m\u001b[1;33m=\u001b[0m\u001b[0minput_types\u001b[0m\u001b[1;33m,\u001b[0m\u001b[1;33m\u001b[0m\u001b[1;33m\u001b[0m\u001b[0m\n\u001b[0;32m    750\u001b[0m                                  attrs=attr_protos, op_def=op_def)\n",
      "\u001b[1;32mc:\\users\\moon\\appdata\\local\\programs\\python\\python39\\lib\\site-packages\\tensorflow\\python\\framework\\func_graph.py\u001b[0m in \u001b[0;36m_create_op_internal\u001b[1;34m(self, op_type, inputs, dtypes, input_types, name, attrs, op_def, compute_device)\u001b[0m\n\u001b[0;32m    597\u001b[0m       \u001b[0minp\u001b[0m \u001b[1;33m=\u001b[0m \u001b[0mself\u001b[0m\u001b[1;33m.\u001b[0m\u001b[0mcapture\u001b[0m\u001b[1;33m(\u001b[0m\u001b[0minp\u001b[0m\u001b[1;33m)\u001b[0m\u001b[1;33m\u001b[0m\u001b[1;33m\u001b[0m\u001b[0m\n\u001b[0;32m    598\u001b[0m       \u001b[0mcaptured_inputs\u001b[0m\u001b[1;33m.\u001b[0m\u001b[0mappend\u001b[0m\u001b[1;33m(\u001b[0m\u001b[0minp\u001b[0m\u001b[1;33m)\u001b[0m\u001b[1;33m\u001b[0m\u001b[1;33m\u001b[0m\u001b[0m\n\u001b[1;32m--> 599\u001b[1;33m     return super(FuncGraph, self)._create_op_internal(  # pylint: disable=protected-access\n\u001b[0m\u001b[0;32m    600\u001b[0m         \u001b[0mop_type\u001b[0m\u001b[1;33m,\u001b[0m \u001b[0mcaptured_inputs\u001b[0m\u001b[1;33m,\u001b[0m \u001b[0mdtypes\u001b[0m\u001b[1;33m,\u001b[0m \u001b[0minput_types\u001b[0m\u001b[1;33m,\u001b[0m \u001b[0mname\u001b[0m\u001b[1;33m,\u001b[0m \u001b[0mattrs\u001b[0m\u001b[1;33m,\u001b[0m \u001b[0mop_def\u001b[0m\u001b[1;33m,\u001b[0m\u001b[1;33m\u001b[0m\u001b[1;33m\u001b[0m\u001b[0m\n\u001b[0;32m    601\u001b[0m         compute_device)\n",
      "\u001b[1;32mc:\\users\\moon\\appdata\\local\\programs\\python\\python39\\lib\\site-packages\\tensorflow\\python\\framework\\ops.py\u001b[0m in \u001b[0;36m_create_op_internal\u001b[1;34m(self, op_type, inputs, dtypes, input_types, name, attrs, op_def, compute_device)\u001b[0m\n\u001b[0;32m   3555\u001b[0m     \u001b[1;31m# Session.run call cannot occur between creating and mutating the op.\u001b[0m\u001b[1;33m\u001b[0m\u001b[1;33m\u001b[0m\u001b[1;33m\u001b[0m\u001b[0m\n\u001b[0;32m   3556\u001b[0m     \u001b[1;32mwith\u001b[0m \u001b[0mself\u001b[0m\u001b[1;33m.\u001b[0m\u001b[0m_mutation_lock\u001b[0m\u001b[1;33m(\u001b[0m\u001b[1;33m)\u001b[0m\u001b[1;33m:\u001b[0m\u001b[1;33m\u001b[0m\u001b[1;33m\u001b[0m\u001b[0m\n\u001b[1;32m-> 3557\u001b[1;33m       ret = Operation(\n\u001b[0m\u001b[0;32m   3558\u001b[0m           \u001b[0mnode_def\u001b[0m\u001b[1;33m,\u001b[0m\u001b[1;33m\u001b[0m\u001b[1;33m\u001b[0m\u001b[0m\n\u001b[0;32m   3559\u001b[0m           \u001b[0mself\u001b[0m\u001b[1;33m,\u001b[0m\u001b[1;33m\u001b[0m\u001b[1;33m\u001b[0m\u001b[0m\n",
      "\u001b[1;32mc:\\users\\moon\\appdata\\local\\programs\\python\\python39\\lib\\site-packages\\tensorflow\\python\\framework\\ops.py\u001b[0m in \u001b[0;36m__init__\u001b[1;34m(self, node_def, g, inputs, output_types, control_inputs, input_types, original_op, op_def)\u001b[0m\n\u001b[0;32m   2039\u001b[0m       \u001b[1;32mif\u001b[0m \u001b[0mop_def\u001b[0m \u001b[1;32mis\u001b[0m \u001b[1;32mNone\u001b[0m\u001b[1;33m:\u001b[0m\u001b[1;33m\u001b[0m\u001b[1;33m\u001b[0m\u001b[0m\n\u001b[0;32m   2040\u001b[0m         \u001b[0mop_def\u001b[0m \u001b[1;33m=\u001b[0m \u001b[0mself\u001b[0m\u001b[1;33m.\u001b[0m\u001b[0m_graph\u001b[0m\u001b[1;33m.\u001b[0m\u001b[0m_get_op_def\u001b[0m\u001b[1;33m(\u001b[0m\u001b[0mnode_def\u001b[0m\u001b[1;33m.\u001b[0m\u001b[0mop\u001b[0m\u001b[1;33m)\u001b[0m\u001b[1;33m\u001b[0m\u001b[1;33m\u001b[0m\u001b[0m\n\u001b[1;32m-> 2041\u001b[1;33m       self._c_op = _create_c_op(self._graph, node_def, inputs,\n\u001b[0m\u001b[0;32m   2042\u001b[0m                                 control_input_ops, op_def)\n\u001b[0;32m   2043\u001b[0m       \u001b[0mname\u001b[0m \u001b[1;33m=\u001b[0m \u001b[0mcompat\u001b[0m\u001b[1;33m.\u001b[0m\u001b[0mas_str\u001b[0m\u001b[1;33m(\u001b[0m\u001b[0mnode_def\u001b[0m\u001b[1;33m.\u001b[0m\u001b[0mname\u001b[0m\u001b[1;33m)\u001b[0m\u001b[1;33m\u001b[0m\u001b[1;33m\u001b[0m\u001b[0m\n",
      "\u001b[1;32mc:\\users\\moon\\appdata\\local\\programs\\python\\python39\\lib\\site-packages\\tensorflow\\python\\framework\\ops.py\u001b[0m in \u001b[0;36m_create_c_op\u001b[1;34m(graph, node_def, inputs, control_inputs, op_def)\u001b[0m\n\u001b[0;32m   1851\u001b[0m   \u001b[0minputs\u001b[0m \u001b[1;33m=\u001b[0m \u001b[0m_reconstruct_sequence_inputs\u001b[0m\u001b[1;33m(\u001b[0m\u001b[0mop_def\u001b[0m\u001b[1;33m,\u001b[0m \u001b[0minputs\u001b[0m\u001b[1;33m,\u001b[0m \u001b[0mnode_def\u001b[0m\u001b[1;33m.\u001b[0m\u001b[0mattr\u001b[0m\u001b[1;33m)\u001b[0m\u001b[1;33m\u001b[0m\u001b[1;33m\u001b[0m\u001b[0m\n\u001b[0;32m   1852\u001b[0m   \u001b[1;31m# pylint: disable=protected-access\u001b[0m\u001b[1;33m\u001b[0m\u001b[1;33m\u001b[0m\u001b[1;33m\u001b[0m\u001b[0m\n\u001b[1;32m-> 1853\u001b[1;33m   op_desc = pywrap_tf_session.TF_NewOperation(graph._c_graph,\n\u001b[0m\u001b[0;32m   1854\u001b[0m                                               \u001b[0mcompat\u001b[0m\u001b[1;33m.\u001b[0m\u001b[0mas_str\u001b[0m\u001b[1;33m(\u001b[0m\u001b[0mnode_def\u001b[0m\u001b[1;33m.\u001b[0m\u001b[0mop\u001b[0m\u001b[1;33m)\u001b[0m\u001b[1;33m,\u001b[0m\u001b[1;33m\u001b[0m\u001b[1;33m\u001b[0m\u001b[0m\n\u001b[0;32m   1855\u001b[0m                                               compat.as_str(node_def.name))\n",
      "\u001b[1;31mKeyboardInterrupt\u001b[0m: "
     ]
    }
   ],
   "source": [
    "t = n()\n",
    "num_episodes = 10\n",
    "n_life_memory2 = []\n",
    "n_env = gym.make('CartPole-v0')\n",
    "for i in range(num_episodes):\n",
    "    n_old_observation = n_env.reset()\n",
    "    n_done = False\n",
    "    n_tot_reward = 0\n",
    "    n_em_memory2 = []\n",
    "    while not n_done:\n",
    "        pred_in = [list(n_old_observation) + [i] for i in range(2)]\n",
    "        n_new_action = np.argmax([model2.predict(pred_in)])\n",
    "        n_observation, n_reward, n_done, n_info = n_env.step(n_new_action)\n",
    "        n_tot_reward += n_reward\n",
    "        n_em_memory2.append({\n",
    "            \"obs0\": n_old_observation[0],\n",
    "            \"obs1\": n_old_observation[1],\n",
    "            \"obs2\": n_old_observation[2],\n",
    "            \"obs3\": n_old_observation[3],\n",
    "            \"action\": n_new_action,\n",
    "            \"reward\": n_reward,\n",
    "            \"episode\": i,\n",
    "        })\n",
    "        \n",
    "        n_old_observation = n_observation\n",
    "\n",
    "    for n_em in n_em_memory2:\n",
    "        n_em[\"tot_reward\"] = n_tot_reward\n",
    "    n_life_memory2.extend(n_em_memory2)\n",
    "n_memory_df2 = pandas.DataFrame(n_life_memory2)\n",
    "print(f\"Training time: {n() - t}s\")"
   ]
  },
  {
   "cell_type": "code",
   "execution_count": 38,
   "id": "aa3a7076",
   "metadata": {},
   "outputs": [
    {
     "data": {
      "text/plain": [
       "173.5"
      ]
     },
     "execution_count": 38,
     "metadata": {},
     "output_type": "execute_result"
    }
   ],
   "source": [
    "n_memory_df2.groupby('episode').reward.sum().mean()"
   ]
  },
  {
   "cell_type": "code",
   "execution_count": 39,
   "id": "7c92e96e",
   "metadata": {},
   "outputs": [
    {
     "data": {
      "text/plain": [
       "True     6\n",
       "False    4\n",
       "Name: reward, dtype: int64"
      ]
     },
     "execution_count": 39,
     "metadata": {},
     "output_type": "execute_result"
    }
   ],
   "source": [
    "(n_memory_df2.groupby('episode').reward.sum() >= 200).value_counts()"
   ]
  },
  {
   "cell_type": "code",
   "execution_count": 40,
   "id": "0f95f2f2",
   "metadata": {},
   "outputs": [],
   "source": [
    "def build_model3():\n",
    "    model = models.Sequential()\n",
    "    model.add(layers.Dense(64, activation = 'relu', input_shape=(x_mat.shape[1], )))\n",
    "    model.add(layers.Dense(64, activation='relu'))\n",
    "    model.add(layers.Dense(32, activation='relu'))\n",
    "    model.add(layers.Dense(1))\n",
    "    model.compile(optimizer='rmsprop', loss='mse', metrics=['mae'])\n",
    "    return model"
   ]
  },
  {
   "cell_type": "code",
   "execution_count": 41,
   "id": "c203bf43",
   "metadata": {},
   "outputs": [
    {
     "name": "stdout",
     "output_type": "stream",
     "text": [
      "Epoch 1/100\n",
      "695/695 [==============================] - 1s 919us/step - loss: 424.0009 - mae: 15.3641\n",
      "Epoch 2/100\n",
      "695/695 [==============================] - 1s 918us/step - loss: 246.4792 - mae: 11.6811\n",
      "Epoch 3/100\n",
      "695/695 [==============================] - 1s 920us/step - loss: 236.4876 - mae: 11.3444\n",
      "Epoch 4/100\n",
      "695/695 [==============================] - 1s 935us/step - loss: 230.5623 - mae: 11.1819\n",
      "Epoch 5/100\n",
      "695/695 [==============================] - 1s 1ms/step - loss: 226.0118 - mae: 11.0319\n",
      "Epoch 6/100\n",
      "695/695 [==============================] - 1s 1ms/step - loss: 222.2379 - mae: 10.9278\n",
      "Epoch 7/100\n",
      "695/695 [==============================] - 1s 886us/step - loss: 218.8046 - mae: 10.7995\n",
      "Epoch 8/100\n",
      "695/695 [==============================] - 1s 877us/step - loss: 216.0057 - mae: 10.7072\n",
      "Epoch 9/100\n",
      "695/695 [==============================] - 1s 960us/step - loss: 214.4664 - mae: 10.6589\n",
      "Epoch 10/100\n",
      "695/695 [==============================] - 1s 1ms/step - loss: 213.2166 - mae: 10.6224\n",
      "Epoch 11/100\n",
      "695/695 [==============================] - 1s 1ms/step - loss: 211.6365 - mae: 10.5726\n",
      "Epoch 12/100\n",
      "695/695 [==============================] - 1s 910us/step - loss: 211.0066 - mae: 10.5417\n",
      "Epoch 13/100\n",
      "695/695 [==============================] - 1s 893us/step - loss: 210.0791 - mae: 10.5301\n",
      "Epoch 14/100\n",
      "695/695 [==============================] - 1s 977us/step - loss: 209.6784 - mae: 10.5149\n",
      "Epoch 15/100\n",
      "695/695 [==============================] - 1s 1ms/step - loss: 209.0249 - mae: 10.5009\n",
      "Epoch 16/100\n",
      "695/695 [==============================] - 1s 1ms/step - loss: 208.5070 - mae: 10.4850\n",
      "Epoch 17/100\n",
      "695/695 [==============================] - 1s 945us/step - loss: 207.8639 - mae: 10.4542\n",
      "Epoch 18/100\n",
      "695/695 [==============================] - 1s 1ms/step - loss: 207.6211 - mae: 10.4417\n",
      "Epoch 19/100\n",
      "695/695 [==============================] - 1s 935us/step - loss: 207.4592 - mae: 10.4450\n",
      "Epoch 20/100\n",
      "695/695 [==============================] - 1s 959us/step - loss: 206.8608 - mae: 10.4221\n",
      "Epoch 21/100\n",
      "695/695 [==============================] - 1s 1ms/step - loss: 206.7587 - mae: 10.4191\n",
      "Epoch 22/100\n",
      "695/695 [==============================] - 1s 982us/step - loss: 206.4486 - mae: 10.4067\n",
      "Epoch 23/100\n",
      "695/695 [==============================] - 1s 898us/step - loss: 206.3966 - mae: 10.4008\n",
      "Epoch 24/100\n",
      "695/695 [==============================] - 1s 887us/step - loss: 205.9759 - mae: 10.3947\n",
      "Epoch 25/100\n",
      "695/695 [==============================] - 1s 928us/step - loss: 205.8993 - mae: 10.3870\n",
      "Epoch 26/100\n",
      "695/695 [==============================] - 1s 993us/step - loss: 205.5377 - mae: 10.3842\n",
      "Epoch 27/100\n",
      "695/695 [==============================] - 1s 986us/step - loss: 205.1338 - mae: 10.3637\n",
      "Epoch 28/100\n",
      "695/695 [==============================] - 1s 994us/step - loss: 205.2937 - mae: 10.3635\n",
      "Epoch 29/100\n",
      "695/695 [==============================] - 1s 978us/step - loss: 204.8166 - mae: 10.3638\n",
      "Epoch 30/100\n",
      "695/695 [==============================] - 1s 919us/step - loss: 204.6153 - mae: 10.3538\n",
      "Epoch 31/100\n",
      "695/695 [==============================] - 1s 912us/step - loss: 204.1346 - mae: 10.3212\n",
      "Epoch 32/100\n",
      "695/695 [==============================] - 1s 975us/step - loss: 203.8012 - mae: 10.3185\n",
      "Epoch 33/100\n",
      "695/695 [==============================] - 1s 1ms/step - loss: 204.5691 - mae: 10.3398\n",
      "Epoch 34/100\n",
      "695/695 [==============================] - 1s 914us/step - loss: 203.4444 - mae: 10.3090\n",
      "Epoch 35/100\n",
      "695/695 [==============================] - 1s 912us/step - loss: 203.8550 - mae: 10.3206\n",
      "Epoch 36/100\n",
      "695/695 [==============================] - 1s 923us/step - loss: 203.8915 - mae: 10.3283\n",
      "Epoch 37/100\n",
      "695/695 [==============================] - 1s 1ms/step - loss: 203.8731 - mae: 10.3104\n",
      "Epoch 38/100\n",
      "695/695 [==============================] - 1s 1ms/step - loss: 202.9655 - mae: 10.2894\n",
      "Epoch 39/100\n",
      "695/695 [==============================] - 1s 945us/step - loss: 203.1642 - mae: 10.2997\n",
      "Epoch 40/100\n",
      "695/695 [==============================] - 1s 1ms/step - loss: 202.6310 - mae: 10.2846\n",
      "Epoch 41/100\n",
      "695/695 [==============================] - 1s 979us/step - loss: 202.5274 - mae: 10.2726\n",
      "Epoch 42/100\n",
      "695/695 [==============================] - 1s 977us/step - loss: 202.6487 - mae: 10.2836\n",
      "Epoch 43/100\n",
      "695/695 [==============================] - 1s 976us/step - loss: 202.7151 - mae: 10.2741\n",
      "Epoch 44/100\n",
      "695/695 [==============================] - 1s 971us/step - loss: 202.4009 - mae: 10.2777\n",
      "Epoch 45/100\n",
      "695/695 [==============================] - 1s 998us/step - loss: 202.0269 - mae: 10.2601\n",
      "Epoch 46/100\n",
      "695/695 [==============================] - 1s 1ms/step - loss: 201.8696 - mae: 10.2582\n",
      "Epoch 47/100\n",
      "695/695 [==============================] - 1s 951us/step - loss: 201.7759 - mae: 10.2607\n",
      "Epoch 48/100\n",
      "695/695 [==============================] - 1s 947us/step - loss: 201.5137 - mae: 10.2326\n",
      "Epoch 49/100\n",
      "695/695 [==============================] - 1s 1ms/step - loss: 201.7461 - mae: 10.2662\n",
      "Epoch 50/100\n",
      "695/695 [==============================] - 1s 1ms/step - loss: 201.0324 - mae: 10.2317\n",
      "Epoch 51/100\n",
      "695/695 [==============================] - 1s 955us/step - loss: 201.1463 - mae: 10.2203\n",
      "Epoch 52/100\n",
      "695/695 [==============================] - 1s 987us/step - loss: 200.6587 - mae: 10.2154\n",
      "Epoch 53/100\n",
      "695/695 [==============================] - 1s 998us/step - loss: 200.8426 - mae: 10.2108\n",
      "Epoch 54/100\n",
      "695/695 [==============================] - 1s 968us/step - loss: 200.4883 - mae: 10.2073\n",
      "Epoch 55/100\n",
      "695/695 [==============================] - 1s 1ms/step - loss: 200.5633 - mae: 10.2078\n",
      "Epoch 56/100\n",
      "695/695 [==============================] - 1s 935us/step - loss: 200.1918 - mae: 10.1939\n",
      "Epoch 57/100\n",
      "695/695 [==============================] - 1s 953us/step - loss: 200.2466 - mae: 10.2000\n",
      "Epoch 58/100\n",
      "695/695 [==============================] - 1s 933us/step - loss: 199.9480 - mae: 10.1887\n",
      "Epoch 59/100\n",
      "695/695 [==============================] - 1s 893us/step - loss: 200.0135 - mae: 10.1867\n",
      "Epoch 60/100\n",
      "695/695 [==============================] - 1s 1ms/step - loss: 200.0762 - mae: 10.2037\n",
      "Epoch 61/100\n",
      "695/695 [==============================] - 1s 1ms/step - loss: 199.7153 - mae: 10.1771\n",
      "Epoch 62/100\n",
      "695/695 [==============================] - 1s 889us/step - loss: 199.6848 - mae: 10.1863\n",
      "Epoch 63/100\n",
      "695/695 [==============================] - 1s 1ms/step - loss: 199.3929 - mae: 10.1799\n",
      "Epoch 64/100\n",
      "695/695 [==============================] - 1s 865us/step - loss: 199.3721 - mae: 10.1888\n",
      "Epoch 65/100\n",
      "695/695 [==============================] - 1s 980us/step - loss: 199.2174 - mae: 10.1689\n",
      "Epoch 66/100\n",
      "695/695 [==============================] - 1s 938us/step - loss: 198.8524 - mae: 10.15490s - loss: 197\n",
      "Epoch 67/100\n",
      "695/695 [==============================] - 1s 976us/step - loss: 198.9311 - mae: 10.1644\n",
      "Epoch 68/100\n",
      "695/695 [==============================] - 1s 887us/step - loss: 198.6824 - mae: 10.1586\n",
      "Epoch 69/100\n",
      "695/695 [==============================] - 1s 860us/step - loss: 198.9073 - mae: 10.1651\n",
      "Epoch 70/100\n",
      "695/695 [==============================] - 1s 970us/step - loss: 199.0336 - mae: 10.1721\n",
      "Epoch 71/100\n",
      "695/695 [==============================] - 1s 890us/step - loss: 198.5624 - mae: 10.1377\n",
      "Epoch 72/100\n",
      "695/695 [==============================] - 1s 1ms/step - loss: 198.1518 - mae: 10.1327\n",
      "Epoch 73/100\n",
      "695/695 [==============================] - 1s 857us/step - loss: 198.5709 - mae: 10.1360\n",
      "Epoch 74/100\n",
      "695/695 [==============================] - 1s 870us/step - loss: 198.0757 - mae: 10.1452\n",
      "Epoch 75/100\n",
      "695/695 [==============================] - 1s 873us/step - loss: 198.1612 - mae: 10.1425\n",
      "Epoch 76/100\n",
      "695/695 [==============================] - 1s 888us/step - loss: 197.9316 - mae: 10.1247\n",
      "Epoch 77/100\n",
      "695/695 [==============================] - 1s 897us/step - loss: 198.0311 - mae: 10.1520\n",
      "Epoch 78/100\n",
      "695/695 [==============================] - 1s 968us/step - loss: 198.0196 - mae: 10.1236\n",
      "Epoch 79/100\n",
      "695/695 [==============================] - 1s 968us/step - loss: 197.7982 - mae: 10.1288\n",
      "Epoch 80/100\n",
      "695/695 [==============================] - 1s 911us/step - loss: 197.6608 - mae: 10.1247\n",
      "Epoch 81/100\n"
     ]
    },
    {
     "name": "stdout",
     "output_type": "stream",
     "text": [
      "695/695 [==============================] - 1s 894us/step - loss: 197.2143 - mae: 10.1111\n",
      "Epoch 82/100\n",
      "695/695 [==============================] - 1s 872us/step - loss: 197.3018 - mae: 10.1065\n",
      "Epoch 83/100\n",
      "695/695 [==============================] - 1s 868us/step - loss: 197.5018 - mae: 10.1260\n",
      "Epoch 84/100\n",
      "695/695 [==============================] - 1s 873us/step - loss: 197.3461 - mae: 10.1058\n",
      "Epoch 85/100\n",
      "695/695 [==============================] - 1s 882us/step - loss: 197.4301 - mae: 10.1084\n",
      "Epoch 86/100\n",
      "695/695 [==============================] - 1s 865us/step - loss: 197.1735 - mae: 10.1049\n",
      "Epoch 87/100\n",
      "695/695 [==============================] - 1s 862us/step - loss: 196.5491 - mae: 10.0860\n",
      "Epoch 88/100\n",
      "695/695 [==============================] - 1s 885us/step - loss: 196.6101 - mae: 10.0806\n",
      "Epoch 89/100\n",
      "695/695 [==============================] - 1s 928us/step - loss: 196.5123 - mae: 10.0900\n",
      "Epoch 90/100\n",
      "695/695 [==============================] - 1s 913us/step - loss: 196.2787 - mae: 10.0787\n",
      "Epoch 91/100\n",
      "695/695 [==============================] - 1s 911us/step - loss: 196.5237 - mae: 10.1016\n",
      "Epoch 92/100\n",
      "695/695 [==============================] - 1s 911us/step - loss: 196.9211 - mae: 10.0913\n",
      "Epoch 93/100\n",
      "695/695 [==============================] - 1s 905us/step - loss: 196.4950 - mae: 10.0850\n",
      "Epoch 94/100\n",
      "695/695 [==============================] - 1s 903us/step - loss: 195.9522 - mae: 10.0695\n",
      "Epoch 95/100\n",
      "695/695 [==============================] - 1s 914us/step - loss: 196.2905 - mae: 10.0790\n",
      "Epoch 96/100\n",
      "695/695 [==============================] - 1s 904us/step - loss: 195.9792 - mae: 10.0777\n",
      "Epoch 97/100\n",
      "695/695 [==============================] - 1s 908us/step - loss: 195.7449 - mae: 10.0536\n",
      "Epoch 98/100\n",
      "695/695 [==============================] - 1s 909us/step - loss: 196.0307 - mae: 10.0790\n",
      "Epoch 99/100\n",
      "695/695 [==============================] - 1s 941us/step - loss: 195.6908 - mae: 10.0694\n",
      "Epoch 100/100\n",
      "695/695 [==============================] - ETA: 0s - loss: 196.0908 - mae: 10.08 - 1s 915us/step - loss: 195.4204 - mae: 10.0685\n"
     ]
    },
    {
     "data": {
      "text/plain": [
       "<tensorflow.python.keras.callbacks.History at 0x207abed2820>"
      ]
     },
     "execution_count": 41,
     "metadata": {},
     "output_type": "execute_result"
    }
   ],
   "source": [
    "model3 = build_model3()\n",
    "model3.fit(x_mat, y, epochs = 100)"
   ]
  },
  {
   "cell_type": "code",
   "execution_count": 42,
   "id": "d719be71",
   "metadata": {},
   "outputs": [
    {
     "name": "stdout",
     "output_type": "stream",
     "text": [
      "Training time: 0:01:19.295648s\n"
     ]
    }
   ],
   "source": [
    "t = n()\n",
    "num_episodes = 10\n",
    "n_life_memory3 = []\n",
    "n_env = gym.make('CartPole-v0')\n",
    "for i in range(num_episodes):\n",
    "    n_old_observation = n_env.reset()\n",
    "    n_done = False\n",
    "    n_tot_reward = 0\n",
    "    n_em_memory3 = []\n",
    "    while not n_done:\n",
    "        pred_in = [list(n_old_observation) + [i] for i in range(2)]\n",
    "        n_new_action = np.argmax([model3.predict(pred_in)])\n",
    "        n_observation, n_reward, n_done, n_info = n_env.step(n_new_action)\n",
    "        n_tot_reward += n_reward\n",
    "        n_em_memory3.append({\n",
    "            \"obs0\": n_old_observation[0],\n",
    "            \"obs1\": n_old_observation[1],\n",
    "            \"obs2\": n_old_observation[2],\n",
    "            \"obs3\": n_old_observation[3],\n",
    "            \"action\": n_new_action,\n",
    "            \"reward\": n_reward,\n",
    "            \"episode\": i,\n",
    "        })\n",
    "        \n",
    "        n_old_observation = n_observation\n",
    "\n",
    "    for n_em in n_em_memory3:\n",
    "        n_em[\"tot_reward\"] = n_tot_reward\n",
    "    n_life_memory3.extend(n_em_memory3)\n",
    "n_memory_df3 = pandas.DataFrame(n_life_memory3)\n",
    "print(f\"Training time: {n() - t}s\")"
   ]
  },
  {
   "cell_type": "code",
   "execution_count": 43,
   "id": "b95b1ab8",
   "metadata": {},
   "outputs": [
    {
     "data": {
      "text/plain": [
       "195.6"
      ]
     },
     "execution_count": 43,
     "metadata": {},
     "output_type": "execute_result"
    }
   ],
   "source": [
    "n_memory_df3.groupby('episode').reward.sum().mean()"
   ]
  },
  {
   "cell_type": "code",
   "execution_count": 44,
   "id": "5b2bf709",
   "metadata": {},
   "outputs": [
    {
     "data": {
      "text/plain": [
       "True     8\n",
       "False    2\n",
       "Name: reward, dtype: int64"
      ]
     },
     "execution_count": 44,
     "metadata": {},
     "output_type": "execute_result"
    }
   ],
   "source": [
    "(n_memory_df3.groupby('episode').reward.sum() >= 200).value_counts()"
   ]
  },
  {
   "cell_type": "code",
   "execution_count": 45,
   "id": "6a5a9410",
   "metadata": {},
   "outputs": [],
   "source": [
    "def build_model4():\n",
    "    model = models.Sequential()\n",
    "    model.add(layers.Dense(64, activation = 'relu', input_shape=(x_mat.shape[1], )))\n",
    "    model.add(layers.Dense(64, activation='relu'))\n",
    "    model.add(layers.Dense(64, activation='relu'))\n",
    "    model.add(layers.Dense(32, activation='relu'))\n",
    "    model.add(layers.Dense(1))\n",
    "    model.compile(optimizer='rmsprop', loss='mse', metrics=['mae'])\n",
    "    return model"
   ]
  },
  {
   "cell_type": "code",
   "execution_count": 46,
   "id": "f8f4e2f0",
   "metadata": {},
   "outputs": [
    {
     "name": "stdout",
     "output_type": "stream",
     "text": [
      "Epoch 1/100\n",
      "695/695 [==============================] - 1s 1ms/step - loss: 352.2249 - mae: 13.8791\n",
      "Epoch 2/100\n",
      "695/695 [==============================] - 1s 969us/step - loss: 235.4891 - mae: 11.3316\n",
      "Epoch 3/100\n",
      "695/695 [==============================] - 1s 942us/step - loss: 230.4027 - mae: 11.1668\n",
      "Epoch 4/100\n",
      "695/695 [==============================] - 1s 1ms/step - loss: 226.5423 - mae: 11.0315\n",
      "Epoch 5/100\n",
      "695/695 [==============================] - 1s 953us/step - loss: 222.4747 - mae: 10.9139\n",
      "Epoch 6/100\n",
      "695/695 [==============================] - 1s 948us/step - loss: 220.0939 - mae: 10.8440\n",
      "Epoch 7/100\n",
      "695/695 [==============================] - 1s 978us/step - loss: 217.2787 - mae: 10.7497\n",
      "Epoch 8/100\n",
      "695/695 [==============================] - 1s 981us/step - loss: 215.5845 - mae: 10.6851\n",
      "Epoch 9/100\n",
      "695/695 [==============================] - 1s 974us/step - loss: 213.1143 - mae: 10.6145\n",
      "Epoch 10/100\n",
      "695/695 [==============================] - 1s 1ms/step - loss: 211.6570 - mae: 10.5488\n",
      "Epoch 11/100\n",
      "695/695 [==============================] - 1s 1ms/step - loss: 211.2376 - mae: 10.5573\n",
      "Epoch 12/100\n",
      "695/695 [==============================] - 1s 979us/step - loss: 211.0372 - mae: 10.5359\n",
      "Epoch 13/100\n",
      "695/695 [==============================] - 1s 992us/step - loss: 210.0691 - mae: 10.4950\n",
      "Epoch 14/100\n",
      "695/695 [==============================] - 1s 997us/step - loss: 209.4174 - mae: 10.4713\n",
      "Epoch 15/100\n",
      "695/695 [==============================] - 1s 1ms/step - loss: 208.5572 - mae: 10.4612\n",
      "Epoch 16/100\n",
      "695/695 [==============================] - 1s 1ms/step - loss: 208.2053 - mae: 10.4569\n",
      "Epoch 17/100\n",
      "695/695 [==============================] - 1s 998us/step - loss: 208.0508 - mae: 10.4324\n",
      "Epoch 18/100\n",
      "695/695 [==============================] - 1s 1ms/step - loss: 206.7746 - mae: 10.4211\n",
      "Epoch 19/100\n",
      "695/695 [==============================] - 1s 1ms/step - loss: 207.2563 - mae: 10.4178\n",
      "Epoch 20/100\n",
      "695/695 [==============================] - 1s 1ms/step - loss: 206.4129 - mae: 10.4062\n",
      "Epoch 21/100\n",
      "695/695 [==============================] - 1s 1ms/step - loss: 205.5222 - mae: 10.3937\n",
      "Epoch 22/100\n",
      "695/695 [==============================] - 1s 1ms/step - loss: 205.7896 - mae: 10.3801\n",
      "Epoch 23/100\n",
      "695/695 [==============================] - 1s 1ms/step - loss: 205.4450 - mae: 10.3646\n",
      "Epoch 24/100\n",
      "695/695 [==============================] - 1s 1ms/step - loss: 204.7311 - mae: 10.3543\n",
      "Epoch 25/100\n",
      "695/695 [==============================] - 1s 1ms/step - loss: 204.5736 - mae: 10.3487\n",
      "Epoch 26/100\n",
      "695/695 [==============================] - 1s 1ms/step - loss: 204.1762 - mae: 10.3244\n",
      "Epoch 27/100\n",
      "695/695 [==============================] - 1s 987us/step - loss: 203.9821 - mae: 10.3292\n",
      "Epoch 28/100\n",
      "695/695 [==============================] - 1s 978us/step - loss: 203.7094 - mae: 10.3098\n",
      "Epoch 29/100\n",
      "695/695 [==============================] - 1s 979us/step - loss: 203.2039 - mae: 10.2920\n",
      "Epoch 30/100\n",
      "695/695 [==============================] - 1s 973us/step - loss: 202.7137 - mae: 10.2870\n",
      "Epoch 31/100\n",
      "695/695 [==============================] - 1s 975us/step - loss: 202.4805 - mae: 10.2856\n",
      "Epoch 32/100\n",
      "695/695 [==============================] - 1s 1000us/step - loss: 202.2760 - mae: 10.2620\n",
      "Epoch 33/100\n",
      "695/695 [==============================] - 1s 970us/step - loss: 202.0731 - mae: 10.2374\n",
      "Epoch 34/100\n",
      "695/695 [==============================] - 1s 1ms/step - loss: 201.9091 - mae: 10.2428\n",
      "Epoch 35/100\n",
      "695/695 [==============================] - 1s 1ms/step - loss: 201.6582 - mae: 10.2669\n",
      "Epoch 36/100\n",
      "695/695 [==============================] - 1s 1ms/step - loss: 201.0492 - mae: 10.2213\n",
      "Epoch 37/100\n",
      "695/695 [==============================] - 1s 1ms/step - loss: 201.7203 - mae: 10.2549\n",
      "Epoch 38/100\n",
      "695/695 [==============================] - 1s 1ms/step - loss: 200.9990 - mae: 10.2382\n",
      "Epoch 39/100\n",
      "695/695 [==============================] - 1s 1ms/step - loss: 200.7255 - mae: 10.2259\n",
      "Epoch 40/100\n",
      "695/695 [==============================] - 1s 1ms/step - loss: 200.5675 - mae: 10.2128\n",
      "Epoch 41/100\n",
      "695/695 [==============================] - 1s 1ms/step - loss: 200.0926 - mae: 10.2011\n",
      "Epoch 42/100\n",
      "695/695 [==============================] - 1s 945us/step - loss: 200.6212 - mae: 10.2257\n",
      "Epoch 43/100\n",
      "695/695 [==============================] - 1s 957us/step - loss: 199.3254 - mae: 10.1808\n",
      "Epoch 44/100\n",
      "695/695 [==============================] - 1s 1ms/step - loss: 199.6487 - mae: 10.1860\n",
      "Epoch 45/100\n",
      "695/695 [==============================] - 1s 1ms/step - loss: 199.5822 - mae: 10.1687\n",
      "Epoch 46/100\n",
      "695/695 [==============================] - 1s 1ms/step - loss: 199.1430 - mae: 10.1771\n",
      "Epoch 47/100\n",
      "695/695 [==============================] - 1s 1ms/step - loss: 198.8393 - mae: 10.1522\n",
      "Epoch 48/100\n",
      "695/695 [==============================] - 1s 1ms/step - loss: 198.5883 - mae: 10.1469\n",
      "Epoch 49/100\n",
      "695/695 [==============================] - 1s 1ms/step - loss: 198.3402 - mae: 10.1327\n",
      "Epoch 50/100\n",
      "695/695 [==============================] - 1s 1ms/step - loss: 198.3974 - mae: 10.1373\n",
      "Epoch 51/100\n",
      "695/695 [==============================] - 1s 1ms/step - loss: 198.1582 - mae: 10.1361\n",
      "Epoch 52/100\n",
      "695/695 [==============================] - 1s 1ms/step - loss: 197.8201 - mae: 10.1347\n",
      "Epoch 53/100\n",
      "695/695 [==============================] - 1s 1ms/step - loss: 197.9769 - mae: 10.1317\n",
      "Epoch 54/100\n",
      "695/695 [==============================] - 1s 977us/step - loss: 198.0818 - mae: 10.1183\n",
      "Epoch 55/100\n",
      "695/695 [==============================] - 1s 1ms/step - loss: 197.0129 - mae: 10.1002\n",
      "Epoch 56/100\n",
      "695/695 [==============================] - 1s 1ms/step - loss: 197.4883 - mae: 10.1056\n",
      "Epoch 57/100\n",
      "695/695 [==============================] - 1s 1ms/step - loss: 197.1640 - mae: 10.1232\n",
      "Epoch 58/100\n",
      "695/695 [==============================] - 1s 994us/step - loss: 197.1055 - mae: 10.1037\n",
      "Epoch 59/100\n",
      "695/695 [==============================] - 1s 1ms/step - loss: 196.6747 - mae: 10.1010\n",
      "Epoch 60/100\n",
      "695/695 [==============================] - 1s 1ms/step - loss: 196.3065 - mae: 10.0824\n",
      "Epoch 61/100\n",
      "695/695 [==============================] - 1s 1ms/step - loss: 196.0404 - mae: 10.0818\n",
      "Epoch 62/100\n",
      "695/695 [==============================] - 1s 965us/step - loss: 196.0796 - mae: 10.0630\n",
      "Epoch 63/100\n",
      "695/695 [==============================] - 1s 1ms/step - loss: 195.9277 - mae: 10.0653\n",
      "Epoch 64/100\n",
      "695/695 [==============================] - 1s 957us/step - loss: 196.1086 - mae: 10.0698\n",
      "Epoch 65/100\n",
      "695/695 [==============================] - 1s 1ms/step - loss: 195.5821 - mae: 10.0518\n",
      "Epoch 66/100\n",
      "695/695 [==============================] - 1s 1ms/step - loss: 195.7800 - mae: 10.0661\n",
      "Epoch 67/100\n",
      "695/695 [==============================] - 1s 1ms/step - loss: 195.4810 - mae: 10.0604\n",
      "Epoch 68/100\n",
      "695/695 [==============================] - 1s 1ms/step - loss: 195.2569 - mae: 10.0582\n",
      "Epoch 69/100\n",
      "695/695 [==============================] - 1s 1ms/step - loss: 194.8709 - mae: 10.0456\n",
      "Epoch 70/100\n",
      "695/695 [==============================] - 1s 1ms/step - loss: 195.1029 - mae: 10.0537\n",
      "Epoch 71/100\n",
      "695/695 [==============================] - 1s 1ms/step - loss: 194.8339 - mae: 10.0384\n",
      "Epoch 72/100\n",
      "695/695 [==============================] - 1s 1ms/step - loss: 194.9169 - mae: 10.0412\n",
      "Epoch 73/100\n",
      "695/695 [==============================] - 1s 1ms/step - loss: 194.5160 - mae: 10.0239\n",
      "Epoch 74/100\n",
      "695/695 [==============================] - 1s 1ms/step - loss: 194.6530 - mae: 10.0084\n",
      "Epoch 75/100\n",
      "695/695 [==============================] - 1s 1ms/step - loss: 194.4449 - mae: 10.0324\n",
      "Epoch 76/100\n",
      "695/695 [==============================] - 1s 1ms/step - loss: 194.2154 - mae: 10.0204\n",
      "Epoch 77/100\n",
      "695/695 [==============================] - 1s 1ms/step - loss: 193.8004 - mae: 10.0117\n",
      "Epoch 78/100\n",
      "695/695 [==============================] - 1s 1ms/step - loss: 193.4968 - mae: 10.0037\n",
      "Epoch 79/100\n",
      "695/695 [==============================] - 1s 1ms/step - loss: 194.0468 - mae: 10.0034\n",
      "Epoch 80/100\n",
      "695/695 [==============================] - 1s 1ms/step - loss: 193.9603 - mae: 10.0192: 0s - loss: 195.6912 - mae: 1\n",
      "Epoch 81/100\n",
      "695/695 [==============================] - 1s 1ms/step - loss: 193.3709 - mae: 10.0037\n",
      "Epoch 82/100\n"
     ]
    },
    {
     "name": "stdout",
     "output_type": "stream",
     "text": [
      "695/695 [==============================] - 1s 1ms/step - loss: 192.9182 - mae: 9.9993\n",
      "Epoch 83/100\n",
      "695/695 [==============================] - 1s 1ms/step - loss: 193.3634 - mae: 9.9876\n",
      "Epoch 84/100\n",
      "695/695 [==============================] - 1s 969us/step - loss: 193.3673 - mae: 9.9969\n",
      "Epoch 85/100\n",
      "695/695 [==============================] - 1s 1ms/step - loss: 192.6211 - mae: 9.9828\n",
      "Epoch 86/100\n",
      "695/695 [==============================] - 1s 993us/step - loss: 192.3822 - mae: 9.9702\n",
      "Epoch 87/100\n",
      "695/695 [==============================] - 1s 1ms/step - loss: 192.4038 - mae: 9.9623\n",
      "Epoch 88/100\n",
      "695/695 [==============================] - 1s 1ms/step - loss: 192.3893 - mae: 9.9573\n",
      "Epoch 89/100\n",
      "695/695 [==============================] - 1s 1ms/step - loss: 192.8146 - mae: 9.9777\n",
      "Epoch 90/100\n",
      "695/695 [==============================] - 1s 1ms/step - loss: 191.8726 - mae: 9.9544\n",
      "Epoch 91/100\n",
      "695/695 [==============================] - 1s 1ms/step - loss: 191.8332 - mae: 9.9583\n",
      "Epoch 92/100\n",
      "695/695 [==============================] - 1s 1ms/step - loss: 191.7616 - mae: 9.9417\n",
      "Epoch 93/100\n",
      "695/695 [==============================] - 1s 996us/step - loss: 192.0686 - mae: 9.9597\n",
      "Epoch 94/100\n",
      "695/695 [==============================] - 1s 1ms/step - loss: 191.3885 - mae: 9.9248\n",
      "Epoch 95/100\n",
      "695/695 [==============================] - 1s 975us/step - loss: 191.5758 - mae: 9.9459\n",
      "Epoch 96/100\n",
      "695/695 [==============================] - 1s 1ms/step - loss: 191.6640 - mae: 9.9338\n",
      "Epoch 97/100\n",
      "695/695 [==============================] - 1s 1ms/step - loss: 191.0458 - mae: 9.9350A: 0s - loss: 192.1138 - mae: 9.96\n",
      "Epoch 98/100\n",
      "695/695 [==============================] - 1s 1ms/step - loss: 190.9073 - mae: 9.9177\n",
      "Epoch 99/100\n",
      "695/695 [==============================] - 1s 992us/step - loss: 191.0822 - mae: 9.9397\n",
      "Epoch 100/100\n",
      "695/695 [==============================] - 1s 983us/step - loss: 190.9614 - mae: 9.9254\n"
     ]
    },
    {
     "data": {
      "text/plain": [
       "<tensorflow.python.keras.callbacks.History at 0x207abe311f0>"
      ]
     },
     "execution_count": 46,
     "metadata": {},
     "output_type": "execute_result"
    }
   ],
   "source": [
    "model4 = build_model4()\n",
    "model4.fit(x_mat, y, epochs = 100)"
   ]
  },
  {
   "cell_type": "code",
   "execution_count": 47,
   "id": "2eec087e",
   "metadata": {},
   "outputs": [
    {
     "name": "stdout",
     "output_type": "stream",
     "text": [
      "Training time: 0:01:01.719923s\n"
     ]
    }
   ],
   "source": [
    "t = n()\n",
    "num_episodes = 10\n",
    "n_life_memory4 = []\n",
    "n_env = gym.make('CartPole-v0')\n",
    "for i in range(num_episodes):\n",
    "    n_old_observation = n_env.reset()\n",
    "    n_done = False\n",
    "    n_tot_reward = 0\n",
    "    n_em_memory4 = []\n",
    "    while not n_done:\n",
    "        pred_in = [list(n_old_observation) + [i] for i in range(2)]\n",
    "        n_new_action = np.argmax([model4.predict(pred_in)])\n",
    "        n_observation, n_reward, n_done, n_info = n_env.step(n_new_action)\n",
    "        n_tot_reward += n_reward\n",
    "        n_em_memory4.append({\n",
    "            \"obs0\": n_old_observation[0],\n",
    "            \"obs1\": n_old_observation[1],\n",
    "            \"obs2\": n_old_observation[2],\n",
    "            \"obs3\": n_old_observation[3],\n",
    "            \"action\": n_new_action,\n",
    "            \"reward\": n_reward,\n",
    "            \"episode\": i,\n",
    "        })\n",
    "        \n",
    "        n_old_observation = n_observation\n",
    "\n",
    "    for n_em in n_em_memory4:\n",
    "        n_em[\"tot_reward\"] = n_tot_reward\n",
    "    n_life_memory4.extend(n_em_memory4)\n",
    "n_memory_df4 = pandas.DataFrame(n_life_memory4)\n",
    "print(f\"Training time: {n() - t}s\")"
   ]
  },
  {
   "cell_type": "code",
   "execution_count": 48,
   "id": "6165db08",
   "metadata": {},
   "outputs": [
    {
     "data": {
      "text/plain": [
       "133.7"
      ]
     },
     "execution_count": 48,
     "metadata": {},
     "output_type": "execute_result"
    }
   ],
   "source": [
    "n_memory_df4.groupby('episode').reward.sum().mean()"
   ]
  },
  {
   "cell_type": "code",
   "execution_count": 49,
   "id": "846649f9",
   "metadata": {},
   "outputs": [
    {
     "data": {
      "text/plain": [
       "False    9\n",
       "True     1\n",
       "Name: reward, dtype: int64"
      ]
     },
     "execution_count": 49,
     "metadata": {},
     "output_type": "execute_result"
    }
   ],
   "source": [
    "(n_memory_df4.groupby('episode').reward.sum() >= 200).value_counts()"
   ]
  }
 ],
 "metadata": {
  "kernelspec": {
   "display_name": "Python 3 (ipykernel)",
   "language": "python",
   "name": "python3"
  },
  "language_info": {
   "codemirror_mode": {
    "name": "ipython",
    "version": 3
   },
   "file_extension": ".py",
   "mimetype": "text/x-python",
   "name": "python",
   "nbconvert_exporter": "python",
   "pygments_lexer": "ipython3",
   "version": "3.9.6"
  }
 },
 "nbformat": 4,
 "nbformat_minor": 5
}
