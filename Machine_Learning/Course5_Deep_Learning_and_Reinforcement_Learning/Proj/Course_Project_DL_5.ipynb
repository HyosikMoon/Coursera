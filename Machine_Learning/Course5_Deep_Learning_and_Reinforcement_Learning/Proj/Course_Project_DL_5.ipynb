{
 "cells": [
  {
   "cell_type": "code",
   "execution_count": 1,
   "id": "a4020b9e",
   "metadata": {},
   "outputs": [],
   "source": [
    "import gym\n",
    "import pandas\n",
    "import numpy as np\n",
    "\n",
    "env = gym.make('CartPole-v0')"
   ]
  },
  {
   "cell_type": "code",
   "execution_count": 2,
   "id": "d56ce698",
   "metadata": {},
   "outputs": [],
   "source": [
    "env.env?"
   ]
  },
  {
   "cell_type": "code",
   "execution_count": 168,
   "id": "09e0466f",
   "metadata": {},
   "outputs": [],
   "source": [
    "num_episodes = 1000\n",
    "\n",
    "life_memory = []\n",
    "\n",
    "for i in range(num_episodes):\n",
    "    old_observation = env.reset()\n",
    "    done = False\n",
    "    tot_reward = 0\n",
    "    ep_memory = []\n",
    "    while not done:\n",
    "        new_action = env.action_space.sample()\n",
    "        observation, reward, done, info = env.step(new_action)\n",
    "        tot_reward += reward\n",
    "        \n",
    "        ep_memory.append({\n",
    "            \"obs0\": old_observation[0],\n",
    "            \"obs1\": old_observation[1],\n",
    "            \"obs2\": old_observation[2],\n",
    "            \"obs3\": old_observation[3],\n",
    "            \"action\": new_action,\n",
    "            \"reward\": reward,\n",
    "            \"episode\": i,\n",
    "        })\n",
    "        old_observation = observation\n",
    "        \n",
    "    for ep_mem in ep_memory:\n",
    "        ep_mem[\"tot_reward\"] = tot_reward\n",
    "        \n",
    "    life_memory.extend(ep_memory)\n",
    "    \n",
    "memory_df = pandas.DataFrame(life_memory)\n"
   ]
  },
  {
   "cell_type": "code",
   "execution_count": 156,
   "id": "5177427d",
   "metadata": {},
   "outputs": [],
   "source": [
    "cnt = [i for i in memory_df.groupby(\"episode\").count().tot_reward]"
   ]
  },
  {
   "cell_type": "code",
   "execution_count": 157,
   "id": "9a509b31",
   "metadata": {},
   "outputs": [],
   "source": [
    "a = []\n",
    "for j in range(len(cnt)):\n",
    "    for i in range(1, cnt[j] + 1):\n",
    "        a.append(i / cnt[j])"
   ]
  },
  {
   "cell_type": "code",
   "execution_count": 5,
   "id": "d6ac6ee3",
   "metadata": {},
   "outputs": [],
   "source": [
    "memory_df[\"res_reward\"] = memory_df.tot_reward * a"
   ]
  },
  {
   "cell_type": "code",
   "execution_count": 162,
   "id": "27b2d388",
   "metadata": {},
   "outputs": [
    {
     "data": {
      "text/html": [
       "<div>\n",
       "<style scoped>\n",
       "    .dataframe tbody tr th:only-of-type {\n",
       "        vertical-align: middle;\n",
       "    }\n",
       "\n",
       "    .dataframe tbody tr th {\n",
       "        vertical-align: top;\n",
       "    }\n",
       "\n",
       "    .dataframe thead th {\n",
       "        text-align: right;\n",
       "    }\n",
       "</style>\n",
       "<table border=\"1\" class=\"dataframe\">\n",
       "  <thead>\n",
       "    <tr style=\"text-align: right;\">\n",
       "      <th></th>\n",
       "      <th>obs0</th>\n",
       "      <th>obs1</th>\n",
       "      <th>obs2</th>\n",
       "      <th>obs3</th>\n",
       "      <th>action</th>\n",
       "      <th>reward</th>\n",
       "      <th>episode</th>\n",
       "      <th>tot_reward</th>\n",
       "      <th>comb_reward</th>\n",
       "    </tr>\n",
       "  </thead>\n",
       "  <tbody>\n",
       "    <tr>\n",
       "      <th>count</th>\n",
       "      <td>224927.000000</td>\n",
       "      <td>224927.000000</td>\n",
       "      <td>224927.000000</td>\n",
       "      <td>224927.000000</td>\n",
       "      <td>224927.000000</td>\n",
       "      <td>224927.0</td>\n",
       "      <td>224927.000000</td>\n",
       "      <td>224927.000000</td>\n",
       "      <td>224927.000000</td>\n",
       "    </tr>\n",
       "    <tr>\n",
       "      <th>mean</th>\n",
       "      <td>0.000562</td>\n",
       "      <td>0.002332</td>\n",
       "      <td>0.001429</td>\n",
       "      <td>0.005100</td>\n",
       "      <td>0.500718</td>\n",
       "      <td>1.0</td>\n",
       "      <td>4999.833986</td>\n",
       "      <td>28.866499</td>\n",
       "      <td>35.139799</td>\n",
       "    </tr>\n",
       "    <tr>\n",
       "      <th>std</th>\n",
       "      <td>0.095756</td>\n",
       "      <td>0.531259</td>\n",
       "      <td>0.091534</td>\n",
       "      <td>0.780374</td>\n",
       "      <td>0.500001</td>\n",
       "      <td>0.0</td>\n",
       "      <td>2884.336784</td>\n",
       "      <td>15.774200</td>\n",
       "      <td>18.929040</td>\n",
       "    </tr>\n",
       "    <tr>\n",
       "      <th>min</th>\n",
       "      <td>-1.485617</td>\n",
       "      <td>-3.397601</td>\n",
       "      <td>-0.209435</td>\n",
       "      <td>-3.077418</td>\n",
       "      <td>0.000000</td>\n",
       "      <td>1.0</td>\n",
       "      <td>0.000000</td>\n",
       "      <td>8.000000</td>\n",
       "      <td>10.100000</td>\n",
       "    </tr>\n",
       "    <tr>\n",
       "      <th>25%</th>\n",
       "      <td>-0.040545</td>\n",
       "      <td>-0.355573</td>\n",
       "      <td>-0.051205</td>\n",
       "      <td>-0.500130</td>\n",
       "      <td>0.000000</td>\n",
       "      <td>1.0</td>\n",
       "      <td>2519.000000</td>\n",
       "      <td>17.000000</td>\n",
       "      <td>20.900000</td>\n",
       "    </tr>\n",
       "    <tr>\n",
       "      <th>50%</th>\n",
       "      <td>0.000327</td>\n",
       "      <td>0.001069</td>\n",
       "      <td>0.001417</td>\n",
       "      <td>0.003897</td>\n",
       "      <td>1.000000</td>\n",
       "      <td>1.0</td>\n",
       "      <td>5012.000000</td>\n",
       "      <td>25.000000</td>\n",
       "      <td>30.500000</td>\n",
       "    </tr>\n",
       "    <tr>\n",
       "      <th>75%</th>\n",
       "      <td>0.040804</td>\n",
       "      <td>0.356266</td>\n",
       "      <td>0.054722</td>\n",
       "      <td>0.514400</td>\n",
       "      <td>1.000000</td>\n",
       "      <td>1.0</td>\n",
       "      <td>7488.500000</td>\n",
       "      <td>36.000000</td>\n",
       "      <td>43.700000</td>\n",
       "    </tr>\n",
       "    <tr>\n",
       "      <th>max</th>\n",
       "      <td>1.510587</td>\n",
       "      <td>2.967349</td>\n",
       "      <td>0.209437</td>\n",
       "      <td>3.232461</td>\n",
       "      <td>1.000000</td>\n",
       "      <td>1.0</td>\n",
       "      <td>9999.000000</td>\n",
       "      <td>125.000000</td>\n",
       "      <td>150.500000</td>\n",
       "    </tr>\n",
       "  </tbody>\n",
       "</table>\n",
       "</div>"
      ],
      "text/plain": [
       "                obs0           obs1           obs2           obs3  \\\n",
       "count  224927.000000  224927.000000  224927.000000  224927.000000   \n",
       "mean        0.000562       0.002332       0.001429       0.005100   \n",
       "std         0.095756       0.531259       0.091534       0.780374   \n",
       "min        -1.485617      -3.397601      -0.209435      -3.077418   \n",
       "25%        -0.040545      -0.355573      -0.051205      -0.500130   \n",
       "50%         0.000327       0.001069       0.001417       0.003897   \n",
       "75%         0.040804       0.356266       0.054722       0.514400   \n",
       "max         1.510587       2.967349       0.209437       3.232461   \n",
       "\n",
       "              action    reward        episode     tot_reward    comb_reward  \n",
       "count  224927.000000  224927.0  224927.000000  224927.000000  224927.000000  \n",
       "mean        0.500718       1.0    4999.833986      28.866499      35.139799  \n",
       "std         0.500001       0.0    2884.336784      15.774200      18.929040  \n",
       "min         0.000000       1.0       0.000000       8.000000      10.100000  \n",
       "25%         0.000000       1.0    2519.000000      17.000000      20.900000  \n",
       "50%         1.000000       1.0    5012.000000      25.000000      30.500000  \n",
       "75%         1.000000       1.0    7488.500000      36.000000      43.700000  \n",
       "max         1.000000       1.0    9999.000000     125.000000     150.500000  "
      ]
     },
     "execution_count": 162,
     "metadata": {},
     "output_type": "execute_result"
    }
   ],
   "source": [
    "memory_df.describe()"
   ]
  },
  {
   "cell_type": "code",
   "execution_count": 7,
   "id": "c0715606",
   "metadata": {},
   "outputs": [],
   "source": [
    "# memory_df.groupby(\"episode\").reward.sum().mean()\n",
    "# memory_df[\"comb_reward\"] = .5*memory_df.reward + memory_df.res_reward"
   ]
  },
  {
   "cell_type": "code",
   "execution_count": 169,
   "id": "9fa43b20",
   "metadata": {},
   "outputs": [],
   "source": [
    "memory_df.groupby(\"episode\").reward.sum().mean()\n",
    "memory_df[\"comb_reward\"] = .5*memory_df.reward + 1.2 * memory_df.tot_reward"
   ]
  },
  {
   "cell_type": "code",
   "execution_count": 170,
   "id": "ec3e170b",
   "metadata": {},
   "outputs": [
    {
     "data": {
      "text/html": [
       "<div>\n",
       "<style scoped>\n",
       "    .dataframe tbody tr th:only-of-type {\n",
       "        vertical-align: middle;\n",
       "    }\n",
       "\n",
       "    .dataframe tbody tr th {\n",
       "        vertical-align: top;\n",
       "    }\n",
       "\n",
       "    .dataframe thead th {\n",
       "        text-align: right;\n",
       "    }\n",
       "</style>\n",
       "<table border=\"1\" class=\"dataframe\">\n",
       "  <thead>\n",
       "    <tr style=\"text-align: right;\">\n",
       "      <th></th>\n",
       "      <th>obs0</th>\n",
       "      <th>obs1</th>\n",
       "      <th>obs2</th>\n",
       "      <th>obs3</th>\n",
       "      <th>action</th>\n",
       "      <th>reward</th>\n",
       "      <th>episode</th>\n",
       "      <th>tot_reward</th>\n",
       "      <th>comb_reward</th>\n",
       "    </tr>\n",
       "  </thead>\n",
       "  <tbody>\n",
       "    <tr>\n",
       "      <th>0</th>\n",
       "      <td>-0.008814</td>\n",
       "      <td>-0.049155</td>\n",
       "      <td>0.021777</td>\n",
       "      <td>0.008311</td>\n",
       "      <td>0</td>\n",
       "      <td>1.0</td>\n",
       "      <td>0</td>\n",
       "      <td>22.0</td>\n",
       "      <td>26.9</td>\n",
       "    </tr>\n",
       "    <tr>\n",
       "      <th>1</th>\n",
       "      <td>-0.009797</td>\n",
       "      <td>-0.244583</td>\n",
       "      <td>0.021943</td>\n",
       "      <td>0.307784</td>\n",
       "      <td>1</td>\n",
       "      <td>1.0</td>\n",
       "      <td>0</td>\n",
       "      <td>22.0</td>\n",
       "      <td>26.9</td>\n",
       "    </tr>\n",
       "    <tr>\n",
       "      <th>2</th>\n",
       "      <td>-0.014689</td>\n",
       "      <td>-0.049780</td>\n",
       "      <td>0.028099</td>\n",
       "      <td>0.022102</td>\n",
       "      <td>0</td>\n",
       "      <td>1.0</td>\n",
       "      <td>0</td>\n",
       "      <td>22.0</td>\n",
       "      <td>26.9</td>\n",
       "    </tr>\n",
       "    <tr>\n",
       "      <th>3</th>\n",
       "      <td>-0.015684</td>\n",
       "      <td>-0.245294</td>\n",
       "      <td>0.028541</td>\n",
       "      <td>0.323516</td>\n",
       "      <td>1</td>\n",
       "      <td>1.0</td>\n",
       "      <td>0</td>\n",
       "      <td>22.0</td>\n",
       "      <td>26.9</td>\n",
       "    </tr>\n",
       "    <tr>\n",
       "      <th>4</th>\n",
       "      <td>-0.020590</td>\n",
       "      <td>-0.050589</td>\n",
       "      <td>0.035011</td>\n",
       "      <td>0.039969</td>\n",
       "      <td>0</td>\n",
       "      <td>1.0</td>\n",
       "      <td>0</td>\n",
       "      <td>22.0</td>\n",
       "      <td>26.9</td>\n",
       "    </tr>\n",
       "    <tr>\n",
       "      <th>...</th>\n",
       "      <td>...</td>\n",
       "      <td>...</td>\n",
       "      <td>...</td>\n",
       "      <td>...</td>\n",
       "      <td>...</td>\n",
       "      <td>...</td>\n",
       "      <td>...</td>\n",
       "      <td>...</td>\n",
       "      <td>...</td>\n",
       "    </tr>\n",
       "    <tr>\n",
       "      <th>22486</th>\n",
       "      <td>-0.017757</td>\n",
       "      <td>-0.557716</td>\n",
       "      <td>0.116796</td>\n",
       "      <td>1.028684</td>\n",
       "      <td>1</td>\n",
       "      <td>1.0</td>\n",
       "      <td>999</td>\n",
       "      <td>14.0</td>\n",
       "      <td>17.3</td>\n",
       "    </tr>\n",
       "    <tr>\n",
       "      <th>22487</th>\n",
       "      <td>-0.028911</td>\n",
       "      <td>-0.364325</td>\n",
       "      <td>0.137370</td>\n",
       "      <td>0.774835</td>\n",
       "      <td>0</td>\n",
       "      <td>1.0</td>\n",
       "      <td>999</td>\n",
       "      <td>14.0</td>\n",
       "      <td>17.3</td>\n",
       "    </tr>\n",
       "    <tr>\n",
       "      <th>22488</th>\n",
       "      <td>-0.036198</td>\n",
       "      <td>-0.561043</td>\n",
       "      <td>0.152867</td>\n",
       "      <td>1.107391</td>\n",
       "      <td>0</td>\n",
       "      <td>1.0</td>\n",
       "      <td>999</td>\n",
       "      <td>14.0</td>\n",
       "      <td>17.3</td>\n",
       "    </tr>\n",
       "    <tr>\n",
       "      <th>22489</th>\n",
       "      <td>-0.047418</td>\n",
       "      <td>-0.757807</td>\n",
       "      <td>0.175015</td>\n",
       "      <td>1.443863</td>\n",
       "      <td>1</td>\n",
       "      <td>1.0</td>\n",
       "      <td>999</td>\n",
       "      <td>14.0</td>\n",
       "      <td>17.3</td>\n",
       "    </tr>\n",
       "    <tr>\n",
       "      <th>22490</th>\n",
       "      <td>-0.062575</td>\n",
       "      <td>-0.565217</td>\n",
       "      <td>0.203892</td>\n",
       "      <td>1.210584</td>\n",
       "      <td>1</td>\n",
       "      <td>1.0</td>\n",
       "      <td>999</td>\n",
       "      <td>14.0</td>\n",
       "      <td>17.3</td>\n",
       "    </tr>\n",
       "  </tbody>\n",
       "</table>\n",
       "<p>22491 rows × 9 columns</p>\n",
       "</div>"
      ],
      "text/plain": [
       "           obs0      obs1      obs2      obs3  action  reward  episode  \\\n",
       "0     -0.008814 -0.049155  0.021777  0.008311       0     1.0        0   \n",
       "1     -0.009797 -0.244583  0.021943  0.307784       1     1.0        0   \n",
       "2     -0.014689 -0.049780  0.028099  0.022102       0     1.0        0   \n",
       "3     -0.015684 -0.245294  0.028541  0.323516       1     1.0        0   \n",
       "4     -0.020590 -0.050589  0.035011  0.039969       0     1.0        0   \n",
       "...         ...       ...       ...       ...     ...     ...      ...   \n",
       "22486 -0.017757 -0.557716  0.116796  1.028684       1     1.0      999   \n",
       "22487 -0.028911 -0.364325  0.137370  0.774835       0     1.0      999   \n",
       "22488 -0.036198 -0.561043  0.152867  1.107391       0     1.0      999   \n",
       "22489 -0.047418 -0.757807  0.175015  1.443863       1     1.0      999   \n",
       "22490 -0.062575 -0.565217  0.203892  1.210584       1     1.0      999   \n",
       "\n",
       "       tot_reward  comb_reward  \n",
       "0            22.0         26.9  \n",
       "1            22.0         26.9  \n",
       "2            22.0         26.9  \n",
       "3            22.0         26.9  \n",
       "4            22.0         26.9  \n",
       "...           ...          ...  \n",
       "22486        14.0         17.3  \n",
       "22487        14.0         17.3  \n",
       "22488        14.0         17.3  \n",
       "22489        14.0         17.3  \n",
       "22490        14.0         17.3  \n",
       "\n",
       "[22491 rows x 9 columns]"
      ]
     },
     "execution_count": 170,
     "metadata": {},
     "output_type": "execute_result"
    }
   ],
   "source": [
    "memory_df"
   ]
  },
  {
   "cell_type": "code",
   "execution_count": 7,
   "id": "38cb2507",
   "metadata": {},
   "outputs": [
    {
     "name": "stdout",
     "output_type": "stream",
     "text": [
      "Training time: 0:06:21.387082s\n"
     ]
    }
   ],
   "source": [
    "from sklearn.ensemble import RandomForestRegressor, AdaBoostRegressor, ExtraTreesRegressor\n",
    "import datetime\n",
    "\n",
    "n = datetime.datetime.now\n",
    "t = n()\n",
    "\n",
    "RandomForest = RandomForestRegressor()\n",
    "RandomForest.fit(memory_df[[\"obs0\", \"obs1\", \"obs2\", \"obs3\", \"action\"]], memory_df.comb_reward)\n",
    "print(f\"Training time: {n() - t}s\")"
   ]
  },
  {
   "cell_type": "code",
   "execution_count": null,
   "id": "c9677653",
   "metadata": {},
   "outputs": [],
   "source": [
    "AdaBoost = AdaBoostRegressor()\n",
    "AdaBoost.fit(memory_df[[\"obs0\", \"obs1\", \"obs2\", \"obs3\", \"action\"]], memory_df.comb_reward)"
   ]
  },
  {
   "cell_type": "code",
   "execution_count": 5,
   "id": "f1c77271",
   "metadata": {},
   "outputs": [
    {
     "data": {
      "text/plain": [
       "ExtraTreesRegressor()"
      ]
     },
     "execution_count": 5,
     "metadata": {},
     "output_type": "execute_result"
    }
   ],
   "source": [
    "from sklearn.ensemble import RandomForestRegressor, AdaBoostRegressor, ExtraTreesRegressor\n",
    "\n",
    "ExtraTrees = ExtraTreesRegressor()\n",
    "ExtraTrees.fit(memory_df[[\"obs0\", \"obs1\", \"obs2\", \"obs3\", \"action\"]], memory_df.comb_reward)"
   ]
  },
  {
   "cell_type": "code",
   "execution_count": null,
   "id": "ec5a7ed2",
   "metadata": {},
   "outputs": [],
   "source": [
    "t = n()\n",
    "num_episodes = 100\n",
    "a_life_memory = []\n",
    "a_env = gym.make('CartPole-v0')\n",
    "for i in range(num_episodes):\n",
    "    a_old_observation = a_env.reset()\n",
    "    a_done = False\n",
    "    a_tot_reward = 0\n",
    "    a_em_memory = []\n",
    "    \n",
    "    while not a_done:\n",
    "        pred_in = [list(a_old_observation) + [i] for i in range(2)]\n",
    "        a_new_action = np.argmax(AdaBoost.predict(pred_in))\n",
    "        a_observation, a_reward, a_done, a_info = a_env.step(a_new_action)\n",
    "        a_tot_reward += a_reward\n",
    "        \n",
    "        a_em_memory.append({\n",
    "            \"obs0\": a_old_observation[0],\n",
    "            \"obs1\": a_old_observation[1],\n",
    "            \"obs2\": a_old_observation[2],\n",
    "            \"obs3\": a_old_observation[3],\n",
    "            \"action\": a_new_action,\n",
    "            \"reward\": a_reward,\n",
    "            \"episode\": i,\n",
    "        })\n",
    "        \n",
    "        a_old_observation = a_observation\n",
    "\n",
    "    for a_em in a_em_memory:\n",
    "        a_em[\"tot_reward\"] = a_tot_reward\n",
    "        \n",
    "    a_life_memory.extend(a_em_memory)\n",
    "a_memory_df = pandas.DataFrame(a_life_memory)\n",
    "print(f\"Training time: {n() - t}s\")"
   ]
  },
  {
   "cell_type": "code",
   "execution_count": null,
   "id": "7540e8ca",
   "metadata": {},
   "outputs": [],
   "source": [
    "a_memory_df.shape"
   ]
  },
  {
   "cell_type": "code",
   "execution_count": null,
   "id": "26063d43",
   "metadata": {},
   "outputs": [],
   "source": []
  },
  {
   "cell_type": "code",
   "execution_count": 8,
   "id": "8e3c65ee",
   "metadata": {},
   "outputs": [
    {
     "name": "stdout",
     "output_type": "stream",
     "text": [
      "Training time: 0:01:32.868485s\n"
     ]
    }
   ],
   "source": [
    "t = n()\n",
    "num_episodes = 100\n",
    "r_life_memory = []\n",
    "r_env = gym.make('CartPole-v0')\n",
    "for i in range(num_episodes):\n",
    "    r_old_observation = r_env.reset()\n",
    "    r_done = False\n",
    "    r_tot_reward = 0\n",
    "    r_em_memory = []\n",
    "    while not r_done:\n",
    "        pred_in = [list(r_old_observation) + [i] for i in range(2)]\n",
    "        r_new_action = np.argmax(RandomForest.predict(pred_in))\n",
    "        r_observation, r_reward, r_done, r_info = r_env.step(r_new_action)\n",
    "        r_tot_reward += r_reward\n",
    "        \n",
    "        r_em_memory.append({\n",
    "            \"obs0\": r_old_observation[0],\n",
    "            \"obs1\": r_old_observation[1],\n",
    "            \"obs2\": r_old_observation[2],\n",
    "            \"obs3\": r_old_observation[3],\n",
    "            \"action\": r_new_action,\n",
    "            \"reward\": r_reward,\n",
    "            \"episode\": i,\n",
    "        })\n",
    "        \n",
    "        r_old_observation = r_observation\n",
    "        \n",
    "    for r_em in r_em_memory:\n",
    "        r_em[\"tot_reward\"] = r_tot_reward\n",
    "        \n",
    "    r_life_memory.extend(r_em_memory)\n",
    "r_memory_df = pandas.DataFrame(r_life_memory)\n",
    "print(f\"Training time: {n() - t}s\")"
   ]
  },
  {
   "cell_type": "code",
   "execution_count": 9,
   "id": "7126a344",
   "metadata": {},
   "outputs": [
    {
     "data": {
      "text/plain": [
       "(15715, 8)"
      ]
     },
     "execution_count": 9,
     "metadata": {},
     "output_type": "execute_result"
    }
   ],
   "source": [
    "pandas.DataFrame(r_life_memory).shape"
   ]
  },
  {
   "cell_type": "code",
   "execution_count": 10,
   "id": "612c6d30",
   "metadata": {},
   "outputs": [
    {
     "data": {
      "text/plain": [
       "157.15"
      ]
     },
     "execution_count": 10,
     "metadata": {},
     "output_type": "execute_result"
    }
   ],
   "source": [
    "r_memory_df.groupby(\"episode\").reward.sum().mean()"
   ]
  },
  {
   "cell_type": "code",
   "execution_count": 8,
   "id": "34177ec3",
   "metadata": {},
   "outputs": [],
   "source": [
    "import datetime \n",
    "\n",
    "n = datetime.datetime.now\n",
    "t = n()"
   ]
  },
  {
   "cell_type": "code",
   "execution_count": 10,
   "id": "bcc4ff4e",
   "metadata": {},
   "outputs": [
    {
     "name": "stdout",
     "output_type": "stream",
     "text": [
      "Training time: 0:01:24.926064s\n"
     ]
    }
   ],
   "source": [
    "t = n()\n",
    "num_episodes = 100\n",
    "e_life_memory = []\n",
    "e_env = gym.make('CartPole-v0')\n",
    "for i in range(num_episodes):\n",
    "    e_old_observation = e_env.reset()\n",
    "    e_done = False\n",
    "    e_tot_reward = 0\n",
    "    e_em_memory = []\n",
    "    while not e_done:\n",
    "        pred_in = [list(e_old_observation) + [i] for i in range(2)]\n",
    "        e_new_action = np.argmax(ExtraTrees.predict(pred_in))\n",
    "        e_observation, e_reward, e_done, e_info = e_env.step(e_new_action)\n",
    "        e_tot_reward += e_reward\n",
    "        e_em_memory.append({\n",
    "            \"obs0\": e_old_observation[0],\n",
    "            \"obs1\": e_old_observation[1],\n",
    "            \"obs2\": e_old_observation[2],\n",
    "            \"obs3\": e_old_observation[3],\n",
    "            \"action\": e_new_action,\n",
    "            \"reward\": e_reward,\n",
    "            \"episode\": i,\n",
    "        })\n",
    "        \n",
    "        e_old_observation = e_observation\n",
    "\n",
    "    for e_em in e_em_memory:\n",
    "        e_em[\"tot_reward\"] = e_tot_reward\n",
    "    e_life_memory.extend(e_em_memory)\n",
    "e_memory_df = pandas.DataFrame(e_life_memory)\n",
    "print(f\"Training time: {n() - t}s\")"
   ]
  },
  {
   "cell_type": "code",
   "execution_count": null,
   "id": "1568ec4b",
   "metadata": {},
   "outputs": [],
   "source": [
    "e_env.reset()\n",
    "e_env.step(1)"
   ]
  },
  {
   "cell_type": "code",
   "execution_count": null,
   "id": "e0467558",
   "metadata": {},
   "outputs": [],
   "source": [
    "np.argmax(ExtraTrees.predict([[ 0.03719052,  0.20216305,  0.01937592, -0.24454289, 1], [ 0.03719052,  0.20216305,  0.01937592, -0.24454289, 0]]))"
   ]
  },
  {
   "cell_type": "code",
   "execution_count": 11,
   "id": "2189b699",
   "metadata": {},
   "outputs": [
    {
     "data": {
      "text/plain": [
       "157.15"
      ]
     },
     "execution_count": 11,
     "metadata": {},
     "output_type": "execute_result"
    }
   ],
   "source": [
    "r_memory_df.groupby(\"episode\").reward.sum().mean()"
   ]
  },
  {
   "cell_type": "code",
   "execution_count": 12,
   "id": "0b47dfb1",
   "metadata": {},
   "outputs": [
    {
     "data": {
      "text/plain": [
       "False    65\n",
       "True     35\n",
       "Name: reward, dtype: int64"
      ]
     },
     "execution_count": 12,
     "metadata": {},
     "output_type": "execute_result"
    }
   ],
   "source": [
    "(r_memory_df.groupby(\"episode\").reward.sum() >= 200).value_counts()"
   ]
  },
  {
   "cell_type": "code",
   "execution_count": null,
   "id": "619692ee",
   "metadata": {},
   "outputs": [],
   "source": [
    "a_memory_df.groupby(\"episode\").reward.sum().mean()"
   ]
  },
  {
   "cell_type": "code",
   "execution_count": null,
   "id": "8c79dd1f",
   "metadata": {},
   "outputs": [],
   "source": [
    "(a_memory_df.groupby(\"episode\").reward.sum() >= 200).value_counts()"
   ]
  },
  {
   "cell_type": "code",
   "execution_count": 11,
   "id": "4e3c1f45",
   "metadata": {},
   "outputs": [
    {
     "data": {
      "text/plain": [
       "138.02"
      ]
     },
     "execution_count": 11,
     "metadata": {},
     "output_type": "execute_result"
    }
   ],
   "source": [
    "e_memory_df.groupby(\"episode\").reward.sum().mean()"
   ]
  },
  {
   "cell_type": "code",
   "execution_count": 12,
   "id": "98dbe905",
   "metadata": {},
   "outputs": [
    {
     "data": {
      "text/plain": [
       "False    83\n",
       "True     17\n",
       "Name: reward, dtype: int64"
      ]
     },
     "execution_count": 12,
     "metadata": {},
     "output_type": "execute_result"
    }
   ],
   "source": [
    "(e_memory_df.groupby(\"episode\").reward.sum() >= 200).value_counts()"
   ]
  },
  {
   "cell_type": "code",
   "execution_count": 15,
   "id": "754bd40f",
   "metadata": {},
   "outputs": [
    {
     "data": {
      "text/plain": [
       "[]"
      ]
     },
     "execution_count": 15,
     "metadata": {},
     "output_type": "execute_result"
    }
   ],
   "source": [
    "[i for i in range(50, 40)]"
   ]
  },
  {
   "cell_type": "code",
   "execution_count": 13,
   "id": "d6b381d1",
   "metadata": {},
   "outputs": [
    {
     "data": {
      "text/plain": [
       "(221395, 9)"
      ]
     },
     "execution_count": 13,
     "metadata": {},
     "output_type": "execute_result"
    }
   ],
   "source": [
    "memory_df.shape"
   ]
  },
  {
   "cell_type": "code",
   "execution_count": 14,
   "id": "d0ebf1dd",
   "metadata": {},
   "outputs": [],
   "source": [
    "x = memory_df[[\"obs0\", \"obs1\", \"obs2\", \"obs3\", \"action\"]]\n",
    "y = memory_df.comb_reward"
   ]
  },
  {
   "cell_type": "code",
   "execution_count": 15,
   "id": "0331e74d",
   "metadata": {},
   "outputs": [],
   "source": [
    "from tensorflow.keras.layers import Input, Dense\n",
    "from tensorflow.keras.models import Model"
   ]
  },
  {
   "cell_type": "code",
   "execution_count": 16,
   "id": "f6df662a",
   "metadata": {},
   "outputs": [],
   "source": [
    "ENCODING_DIM = 64\n",
    "HIDDEN_DIM = 256\n",
    "### BEGIN SOLUTION\n",
    "# Encoder model\n",
    "inputs = Input(shape=(5,)) \n",
    "encoder_hidden = Dense(HIDDEN_DIM, activation=\"sigmoid\")(inputs)\n",
    "encoded = Dense(ENCODING_DIM, activation=\"relu\")(encoder_hidden)\n",
    "encoder_model = Model(inputs, encoded, name='encoder')\n",
    "\n",
    "# Decoder model\n",
    "encoded_inputs = Input(shape=(ENCODING_DIM,), name='encoding')\n",
    "decoder_hidden = Dense(HIDDEN_DIM, activation=\"relu\")(encoded_inputs)\n",
    "reconstruction = Dense(1, activation=\"sigmoid\")(decoder_hidden)\n",
    "decoder_model = Model(encoded_inputs, reconstruction, name='decoder')\n",
    "\n",
    "# Defining the full model as the combination of the two\n",
    "outputs = decoder_model(encoder_model(inputs))\n",
    "full_model = Model(inputs, outputs, name='full_ae')"
   ]
  },
  {
   "cell_type": "code",
   "execution_count": 17,
   "id": "14b982c2",
   "metadata": {},
   "outputs": [],
   "source": [
    "# full_model = Model(inputs=inputs, \n",
    "#                    outputs=outputs)\n",
    "\n",
    "full_model.compile(optimizer='rmsprop',\n",
    "                 loss='binary_crossentropy',\n",
    "                 metrics=['accuracy'])"
   ]
  },
  {
   "cell_type": "code",
   "execution_count": 18,
   "id": "d437cf46",
   "metadata": {},
   "outputs": [
    {
     "name": "stdout",
     "output_type": "stream",
     "text": [
      "Model: \"full_ae\"\n",
      "_________________________________________________________________\n",
      "Layer (type)                 Output Shape              Param #   \n",
      "=================================================================\n",
      "input_1 (InputLayer)         [(None, 5)]               0         \n",
      "_________________________________________________________________\n",
      "encoder (Functional)         (None, 64)                17984     \n",
      "_________________________________________________________________\n",
      "decoder (Functional)         (None, 1)                 16897     \n",
      "=================================================================\n",
      "Total params: 34,881\n",
      "Trainable params: 34,881\n",
      "Non-trainable params: 0\n",
      "_________________________________________________________________\n"
     ]
    }
   ],
   "source": [
    "full_model.summary()"
   ]
  },
  {
   "cell_type": "code",
   "execution_count": 19,
   "id": "227cab55",
   "metadata": {
    "scrolled": true
   },
   "outputs": [
    {
     "name": "stdout",
     "output_type": "stream",
     "text": [
      "Epoch 1/5\n",
      "6919/6919 [==============================] - 8s 1ms/step - loss: -1186426880.0000 - accuracy: 0.0000e+00\n",
      "Epoch 2/5\n",
      "6919/6919 [==============================] - 8s 1ms/step - loss: -17254608896.0000 - accuracy: 0.0000e+00\n",
      "Epoch 3/5\n",
      "6919/6919 [==============================] - 8s 1ms/step - loss: -73768976384.0000 - accuracy: 0.0000e+00\n",
      "Epoch 4/5\n",
      "6919/6919 [==============================] - 8s 1ms/step - loss: -197406605312.0000 - accuracy: 0.0000e+00\n",
      "Epoch 5/5\n",
      "6919/6919 [==============================] - 8s 1ms/step - loss: -414615437312.0000 - accuracy: 0.0000e+00\n"
     ]
    }
   ],
   "source": [
    "history = full_model.fit(x, y, shuffle=True, epochs=5)"
   ]
  },
  {
   "cell_type": "code",
   "execution_count": 173,
   "id": "655d712f",
   "metadata": {},
   "outputs": [
    {
     "data": {
      "text/html": [
       "<div>\n",
       "<style scoped>\n",
       "    .dataframe tbody tr th:only-of-type {\n",
       "        vertical-align: middle;\n",
       "    }\n",
       "\n",
       "    .dataframe tbody tr th {\n",
       "        vertical-align: top;\n",
       "    }\n",
       "\n",
       "    .dataframe thead th {\n",
       "        text-align: right;\n",
       "    }\n",
       "</style>\n",
       "<table border=\"1\" class=\"dataframe\">\n",
       "  <thead>\n",
       "    <tr style=\"text-align: right;\">\n",
       "      <th></th>\n",
       "      <th>obs0</th>\n",
       "      <th>obs1</th>\n",
       "      <th>obs2</th>\n",
       "      <th>obs3</th>\n",
       "      <th>action</th>\n",
       "      <th>reward</th>\n",
       "      <th>episode</th>\n",
       "      <th>tot_reward</th>\n",
       "      <th>comb_reward</th>\n",
       "    </tr>\n",
       "  </thead>\n",
       "  <tbody>\n",
       "    <tr>\n",
       "      <th>0</th>\n",
       "      <td>-0.008814</td>\n",
       "      <td>-0.049155</td>\n",
       "      <td>0.021777</td>\n",
       "      <td>0.008311</td>\n",
       "      <td>0</td>\n",
       "      <td>1.0</td>\n",
       "      <td>0</td>\n",
       "      <td>22.0</td>\n",
       "      <td>26.9</td>\n",
       "    </tr>\n",
       "    <tr>\n",
       "      <th>1</th>\n",
       "      <td>-0.009797</td>\n",
       "      <td>-0.244583</td>\n",
       "      <td>0.021943</td>\n",
       "      <td>0.307784</td>\n",
       "      <td>1</td>\n",
       "      <td>1.0</td>\n",
       "      <td>0</td>\n",
       "      <td>22.0</td>\n",
       "      <td>26.9</td>\n",
       "    </tr>\n",
       "    <tr>\n",
       "      <th>2</th>\n",
       "      <td>-0.014689</td>\n",
       "      <td>-0.049780</td>\n",
       "      <td>0.028099</td>\n",
       "      <td>0.022102</td>\n",
       "      <td>0</td>\n",
       "      <td>1.0</td>\n",
       "      <td>0</td>\n",
       "      <td>22.0</td>\n",
       "      <td>26.9</td>\n",
       "    </tr>\n",
       "    <tr>\n",
       "      <th>3</th>\n",
       "      <td>-0.015684</td>\n",
       "      <td>-0.245294</td>\n",
       "      <td>0.028541</td>\n",
       "      <td>0.323516</td>\n",
       "      <td>1</td>\n",
       "      <td>1.0</td>\n",
       "      <td>0</td>\n",
       "      <td>22.0</td>\n",
       "      <td>26.9</td>\n",
       "    </tr>\n",
       "    <tr>\n",
       "      <th>4</th>\n",
       "      <td>-0.020590</td>\n",
       "      <td>-0.050589</td>\n",
       "      <td>0.035011</td>\n",
       "      <td>0.039969</td>\n",
       "      <td>0</td>\n",
       "      <td>1.0</td>\n",
       "      <td>0</td>\n",
       "      <td>22.0</td>\n",
       "      <td>26.9</td>\n",
       "    </tr>\n",
       "    <tr>\n",
       "      <th>...</th>\n",
       "      <td>...</td>\n",
       "      <td>...</td>\n",
       "      <td>...</td>\n",
       "      <td>...</td>\n",
       "      <td>...</td>\n",
       "      <td>...</td>\n",
       "      <td>...</td>\n",
       "      <td>...</td>\n",
       "      <td>...</td>\n",
       "    </tr>\n",
       "    <tr>\n",
       "      <th>22486</th>\n",
       "      <td>-0.017757</td>\n",
       "      <td>-0.557716</td>\n",
       "      <td>0.116796</td>\n",
       "      <td>1.028684</td>\n",
       "      <td>1</td>\n",
       "      <td>1.0</td>\n",
       "      <td>999</td>\n",
       "      <td>14.0</td>\n",
       "      <td>17.3</td>\n",
       "    </tr>\n",
       "    <tr>\n",
       "      <th>22487</th>\n",
       "      <td>-0.028911</td>\n",
       "      <td>-0.364325</td>\n",
       "      <td>0.137370</td>\n",
       "      <td>0.774835</td>\n",
       "      <td>0</td>\n",
       "      <td>1.0</td>\n",
       "      <td>999</td>\n",
       "      <td>14.0</td>\n",
       "      <td>17.3</td>\n",
       "    </tr>\n",
       "    <tr>\n",
       "      <th>22488</th>\n",
       "      <td>-0.036198</td>\n",
       "      <td>-0.561043</td>\n",
       "      <td>0.152867</td>\n",
       "      <td>1.107391</td>\n",
       "      <td>0</td>\n",
       "      <td>1.0</td>\n",
       "      <td>999</td>\n",
       "      <td>14.0</td>\n",
       "      <td>17.3</td>\n",
       "    </tr>\n",
       "    <tr>\n",
       "      <th>22489</th>\n",
       "      <td>-0.047418</td>\n",
       "      <td>-0.757807</td>\n",
       "      <td>0.175015</td>\n",
       "      <td>1.443863</td>\n",
       "      <td>1</td>\n",
       "      <td>1.0</td>\n",
       "      <td>999</td>\n",
       "      <td>14.0</td>\n",
       "      <td>17.3</td>\n",
       "    </tr>\n",
       "    <tr>\n",
       "      <th>22490</th>\n",
       "      <td>-0.062575</td>\n",
       "      <td>-0.565217</td>\n",
       "      <td>0.203892</td>\n",
       "      <td>1.210584</td>\n",
       "      <td>1</td>\n",
       "      <td>1.0</td>\n",
       "      <td>999</td>\n",
       "      <td>14.0</td>\n",
       "      <td>17.3</td>\n",
       "    </tr>\n",
       "  </tbody>\n",
       "</table>\n",
       "<p>22491 rows × 9 columns</p>\n",
       "</div>"
      ],
      "text/plain": [
       "           obs0      obs1      obs2      obs3  action  reward  episode  \\\n",
       "0     -0.008814 -0.049155  0.021777  0.008311       0     1.0        0   \n",
       "1     -0.009797 -0.244583  0.021943  0.307784       1     1.0        0   \n",
       "2     -0.014689 -0.049780  0.028099  0.022102       0     1.0        0   \n",
       "3     -0.015684 -0.245294  0.028541  0.323516       1     1.0        0   \n",
       "4     -0.020590 -0.050589  0.035011  0.039969       0     1.0        0   \n",
       "...         ...       ...       ...       ...     ...     ...      ...   \n",
       "22486 -0.017757 -0.557716  0.116796  1.028684       1     1.0      999   \n",
       "22487 -0.028911 -0.364325  0.137370  0.774835       0     1.0      999   \n",
       "22488 -0.036198 -0.561043  0.152867  1.107391       0     1.0      999   \n",
       "22489 -0.047418 -0.757807  0.175015  1.443863       1     1.0      999   \n",
       "22490 -0.062575 -0.565217  0.203892  1.210584       1     1.0      999   \n",
       "\n",
       "       tot_reward  comb_reward  \n",
       "0            22.0         26.9  \n",
       "1            22.0         26.9  \n",
       "2            22.0         26.9  \n",
       "3            22.0         26.9  \n",
       "4            22.0         26.9  \n",
       "...           ...          ...  \n",
       "22486        14.0         17.3  \n",
       "22487        14.0         17.3  \n",
       "22488        14.0         17.3  \n",
       "22489        14.0         17.3  \n",
       "22490        14.0         17.3  \n",
       "\n",
       "[22491 rows x 9 columns]"
      ]
     },
     "execution_count": 173,
     "metadata": {},
     "output_type": "execute_result"
    }
   ],
   "source": [
    "memory_df"
   ]
  },
  {
   "cell_type": "code",
   "execution_count": 174,
   "id": "61c848d8",
   "metadata": {},
   "outputs": [],
   "source": [
    "x_mat = memory_df[[\"obs0\", \"obs1\", \"obs2\", \"obs3\", \"action\"]].to_numpy()\n",
    "y = memory_df['comb_reward'].to_numpy()\n",
    "num_ = memory_df.shape[0]"
   ]
  },
  {
   "cell_type": "code",
   "execution_count": 175,
   "id": "9b5a16d7",
   "metadata": {},
   "outputs": [],
   "source": [
    "from sklearn.preprocessing import MinMaxScaler\n",
    "\n",
    "s = MinMaxScaler()\n",
    "y = s.fit_transform(y.reshape(-1,1))\n",
    "y = y.reshape(-1,)"
   ]
  },
  {
   "cell_type": "code",
   "execution_count": 176,
   "id": "0a0bb377",
   "metadata": {},
   "outputs": [],
   "source": [
    "W_1 = np.random.uniform(-1,1,size=(5,64))\n",
    "W_2 = np.random.uniform(-1,1,size=(64))"
   ]
  },
  {
   "cell_type": "code",
   "execution_count": 177,
   "id": "051e82c6",
   "metadata": {},
   "outputs": [
    {
     "data": {
      "text/plain": [
       "(64,)"
      ]
     },
     "execution_count": 177,
     "metadata": {},
     "output_type": "execute_result"
    }
   ],
   "source": [
    "W_2.shape"
   ]
  },
  {
   "cell_type": "code",
   "execution_count": 178,
   "id": "d076e63a",
   "metadata": {},
   "outputs": [],
   "source": [
    "# Practice\n",
    "def sigmoid(x):\n",
    "    return 1 / (1 + np.exp(-x))\n",
    "\n",
    "def loss_fn(y_true, y_pred, eps=1e-16):\n",
    "    \"\"\"\n",
    "    Loss function we would like to optimize (minimize)\n",
    "    We are using Logarithmic Loss\n",
    "    http://scikit-learn.org/stable/modules/model_evaluation.html#log-loss\n",
    "    \"\"\"\n",
    "    y_pred = np.maximum(y_pred,eps)\n",
    "    y_pred = np.minimum(y_pred,(1-eps))\n",
    "    return -(np.sum(y_true * np.log(y_pred)) + np.sum((1-y_true)*np.log(1-y_pred)))/len(y_true)\n",
    "\n",
    "# def loss_fn(y_true, y_pred, eps=1e-16):\n",
    "#     y_pred = np.maximum(y_pred, eps)\n",
    "#     y_pred = np.minimum(y_pred, (1-eps))\n",
    "#     return -(np.sum(y_true * np.log(y_pred)) + np.sum((1-y_true)*np.log(1-y_pred)))/len(y_true)\n",
    "\n",
    "\n",
    "def forward_pass(W_1, W_2):\n",
    "    global x_mat\n",
    "    global y\n",
    "    global num_\n",
    "\n",
    "    z_2 = np.dot(x_mat, W_1)    # (221191 , 5) x (5, 64) = (221191 , 64)\n",
    "    a_2 = sigmoid(z_2)          # (221191 , 64)\n",
    "    z_3 = np.dot(a_2, W_2)      # (221191 , 64) x (64, ) = (221191 , )\n",
    "    y_pred = sigmoid(z_3).reshape((len(x_mat),))      # (221191 , )\n",
    "    J_z_3_grad = -y + y_pred      # (221191 , )\n",
    "    J_W_2_grad = np.dot(J_z_3_grad, a_2)      # (221191 , ) x (221191 , 64) = (64, )\n",
    "    a_2_z_2_grad = sigmoid(z_2)*(1 - sigmoid(z_2))  # (221191 , 64) * (221191 , 64) = (221191 , 64)\n",
    "#     J_W_1_grad = a_1 * a_2_z_2_grad * W_2 * J_z_3_grad\n",
    "#     J_W_1_grad = np.dot(x_mat, a_2_z_2_grad).dot(W_2).dot(J_z_3_grad)\n",
    "    J_W_1_grad = (np.dot((J_z_3_grad).reshape(-1,1), W_2.reshape(-1,1).T)*a_2_z_2_grad).T.dot(x_mat).T\n",
    "# (221191 , )->(221191 , 1) x (64 x 1).T = (221191 , 64) * (221191 , 64) = (221191 , 64).T = (64, 221191 ) x (221191 , 5)\n",
    "# = (64, 5).T = (5, 64)\n",
    "    gradient = (J_W_1_grad, J_W_2_grad)\n",
    "    return y_pred, gradient\n",
    "\n",
    "def plot_loss_accuracy(loss_vals, accuracies):\n",
    "    fig = plt.figure(figsize=(16, 8))\n",
    "    fig.suptitle('Log Loss and Accuracy over iterations')\n",
    "    \n",
    "    ax = fig.add_subplot(1, 2, 1)\n",
    "    ax.plot(loss_vals)\n",
    "    ax.grid(True)\n",
    "    ax.set(xlabel='iterations', title='Log Loss')\n",
    "    \n",
    "    ax = fig.add_subplot(1, 2, 2)\n",
    "    ax.plot(accuracies)\n",
    "    ax.grid(True)\n",
    "    ax.set(xlabel='iterations', title='Accuracy');"
   ]
  },
  {
   "cell_type": "code",
   "execution_count": 179,
   "id": "96f97705",
   "metadata": {},
   "outputs": [
    {
     "name": "stdout",
     "output_type": "stream",
     "text": [
      "Training time: 0:01:18.224479s\n"
     ]
    }
   ],
   "source": [
    "# Practice\n",
    "import datetime\n",
    "n = datetime.datetime.now\n",
    "t = n()\n",
    "\n",
    "np.random.seed(1241)\n",
    "\n",
    "num_iter = 1000\n",
    "learning_rate = .001\n",
    "# x_mat = x_mat_full\n",
    "\n",
    "total_pred = []\n",
    "for i in range(num_iter):\n",
    "    y_pred, (J_W_1_grad, J_W_2_grad) = forward_pass(W_1, W_2)\n",
    "    \n",
    "    W_1 = W_1 - learning_rate * J_W_1_grad\n",
    "    W_2 = W_2 - learning_rate * J_W_2_grad\n",
    "    \n",
    "    total_pred.append(y_pred)\n",
    "print(f\"Training time: {n() - t}s\")"
   ]
  },
  {
   "cell_type": "code",
   "execution_count": 180,
   "id": "df926e56",
   "metadata": {},
   "outputs": [
    {
     "data": {
      "text/plain": [
       "array([0.70547701, 0.51228444, 0.70803825, ..., 0.90725698, 0.80009828,\n",
       "       0.74845922])"
      ]
     },
     "execution_count": 180,
     "metadata": {},
     "output_type": "execute_result"
    }
   ],
   "source": [
    "total_pred[0]"
   ]
  },
  {
   "cell_type": "code",
   "execution_count": 181,
   "id": "ad8a14b2",
   "metadata": {},
   "outputs": [],
   "source": [
    "errorfi = np.sqrt(np.power((y - total_pred[0]), 2))\n",
    "errorff = np.sqrt(np.power((y - total_pred[-1]), 2))"
   ]
  },
  {
   "cell_type": "code",
   "execution_count": 182,
   "id": "92d78fd6",
   "metadata": {},
   "outputs": [
    {
     "data": {
      "text/plain": [
       "array([0.54297701, 0.34978444, 0.54553825, ..., 0.84475698, 0.73759828,\n",
       "       0.68595922])"
      ]
     },
     "execution_count": 182,
     "metadata": {},
     "output_type": "execute_result"
    }
   ],
   "source": [
    "errorfi"
   ]
  },
  {
   "cell_type": "code",
   "execution_count": 183,
   "id": "b0d14581",
   "metadata": {},
   "outputs": [
    {
     "data": {
      "text/plain": [
       "array([0.54297701, 0.34978444, 0.54553825, ..., 0.84475698, 0.73759828,\n",
       "       0.68595922])"
      ]
     },
     "execution_count": 183,
     "metadata": {},
     "output_type": "execute_result"
    }
   ],
   "source": [
    "errorfi"
   ]
  },
  {
   "cell_type": "code",
   "execution_count": 184,
   "id": "b7b5b848",
   "metadata": {},
   "outputs": [
    {
     "data": {
      "text/plain": [
       "array([0.1625    , 0.33533516, 0.1625    , ..., 0.0625    , 0.04995127,\n",
       "       0.14862752])"
      ]
     },
     "execution_count": 184,
     "metadata": {},
     "output_type": "execute_result"
    }
   ],
   "source": [
    "errorff"
   ]
  },
  {
   "cell_type": "code",
   "execution_count": 185,
   "id": "4af9e5e2",
   "metadata": {},
   "outputs": [
    {
     "data": {
      "text/plain": [
       "0.3498153510978015"
      ]
     },
     "execution_count": 185,
     "metadata": {},
     "output_type": "execute_result"
    }
   ],
   "source": [
    "errorfi.sum()/len(errorfi)"
   ]
  },
  {
   "cell_type": "code",
   "execution_count": 186,
   "id": "1981a838",
   "metadata": {},
   "outputs": [
    {
     "data": {
      "text/plain": [
       "0.257304849910329"
      ]
     },
     "execution_count": 186,
     "metadata": {},
     "output_type": "execute_result"
    }
   ],
   "source": [
    "errorff.sum()/len(errorff)"
   ]
  },
  {
   "cell_type": "code",
   "execution_count": 187,
   "id": "783fdb4c",
   "metadata": {},
   "outputs": [],
   "source": [
    "fig_y = []\n",
    "for i in range(len(total_pred)):\n",
    "    errorfi = np.sqrt(np.power((y - total_pred[i]), 2))\n",
    "    fig_y.append(errorfi.sum()/len(errorfi))"
   ]
  },
  {
   "cell_type": "code",
   "execution_count": 196,
   "id": "65f03938",
   "metadata": {},
   "outputs": [
    {
     "data": {
      "image/png": "[encoded data removed]",
      "text/plain": [
       "<Figure size 864x648 with 1 Axes>"
      ]
     },
     "metadata": {
      "needs_background": "light"
     },
     "output_type": "display_data"
    }
   ],
   "source": [
    "import matplotlib.pyplot as plt\n",
    "\n",
    "plt.figure(figsize=(12,9))\n",
    "plt.plot([i for i in range(len(fig_y))], fig_y, marker='o')\n",
    "plt.xlim(900, 1000)\n",
    "plt.show()"
   ]
  },
  {
   "cell_type": "code",
   "execution_count": 189,
   "id": "b226197f",
   "metadata": {},
   "outputs": [],
   "source": [
    "def nn_predict(pred_in):\n",
    "    z_2 = np.dot(pred_in[0], W_1)\n",
    "    a_2 = sigmoid(z_2)\n",
    "    z_3 = np.dot(a_2, W_2)\n",
    "    y_pred1 = sigmoid(z_3)\n",
    "    \n",
    "    z2_2 = np.dot(pred_in[1], W_1)\n",
    "    a2_2 = sigmoid(z2_2)\n",
    "    z2_3 = np.dot(a2_2, W_2)\n",
    "    y_pred2 = sigmoid(z2_3)\n",
    "    \n",
    "    return y_pred1, y_pred2"
   ]
  },
  {
   "cell_type": "code",
   "execution_count": 192,
   "id": "bfec0314",
   "metadata": {},
   "outputs": [
    {
     "name": "stdout",
     "output_type": "stream",
     "text": [
      "Training time: 0:00:00.058713s\n"
     ]
    }
   ],
   "source": [
    "t = n()\n",
    "num_episodes = 100\n",
    "n_life_memory = []\n",
    "n_env = gym.make('CartPole-v0')\n",
    "for i in range(num_episodes):\n",
    "    n_old_observation = n_env.reset()\n",
    "    n_done = False\n",
    "    n_tot_reward = 0\n",
    "    n_em_memory = []\n",
    "    while not n_done:\n",
    "        pred_in = [list(n_old_observation) + [i] for i in range(2)]\n",
    "        n_new_action = np.argmax([nn_predict(pred_in)])\n",
    "        n_observation, n_reward, n_done, n_info = n_env.step(n_new_action)\n",
    "        n_tot_reward += n_reward\n",
    "        n_em_memory.append({\n",
    "            \"obs0\": n_old_observation[0],\n",
    "            \"obs1\": n_old_observation[1],\n",
    "            \"obs2\": n_old_observation[2],\n",
    "            \"obs3\": n_old_observation[3],\n",
    "            \"action\": n_new_action,\n",
    "            \"reward\": n_reward,\n",
    "            \"episode\": i,\n",
    "        })\n",
    "        \n",
    "        n_old_observation = n_observation\n",
    "\n",
    "    for n_em in n_em_memory:\n",
    "        n_em[\"tot_reward\"] = n_tot_reward\n",
    "    n_life_memory.extend(n_em_memory)\n",
    "n_memory_df = pandas.DataFrame(n_life_memory)\n",
    "print(f\"Training time: {n() - t}s\")"
   ]
  },
  {
   "cell_type": "code",
   "execution_count": 193,
   "id": "e65b93c3",
   "metadata": {},
   "outputs": [
    {
     "data": {
      "text/html": [
       "<div>\n",
       "<style scoped>\n",
       "    .dataframe tbody tr th:only-of-type {\n",
       "        vertical-align: middle;\n",
       "    }\n",
       "\n",
       "    .dataframe tbody tr th {\n",
       "        vertical-align: top;\n",
       "    }\n",
       "\n",
       "    .dataframe thead th {\n",
       "        text-align: right;\n",
       "    }\n",
       "</style>\n",
       "<table border=\"1\" class=\"dataframe\">\n",
       "  <thead>\n",
       "    <tr style=\"text-align: right;\">\n",
       "      <th></th>\n",
       "      <th>obs0</th>\n",
       "      <th>obs1</th>\n",
       "      <th>obs2</th>\n",
       "      <th>obs3</th>\n",
       "      <th>action</th>\n",
       "      <th>reward</th>\n",
       "      <th>episode</th>\n",
       "      <th>tot_reward</th>\n",
       "    </tr>\n",
       "  </thead>\n",
       "  <tbody>\n",
       "    <tr>\n",
       "      <th>0</th>\n",
       "      <td>0.013810</td>\n",
       "      <td>-0.021815</td>\n",
       "      <td>0.012050</td>\n",
       "      <td>-0.003764</td>\n",
       "      <td>1</td>\n",
       "      <td>1.0</td>\n",
       "      <td>0</td>\n",
       "      <td>10.0</td>\n",
       "    </tr>\n",
       "    <tr>\n",
       "      <th>1</th>\n",
       "      <td>0.013374</td>\n",
       "      <td>0.173132</td>\n",
       "      <td>0.011975</td>\n",
       "      <td>-0.292621</td>\n",
       "      <td>1</td>\n",
       "      <td>1.0</td>\n",
       "      <td>0</td>\n",
       "      <td>10.0</td>\n",
       "    </tr>\n",
       "    <tr>\n",
       "      <th>2</th>\n",
       "      <td>0.016836</td>\n",
       "      <td>0.368081</td>\n",
       "      <td>0.006123</td>\n",
       "      <td>-0.581503</td>\n",
       "      <td>1</td>\n",
       "      <td>1.0</td>\n",
       "      <td>0</td>\n",
       "      <td>10.0</td>\n",
       "    </tr>\n",
       "    <tr>\n",
       "      <th>3</th>\n",
       "      <td>0.024198</td>\n",
       "      <td>0.563117</td>\n",
       "      <td>-0.005507</td>\n",
       "      <td>-0.872251</td>\n",
       "      <td>1</td>\n",
       "      <td>1.0</td>\n",
       "      <td>0</td>\n",
       "      <td>10.0</td>\n",
       "    </tr>\n",
       "    <tr>\n",
       "      <th>4</th>\n",
       "      <td>0.035460</td>\n",
       "      <td>0.758313</td>\n",
       "      <td>-0.022952</td>\n",
       "      <td>-1.166660</td>\n",
       "      <td>1</td>\n",
       "      <td>1.0</td>\n",
       "      <td>0</td>\n",
       "      <td>10.0</td>\n",
       "    </tr>\n",
       "    <tr>\n",
       "      <th>...</th>\n",
       "      <td>...</td>\n",
       "      <td>...</td>\n",
       "      <td>...</td>\n",
       "      <td>...</td>\n",
       "      <td>...</td>\n",
       "      <td>...</td>\n",
       "      <td>...</td>\n",
       "      <td>...</td>\n",
       "    </tr>\n",
       "    <tr>\n",
       "      <th>929</th>\n",
       "      <td>-0.031286</td>\n",
       "      <td>0.608807</td>\n",
       "      <td>-0.065221</td>\n",
       "      <td>-0.895345</td>\n",
       "      <td>1</td>\n",
       "      <td>1.0</td>\n",
       "      <td>99</td>\n",
       "      <td>8.0</td>\n",
       "    </tr>\n",
       "    <tr>\n",
       "      <th>930</th>\n",
       "      <td>-0.019110</td>\n",
       "      <td>0.804749</td>\n",
       "      <td>-0.083128</td>\n",
       "      <td>-1.207795</td>\n",
       "      <td>1</td>\n",
       "      <td>1.0</td>\n",
       "      <td>99</td>\n",
       "      <td>8.0</td>\n",
       "    </tr>\n",
       "    <tr>\n",
       "      <th>931</th>\n",
       "      <td>-0.003015</td>\n",
       "      <td>1.000841</td>\n",
       "      <td>-0.107284</td>\n",
       "      <td>-1.525328</td>\n",
       "      <td>1</td>\n",
       "      <td>1.0</td>\n",
       "      <td>99</td>\n",
       "      <td>8.0</td>\n",
       "    </tr>\n",
       "    <tr>\n",
       "      <th>932</th>\n",
       "      <td>0.017002</td>\n",
       "      <td>1.197082</td>\n",
       "      <td>-0.137790</td>\n",
       "      <td>-1.849479</td>\n",
       "      <td>1</td>\n",
       "      <td>1.0</td>\n",
       "      <td>99</td>\n",
       "      <td>8.0</td>\n",
       "    </tr>\n",
       "    <tr>\n",
       "      <th>933</th>\n",
       "      <td>0.040944</td>\n",
       "      <td>1.393426</td>\n",
       "      <td>-0.174780</td>\n",
       "      <td>-2.181585</td>\n",
       "      <td>1</td>\n",
       "      <td>1.0</td>\n",
       "      <td>99</td>\n",
       "      <td>8.0</td>\n",
       "    </tr>\n",
       "  </tbody>\n",
       "</table>\n",
       "<p>934 rows × 8 columns</p>\n",
       "</div>"
      ],
      "text/plain": [
       "         obs0      obs1      obs2      obs3  action  reward  episode  \\\n",
       "0    0.013810 -0.021815  0.012050 -0.003764       1     1.0        0   \n",
       "1    0.013374  0.173132  0.011975 -0.292621       1     1.0        0   \n",
       "2    0.016836  0.368081  0.006123 -0.581503       1     1.0        0   \n",
       "3    0.024198  0.563117 -0.005507 -0.872251       1     1.0        0   \n",
       "4    0.035460  0.758313 -0.022952 -1.166660       1     1.0        0   \n",
       "..        ...       ...       ...       ...     ...     ...      ...   \n",
       "929 -0.031286  0.608807 -0.065221 -0.895345       1     1.0       99   \n",
       "930 -0.019110  0.804749 -0.083128 -1.207795       1     1.0       99   \n",
       "931 -0.003015  1.000841 -0.107284 -1.525328       1     1.0       99   \n",
       "932  0.017002  1.197082 -0.137790 -1.849479       1     1.0       99   \n",
       "933  0.040944  1.393426 -0.174780 -2.181585       1     1.0       99   \n",
       "\n",
       "     tot_reward  \n",
       "0          10.0  \n",
       "1          10.0  \n",
       "2          10.0  \n",
       "3          10.0  \n",
       "4          10.0  \n",
       "..          ...  \n",
       "929         8.0  \n",
       "930         8.0  \n",
       "931         8.0  \n",
       "932         8.0  \n",
       "933         8.0  \n",
       "\n",
       "[934 rows x 8 columns]"
      ]
     },
     "execution_count": 193,
     "metadata": {},
     "output_type": "execute_result"
    }
   ],
   "source": [
    "n_memory_df"
   ]
  },
  {
   "cell_type": "code",
   "execution_count": 194,
   "id": "391a3715",
   "metadata": {},
   "outputs": [
    {
     "data": {
      "text/plain": [
       "9.34"
      ]
     },
     "execution_count": 194,
     "metadata": {},
     "output_type": "execute_result"
    }
   ],
   "source": [
    "n_memory_df.groupby(\"episode\").reward.sum().mean()"
   ]
  },
  {
   "cell_type": "code",
   "execution_count": 195,
   "id": "243f1e77",
   "metadata": {},
   "outputs": [
    {
     "data": {
      "text/plain": [
       "False    100\n",
       "Name: reward, dtype: int64"
      ]
     },
     "execution_count": 195,
     "metadata": {},
     "output_type": "execute_result"
    }
   ],
   "source": [
    "(n_memory_df.groupby(\"episode\").reward.sum() >= 200).value_counts()"
   ]
  },
  {
   "cell_type": "code",
   "execution_count": null,
   "id": "54c9a81d",
   "metadata": {},
   "outputs": [],
   "source": []
  }
 ],
 "metadata": {
  "kernelspec": {
   "display_name": "Python 3 (ipykernel)",
   "language": "python",
   "name": "python3"
  },
  "language_info": {
   "codemirror_mode": {
    "name": "ipython",
    "version": 3
   },
   "file_extension": ".py",
   "mimetype": "text/x-python",
   "name": "python",
   "nbconvert_exporter": "python",
   "pygments_lexer": "ipython3",
   "version": "3.9.6"
  }
 },
 "nbformat": 4,
 "nbformat_minor": 5
}
