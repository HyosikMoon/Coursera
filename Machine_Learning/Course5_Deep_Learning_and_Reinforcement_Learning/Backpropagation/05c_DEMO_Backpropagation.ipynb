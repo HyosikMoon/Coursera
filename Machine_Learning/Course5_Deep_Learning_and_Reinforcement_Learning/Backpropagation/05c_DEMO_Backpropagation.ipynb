{
 "cells": [
  {
   "cell_type": "markdown",
   "metadata": {
    "run_control": {
     "marked": true
    }
   },
   "source": [
    "# Machine Learning Foundation\n",
    "\n",
    "## Course 5, Part c: Backpropagation DEMO"
   ]
  },
  {
   "cell_type": "markdown",
   "metadata": {},
   "source": [
    "## Overview\n",
    "In this exercise we will use backpropagation to train a multi-layer perceptron (with a single hidden layer).  We will experiment with different patterns and see how quickly or slowly the weights converge.  We will see the impact and interplay of different parameters such as learning rate, number of iterations, and number of data points."
   ]
  },
  {
   "cell_type": "code",
   "execution_count": 1,
   "metadata": {},
   "outputs": [],
   "source": [
    "#Setup\n",
    "import numpy as np\n",
    "import matplotlib.pyplot as plt"
   ]
  },
  {
   "cell_type": "markdown",
   "metadata": {},
   "source": [
    "In this exercise, we will prepare code to create a multi-layer perceptron with a single hidden layer (with 4 nodes) and train it via back-propagation.  We will take the following steps:\n",
    "\n",
    "1. Initialize the weights to random values between -1 and 1\n",
    "1. Perform the feed-forward computation\n",
    "1. Compute the loss function\n",
    "1. Calculate the gradients for all the weights via back-propagation\n",
    "1. Update the weight matrices (using a learning_rate parameter)\n",
    "1. Execute steps 2-5 for a fixed number of iterations\n",
    "1. Plot the accuracies and log loss and observe how they change over time\n",
    "\n",
    "\n",
    "Once the code is running, we can address the following questions:\n",
    "- Which patterns was the neural network able to learn quickly and which took longer?\n",
    "- What learning rates and numbers of iterations worked well?\n",
    "- If you have time, try varying the size of the hidden layer and experiment with different activation functions (e.g. ReLu)"
   ]
  },
  {
   "cell_type": "code",
   "execution_count": 2,
   "metadata": {},
   "outputs": [
    {
     "data": {
      "text/plain": [
       "array([[ 0.75680615, -0.16516157,  1.        ],\n",
       "       [ 0.40288401, -0.52467173,  1.        ],\n",
       "       [ 0.53794971,  0.11928903,  1.        ],\n",
       "       ...,\n",
       "       [-0.61442165, -0.88768975,  1.        ],\n",
       "       [-0.05687313, -0.01995992,  1.        ],\n",
       "       [-0.69080073,  0.05289496,  1.        ]])"
      ]
     },
     "execution_count": 2,
     "metadata": {},
     "output_type": "execute_result"
    }
   ],
   "source": [
    "num_obs = 500\n",
    "x_mat_1 = np.random.uniform(-1,1,size = (num_obs,2))\n",
    "x_mat_bias = np.ones((num_obs,1))\n",
    "x_mat_full = np.concatenate( (x_mat_1,x_mat_bias), axis=1)\n",
    "x_mat_full"
   ]
  },
  {
   "cell_type": "code",
   "execution_count": 3,
   "metadata": {},
   "outputs": [
    {
     "data": {
      "text/plain": [
       "array([ 1, 10, 15])"
      ]
     },
     "execution_count": 3,
     "metadata": {},
     "output_type": "execute_result"
    }
   ],
   "source": [
    "a = np.array([True, True, False, True])\n",
    "b = np.array([[1, 2], [10, 20], [11, 22], [15, 25]])\n",
    "b[a, 0]"
   ]
  },
  {
   "cell_type": "code",
   "execution_count": 4,
   "metadata": {},
   "outputs": [
    {
     "data": {
      "text/plain": [
       "array([[ 0.01877405, -0.89055421,  1.        ],\n",
       "       [ 0.72582076,  0.65147191,  1.        ],\n",
       "       [ 0.02089141, -0.88685488,  1.        ],\n",
       "       ...,\n",
       "       [ 0.96036702,  0.60966545,  1.        ],\n",
       "       [ 0.81465384,  0.15090052,  1.        ],\n",
       "       [-0.5545242 , -0.8707188 ,  1.        ]])"
      ]
     },
     "execution_count": 4,
     "metadata": {},
     "output_type": "execute_result"
    }
   ],
   "source": [
    "x_mat_full"
   ]
  },
  {
   "cell_type": "code",
   "execution_count": 5,
   "metadata": {
    "scrolled": false
   },
   "outputs": [
    {
     "data": {
      "text/plain": [
       "array([1, 0, 1, 0, 0, 1, 0, 1, 1, 0, 1, 1, 0, 0, 1, 1, 1, 0, 0, 0, 1, 0,\n",
       "       0, 1, 1, 0, 1, 1, 1, 1, 0, 1, 0, 0, 0, 0, 1, 1, 1, 0, 1, 0, 1, 0,\n",
       "       0, 1, 1, 1, 0, 1, 1, 1, 0, 0, 0, 1, 1, 1, 0, 1, 1, 0, 0, 0, 1, 1,\n",
       "       0, 1, 0, 1, 0, 0, 0, 1, 0, 0, 0, 1, 0, 1, 0, 1, 1, 1, 1, 1, 0, 1,\n",
       "       0, 1, 1, 0, 1, 0, 0, 1, 0, 0, 0, 1, 0, 0, 0, 0, 1, 1, 1, 0, 0, 0,\n",
       "       1, 0, 0, 0, 0, 1, 0, 0, 0, 0, 1, 1, 0, 0, 1, 1, 0, 1, 1, 0, 0, 0,\n",
       "       1, 1, 1, 0, 1, 1, 0, 1, 0, 0, 1, 0, 0, 1, 1, 1, 1, 1, 1, 1, 0, 1,\n",
       "       0, 1, 0, 0, 0, 0, 1, 0, 1, 0, 1, 1, 1, 0, 0, 1, 1, 0, 1, 0, 0, 0,\n",
       "       0, 0, 0, 0, 0, 1, 1, 0, 1, 0, 0, 0, 1, 1, 0, 1, 1, 0, 0, 0, 1, 0,\n",
       "       1, 1, 1, 1, 0, 0, 0, 0, 0, 1, 0, 0, 1, 1, 1, 1, 1, 1, 0, 1, 0, 1,\n",
       "       0, 0, 0, 0, 1, 1, 1, 0, 0, 1, 0, 1, 1, 0, 0, 0, 0, 1, 1, 0, 0, 0,\n",
       "       1, 1, 1, 1, 0, 1, 0, 1, 1, 0, 1, 0, 0, 1, 0, 0, 0, 0, 0, 0, 1, 1,\n",
       "       0, 1, 1, 1, 1, 0, 1, 1, 0, 0, 1, 1, 0, 0, 0, 1, 1, 1, 0, 1, 1, 0,\n",
       "       0, 1, 1, 0, 1, 1, 1, 1, 0, 0, 0, 1, 0, 1, 1, 1, 0, 0, 1, 1, 0, 1,\n",
       "       1, 0, 1, 0, 0, 1, 1, 1, 0, 1, 0, 1, 1, 0, 0, 1, 1, 0, 0, 0, 0, 0,\n",
       "       0, 0, 1, 1, 0, 1, 0, 1, 1, 0, 1, 0, 1, 0, 0, 1, 1, 0, 0, 1, 0, 0,\n",
       "       1, 0, 0, 0, 0, 1, 1, 1, 1, 1, 1, 0, 1, 0, 0, 1, 1, 1, 1, 1, 1, 1,\n",
       "       0, 0, 1, 0, 0, 0, 1, 0, 0, 1, 1, 0, 1, 1, 0, 1, 0, 0, 1, 1, 1, 1,\n",
       "       1, 0, 0, 0, 1, 1, 1, 0, 1, 1, 0, 1, 0, 1, 0, 0, 0, 1, 1, 1, 1, 0,\n",
       "       1, 1, 0, 0, 1, 1, 1, 0, 1, 0, 1, 1, 1, 1, 0, 1, 1, 0, 0, 1, 0, 0,\n",
       "       1, 1, 1, 0, 1, 0, 0, 1, 0, 0, 1, 1, 0, 0, 0, 1, 1, 1, 0, 1, 0, 0,\n",
       "       1, 1, 0, 1, 0, 1, 1, 1, 0, 0, 1, 0, 1, 1, 0, 0, 1, 1, 1, 0, 0, 1,\n",
       "       1, 1, 0, 0, 0, 0, 1, 1, 0, 1, 0, 0, 0, 0, 1, 0])"
      ]
     },
     "execution_count": 5,
     "metadata": {},
     "output_type": "execute_result"
    }
   ],
   "source": [
    "y = ((np.abs(x_mat_full[:,0]) + np.abs(x_mat_full[:,1]))<1).astype(int)\n",
    "y"
   ]
  },
  {
   "cell_type": "code",
   "execution_count": 6,
   "metadata": {
    "scrolled": true
   },
   "outputs": [
    {
     "data": {
      "text/plain": [
       "array([ 1.87740478e-02,  2.08914123e-02, -2.71046986e-01,  2.62684450e-02,\n",
       "        5.25302865e-01,  5.83355633e-01,  2.38211669e-01,  7.65551488e-02,\n",
       "        6.65969316e-01,  2.35005781e-01,  3.10071266e-04, -3.46468673e-01,\n",
       "        4.79847910e-01,  2.80322777e-01,  2.18292271e-01, -5.93509283e-01,\n",
       "        8.00548289e-01,  9.44487350e-02, -3.18610016e-01,  4.15553773e-01,\n",
       "       -1.87901980e-02, -6.61752219e-01,  3.67859628e-01,  1.85644850e-01,\n",
       "       -4.09994325e-01,  9.30704665e-01,  4.75175343e-01,  4.26086670e-01,\n",
       "        7.36484854e-02,  3.63627370e-01, -2.48578208e-01, -2.91954115e-01,\n",
       "       -2.48005114e-01, -1.60840152e-01, -1.37936987e-01, -2.56393313e-01,\n",
       "        5.68847909e-01,  2.69437292e-01, -2.16395415e-01,  3.93267479e-01,\n",
       "       -4.94568078e-01,  8.94244797e-02, -5.10118211e-01,  2.21729891e-02,\n",
       "       -3.20532584e-01, -3.11310364e-01, -3.07315023e-01, -3.97344507e-01,\n",
       "       -6.58866597e-01, -4.38714826e-01, -3.97232414e-01, -6.22143701e-02,\n",
       "        4.47954127e-02, -4.50637412e-01, -4.28575967e-01,  3.45321017e-03,\n",
       "       -3.10164371e-01,  1.91878827e-01,  1.42979331e-01, -6.39714904e-01,\n",
       "        2.88994539e-01, -1.03945668e-01, -1.19469211e-01, -1.81618177e-01,\n",
       "       -4.29747916e-01, -2.47430192e-02, -2.65787804e-01, -6.34979323e-01,\n",
       "        8.90223281e-01, -5.68662993e-02, -7.17486391e-01,  8.03837762e-01,\n",
       "       -2.23808366e-01,  6.94488449e-02, -5.55392010e-02,  6.15197764e-01,\n",
       "        3.94615295e-01,  3.23877620e-01,  1.73514101e-01, -5.74279032e-01,\n",
       "       -6.65968462e-01,  3.04334908e-01,  1.69417203e-01, -4.62764192e-01,\n",
       "        9.74756953e-02,  1.83081718e-01,  1.20397372e-01, -4.71250879e-03,\n",
       "       -1.95054606e-01, -7.51827881e-01,  2.59801765e-01,  5.48575179e-01,\n",
       "       -1.97440933e-01, -1.61596259e-01, -2.99691521e-01,  8.61763602e-01,\n",
       "       -2.49293092e-01, -1.95079484e-01,  3.17038810e-02, -2.91303079e-01,\n",
       "        1.27493458e-01, -7.71910108e-01,  1.46519148e-01, -1.76403966e-01,\n",
       "        1.23444924e-01,  5.26369493e-02, -2.06752721e-01,  2.44692492e-02,\n",
       "       -2.45367437e-01,  3.15869909e-01,  2.69741609e-01,  8.83599765e-02,\n",
       "        4.20528639e-01,  2.66807227e-03,  2.46799378e-01, -4.20323654e-01,\n",
       "       -9.49331535e-01, -8.96100254e-01,  3.85362134e-01, -3.34251208e-01,\n",
       "       -2.95626658e-01,  4.25804894e-01, -2.32247908e-01, -6.92763181e-02,\n",
       "       -7.51326403e-02, -2.64428881e-01,  5.66527080e-01,  1.02406075e-01,\n",
       "       -5.58594988e-01,  4.95505804e-01, -6.55649299e-02,  4.26277218e-01,\n",
       "        6.10968862e-02,  1.50875441e-01, -1.07917180e-02, -4.15729381e-01,\n",
       "       -1.93973608e-02,  3.56330565e-01, -6.07415002e-01, -1.63526129e-01,\n",
       "       -5.02178997e-01, -2.37792748e-01,  5.53005426e-02, -3.84993362e-01,\n",
       "       -5.56895705e-01, -8.28974225e-01, -6.20190871e-01, -2.39625041e-01,\n",
       "       -7.51167742e-01, -8.66999980e-02, -1.37027324e-01, -6.18867996e-01,\n",
       "        5.27889797e-01, -5.49940198e-01,  3.70692369e-01, -7.16160812e-01,\n",
       "       -1.81792034e-01, -7.75460794e-01, -1.37845812e-01,  3.22013551e-02,\n",
       "        6.29649343e-01,  1.68258707e-02, -5.97524942e-01, -6.78185511e-02,\n",
       "        6.11311210e-02, -3.84310822e-01,  6.04103146e-01,  8.53080954e-01,\n",
       "       -9.03267916e-02,  6.65603088e-01, -2.51836098e-01,  8.74671072e-01,\n",
       "       -5.58127862e-01, -3.52787090e-01,  1.60360551e-01, -1.13534891e-01,\n",
       "       -4.60192984e-01, -1.60241932e-01,  9.39920763e-02,  7.60617818e-01,\n",
       "       -3.45323862e-02,  8.47880053e-01, -2.60983884e-01,  7.66417035e-01,\n",
       "       -3.01575154e-01,  2.27108153e-01,  3.44707787e-01, -3.58927952e-01,\n",
       "        2.18150404e-01, -3.11656765e-01,  9.81221057e-02, -1.34059814e-01,\n",
       "        2.38540578e-01, -5.28755894e-01,  1.61773289e-01, -2.61238867e-01,\n",
       "       -9.84894443e-02,  5.93447865e-01,  1.80644774e-01,  5.96926647e-02,\n",
       "       -1.49327490e-01,  4.59995077e-01,  3.79876783e-02,  6.17505379e-03,\n",
       "       -7.05238700e-01,  3.66989605e-01,  6.82508853e-01,  3.46085298e-01,\n",
       "       -2.61582864e-01, -1.69579171e-01, -3.64013816e-01,  4.12525275e-01,\n",
       "       -2.55111210e-02,  1.82932531e-01,  1.73147959e-01, -5.58488672e-01,\n",
       "        1.38099181e-01,  6.47774563e-01,  2.37033016e-01,  7.41469515e-01,\n",
       "       -5.62488052e-01, -1.37861910e-01, -3.55268486e-01, -3.64682989e-01,\n",
       "       -1.64213053e-01,  7.80933580e-02,  1.89111979e-01,  5.76513759e-01,\n",
       "        3.99058753e-01,  8.32090772e-02, -1.33933696e-01, -7.72692061e-01,\n",
       "        1.51831766e-01, -4.06865187e-01,  1.02645791e-01, -1.69229676e-02,\n",
       "        4.17786830e-02, -1.20448944e-01, -2.06951819e-01, -2.11224392e-01,\n",
       "        1.08151555e-01,  4.54250166e-01, -1.05184029e-01,  9.62620371e-02,\n",
       "        5.99934636e-01,  3.25137131e-01, -1.33329551e-01, -1.54988070e-01,\n",
       "       -7.05573366e-01, -6.12119933e-01, -2.56214096e-01,  4.03982712e-02,\n",
       "       -7.49742482e-01,  8.14653835e-01])"
      ]
     },
     "execution_count": 6,
     "metadata": {},
     "output_type": "execute_result"
    }
   ],
   "source": [
    "x_mat_full[y==1, 0]"
   ]
  },
  {
   "cell_type": "code",
   "execution_count": 3,
   "metadata": {},
   "outputs": [
    {
     "name": "stdout",
     "output_type": "stream",
     "text": [
      "shape of x_mat_full is (500, 3)\n",
      "shape of y is (500,)\n"
     ]
    },
    {
     "data": {
      "image/png": "[encoded data removed]",
      "text/plain": [
       "<Figure size 360x360 with 1 Axes>"
      ]
     },
     "metadata": {
      "needs_background": "light"
     },
     "output_type": "display_data"
    }
   ],
   "source": [
    "## This code below generates two x values and a y value according to different patterns\n",
    "## It also creates a \"bias\" term (a vector of 1s)\n",
    "## The goal is then to learn the mapping from x to y using a neural network via back-propagation\n",
    "\n",
    "num_obs = 500\n",
    "x_mat_1 = np.random.uniform(-1,1,size = (num_obs,2))\n",
    "x_mat_bias = np.ones((num_obs,1))\n",
    "x_mat_full = np.concatenate( (x_mat_1,x_mat_bias), axis=1)\n",
    "\n",
    "# PICK ONE PATTERN BELOW and comment out the rest.\n",
    "\n",
    "# # Circle pattern\n",
    "# y = (np.sqrt(x_mat_full[:,0]**2 + x_mat_full[:,1]**2)<.75).astype(int)\n",
    "\n",
    "# # Diamond Pattern\n",
    "y = ((np.abs(x_mat_full[:,0]) + np.abs(x_mat_full[:,1]))<1).astype(int)\n",
    "\n",
    "# # Centered square\n",
    "# y = ((np.maximum(np.abs(x_mat_full[:,0]), np.abs(x_mat_full[:,1])))<.5).astype(int)\n",
    "\n",
    "# # Thick Right Angle pattern\n",
    "# y = (((np.maximum((x_mat_full[:,0]), (x_mat_full[:,1])))<.5) & ((np.maximum((x_mat_full[:,0]), (x_mat_full[:,1])))>-.5)).astype(int)\n",
    "\n",
    "# # Thin right angle pattern\n",
    "# y = (((np.maximum((x_mat_full[:,0]), (x_mat_full[:,1])))<.5) & ((np.maximum((x_mat_full[:,0]), (x_mat_full[:,1])))>0)).astype(int)\n",
    "\n",
    "\n",
    "print('shape of x_mat_full is {}'.format(x_mat_full.shape))\n",
    "print('shape of y is {}'.format(y.shape))\n",
    "\n",
    "fig, ax = plt.subplots(figsize=(5, 5))\n",
    "ax.plot(x_mat_full[y==1, 0],x_mat_full[y==1, 1], 'o', label='class 1', color='darkslateblue')\n",
    "ax.plot(x_mat_full[y==0, 0],x_mat_full[y==0, 1], 'x', label='class 0', color='chocolate')\n",
    "# ax.grid(True)\n",
    "ax.legend(loc='best')\n",
    "ax.axis('equal');"
   ]
  },
  {
   "cell_type": "code",
   "execution_count": 4,
   "metadata": {},
   "outputs": [
    {
     "data": {
      "text/plain": [
       "(-1.0978429720675331,\n",
       " 1.099164732663739,\n",
       " -1.0939838310116947,\n",
       " 1.0975327674170274)"
      ]
     },
     "execution_count": 4,
     "metadata": {},
     "output_type": "execute_result"
    }
   ],
   "source": [
    "ax.axis('equal')"
   ]
  },
  {
   "cell_type": "markdown",
   "metadata": {},
   "source": [
    "Here are some helper functions"
   ]
  },
  {
   "cell_type": "code",
   "execution_count": 9,
   "metadata": {},
   "outputs": [],
   "source": [
    "# def sigmoid(x):\n",
    "#     \"\"\"\n",
    "#     Sigmoid function\n",
    "#     \"\"\"\n",
    "#     return 1.0 / (1.0 + np.exp(-x))\n",
    "\n",
    "\n",
    "# def loss_fn(y_true, y_pred, eps=1e-16):\n",
    "#     \"\"\"\n",
    "#     Loss function we would like to optimize (minimize)\n",
    "#     We are using Logarithmic Loss\n",
    "#     http://scikit-learn.org/stable/modules/model_evaluation.html#log-loss\n",
    "#     \"\"\"\n",
    "#     y_pred = np.maximum(y_pred,eps)\n",
    "#     y_pred = np.minimum(y_pred,(1-eps))\n",
    "#     return -(np.sum(y_true * np.log(y_pred)) + np.sum((1-y_true)*np.log(1-y_pred)))/len(y_true)\n",
    "\n",
    "\n",
    "# def forward_pass(W1, W2):\n",
    "#     \"\"\"\n",
    "#     Does a forward computation of the neural network\n",
    "#     Takes the input `x_mat` (global variable) and produces the output `y_pred`\n",
    "#     Also produces the gradient of the log loss function\n",
    "#     \"\"\"\n",
    "#     global x_mat\n",
    "#     global y\n",
    "#     global num_\n",
    "#     # First, compute the new predictions `y_pred`\n",
    "#     z_2 = np.dot(x_mat, W_1)\n",
    "#     a_2 = sigmoid(z_2)\n",
    "#     z_3 = np.dot(a_2, W_2)\n",
    "#     y_pred = sigmoid(z_3).reshape((len(x_mat),))\n",
    "#     # Now compute the gradient\n",
    "#     J_z_3_grad = -y + y_pred\n",
    "#     J_W_2_grad = np.dot(J_z_3_grad, a_2)\n",
    "#     a_2_z_2_grad = sigmoid(z_2)*(1-sigmoid(z_2))\n",
    "#     J_W_1_grad = (np.dot((J_z_3_grad).reshape(-1,1), W_2.reshape(-1,1).T)*a_2_z_2_grad).T.dot(x_mat).T\n",
    "#     gradient = (J_W_1_grad, J_W_2_grad)\n",
    "    \n",
    "#     # return\n",
    "#     return y_pred, gradient\n",
    "\n",
    "\n",
    "# def plot_loss_accuracy(loss_vals, accuracies):\n",
    "#     fig = plt.figure(figsize=(16, 8))\n",
    "#     fig.suptitle('Log Loss and Accuracy over iterations')\n",
    "    \n",
    "#     ax = fig.add_subplot(1, 2, 1)\n",
    "#     ax.plot(loss_vals)\n",
    "#     ax.grid(True)\n",
    "#     ax.set(xlabel='iterations', title='Log Loss')\n",
    "    \n",
    "#     ax = fig.add_subplot(1, 2, 2)\n",
    "#     ax.plot(accuracies)\n",
    "#     ax.grid(True)\n",
    "#     ax.set(xlabel='iterations', title='Accuracy');"
   ]
  },
  {
   "cell_type": "code",
   "execution_count": 14,
   "metadata": {},
   "outputs": [
    {
     "data": {
      "text/plain": [
       "array([ True,  True, False,  True])"
      ]
     },
     "execution_count": 14,
     "metadata": {},
     "output_type": "execute_result"
    }
   ],
   "source": [
    "a"
   ]
  },
  {
   "cell_type": "code",
   "execution_count": 10,
   "metadata": {},
   "outputs": [
    {
     "data": {
      "text/plain": [
       "(4, 3)"
      ]
     },
     "execution_count": 10,
     "metadata": {},
     "output_type": "execute_result"
    }
   ],
   "source": [
    "a\n",
    "c = b.copy()\n",
    "c = c*2\n",
    "d = np.array([[1, 2, 3], [3, 4, 5]])\n",
    "c.dot(d).shape\n",
    "np.dot(c, d).shape"
   ]
  },
  {
   "cell_type": "code",
   "execution_count": 34,
   "metadata": {},
   "outputs": [],
   "source": [
    "e = np.array([1, 5])"
   ]
  },
  {
   "cell_type": "code",
   "execution_count": 35,
   "metadata": {},
   "outputs": [
    {
     "data": {
      "text/plain": [
       "(2,)"
      ]
     },
     "execution_count": 35,
     "metadata": {},
     "output_type": "execute_result"
    }
   ],
   "source": [
    "e.shape"
   ]
  },
  {
   "cell_type": "code",
   "execution_count": 37,
   "metadata": {},
   "outputs": [],
   "source": [
    "f = np.array([[1,2,3,4,5], [10,20,30,40,50]])"
   ]
  },
  {
   "cell_type": "code",
   "execution_count": 40,
   "metadata": {},
   "outputs": [
    {
     "data": {
      "text/plain": [
       "array([ 51, 102, 153, 204, 255])"
      ]
     },
     "execution_count": 40,
     "metadata": {},
     "output_type": "execute_result"
    }
   ],
   "source": [
    "np.dot(e, f)"
   ]
  },
  {
   "cell_type": "code",
   "execution_count": 47,
   "metadata": {},
   "outputs": [
    {
     "data": {
      "text/plain": [
       "array([[   2,    8],\n",
       "       [ 200,  800],\n",
       "       [ 242,  968],\n",
       "       [ 450, 1250]])"
      ]
     },
     "execution_count": 47,
     "metadata": {},
     "output_type": "execute_result"
    }
   ],
   "source": [
    "b*c"
   ]
  },
  {
   "cell_type": "code",
   "execution_count": 74,
   "metadata": {
    "scrolled": true
   },
   "outputs": [],
   "source": [
    "a = np.array([1,2])"
   ]
  },
  {
   "cell_type": "code",
   "execution_count": 75,
   "metadata": {},
   "outputs": [
    {
     "data": {
      "text/plain": [
       "array([[ 2,  4],\n",
       "       [20, 40],\n",
       "       [22, 44],\n",
       "       [30, 50]])"
      ]
     },
     "execution_count": 75,
     "metadata": {},
     "output_type": "execute_result"
    }
   ],
   "source": [
    "c"
   ]
  },
  {
   "cell_type": "code",
   "execution_count": 76,
   "metadata": {},
   "outputs": [
    {
     "data": {
      "text/plain": [
       "(2,)"
      ]
     },
     "execution_count": 76,
     "metadata": {},
     "output_type": "execute_result"
    }
   ],
   "source": [
    "a.shape"
   ]
  },
  {
   "cell_type": "code",
   "execution_count": 77,
   "metadata": {},
   "outputs": [
    {
     "data": {
      "text/plain": [
       "array([ 10, 100, 110, 130])"
      ]
     },
     "execution_count": 77,
     "metadata": {},
     "output_type": "execute_result"
    }
   ],
   "source": [
    "np.dot(c, a)"
   ]
  },
  {
   "cell_type": "code",
   "execution_count": 78,
   "metadata": {
    "scrolled": true
   },
   "outputs": [
    {
     "data": {
      "text/plain": [
       "(4,)"
      ]
     },
     "execution_count": 78,
     "metadata": {},
     "output_type": "execute_result"
    }
   ],
   "source": [
    "np.dot(c, a).shape"
   ]
  },
  {
   "cell_type": "code",
   "execution_count": 62,
   "metadata": {},
   "outputs": [
    {
     "data": {
      "text/plain": [
       "array([[1],\n",
       "       [2],\n",
       "       [3]])"
      ]
     },
     "execution_count": 62,
     "metadata": {},
     "output_type": "execute_result"
    }
   ],
   "source": [
    "a"
   ]
  },
  {
   "cell_type": "code",
   "execution_count": 61,
   "metadata": {},
   "outputs": [
    {
     "data": {
      "text/plain": [
       "(3, 1)"
      ]
     },
     "execution_count": 61,
     "metadata": {},
     "output_type": "execute_result"
    }
   ],
   "source": [
    "a.shape"
   ]
  },
  {
   "cell_type": "code",
   "execution_count": 63,
   "metadata": {},
   "outputs": [
    {
     "data": {
      "text/plain": [
       "array([1, 1, 0, 1, 1, 0, 1, 0, 1, 1, 1, 0, 1, 0, 1, 0, 1, 0, 0, 0, 0, 0,\n",
       "       1, 1, 0, 0, 0, 0, 1, 1, 0, 1, 0, 0, 1, 1, 0, 0, 1, 0, 1, 0, 0, 0,\n",
       "       1, 0, 1, 0, 1, 1, 0, 1, 1, 1, 1, 1, 1, 0, 1, 0, 1, 0, 0, 0, 1, 1,\n",
       "       0, 1, 1, 0, 0, 1, 1, 1, 1, 0, 1, 1, 1, 1, 1, 1, 1, 1, 0, 1, 0, 0,\n",
       "       0, 1, 1, 0, 1, 0, 0, 0, 1, 0, 0, 1, 1, 1, 1, 0, 0, 1, 0, 0, 0, 1,\n",
       "       1, 0, 0, 1, 0, 1, 0, 1, 0, 1, 1, 1, 1, 1, 1, 0, 1, 1, 1, 0, 0, 0,\n",
       "       1, 1, 1, 1, 0, 0, 0, 1, 0, 0, 0, 0, 1, 0, 0, 1, 1, 1, 0, 1, 1, 0,\n",
       "       0, 0, 1, 0, 1, 1, 1, 1, 0, 1, 1, 0, 1, 1, 0, 1, 0, 1, 0, 0, 0, 1,\n",
       "       1, 0, 1, 1, 1, 0, 1, 0, 0, 1, 1, 0, 0, 0, 0, 1, 1, 0, 1, 1, 0, 0,\n",
       "       1, 0, 1, 1, 1, 1, 1, 0, 0, 1, 0, 1, 0, 0, 0, 0, 0, 0, 1, 1, 0, 1,\n",
       "       0, 0, 1, 0, 0, 0, 1, 1, 0, 0, 1, 1, 0, 0, 0, 1, 0, 0, 0, 1, 1, 1,\n",
       "       1, 0, 0, 1, 1, 0, 0, 1, 0, 0, 1, 1, 0, 1, 1, 1, 0, 0, 0, 1, 0, 0,\n",
       "       1, 1, 1, 0, 0, 1, 0, 1, 1, 0, 1, 1, 1, 0, 1, 1, 0, 0, 0, 0, 1, 1,\n",
       "       1, 0, 0, 0, 1, 0, 1, 0, 0, 1, 1, 0, 0, 1, 0, 0, 0, 0, 1, 1, 0, 1,\n",
       "       0, 0, 0, 1, 0, 0, 0, 1, 0, 0, 0, 0, 0, 1, 1, 0, 1, 0, 1, 1, 0, 0,\n",
       "       0, 0, 0, 1, 1, 0, 0, 1, 0, 1, 0, 0, 0, 0, 0, 1, 0, 1, 1, 1, 1, 1,\n",
       "       1, 1, 0, 1, 0, 1, 0, 0, 0, 1, 1, 1, 0, 1, 1, 1, 1, 0, 0, 0, 0, 0,\n",
       "       1, 1, 1, 1, 0, 0, 0, 0, 1, 1, 0, 0, 0, 1, 0, 1, 0, 0, 0, 1, 1, 1,\n",
       "       1, 1, 1, 0, 0, 1, 1, 0, 1, 0, 0, 1, 0, 0, 1, 1, 1, 0, 0, 0, 0, 0,\n",
       "       1, 0, 0, 0, 1, 1, 0, 0, 0, 0, 1, 0, 0, 1, 0, 0, 1, 0, 1, 0, 1, 1,\n",
       "       1, 0, 1, 1, 0, 1, 1, 0, 1, 0, 1, 0, 1, 1, 1, 1, 0, 0, 0, 0, 1, 1,\n",
       "       0, 0, 1, 1, 0, 1, 0, 0, 1, 0, 0, 0, 1, 1, 1, 1, 1, 0, 1, 1, 1, 1,\n",
       "       0, 1, 0, 1, 0, 0, 0, 0, 1, 1, 0, 0, 1, 1, 1, 0])"
      ]
     },
     "execution_count": 63,
     "metadata": {},
     "output_type": "execute_result"
    }
   ],
   "source": [
    "y"
   ]
  },
  {
   "cell_type": "code",
   "execution_count": 67,
   "metadata": {},
   "outputs": [
    {
     "data": {
      "text/plain": [
       "array([[ 0.54927873, -0.3008635 ,  1.        ],\n",
       "       [ 0.15103476, -0.76711566,  1.        ],\n",
       "       [-0.23832149, -0.85719953,  1.        ],\n",
       "       ...,\n",
       "       [ 0.32098236, -0.04785816,  1.        ],\n",
       "       [-0.01385653, -0.83927107,  1.        ],\n",
       "       [ 0.2820392 , -0.99544421,  1.        ]])"
      ]
     },
     "execution_count": 67,
     "metadata": {},
     "output_type": "execute_result"
    }
   ],
   "source": [
    "x_mat_full"
   ]
  },
  {
   "cell_type": "code",
   "execution_count": 5,
   "metadata": {},
   "outputs": [],
   "source": [
    "# Practice\n",
    "def sigmoid(x):\n",
    "    return 1 / (1 + np.exp(-x))\n",
    "\n",
    "def loss_fn(y_true, y_pred, eps=1e-16):\n",
    "    \"\"\"\n",
    "    Loss function we would like to optimize (minimize)\n",
    "    We are using Logarithmic Loss\n",
    "    http://scikit-learn.org/stable/modules/model_evaluation.html#log-loss\n",
    "    \"\"\"\n",
    "    y_pred = np.maximum(y_pred,eps)\n",
    "    y_pred = np.minimum(y_pred,(1-eps))\n",
    "    return -(np.sum(y_true * np.log(y_pred)) + np.sum((1-y_true)*np.log(1-y_pred)))/len(y_true)\n",
    "\n",
    "# def loss_fn(y_true, y_pred, eps=1e-16):\n",
    "#     y_pred = np.maximum(y_pred, eps)\n",
    "#     y_pred = np.minimum(y_pred, (1-eps))\n",
    "#     return -(np.sum(y_true * np.log(y_pred)) + np.sum((1-y_true)*np.log(1-y_pred)))/len(y_true)\n",
    "\n",
    "\n",
    "def forward_pass(W1, W2):\n",
    "    global x_mat\n",
    "    global y\n",
    "    global num_\n",
    "\n",
    "    z_2 = np.dot(x_mat, W_1)    # (500, 3) x (3, 4) = (500, 4)\n",
    "    a_2 = sigmoid(z_2)          # (500, 4)\n",
    "    z_3 = np.dot(a_2, W_2)      # (500, 4) x (4, 1) = (500, 1)\n",
    "    y_pred = sigmoid(z_3).reshape((len(x_mat),))      # (500, 1) -> (500, )\n",
    "    \n",
    "    J_z_3_grad = -y + y_pred      # (500, )\n",
    "    J_W_2_grad = np.dot(J_z_3_grad, a_2)      # (500, ) x (500, 4) = (4, )\n",
    "    a_2_z_2_grad = sigmoid(z_2)*(1 - sigmoid(z_2))  # (500, 4) * (500, 4) = (500, 4)\n",
    "#     J_W_1_grad = a_1 * a_2_z_2_grad * W_2 * J_z_3_grad\n",
    "#     J_W_1_grad = np.dot(x_mat, a_2_z_2_grad).dot(W_2).dot(J_z_3_grad)\n",
    "    J_W_1_grad = (np.dot((J_z_3_grad).reshape(-1,1), W_2.reshape(-1,1).T)*a_2_z_2_grad).T.dot(x_mat).T\n",
    "                 # (500, ) -> (500, 1) x (4 x 1).T = (500, 4) * (500, 4) = (500, 4).T = (4, 500) x (500, 3) = (4, 3).T = (3, 4)\n",
    "    gradient = (J_W_1_grad, J_W_2_grad)\n",
    "    return y_pred, gradient\n",
    "\n",
    "def plot_loss_accuracy(loss_vals, accuracies):\n",
    "    fig = plt.figure(figsize=(16, 8))\n",
    "    fig.suptitle('Log Loss and Accuracy over iterations')\n",
    "    \n",
    "    ax = fig.add_subplot(1, 2, 1)\n",
    "    ax.plot(loss_vals)\n",
    "    ax.grid(True)\n",
    "    ax.set(xlabel='iterations', title='Log Loss')\n",
    "    \n",
    "    ax = fig.add_subplot(1, 2, 2)\n",
    "    ax.plot(accuracies)\n",
    "    ax.grid(True)\n",
    "    ax.set(xlabel='iterations', title='Accuracy');"
   ]
  },
  {
   "cell_type": "code",
   "execution_count": 6,
   "metadata": {},
   "outputs": [],
   "source": [
    "w1 = np.random.uniform(-1,1,size=(3,4))\n",
    "w2 = np.random.uniform(-1,1,size=(4,1))\n"
   ]
  },
  {
   "cell_type": "code",
   "execution_count": 13,
   "metadata": {},
   "outputs": [
    {
     "data": {
      "text/plain": [
       "array([[ 0.73320693],\n",
       "       [ 0.83707681],\n",
       "       [-0.08862416],\n",
       "       [-0.63152008]])"
      ]
     },
     "execution_count": 13,
     "metadata": {},
     "output_type": "execute_result"
    }
   ],
   "source": [
    "w2 = np.random.uniform(-1,1,size=(4,1))\n",
    "w2"
   ]
  },
  {
   "cell_type": "code",
   "execution_count": 14,
   "metadata": {},
   "outputs": [],
   "source": [
    "# #### Initialize the network parameters\n",
    "\n",
    "# np.random.seed(1241)\n",
    "\n",
    "# W_1 = np.random.uniform(-1,1,size=(3,4))\n",
    "# W_2 = np.random.uniform(-1,1,size=(4))\n",
    "# num_iter = 10000\n",
    "# learning_rate = .001\n",
    "# x_mat = x_mat_full\n",
    "\n",
    "\n",
    "# loss_vals, accuracies = [], []\n",
    "# for i in range(num_iter):\n",
    "#     ### Do a forward computation, and get the gradient\n",
    "#     y_pred, (J_W_1_grad, J_W_2_grad) = forward_pass(W_1, W_2)\n",
    "    \n",
    "#     ## Update the weight matrices\n",
    "#     W_1 = W_1 - learning_rate*J_W_1_grad \n",
    "#     W_2 = W_2 - learning_rate*J_W_2_grad\n",
    "    \n",
    "#     ### Compute the loss and accuracy\n",
    "#     curr_loss = loss_fn(y,y_pred)\n",
    "#     loss_vals.append(curr_loss)\n",
    "#     acc = np.sum((y_pred>=.5) == y)/num_obs\n",
    "#     accuracies.append(acc)\n",
    "\n",
    "#     ## Print the loss and accuracy for every 200th iteration\n",
    "#     if((i%200) == 0):\n",
    "#         print('iteration {}, log loss is {:.4f}, accuracy is {}'.format(\n",
    "#             i, curr_loss, acc\n",
    "#         ))\n",
    "# plot_loss_accuracy(loss_vals, accuracies)"
   ]
  },
  {
   "cell_type": "code",
   "execution_count": 15,
   "metadata": {},
   "outputs": [
    {
     "data": {
      "text/plain": [
       "4"
      ]
     },
     "execution_count": 15,
     "metadata": {},
     "output_type": "execute_result"
    }
   ],
   "source": [
    "a\n",
    "a1 = np.array([0, 0, 0, 1, 1, 1])\n",
    "a2 = np.array([1, 2, 3, 4, 5, 1])\n",
    "(a2 >= 3) == a1\n",
    "\n",
    "np.sum((a2 >= 3) == a1)\n"
   ]
  },
  {
   "cell_type": "code",
   "execution_count": 7,
   "metadata": {},
   "outputs": [
    {
     "name": "stdout",
     "output_type": "stream",
     "text": [
      "iteration 0, log loss is 0.813409, accuracy is 0.502\n",
      "iteration 200, log loss is 0.689003, accuracy is 0.608\n",
      "iteration 400, log loss is 0.673418, accuracy is 0.742\n",
      "iteration 600, log loss is 0.608589, accuracy is 0.77\n",
      "iteration 800, log loss is 0.526074, accuracy is 0.778\n",
      "iteration 1000, log loss is 0.495724, accuracy is 0.766\n",
      "iteration 1200, log loss is 0.476197, accuracy is 0.77\n",
      "iteration 1400, log loss is 0.414996, accuracy is 0.812\n",
      "iteration 1600, log loss is 0.344841, accuracy is 0.89\n",
      "iteration 1800, log loss is 0.307986, accuracy is 0.91\n",
      "iteration 2000, log loss is 0.284791, accuracy is 0.91\n",
      "iteration 2200, log loss is 0.264296, accuracy is 0.918\n",
      "iteration 2400, log loss is 0.241980, accuracy is 0.926\n",
      "iteration 2600, log loss is 0.220291, accuracy is 0.932\n",
      "iteration 2800, log loss is 0.202755, accuracy is 0.944\n",
      "iteration 3000, log loss is 0.189465, accuracy is 0.962\n",
      "iteration 3200, log loss is 0.179436, accuracy is 0.966\n",
      "iteration 3400, log loss is 0.171682, accuracy is 0.97\n",
      "iteration 3600, log loss is 0.165463, accuracy is 0.976\n",
      "iteration 3800, log loss is 0.160298, accuracy is 0.982\n",
      "iteration 4000, log loss is 0.155885, accuracy is 0.982\n",
      "iteration 4200, log loss is 0.152029, accuracy is 0.982\n",
      "iteration 4400, log loss is 0.148606, accuracy is 0.98\n",
      "iteration 4600, log loss is 0.145529, accuracy is 0.978\n",
      "iteration 4800, log loss is 0.142738, accuracy is 0.978\n",
      "iteration 5000, log loss is 0.140189, accuracy is 0.978\n",
      "iteration 5200, log loss is 0.137849, accuracy is 0.978\n",
      "iteration 5400, log loss is 0.135691, accuracy is 0.978\n",
      "iteration 5600, log loss is 0.133696, accuracy is 0.982\n",
      "iteration 5800, log loss is 0.131845, accuracy is 0.982\n",
      "iteration 6000, log loss is 0.130125, accuracy is 0.982\n",
      "iteration 6200, log loss is 0.128522, accuracy is 0.984\n",
      "iteration 6400, log loss is 0.127024, accuracy is 0.984\n",
      "iteration 6600, log loss is 0.125622, accuracy is 0.984\n",
      "iteration 6800, log loss is 0.124305, accuracy is 0.982\n",
      "iteration 7000, log loss is 0.123064, accuracy is 0.982\n",
      "iteration 7200, log loss is 0.121892, accuracy is 0.982\n",
      "iteration 7400, log loss is 0.120782, accuracy is 0.982\n",
      "iteration 7600, log loss is 0.119727, accuracy is 0.982\n",
      "iteration 7800, log loss is 0.118722, accuracy is 0.982\n",
      "iteration 8000, log loss is 0.117761, accuracy is 0.982\n",
      "iteration 8200, log loss is 0.116842, accuracy is 0.982\n",
      "iteration 8400, log loss is 0.115960, accuracy is 0.982\n",
      "iteration 8600, log loss is 0.115112, accuracy is 0.982\n",
      "iteration 8800, log loss is 0.114296, accuracy is 0.98\n",
      "iteration 9000, log loss is 0.113508, accuracy is 0.98\n",
      "iteration 9200, log loss is 0.112746, accuracy is 0.98\n",
      "iteration 9400, log loss is 0.112010, accuracy is 0.98\n",
      "iteration 9600, log loss is 0.111296, accuracy is 0.98\n",
      "iteration 9800, log loss is 0.110604, accuracy is 0.98\n"
     ]
    },
    {
     "data": {
      "image/png": "[encoded data removed]",
      "text/plain": [
       "<Figure size 1152x576 with 2 Axes>"
      ]
     },
     "metadata": {
      "needs_background": "light"
     },
     "output_type": "display_data"
    }
   ],
   "source": [
    "# Practice\n",
    "np.random.seed(1241)\n",
    "\n",
    "W_1 = np.random.uniform(-1, 1, size=(3,4))\n",
    "W_2 = np.random.uniform(-1, 1, size=(4))\n",
    "num_iter = 10000\n",
    "learning_rate = .001\n",
    "x_mat = x_mat_full\n",
    "\n",
    "loss_vals, accuracies = [], []\n",
    "for i in range(num_iter):\n",
    "    y_pred, (J_W_1_grad, J_W_2_grad) = forward_pass(W_1, W_2)\n",
    "    \n",
    "    W_1 = W_1 - learning_rate * J_W_1_grad\n",
    "    W_2 = W_2 - learning_rate * J_W_2_grad\n",
    "    \n",
    "    curr_loss = loss_fn(y, y_pred)\n",
    "    loss_vals.append(curr_loss)\n",
    "    acc = np.sum((y_pred>=0.5) == y)/num_obs\n",
    "    accuracies.append(acc)\n",
    "    \n",
    "    if((i%200)==0):\n",
    "        print('iteration {}, log loss is {:4f}, accuracy is {}'.format(i, curr_loss, acc))\n",
    "plot_loss_accuracy(loss_vals, accuracies)\n"
   ]
  },
  {
   "cell_type": "markdown",
   "metadata": {},
   "source": [
    "Plot the predicted answers, with mistakes in yellow"
   ]
  },
  {
   "cell_type": "code",
   "execution_count": 17,
   "metadata": {},
   "outputs": [
    {
     "data": {
      "image/png": "[encoded data removed]",
      "text/plain": [
       "<Figure size 576x576 with 1 Axes>"
      ]
     },
     "metadata": {
      "needs_background": "light"
     },
     "output_type": "display_data"
    }
   ],
   "source": [
    "pred1 = (y_pred>=.5)\n",
    "pred0 = (y_pred<.5)\n",
    "\n",
    "fig, ax = plt.subplots(figsize=(8, 8))\n",
    "# true predictions\n",
    "ax.plot(x_mat[pred1 & (y==1),0],x_mat[pred1 & (y==1),1], 'ro', label='true positives')\n",
    "ax.plot(x_mat[pred0 & (y==0),0],x_mat[pred0 & (y==0),1], 'bx', label='true negatives')\n",
    "# false predictions\n",
    "ax.plot(x_mat[pred1 & (y==0),0],x_mat[pred1 & (y==0),1], 'yx', label='false positives', markersize=15)\n",
    "ax.plot(x_mat[pred0 & (y==1),0],x_mat[pred0 & (y==1),1], 'yo', label='false negatives', markersize=15, alpha=.6)\n",
    "ax.set(title='Truth vs Prediction')\n",
    "ax.legend(bbox_to_anchor=(1, 0.8), fancybox=True, shadow=True, fontsize='x-large');"
   ]
  },
  {
   "cell_type": "markdown",
   "metadata": {},
   "source": [
    "---\n",
    "### Machine Learning Foundation (C) 2020 IBM Corporation"
   ]
  }
 ],
 "metadata": {
  "kernelspec": {
   "display_name": "Python 3 (ipykernel)",
   "language": "python",
   "name": "python3"
  },
  "language_info": {
   "codemirror_mode": {
    "name": "ipython",
    "version": 3
   },
   "file_extension": ".py",
   "mimetype": "text/x-python",
   "name": "python",
   "nbconvert_exporter": "python",
   "pygments_lexer": "ipython3",
   "version": "3.9.6"
  }
 },
 "nbformat": 4,
 "nbformat_minor": 4
}
