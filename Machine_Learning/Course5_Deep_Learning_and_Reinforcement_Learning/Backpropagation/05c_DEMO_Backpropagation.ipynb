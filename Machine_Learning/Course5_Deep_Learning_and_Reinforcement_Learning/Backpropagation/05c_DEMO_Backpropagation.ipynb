{
 "cells": [
  {
   "cell_type": "markdown",
   "metadata": {
    "run_control": {
     "marked": true
    }
   },
   "source": [
    "# Machine Learning Foundation\n",
    "\n",
    "## Course 5, Part c: Backpropagation DEMO"
   ]
  },
  {
   "cell_type": "markdown",
   "metadata": {},
   "source": [
    "## Overview\n",
    "In this exercise we will use backpropagation to train a multi-layer perceptron (with a single hidden layer).  We will experiment with different patterns and see how quickly or slowly the weights converge.  We will see the impact and interplay of different parameters such as learning rate, number of iterations, and number of data points."
   ]
  },
  {
   "cell_type": "code",
   "execution_count": 1,
   "metadata": {},
   "outputs": [],
   "source": [
    "#Setup\n",
    "import numpy as np\n",
    "import matplotlib.pyplot as plt"
   ]
  },
  {
   "cell_type": "markdown",
   "metadata": {},
   "source": [
    "In this exercise, we will prepare code to create a multi-layer perceptron with a single hidden layer (with 4 nodes) and train it via back-propagation.  We will take the following steps:\n",
    "\n",
    "1. Initialize the weights to random values between -1 and 1\n",
    "1. Perform the feed-forward computation\n",
    "1. Compute the loss function\n",
    "1. Calculate the gradients for all the weights via back-propagation\n",
    "1. Update the weight matrices (using a learning_rate parameter)\n",
    "1. Execute steps 2-5 for a fixed number of iterations\n",
    "1. Plot the accuracies and log loss and observe how they change over time\n",
    "\n",
    "\n",
    "Once the code is running, we can address the following questions:\n",
    "- Which patterns was the neural network able to learn quickly and which took longer?\n",
    "- What learning rates and numbers of iterations worked well?\n",
    "- If you have time, try varying the size of the hidden layer and experiment with different activation functions (e.g. ReLu)"
   ]
  },
  {
   "cell_type": "code",
   "execution_count": 2,
   "metadata": {},
   "outputs": [
    {
     "data": {
      "text/plain": [
       "array([[-0.9071798 , -0.80406503,  1.        ],\n",
       "       [ 0.05189408, -0.93766292,  1.        ],\n",
       "       [-0.51420216,  0.23149753,  1.        ],\n",
       "       ...,\n",
       "       [-0.86820677, -0.49474676,  1.        ],\n",
       "       [ 0.20907123,  0.5912084 ,  1.        ],\n",
       "       [ 0.64394   ,  0.96521285,  1.        ]])"
      ]
     },
     "execution_count": 2,
     "metadata": {},
     "output_type": "execute_result"
    }
   ],
   "source": [
    "num_obs = 500\n",
    "x_mat_1 = np.random.uniform(-1,1,size = (num_obs,2))\n",
    "x_mat_bias = np.ones((num_obs,1))\n",
    "x_mat_full = np.concatenate( (x_mat_1,x_mat_bias), axis=1)\n",
    "x_mat_full"
   ]
  },
  {
   "cell_type": "code",
   "execution_count": 3,
   "metadata": {},
   "outputs": [
    {
     "data": {
      "text/plain": [
       "array([ 1, 10, 15])"
      ]
     },
     "execution_count": 3,
     "metadata": {},
     "output_type": "execute_result"
    }
   ],
   "source": [
    "a = np.array([True, True, False, True])\n",
    "b = np.array([[1, 2], [10, 20], [11, 22], [15, 25]])\n",
    "b[a, 0]"
   ]
  },
  {
   "cell_type": "code",
   "execution_count": 4,
   "metadata": {},
   "outputs": [
    {
     "data": {
      "text/plain": [
       "array([[-0.9071798 , -0.80406503,  1.        ],\n",
       "       [ 0.05189408, -0.93766292,  1.        ],\n",
       "       [-0.51420216,  0.23149753,  1.        ],\n",
       "       ...,\n",
       "       [-0.86820677, -0.49474676,  1.        ],\n",
       "       [ 0.20907123,  0.5912084 ,  1.        ],\n",
       "       [ 0.64394   ,  0.96521285,  1.        ]])"
      ]
     },
     "execution_count": 4,
     "metadata": {},
     "output_type": "execute_result"
    }
   ],
   "source": [
    "x_mat_full"
   ]
  },
  {
   "cell_type": "code",
   "execution_count": 5,
   "metadata": {
    "scrolled": false
   },
   "outputs": [
    {
     "data": {
      "text/plain": [
       "array([0, 1, 1, 0, 1, 1, 0, 0, 0, 1, 1, 1, 1, 0, 1, 0, 1, 1, 0, 0, 0, 1,\n",
       "       1, 0, 1, 1, 1, 0, 0, 0, 0, 1, 1, 1, 0, 0, 1, 1, 1, 0, 1, 0, 0, 1,\n",
       "       1, 1, 0, 1, 1, 0, 1, 0, 1, 0, 0, 1, 1, 0, 0, 0, 1, 0, 0, 0, 0, 1,\n",
       "       1, 0, 1, 1, 0, 0, 1, 1, 0, 0, 0, 0, 1, 0, 0, 1, 1, 1, 1, 1, 1, 1,\n",
       "       1, 0, 1, 1, 0, 0, 1, 0, 0, 0, 0, 1, 0, 1, 0, 1, 0, 0, 0, 1, 0, 1,\n",
       "       1, 0, 1, 0, 1, 1, 0, 1, 1, 0, 0, 0, 1, 1, 0, 0, 1, 1, 1, 0, 0, 0,\n",
       "       1, 1, 0, 1, 0, 1, 1, 1, 1, 0, 0, 1, 0, 0, 1, 0, 0, 1, 0, 0, 1, 0,\n",
       "       0, 0, 0, 1, 1, 0, 1, 1, 0, 0, 1, 0, 0, 1, 0, 1, 0, 0, 0, 1, 1, 1,\n",
       "       1, 1, 0, 0, 1, 1, 0, 0, 1, 0, 1, 1, 0, 0, 1, 1, 0, 0, 1, 1, 0, 1,\n",
       "       1, 0, 0, 1, 0, 1, 1, 0, 0, 0, 1, 0, 1, 0, 1, 1, 1, 1, 0, 1, 0, 1,\n",
       "       0, 0, 0, 0, 0, 0, 1, 0, 1, 1, 1, 1, 0, 1, 0, 0, 1, 1, 0, 1, 1, 0,\n",
       "       0, 0, 1, 0, 0, 1, 1, 0, 1, 0, 0, 1, 0, 1, 1, 0, 1, 1, 0, 1, 0, 1,\n",
       "       1, 0, 0, 0, 0, 1, 1, 0, 1, 1, 0, 0, 1, 0, 1, 1, 1, 1, 1, 0, 0, 0,\n",
       "       1, 0, 1, 1, 0, 1, 1, 0, 0, 0, 0, 0, 1, 1, 1, 1, 1, 0, 1, 1, 1, 1,\n",
       "       1, 0, 0, 0, 0, 0, 0, 1, 1, 0, 1, 1, 1, 0, 1, 1, 1, 0, 0, 1, 1, 1,\n",
       "       0, 1, 1, 1, 1, 1, 1, 1, 1, 1, 0, 1, 0, 0, 1, 0, 1, 1, 0, 0, 0, 0,\n",
       "       0, 1, 0, 0, 1, 0, 1, 0, 0, 1, 0, 1, 0, 0, 0, 1, 0, 0, 1, 1, 0, 1,\n",
       "       1, 0, 1, 0, 0, 0, 1, 1, 0, 1, 1, 0, 0, 0, 0, 1, 1, 0, 0, 1, 0, 0,\n",
       "       0, 0, 1, 0, 1, 0, 1, 0, 1, 1, 0, 1, 1, 1, 1, 1, 1, 0, 0, 1, 0, 0,\n",
       "       1, 1, 0, 1, 1, 0, 1, 1, 0, 1, 1, 1, 1, 0, 0, 1, 1, 0, 1, 1, 0, 1,\n",
       "       1, 1, 1, 0, 1, 1, 1, 0, 0, 1, 1, 0, 0, 1, 0, 0, 0, 0, 0, 1, 0, 1,\n",
       "       1, 0, 0, 1, 0, 0, 0, 0, 0, 1, 0, 0, 1, 0, 0, 1, 0, 0, 1, 0, 0, 0,\n",
       "       0, 1, 1, 0, 1, 1, 0, 0, 0, 0, 1, 0, 0, 0, 1, 0])"
      ]
     },
     "execution_count": 5,
     "metadata": {},
     "output_type": "execute_result"
    }
   ],
   "source": [
    "y = ((np.abs(x_mat_full[:,0]) + np.abs(x_mat_full[:,1]))<1).astype(int)\n",
    "y"
   ]
  },
  {
   "cell_type": "code",
   "execution_count": 6,
   "metadata": {
    "scrolled": true
   },
   "outputs": [
    {
     "data": {
      "text/plain": [
       "array([ 5.18940769e-02, -5.14202159e-01,  1.34936147e-02,  1.50651388e-01,\n",
       "       -2.21974754e-01,  4.61827403e-01, -1.31801029e-01,  1.02438044e-02,\n",
       "       -5.60839182e-01, -3.39586088e-01, -4.06645076e-01,  4.62565734e-01,\n",
       "        5.84294382e-01,  4.48217704e-01,  1.42659461e-02, -3.60585936e-01,\n",
       "        1.69875993e-01,  2.34349673e-01,  3.62351588e-01, -8.79592336e-02,\n",
       "        8.14382035e-02, -6.75998238e-01,  7.98480330e-02,  2.41105455e-01,\n",
       "       -1.80542009e-02,  3.42014260e-01,  5.88983965e-01,  3.77234698e-01,\n",
       "        2.78209106e-01, -2.53270055e-01, -6.39055958e-01,  1.81047538e-02,\n",
       "        2.56036020e-01, -4.27639259e-01, -3.48948542e-01,  7.82219717e-01,\n",
       "        7.45885998e-02, -9.06251813e-02, -2.66267862e-01, -1.38624781e-01,\n",
       "        3.40670005e-01,  2.60441096e-01, -1.49084455e-01,  2.18253185e-02,\n",
       "       -4.85567962e-01,  3.30523344e-02, -8.37109936e-02,  3.84045773e-01,\n",
       "        3.06341933e-01,  1.14661783e-01, -1.48461380e-01, -5.68745518e-01,\n",
       "       -9.27910048e-02, -2.89898196e-01,  4.94817905e-01,  6.53141688e-02,\n",
       "       -1.88884902e-01,  3.85491421e-01,  1.15962397e-01,  2.88751434e-01,\n",
       "        2.05420015e-01,  6.11546031e-01,  8.67794739e-01,  6.96242404e-02,\n",
       "       -3.56208428e-01,  5.14119411e-01,  5.07042559e-01, -6.35307070e-02,\n",
       "       -8.40463899e-01, -1.11869258e-01, -1.73313643e-01,  5.45495010e-01,\n",
       "       -4.70020087e-01,  8.17726297e-02,  7.65423577e-01, -1.07633419e-01,\n",
       "       -1.61103016e-01,  4.53461671e-01, -5.79577636e-01, -3.69337571e-01,\n",
       "        5.49366698e-01, -1.74672714e-01, -1.52172943e-01, -4.60822621e-01,\n",
       "       -4.34723102e-02, -2.17094343e-01,  1.40975244e-01, -3.99512559e-01,\n",
       "        9.45373813e-01,  2.35690840e-01, -3.11429699e-01, -5.94367045e-01,\n",
       "       -1.24606359e-01, -6.59329814e-01, -7.12200780e-02, -1.49515830e-01,\n",
       "       -2.67106310e-01, -2.54188088e-01, -3.64792162e-01,  1.12045908e-01,\n",
       "       -6.24103305e-01,  1.71883645e-02,  8.35646527e-01,  6.22312581e-02,\n",
       "       -8.00734351e-02, -1.55170212e-01,  1.94528288e-01, -6.19054327e-01,\n",
       "        3.95444051e-01,  4.70470661e-01, -2.13525407e-01,  1.76704709e-01,\n",
       "       -1.64946128e-01, -2.18507187e-01, -3.97969845e-01,  1.72124018e-02,\n",
       "        5.46308709e-01, -4.39802466e-01, -3.18557614e-01, -8.09275727e-02,\n",
       "       -1.99039799e-01, -6.12665701e-01, -1.49118511e-01, -3.14065888e-01,\n",
       "       -3.28900329e-01,  3.94194657e-02,  1.83229230e-01,  7.08835998e-01,\n",
       "        1.31272197e-01, -6.57172764e-02, -7.10599716e-01, -4.71705719e-01,\n",
       "       -1.06409620e-01,  3.47825265e-01,  2.19252134e-01, -6.08631077e-01,\n",
       "        2.15378634e-01,  2.68691791e-01, -4.58924223e-02, -1.85367770e-01,\n",
       "        1.23496145e-01, -4.49125537e-01, -1.81599162e-01, -7.73087948e-01,\n",
       "        7.64762980e-01, -4.67238779e-01, -1.51386007e-01, -1.83413666e-02,\n",
       "        1.68061427e-01, -9.03323298e-01, -4.07223900e-01, -3.45973208e-01,\n",
       "        3.53342415e-01,  1.12125261e-02, -4.67648461e-01,  2.85977358e-01,\n",
       "        6.95255038e-02,  6.01880456e-03,  3.58741487e-01,  2.81760909e-02,\n",
       "       -9.61195983e-02,  2.04306717e-01,  4.77032270e-01, -6.80297079e-02,\n",
       "        3.08354782e-01, -8.60506801e-02,  6.72593712e-01,  4.89931478e-01,\n",
       "        3.34347627e-01,  2.79681315e-01, -3.08695428e-01, -4.74945809e-01,\n",
       "       -1.86537416e-01,  2.95476339e-01, -2.48529647e-01, -2.64833658e-02,\n",
       "        3.85490036e-01,  8.94262533e-02,  5.49666627e-02,  1.57338747e-01,\n",
       "        6.26289787e-02,  4.70331350e-01,  3.63140058e-01, -3.08030292e-01,\n",
       "       -3.88949746e-01, -4.22595841e-01, -3.09606532e-01, -4.81838429e-01,\n",
       "       -7.54987551e-02,  2.13305252e-01,  1.36275501e-01, -6.51900194e-01,\n",
       "        5.23712238e-01,  2.99770024e-02,  3.45405587e-01,  3.93989383e-01,\n",
       "       -6.68244559e-01,  5.29809314e-01, -4.92437493e-01,  5.80094331e-01,\n",
       "        2.23550150e-01,  2.99629035e-01,  3.58609482e-01,  5.15715311e-01,\n",
       "        1.48957049e-02, -3.08558277e-02, -3.74034262e-02,  1.77431353e-01,\n",
       "        7.34865778e-02,  5.52658497e-01,  2.56859625e-01,  3.91880594e-01,\n",
       "       -2.76972351e-01,  7.83477424e-01,  2.01843566e-02,  1.50969059e-02,\n",
       "       -1.18222421e-01,  5.94241893e-02,  1.68391750e-04,  3.17788216e-01,\n",
       "        1.40157114e-01, -6.47126284e-01, -4.05257526e-02,  6.49927785e-01,\n",
       "       -2.80696837e-02,  1.13384877e-01, -4.35394416e-02,  2.45750188e-01,\n",
       "       -6.84541762e-01,  7.68386714e-02, -4.67431093e-01,  3.00191005e-01,\n",
       "       -1.33397610e-01,  2.95518005e-01, -5.18945217e-01,  2.18798976e-01,\n",
       "        1.06481168e-01, -3.85712906e-01,  7.10909337e-02, -5.89282138e-02,\n",
       "       -2.38904602e-01,  3.09855091e-01, -6.18283577e-02,  7.92387906e-01,\n",
       "       -5.37465906e-02, -1.45062047e-01,  7.83646204e-01,  5.55414596e-02,\n",
       "        6.45200459e-01, -6.03983274e-01,  2.09071228e-01])"
      ]
     },
     "execution_count": 6,
     "metadata": {},
     "output_type": "execute_result"
    }
   ],
   "source": [
    "x_mat_full[y==1, 0]"
   ]
  },
  {
   "cell_type": "code",
   "execution_count": 7,
   "metadata": {},
   "outputs": [
    {
     "name": "stdout",
     "output_type": "stream",
     "text": [
      "shape of x_mat_full is (500, 3)\n",
      "shape of y is (500,)\n"
     ]
    },
    {
     "data": {
      "image/png": "[encoded data removed]",
      "text/plain": [
       "<Figure size 360x360 with 1 Axes>"
      ]
     },
     "metadata": {
      "needs_background": "light"
     },
     "output_type": "display_data"
    }
   ],
   "source": [
    "## This code below generates two x values and a y value according to different patterns\n",
    "## It also creates a \"bias\" term (a vector of 1s)\n",
    "## The goal is then to learn the mapping from x to y using a neural network via back-propagation\n",
    "\n",
    "num_obs = 500\n",
    "x_mat_1 = np.random.uniform(-1,1,size = (num_obs,2))\n",
    "x_mat_bias = np.ones((num_obs,1))\n",
    "x_mat_full = np.concatenate( (x_mat_1,x_mat_bias), axis=1)\n",
    "\n",
    "# PICK ONE PATTERN BELOW and comment out the rest.\n",
    "\n",
    "# # Circle pattern\n",
    "# y = (np.sqrt(x_mat_full[:,0]**2 + x_mat_full[:,1]**2)<.75).astype(int)\n",
    "\n",
    "# # Diamond Pattern\n",
    "y = ((np.abs(x_mat_full[:,0]) + np.abs(x_mat_full[:,1]))<1).astype(int)\n",
    "\n",
    "# # Centered square\n",
    "# y = ((np.maximum(np.abs(x_mat_full[:,0]), np.abs(x_mat_full[:,1])))<.5).astype(int)\n",
    "\n",
    "# # Thick Right Angle pattern\n",
    "# y = (((np.maximum((x_mat_full[:,0]), (x_mat_full[:,1])))<.5) & ((np.maximum((x_mat_full[:,0]), (x_mat_full[:,1])))>-.5)).astype(int)\n",
    "\n",
    "# # Thin right angle pattern\n",
    "# y = (((np.maximum((x_mat_full[:,0]), (x_mat_full[:,1])))<.5) & ((np.maximum((x_mat_full[:,0]), (x_mat_full[:,1])))>0)).astype(int)\n",
    "\n",
    "\n",
    "print('shape of x_mat_full is {}'.format(x_mat_full.shape))\n",
    "print('shape of y is {}'.format(y.shape))\n",
    "\n",
    "fig, ax = plt.subplots(figsize=(5, 5))\n",
    "ax.plot(x_mat_full[y==1, 0],x_mat_full[y==1, 1], 'o', label='class 1', color='darkslateblue')\n",
    "ax.plot(x_mat_full[y==0, 0],x_mat_full[y==0, 1], 'x', label='class 0', color='chocolate')\n",
    "# ax.grid(True)\n",
    "ax.legend(loc='best')\n",
    "ax.axis('equal');"
   ]
  },
  {
   "cell_type": "code",
   "execution_count": 8,
   "metadata": {},
   "outputs": [
    {
     "data": {
      "text/plain": [
       "(-1.097531894795396, 1.0896604385908575, -1.09767449740373, 1.0924970366675284)"
      ]
     },
     "execution_count": 8,
     "metadata": {},
     "output_type": "execute_result"
    }
   ],
   "source": [
    "ax.axis('equal')"
   ]
  },
  {
   "cell_type": "markdown",
   "metadata": {},
   "source": [
    "Here are some helper functions"
   ]
  },
  {
   "cell_type": "code",
   "execution_count": 9,
   "metadata": {},
   "outputs": [],
   "source": [
    "# def sigmoid(x):\n",
    "#     \"\"\"\n",
    "#     Sigmoid function\n",
    "#     \"\"\"\n",
    "#     return 1.0 / (1.0 + np.exp(-x))\n",
    "\n",
    "\n",
    "# def loss_fn(y_true, y_pred, eps=1e-16):\n",
    "#     \"\"\"\n",
    "#     Loss function we would like to optimize (minimize)\n",
    "#     We are using Logarithmic Loss\n",
    "#     http://scikit-learn.org/stable/modules/model_evaluation.html#log-loss\n",
    "#     \"\"\"\n",
    "#     y_pred = np.maximum(y_pred,eps)\n",
    "#     y_pred = np.minimum(y_pred,(1-eps))\n",
    "#     return -(np.sum(y_true * np.log(y_pred)) + np.sum((1-y_true)*np.log(1-y_pred)))/len(y_true)\n",
    "\n",
    "\n",
    "# def forward_pass(W1, W2):\n",
    "#     \"\"\"\n",
    "#     Does a forward computation of the neural network\n",
    "#     Takes the input `x_mat` (global variable) and produces the output `y_pred`\n",
    "#     Also produces the gradient of the log loss function\n",
    "#     \"\"\"\n",
    "#     global x_mat\n",
    "#     global y\n",
    "#     global num_\n",
    "#     # First, compute the new predictions `y_pred`\n",
    "#     z_2 = np.dot(x_mat, W_1)\n",
    "#     a_2 = sigmoid(z_2)\n",
    "#     z_3 = np.dot(a_2, W_2)\n",
    "#     y_pred = sigmoid(z_3).reshape((len(x_mat),))\n",
    "#     # Now compute the gradient\n",
    "#     J_z_3_grad = -y + y_pred\n",
    "#     J_W_2_grad = np.dot(J_z_3_grad, a_2)\n",
    "#     a_2_z_2_grad = sigmoid(z_2)*(1-sigmoid(z_2))\n",
    "#     J_W_1_grad = (np.dot((J_z_3_grad).reshape(-1,1), W_2.reshape(-1,1).T)*a_2_z_2_grad).T.dot(x_mat).T\n",
    "#     gradient = (J_W_1_grad, J_W_2_grad)\n",
    "    \n",
    "#     # return\n",
    "#     return y_pred, gradient\n",
    "\n",
    "\n",
    "# def plot_loss_accuracy(loss_vals, accuracies):\n",
    "#     fig = plt.figure(figsize=(16, 8))\n",
    "#     fig.suptitle('Log Loss and Accuracy over iterations')\n",
    "    \n",
    "#     ax = fig.add_subplot(1, 2, 1)\n",
    "#     ax.plot(loss_vals)\n",
    "#     ax.grid(True)\n",
    "#     ax.set(xlabel='iterations', title='Log Loss')\n",
    "    \n",
    "#     ax = fig.add_subplot(1, 2, 2)\n",
    "#     ax.plot(accuracies)\n",
    "#     ax.grid(True)\n",
    "#     ax.set(xlabel='iterations', title='Accuracy');"
   ]
  },
  {
   "cell_type": "code",
   "execution_count": 10,
   "metadata": {},
   "outputs": [
    {
     "data": {
      "text/plain": [
       "(4, 3)"
      ]
     },
     "execution_count": 10,
     "metadata": {},
     "output_type": "execute_result"
    }
   ],
   "source": [
    "a\n",
    "c = b.copy()\n",
    "c = c*2\n",
    "d = np.array([[1, 2, 3], [3, 4, 5]])\n",
    "c.dot(d).shape\n",
    "np.dot(c, d).shape"
   ]
  },
  {
   "cell_type": "code",
   "execution_count": 14,
   "metadata": {},
   "outputs": [
    {
     "data": {
      "text/plain": [
       "array([[ 14,  20,  26],\n",
       "       [140, 200, 260],\n",
       "       [154, 220, 286],\n",
       "       [180, 260, 340]])"
      ]
     },
     "execution_count": 14,
     "metadata": {},
     "output_type": "execute_result"
    }
   ],
   "source": [
    "np.dot(c, d)"
   ]
  },
  {
   "cell_type": "code",
   "execution_count": 11,
   "metadata": {},
   "outputs": [
    {
     "data": {
      "text/plain": [
       "(500, 3)"
      ]
     },
     "execution_count": 11,
     "metadata": {},
     "output_type": "execute_result"
    }
   ],
   "source": [
    "x_mat_full.shape"
   ]
  },
  {
   "cell_type": "code",
   "execution_count": 12,
   "metadata": {},
   "outputs": [],
   "source": [
    "# Practice\n",
    "def sigmoid(x):\n",
    "    return 1 / (1 + np.exp(-x))\n",
    "\n",
    "def loss_fn(y_true, y_pred, eps=1e-16):\n",
    "    \"\"\"\n",
    "    Loss function we would like to optimize (minimize)\n",
    "    We are using Logarithmic Loss\n",
    "    http://scikit-learn.org/stable/modules/model_evaluation.html#log-loss\n",
    "    \"\"\"\n",
    "    y_pred = np.maximum(y_pred,eps)\n",
    "    y_pred = np.minimum(y_pred,(1-eps))\n",
    "    return -(np.sum(y_true * np.log(y_pred)) + np.sum((1-y_true)*np.log(1-y_pred)))/len(y_true)\n",
    "\n",
    "# def loss_fn(y_true, y_pred, eps=1e-16):\n",
    "#     y_pred = np.maximum(y_pred, eps)\n",
    "#     y_pred = np.minimum(y_pred, (1-eps))\n",
    "#     return -(np.sum(y_true * np.log(y_pred)) + np.sum((1-y_true)*np.log(1-y_pred)))/len(y_true)\n",
    "\n",
    "\n",
    "def forward_pass(W1, W2):\n",
    "    global x_mat\n",
    "    global y\n",
    "    global num_\n",
    "\n",
    "    z_2 = np.dot(x_mat, W_1)\n",
    "    a_2 = sigmoid(z_2)\n",
    "    z_3 = np.dot(a_2, W_2)\n",
    "    y_pred = sigmoid(z_3).reshape((len(x_mat),))\n",
    "    \n",
    "    J_z_3_grad = -y + y_pred\n",
    "    J_W_2_grad = np.dot(J_z_3_grad, a_2)\n",
    "    a_2_z_2_grad = sigmoid(z_2)*(1 - sigmoid(z_2))\n",
    "#     J_W_1_grad = a_1 * a_2_z_2_grad * W_2 * J_z_3_grad\n",
    "#     J_W_1_grad = np.dot(x_mat, a_2_z_2_grad).dot(W_2).dot(J_z_3_grad)\n",
    "    J_W_1_grad = (np.dot((J_z_3_grad).reshape(-1,1), W_2.reshape(-1,1).T)*a_2_z_2_grad).T.dot(x_mat).T\n",
    "    gradient = (J_W_1_grad, J_W_2_grad)\n",
    "    return y_pred, gradient\n",
    "\n",
    "def plot_loss_accuracy(loss_vals, accuracies):\n",
    "    fig = plt.figure(figsize=(16, 8))\n",
    "    fig.suptitle('Log Loss and Accuracy over iterations')\n",
    "    \n",
    "    ax = fig.add_subplot(1, 2, 1)\n",
    "    ax.plot(loss_vals)\n",
    "    ax.grid(True)\n",
    "    ax.set(xlabel='iterations', title='Log Loss')\n",
    "    \n",
    "    ax = fig.add_subplot(1, 2, 2)\n",
    "    ax.plot(accuracies)\n",
    "    ax.grid(True)\n",
    "    ax.set(xlabel='iterations', title='Accuracy');"
   ]
  },
  {
   "cell_type": "code",
   "execution_count": 13,
   "metadata": {},
   "outputs": [
    {
     "data": {
      "text/plain": [
       "array([[ 0.73320693],\n",
       "       [ 0.83707681],\n",
       "       [-0.08862416],\n",
       "       [-0.63152008]])"
      ]
     },
     "execution_count": 13,
     "metadata": {},
     "output_type": "execute_result"
    }
   ],
   "source": [
    "w2 = np.random.uniform(-1,1,size=(4,1))\n",
    "w2"
   ]
  },
  {
   "cell_type": "code",
   "execution_count": 14,
   "metadata": {},
   "outputs": [],
   "source": [
    "# #### Initialize the network parameters\n",
    "\n",
    "# np.random.seed(1241)\n",
    "\n",
    "# W_1 = np.random.uniform(-1,1,size=(3,4))\n",
    "# W_2 = np.random.uniform(-1,1,size=(4))\n",
    "# num_iter = 10000\n",
    "# learning_rate = .001\n",
    "# x_mat = x_mat_full\n",
    "\n",
    "\n",
    "# loss_vals, accuracies = [], []\n",
    "# for i in range(num_iter):\n",
    "#     ### Do a forward computation, and get the gradient\n",
    "#     y_pred, (J_W_1_grad, J_W_2_grad) = forward_pass(W_1, W_2)\n",
    "    \n",
    "#     ## Update the weight matrices\n",
    "#     W_1 = W_1 - learning_rate*J_W_1_grad \n",
    "#     W_2 = W_2 - learning_rate*J_W_2_grad\n",
    "    \n",
    "#     ### Compute the loss and accuracy\n",
    "#     curr_loss = loss_fn(y,y_pred)\n",
    "#     loss_vals.append(curr_loss)\n",
    "#     acc = np.sum((y_pred>=.5) == y)/num_obs\n",
    "#     accuracies.append(acc)\n",
    "\n",
    "#     ## Print the loss and accuracy for every 200th iteration\n",
    "#     if((i%200) == 0):\n",
    "#         print('iteration {}, log loss is {:.4f}, accuracy is {}'.format(\n",
    "#             i, curr_loss, acc\n",
    "#         ))\n",
    "# plot_loss_accuracy(loss_vals, accuracies)"
   ]
  },
  {
   "cell_type": "code",
   "execution_count": 15,
   "metadata": {},
   "outputs": [
    {
     "data": {
      "text/plain": [
       "4"
      ]
     },
     "execution_count": 15,
     "metadata": {},
     "output_type": "execute_result"
    }
   ],
   "source": [
    "a\n",
    "a1 = np.array([0, 0, 0, 1, 1, 1])\n",
    "a2 = np.array([1, 2, 3, 4, 5, 1])\n",
    "(a2 >= 3) == a1\n",
    "\n",
    "np.sum((a2 >= 3) == a1)\n"
   ]
  },
  {
   "cell_type": "code",
   "execution_count": 16,
   "metadata": {},
   "outputs": [
    {
     "name": "stdout",
     "output_type": "stream",
     "text": [
      "iteration 0, log loss is 0.812938, accuracy is 0.5\n",
      "iteration 200, log loss is 0.688275, accuracy is 0.57\n",
      "iteration 400, log loss is 0.675736, accuracy is 0.594\n",
      "iteration 600, log loss is 0.632371, accuracy is 0.724\n",
      "iteration 800, log loss is 0.572200, accuracy is 0.718\n",
      "iteration 1000, log loss is 0.545397, accuracy is 0.73\n",
      "iteration 1200, log loss is 0.534986, accuracy is 0.74\n",
      "iteration 1400, log loss is 0.506506, accuracy is 0.754\n",
      "iteration 1600, log loss is 0.424979, accuracy is 0.828\n",
      "iteration 1800, log loss is 0.358038, accuracy is 0.88\n",
      "iteration 2000, log loss is 0.323337, accuracy is 0.888\n",
      "iteration 2200, log loss is 0.298240, accuracy is 0.902\n",
      "iteration 2400, log loss is 0.272902, accuracy is 0.908\n",
      "iteration 2600, log loss is 0.247542, accuracy is 0.928\n",
      "iteration 2800, log loss is 0.226706, accuracy is 0.938\n",
      "iteration 3000, log loss is 0.210762, accuracy is 0.952\n",
      "iteration 3200, log loss is 0.198534, accuracy is 0.956\n",
      "iteration 3400, log loss is 0.188967, accuracy is 0.97\n",
      "iteration 3600, log loss is 0.181304, accuracy is 0.974\n",
      "iteration 3800, log loss is 0.175022, accuracy is 0.974\n",
      "iteration 4000, log loss is 0.169757, accuracy is 0.974\n",
      "iteration 4200, log loss is 0.165260, accuracy is 0.974\n",
      "iteration 4400, log loss is 0.161356, accuracy is 0.974\n",
      "iteration 4600, log loss is 0.157924, accuracy is 0.974\n",
      "iteration 4800, log loss is 0.154875, accuracy is 0.978\n",
      "iteration 5000, log loss is 0.152143, accuracy is 0.978\n",
      "iteration 5200, log loss is 0.149676, accuracy is 0.98\n",
      "iteration 5400, log loss is 0.147435, accuracy is 0.98\n",
      "iteration 5600, log loss is 0.145386, accuracy is 0.98\n",
      "iteration 5800, log loss is 0.143502, accuracy is 0.986\n",
      "iteration 6000, log loss is 0.141761, accuracy is 0.986\n",
      "iteration 6200, log loss is 0.140145, accuracy is 0.986\n",
      "iteration 6400, log loss is 0.138637, accuracy is 0.986\n",
      "iteration 6600, log loss is 0.137223, accuracy is 0.988\n",
      "iteration 6800, log loss is 0.135894, accuracy is 0.986\n",
      "iteration 7000, log loss is 0.134639, accuracy is 0.986\n",
      "iteration 7200, log loss is 0.133449, accuracy is 0.986\n",
      "iteration 7400, log loss is 0.132318, accuracy is 0.986\n",
      "iteration 7600, log loss is 0.131241, accuracy is 0.986\n",
      "iteration 7800, log loss is 0.130211, accuracy is 0.986\n",
      "iteration 8000, log loss is 0.129224, accuracy is 0.986\n",
      "iteration 8200, log loss is 0.128277, accuracy is 0.986\n",
      "iteration 8400, log loss is 0.127366, accuracy is 0.984\n",
      "iteration 8600, log loss is 0.126488, accuracy is 0.984\n",
      "iteration 8800, log loss is 0.125640, accuracy is 0.984\n",
      "iteration 9000, log loss is 0.124821, accuracy is 0.984\n",
      "iteration 9200, log loss is 0.124028, accuracy is 0.984\n",
      "iteration 9400, log loss is 0.123259, accuracy is 0.984\n",
      "iteration 9600, log loss is 0.122513, accuracy is 0.984\n",
      "iteration 9800, log loss is 0.121789, accuracy is 0.984\n"
     ]
    },
    {
     "data": {
      "image/png": "[encoded data removed]",
      "text/plain": [
       "<Figure size 1152x576 with 2 Axes>"
      ]
     },
     "metadata": {
      "needs_background": "light"
     },
     "output_type": "display_data"
    }
   ],
   "source": [
    "# Practice\n",
    "np.random.seed(1241)\n",
    "\n",
    "W_1 = np.random.uniform(-1, 1, size=(3,4))\n",
    "W_2 = np.random.uniform(-1, 1, size=(4))\n",
    "num_iter = 10000\n",
    "learning_rate = .001\n",
    "x_mat = x_mat_full\n",
    "\n",
    "loss_vals, accuracies = [], []\n",
    "for i in range(num_iter):\n",
    "    y_pred, (J_W_1_grad, J_W_2_grad) = forward_pass(W_1, W_2)\n",
    "    \n",
    "    W_1 = W_1 - learning_rate * J_W_1_grad\n",
    "    W_2 = W_2 - learning_rate * J_W_2_grad\n",
    "    \n",
    "    curr_loss = loss_fn(y, y_pred)\n",
    "    loss_vals.append(curr_loss)\n",
    "    acc = np.sum((y_pred>=0.5) == y)/num_obs\n",
    "    accuracies.append(acc)\n",
    "    \n",
    "    if((i%200)==0):\n",
    "        print('iteration {}, log loss is {:4f}, accuracy is {}'.format(i, curr_loss, acc))\n",
    "plot_loss_accuracy(loss_vals, accuracies)\n"
   ]
  },
  {
   "cell_type": "markdown",
   "metadata": {},
   "source": [
    "Plot the predicted answers, with mistakes in yellow"
   ]
  },
  {
   "cell_type": "code",
   "execution_count": 17,
   "metadata": {},
   "outputs": [
    {
     "data": {
      "image/png": "[encoded data removed]",
      "text/plain": [
       "<Figure size 576x576 with 1 Axes>"
      ]
     },
     "metadata": {
      "needs_background": "light"
     },
     "output_type": "display_data"
    }
   ],
   "source": [
    "pred1 = (y_pred>=.5)\n",
    "pred0 = (y_pred<.5)\n",
    "\n",
    "fig, ax = plt.subplots(figsize=(8, 8))\n",
    "# true predictions\n",
    "ax.plot(x_mat[pred1 & (y==1),0],x_mat[pred1 & (y==1),1], 'ro', label='true positives')\n",
    "ax.plot(x_mat[pred0 & (y==0),0],x_mat[pred0 & (y==0),1], 'bx', label='true negatives')\n",
    "# false predictions\n",
    "ax.plot(x_mat[pred1 & (y==0),0],x_mat[pred1 & (y==0),1], 'yx', label='false positives', markersize=15)\n",
    "ax.plot(x_mat[pred0 & (y==1),0],x_mat[pred0 & (y==1),1], 'yo', label='false negatives', markersize=15, alpha=.6)\n",
    "ax.set(title='Truth vs Prediction')\n",
    "ax.legend(bbox_to_anchor=(1, 0.8), fancybox=True, shadow=True, fontsize='x-large');"
   ]
  },
  {
   "cell_type": "markdown",
   "metadata": {},
   "source": [
    "---\n",
    "### Machine Learning Foundation (C) 2020 IBM Corporation"
   ]
  }
 ],
 "metadata": {
  "kernelspec": {
   "display_name": "Python 3 (ipykernel)",
   "language": "python",
   "name": "python3"
  },
  "language_info": {
   "codemirror_mode": {
    "name": "ipython",
    "version": 3
   },
   "file_extension": ".py",
   "mimetype": "text/x-python",
   "name": "python",
   "nbconvert_exporter": "python",
   "pygments_lexer": "ipython3",
   "version": "3.9.6"
  }
 },
 "nbformat": 4,
 "nbformat_minor": 4
}
