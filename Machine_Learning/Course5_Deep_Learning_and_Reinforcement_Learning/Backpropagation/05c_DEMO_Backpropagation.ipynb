{
 "cells": [
  {
   "cell_type": "markdown",
   "metadata": {
    "run_control": {
     "marked": true
    }
   },
   "source": [
    "# Machine Learning Foundation\n",
    "\n",
    "## Course 5, Part c: Backpropagation DEMO"
   ]
  },
  {
   "cell_type": "markdown",
   "metadata": {},
   "source": [
    "## Overview\n",
    "In this exercise we will use backpropagation to train a multi-layer perceptron (with a single hidden layer).  We will experiment with different patterns and see how quickly or slowly the weights converge.  We will see the impact and interplay of different parameters such as learning rate, number of iterations, and number of data points."
   ]
  },
  {
   "cell_type": "code",
   "execution_count": 1,
   "metadata": {},
   "outputs": [],
   "source": [
    "#Setup\n",
    "import numpy as np\n",
    "import matplotlib.pyplot as plt"
   ]
  },
  {
   "cell_type": "markdown",
   "metadata": {},
   "source": [
    "In this exercise, we will prepare code to create a multi-layer perceptron with a single hidden layer (with 4 nodes) and train it via back-propagation.  We will take the following steps:\n",
    "\n",
    "1. Initialize the weights to random values between -1 and 1\n",
    "1. Perform the feed-forward computation\n",
    "1. Compute the loss function\n",
    "1. Calculate the gradients for all the weights via back-propagation\n",
    "1. Update the weight matrices (using a learning_rate parameter)\n",
    "1. Execute steps 2-5 for a fixed number of iterations\n",
    "1. Plot the accuracies and log loss and observe how they change over time\n",
    "\n",
    "\n",
    "Once the code is running, we can address the following questions:\n",
    "- Which patterns was the neural network able to learn quickly and which took longer?\n",
    "- What learning rates and numbers of iterations worked well?\n",
    "- If you have time, try varying the size of the hidden layer and experiment with different activation functions (e.g. ReLu)"
   ]
  },
  {
   "cell_type": "code",
   "execution_count": 2,
   "metadata": {},
   "outputs": [
    {
     "data": {
      "text/plain": [
       "array([[ 0.93079925, -0.07558343,  1.        ],\n",
       "       [ 0.82754596,  0.63394314,  1.        ],\n",
       "       [-0.93177292, -0.68928804,  1.        ],\n",
       "       ...,\n",
       "       [ 0.77832046,  0.0437455 ,  1.        ],\n",
       "       [-0.42499196,  0.2142602 ,  1.        ],\n",
       "       [ 0.28653223,  0.58726081,  1.        ]])"
      ]
     },
     "execution_count": 2,
     "metadata": {},
     "output_type": "execute_result"
    }
   ],
   "source": [
    "num_obs = 500\n",
    "x_mat_1 = np.random.uniform(-1,1,size = (num_obs,2))\n",
    "x_mat_bias = np.ones((num_obs,1))\n",
    "x_mat_full = np.concatenate( (x_mat_1,x_mat_bias), axis=1)\n",
    "x_mat_full"
   ]
  },
  {
   "cell_type": "code",
   "execution_count": 3,
   "metadata": {},
   "outputs": [
    {
     "data": {
      "text/plain": [
       "array([ 1, 10, 15])"
      ]
     },
     "execution_count": 3,
     "metadata": {},
     "output_type": "execute_result"
    }
   ],
   "source": [
    "a = np.array([True, True, False, True])\n",
    "b = np.array([[1, 2], [10, 20], [11, 22], [15, 25]])\n",
    "b[a, 0]"
   ]
  },
  {
   "cell_type": "code",
   "execution_count": 4,
   "metadata": {},
   "outputs": [
    {
     "data": {
      "text/plain": [
       "array([[ 0.93079925, -0.07558343,  1.        ],\n",
       "       [ 0.82754596,  0.63394314,  1.        ],\n",
       "       [-0.93177292, -0.68928804,  1.        ],\n",
       "       ...,\n",
       "       [ 0.77832046,  0.0437455 ,  1.        ],\n",
       "       [-0.42499196,  0.2142602 ,  1.        ],\n",
       "       [ 0.28653223,  0.58726081,  1.        ]])"
      ]
     },
     "execution_count": 4,
     "metadata": {},
     "output_type": "execute_result"
    }
   ],
   "source": [
    "x_mat_full"
   ]
  },
  {
   "cell_type": "code",
   "execution_count": 5,
   "metadata": {
    "scrolled": false
   },
   "outputs": [
    {
     "data": {
      "text/plain": [
       "array([0, 0, 0, 1, 0, 0, 1, 0, 1, 0, 1, 1, 0, 1, 1, 0, 1, 0, 0, 1, 1, 1,\n",
       "       1, 1, 0, 0, 1, 1, 0, 0, 1, 1, 1, 1, 0, 0, 1, 0, 0, 1, 0, 0, 1, 0,\n",
       "       1, 0, 0, 1, 1, 1, 0, 0, 0, 1, 0, 0, 1, 0, 0, 0, 0, 0, 0, 1, 1, 1,\n",
       "       0, 0, 0, 1, 1, 1, 1, 0, 1, 1, 1, 1, 0, 0, 1, 0, 0, 1, 1, 0, 1, 0,\n",
       "       1, 1, 1, 1, 0, 0, 1, 0, 0, 0, 1, 0, 0, 0, 0, 0, 0, 1, 1, 0, 0, 0,\n",
       "       0, 0, 0, 1, 0, 1, 1, 1, 1, 1, 1, 0, 0, 0, 0, 0, 1, 1, 0, 1, 1, 1,\n",
       "       0, 1, 1, 1, 0, 0, 1, 1, 1, 0, 1, 1, 0, 1, 0, 0, 1, 1, 1, 1, 0, 1,\n",
       "       1, 1, 1, 0, 0, 1, 1, 1, 1, 1, 0, 1, 0, 1, 0, 0, 1, 0, 1, 0, 0, 0,\n",
       "       0, 0, 1, 1, 1, 0, 1, 1, 1, 0, 0, 0, 1, 1, 0, 1, 0, 1, 0, 1, 1, 1,\n",
       "       1, 0, 1, 1, 0, 0, 1, 0, 0, 1, 1, 1, 1, 1, 0, 1, 0, 0, 1, 0, 1, 1,\n",
       "       0, 0, 0, 0, 1, 0, 0, 1, 0, 1, 1, 0, 0, 1, 1, 1, 0, 1, 0, 0, 0, 1,\n",
       "       0, 1, 1, 0, 1, 1, 0, 0, 0, 0, 0, 0, 0, 0, 1, 0, 1, 1, 1, 0, 0, 0,\n",
       "       1, 1, 0, 0, 1, 0, 0, 0, 1, 1, 0, 1, 0, 1, 0, 1, 1, 0, 0, 1, 0, 0,\n",
       "       0, 1, 1, 0, 1, 0, 1, 1, 1, 0, 0, 1, 0, 1, 0, 1, 1, 0, 0, 1, 1, 0,\n",
       "       1, 1, 0, 0, 0, 1, 1, 0, 0, 0, 0, 0, 1, 1, 0, 1, 0, 0, 1, 1, 1, 0,\n",
       "       0, 1, 0, 0, 0, 0, 1, 0, 0, 1, 1, 1, 1, 0, 1, 0, 1, 1, 1, 0, 1, 0,\n",
       "       1, 0, 1, 1, 1, 1, 0, 1, 1, 0, 0, 0, 0, 0, 1, 1, 1, 1, 1, 0, 0, 1,\n",
       "       0, 1, 1, 1, 0, 0, 1, 0, 0, 0, 0, 1, 0, 1, 1, 1, 0, 1, 1, 0, 1, 1,\n",
       "       1, 0, 1, 1, 0, 0, 0, 1, 1, 1, 1, 0, 0, 1, 1, 0, 1, 1, 1, 1, 0, 0,\n",
       "       1, 0, 0, 0, 1, 1, 0, 1, 0, 0, 1, 1, 0, 0, 1, 1, 0, 0, 0, 1, 1, 0,\n",
       "       0, 1, 0, 0, 0, 1, 0, 1, 0, 1, 0, 1, 1, 0, 0, 0, 1, 0, 0, 0, 1, 0,\n",
       "       0, 0, 1, 0, 1, 1, 0, 1, 1, 1, 0, 0, 0, 1, 0, 1, 1, 1, 0, 0, 1, 0,\n",
       "       1, 0, 1, 0, 1, 0, 0, 0, 1, 0, 0, 0, 0, 1, 1, 1])"
      ]
     },
     "execution_count": 5,
     "metadata": {},
     "output_type": "execute_result"
    }
   ],
   "source": [
    "y = ((np.abs(x_mat_full[:,0]) + np.abs(x_mat_full[:,1]))<1).astype(int)\n",
    "y"
   ]
  },
  {
   "cell_type": "code",
   "execution_count": 6,
   "metadata": {
    "scrolled": true
   },
   "outputs": [
    {
     "data": {
      "text/plain": [
       "array([ 0.35409748,  0.21255474, -0.19782567, -0.76889252,  0.06167483,\n",
       "       -0.02496681, -0.9508636 ,  0.41212578,  0.31116585,  0.13710446,\n",
       "        0.19752327, -0.16870052, -0.07664211, -0.14905165,  0.1996917 ,\n",
       "        0.6654726 , -0.55156249, -0.29452401,  0.58844144,  0.306025  ,\n",
       "       -0.102397  ,  0.21425578, -0.18127196,  0.49911047, -0.16444049,\n",
       "        0.06780811,  0.8028517 ,  0.46109528,  0.12006162, -0.55502791,\n",
       "       -0.35073023, -0.09332677,  0.12777029, -0.21679985,  0.39282215,\n",
       "        0.2032356 ,  0.11307839, -0.49386067, -0.05567666,  0.17193116,\n",
       "        0.03497037, -0.33248569, -0.11341283,  0.41733858,  0.35632763,\n",
       "        0.24198223,  0.16860263, -0.01335085,  0.68873602, -0.1576972 ,\n",
       "        0.05912583, -0.16815853, -0.45190373, -0.13549605, -0.17585644,\n",
       "        0.17208971,  0.61763245,  0.33477621,  0.39884417, -0.54887516,\n",
       "        0.0269235 , -0.07215894,  0.2155522 , -0.34331051, -0.61226214,\n",
       "       -0.09909829, -0.1772083 , -0.06620678,  0.10489872, -0.32506943,\n",
       "       -0.03900783, -0.34645166,  0.34049934, -0.33255305,  0.02394711,\n",
       "        0.25905044,  0.04450016,  0.28916837, -0.07671788,  0.025012  ,\n",
       "        0.74813249, -0.59490592, -0.22861484,  0.27314375, -0.76119947,\n",
       "       -0.20795748,  0.72674841, -0.07240029,  0.65925501,  0.50980274,\n",
       "       -0.45118769,  0.77431006,  0.52409871,  0.40050843,  0.54507548,\n",
       "        0.53723732,  0.73511647,  0.20590414, -0.13377372, -0.20779628,\n",
       "        0.0341976 ,  0.3987324 ,  0.61358135,  0.34882601, -0.30648164,\n",
       "       -0.07959377,  0.19657324,  0.34527553, -0.28997059,  0.40687493,\n",
       "        0.26412781, -0.16160776, -0.675393  , -0.43581501, -0.19402785,\n",
       "        0.06923413, -0.2709642 , -0.29525494,  0.62680813, -0.40285625,\n",
       "       -0.10637472, -0.44966637,  0.05100865, -0.84854813, -0.519795  ,\n",
       "       -0.18157239,  0.07104723, -0.25828501, -0.92995504, -0.23111836,\n",
       "        0.15851313, -0.00230586, -0.41398028, -0.08138646,  0.47271239,\n",
       "       -0.13199078, -0.1813446 , -0.03469965,  0.23640993,  0.531483  ,\n",
       "       -0.06238147,  0.43724487, -0.80107508,  0.06840393,  0.04938166,\n",
       "        0.18131343,  0.38746943,  0.04360368, -0.23605835,  0.6890566 ,\n",
       "        0.19870234, -0.30171112, -0.51563031,  0.27029767,  0.08470342,\n",
       "        0.04786184, -0.48321123, -0.30184712, -0.74210126, -0.18564359,\n",
       "       -0.39636597, -0.1080206 , -0.19313115,  0.67122577,  0.85979281,\n",
       "       -0.62133668, -0.18470891, -0.34724344,  0.33911081,  0.77568963,\n",
       "        0.26552305, -0.60636442,  0.20865518,  0.50051746,  0.86586435,\n",
       "        0.16505402, -0.69301367,  0.73303847, -0.60356802, -0.29240288,\n",
       "        0.38766666,  0.11726244,  0.41344465,  0.03431787, -0.62852895,\n",
       "        0.08192036, -0.61279908, -0.61135655,  0.5084948 ,  0.06260776,\n",
       "       -0.34547857, -0.70743916,  0.48494254, -0.19236609,  0.07035261,\n",
       "       -0.49469978,  0.61317535, -0.82311109,  0.29861006,  0.09591211,\n",
       "        0.31907595,  0.46285944, -0.0660347 ,  0.10142276,  0.1386681 ,\n",
       "        0.47802619, -0.06609233, -0.11955709, -0.46717759, -0.72988163,\n",
       "        0.17325151, -0.08416978, -0.45136061,  0.02494131,  0.1065187 ,\n",
       "        0.38545386,  0.02884863,  0.02610742, -0.06240634, -0.93586161,\n",
       "       -0.48246217, -0.45503165, -0.19609444, -0.62246691,  0.09755298,\n",
       "        0.67016067,  0.26448527,  0.24521009,  0.57409229, -0.68015479,\n",
       "        0.51075355, -0.70011841, -0.47262828, -0.06251841,  0.56906573,\n",
       "       -0.17280204,  0.46777814,  0.76634143, -0.66611265,  0.26857428,\n",
       "        0.23761806,  0.16346668,  0.28374836, -0.39130322,  0.25139364,\n",
       "        0.2865861 ,  0.77832046, -0.42499196,  0.28653223])"
      ]
     },
     "execution_count": 6,
     "metadata": {},
     "output_type": "execute_result"
    }
   ],
   "source": [
    "x_mat_full[y==1, 0]"
   ]
  },
  {
   "cell_type": "code",
   "execution_count": 7,
   "metadata": {},
   "outputs": [
    {
     "name": "stdout",
     "output_type": "stream",
     "text": [
      "shape of x_mat_full is (500, 3)\n",
      "shape of y is (500,)\n"
     ]
    },
    {
     "data": {
      "image/png": "[encoded data removed]",
      "text/plain": [
       "<Figure size 360x360 with 1 Axes>"
      ]
     },
     "metadata": {
      "needs_background": "light"
     },
     "output_type": "display_data"
    }
   ],
   "source": [
    "## This code below generates two x values and a y value according to different patterns\n",
    "## It also creates a \"bias\" term (a vector of 1s)\n",
    "## The goal is then to learn the mapping from x to y using a neural network via back-propagation\n",
    "\n",
    "num_obs = 500\n",
    "x_mat_1 = np.random.uniform(-1,1,size = (num_obs,2))\n",
    "x_mat_bias = np.ones((num_obs,1))\n",
    "x_mat_full = np.concatenate( (x_mat_1,x_mat_bias), axis=1)\n",
    "\n",
    "# PICK ONE PATTERN BELOW and comment out the rest.\n",
    "\n",
    "# # Circle pattern\n",
    "# y = (np.sqrt(x_mat_full[:,0]**2 + x_mat_full[:,1]**2)<.75).astype(int)\n",
    "\n",
    "# # Diamond Pattern\n",
    "y = ((np.abs(x_mat_full[:,0]) + np.abs(x_mat_full[:,1]))<1).astype(int)\n",
    "\n",
    "# # Centered square\n",
    "# y = ((np.maximum(np.abs(x_mat_full[:,0]), np.abs(x_mat_full[:,1])))<.5).astype(int)\n",
    "\n",
    "# # Thick Right Angle pattern\n",
    "# y = (((np.maximum((x_mat_full[:,0]), (x_mat_full[:,1])))<.5) & ((np.maximum((x_mat_full[:,0]), (x_mat_full[:,1])))>-.5)).astype(int)\n",
    "\n",
    "# # Thin right angle pattern\n",
    "# y = (((np.maximum((x_mat_full[:,0]), (x_mat_full[:,1])))<.5) & ((np.maximum((x_mat_full[:,0]), (x_mat_full[:,1])))>0)).astype(int)\n",
    "\n",
    "\n",
    "print('shape of x_mat_full is {}'.format(x_mat_full.shape))\n",
    "print('shape of y is {}'.format(y.shape))\n",
    "\n",
    "fig, ax = plt.subplots(figsize=(5, 5))\n",
    "ax.plot(x_mat_full[y==1, 0],x_mat_full[y==1, 1], 'o', label='class 1', color='darkslateblue')\n",
    "ax.plot(x_mat_full[y==0, 0],x_mat_full[y==0, 1], 'x', label='class 0', color='chocolate')\n",
    "# ax.grid(True)\n",
    "ax.legend(loc='best')\n",
    "ax.axis('equal');"
   ]
  },
  {
   "cell_type": "code",
   "execution_count": 8,
   "metadata": {},
   "outputs": [
    {
     "data": {
      "text/plain": [
       "(-1.0972905741446235,\n",
       " 1.088207664455286,\n",
       " -1.0926297249179142,\n",
       " 1.0981761421120784)"
      ]
     },
     "execution_count": 8,
     "metadata": {},
     "output_type": "execute_result"
    }
   ],
   "source": [
    "ax.axis('equal')"
   ]
  },
  {
   "cell_type": "markdown",
   "metadata": {},
   "source": [
    "Here are some helper functions"
   ]
  },
  {
   "cell_type": "code",
   "execution_count": 9,
   "metadata": {},
   "outputs": [],
   "source": [
    "# def sigmoid(x):\n",
    "#     \"\"\"\n",
    "#     Sigmoid function\n",
    "#     \"\"\"\n",
    "#     return 1.0 / (1.0 + np.exp(-x))\n",
    "\n",
    "\n",
    "# def loss_fn(y_true, y_pred, eps=1e-16):\n",
    "#     \"\"\"\n",
    "#     Loss function we would like to optimize (minimize)\n",
    "#     We are using Logarithmic Loss\n",
    "#     http://scikit-learn.org/stable/modules/model_evaluation.html#log-loss\n",
    "#     \"\"\"\n",
    "#     y_pred = np.maximum(y_pred,eps)\n",
    "#     y_pred = np.minimum(y_pred,(1-eps))\n",
    "#     return -(np.sum(y_true * np.log(y_pred)) + np.sum((1-y_true)*np.log(1-y_pred)))/len(y_true)\n",
    "\n",
    "\n",
    "# def forward_pass(W1, W2):\n",
    "#     \"\"\"\n",
    "#     Does a forward computation of the neural network\n",
    "#     Takes the input `x_mat` (global variable) and produces the output `y_pred`\n",
    "#     Also produces the gradient of the log loss function\n",
    "#     \"\"\"\n",
    "#     global x_mat\n",
    "#     global y\n",
    "#     global num_\n",
    "#     # First, compute the new predictions `y_pred`\n",
    "#     z_2 = np.dot(x_mat, W_1)\n",
    "#     a_2 = sigmoid(z_2)\n",
    "#     z_3 = np.dot(a_2, W_2)\n",
    "#     y_pred = sigmoid(z_3).reshape((len(x_mat),))\n",
    "#     # Now compute the gradient\n",
    "#     J_z_3_grad = -y + y_pred\n",
    "#     J_W_2_grad = np.dot(J_z_3_grad, a_2)\n",
    "#     a_2_z_2_grad = sigmoid(z_2)*(1-sigmoid(z_2))\n",
    "#     J_W_1_grad = (np.dot((J_z_3_grad).reshape(-1,1), W_2.reshape(-1,1).T)*a_2_z_2_grad).T.dot(x_mat).T\n",
    "#     gradient = (J_W_1_grad, J_W_2_grad)\n",
    "    \n",
    "#     # return\n",
    "#     return y_pred, gradient\n",
    "\n",
    "\n",
    "# def plot_loss_accuracy(loss_vals, accuracies):\n",
    "#     fig = plt.figure(figsize=(16, 8))\n",
    "#     fig.suptitle('Log Loss and Accuracy over iterations')\n",
    "    \n",
    "#     ax = fig.add_subplot(1, 2, 1)\n",
    "#     ax.plot(loss_vals)\n",
    "#     ax.grid(True)\n",
    "#     ax.set(xlabel='iterations', title='Log Loss')\n",
    "    \n",
    "#     ax = fig.add_subplot(1, 2, 2)\n",
    "#     ax.plot(accuracies)\n",
    "#     ax.grid(True)\n",
    "#     ax.set(xlabel='iterations', title='Accuracy');"
   ]
  },
  {
   "cell_type": "code",
   "execution_count": 10,
   "metadata": {},
   "outputs": [
    {
     "data": {
      "text/plain": [
       "(4, 3)"
      ]
     },
     "execution_count": 10,
     "metadata": {},
     "output_type": "execute_result"
    }
   ],
   "source": [
    "a\n",
    "c = b.copy()\n",
    "c = c*2\n",
    "d = np.array([[1, 2, 3], [3, 4, 5]])\n",
    "c.dot(d).shape\n",
    "np.dot(c, d).shape"
   ]
  },
  {
   "cell_type": "code",
   "execution_count": null,
   "metadata": {},
   "outputs": [],
   "source": []
  },
  {
   "cell_type": "code",
   "execution_count": 11,
   "metadata": {},
   "outputs": [
    {
     "data": {
      "text/plain": [
       "(500, 3)"
      ]
     },
     "execution_count": 11,
     "metadata": {},
     "output_type": "execute_result"
    }
   ],
   "source": [
    "x_mat_full.shape"
   ]
  },
  {
   "cell_type": "code",
   "execution_count": 12,
   "metadata": {},
   "outputs": [],
   "source": [
    "# Practice\n",
    "def sigmoid(x):\n",
    "    return 1 / (1 + np.exp(-x))\n",
    "\n",
    "def loss_fn(y_true, y_pred, eps=1e-16):\n",
    "    \"\"\"\n",
    "    Loss function we would like to optimize (minimize)\n",
    "    We are using Logarithmic Loss\n",
    "    http://scikit-learn.org/stable/modules/model_evaluation.html#log-loss\n",
    "    \"\"\"\n",
    "    y_pred = np.maximum(y_pred,eps)\n",
    "    y_pred = np.minimum(y_pred,(1-eps))\n",
    "    return -(np.sum(y_true * np.log(y_pred)) + np.sum((1-y_true)*np.log(1-y_pred)))/len(y_true)\n",
    "\n",
    "# def loss_fn(y_true, y_pred, eps=1e-16):\n",
    "#     y_pred = np.maximum(y_pred, eps)\n",
    "#     y_pred = np.minimum(y_pred, (1-eps))\n",
    "#     return -(np.sum(y_true * np.log(y_pred)) + np.sum((1-y_true)*np.log(1-y_pred)))/len(y_true)\n",
    "\n",
    "\n",
    "def forward_pass(W1, W2):\n",
    "    global x_mat\n",
    "    global y\n",
    "    global num_\n",
    "\n",
    "    z_2 = np.dot(x_mat, W_1)\n",
    "    a_2 = sigmoid(z_2)\n",
    "    z_3 = np.dot(a_2, W_2)\n",
    "    y_pred = sigmoid(z_3).reshape((len(x_mat),))\n",
    "    \n",
    "    J_z_3_grad = -y + y_pred\n",
    "    J_W_2_grad = np.dot(J_z_3_grad, a_2)\n",
    "    a_2_z_2_grad = sigmoid(z_2)*(1 - sigmoid(z_2))\n",
    "#     J_W_1_grad = a_1 * a_2_z_2_grad * W_2 * J_z_3_grad\n",
    "#     J_W_1_grad = np.dot(x_mat, a_2_z_2_grad).dot(W_2).dot(J_z_3_grad)\n",
    "    J_W_1_grad = (np.dot((J_z_3_grad).reshape(-1,1), W_2.reshape(-1,1).T)*a_2_z_2_grad).T.dot(x_mat).T\n",
    "    gradient = (J_W_1_grad, J_W_2_grad)\n",
    "    return y_pred, gradient\n",
    "\n",
    "def plot_loss_accuracy(loss_vals, accuracies):\n",
    "    fig = plt.figure(figsize=(16, 8))\n",
    "    fig.suptitle('Log Loss and Accuracy over iterations')\n",
    "    \n",
    "    ax = fig.add_subplot(1, 2, 1)\n",
    "    ax.plot(loss_vals)\n",
    "    ax.grid(True)\n",
    "    ax.set(xlabel='iterations', title='Log Loss')\n",
    "    \n",
    "    ax = fig.add_subplot(1, 2, 2)\n",
    "    ax.plot(accuracies)\n",
    "    ax.grid(True)\n",
    "    ax.set(xlabel='iterations', title='Accuracy');"
   ]
  },
  {
   "cell_type": "code",
   "execution_count": 13,
   "metadata": {},
   "outputs": [
    {
     "data": {
      "text/plain": [
       "array([[ 0.73320693],\n",
       "       [ 0.83707681],\n",
       "       [-0.08862416],\n",
       "       [-0.63152008]])"
      ]
     },
     "execution_count": 13,
     "metadata": {},
     "output_type": "execute_result"
    }
   ],
   "source": [
    "w2 = np.random.uniform(-1,1,size=(4,1))\n",
    "w2"
   ]
  },
  {
   "cell_type": "code",
   "execution_count": 14,
   "metadata": {},
   "outputs": [],
   "source": [
    "# #### Initialize the network parameters\n",
    "\n",
    "# np.random.seed(1241)\n",
    "\n",
    "# W_1 = np.random.uniform(-1,1,size=(3,4))\n",
    "# W_2 = np.random.uniform(-1,1,size=(4))\n",
    "# num_iter = 10000\n",
    "# learning_rate = .001\n",
    "# x_mat = x_mat_full\n",
    "\n",
    "\n",
    "# loss_vals, accuracies = [], []\n",
    "# for i in range(num_iter):\n",
    "#     ### Do a forward computation, and get the gradient\n",
    "#     y_pred, (J_W_1_grad, J_W_2_grad) = forward_pass(W_1, W_2)\n",
    "    \n",
    "#     ## Update the weight matrices\n",
    "#     W_1 = W_1 - learning_rate*J_W_1_grad \n",
    "#     W_2 = W_2 - learning_rate*J_W_2_grad\n",
    "    \n",
    "#     ### Compute the loss and accuracy\n",
    "#     curr_loss = loss_fn(y,y_pred)\n",
    "#     loss_vals.append(curr_loss)\n",
    "#     acc = np.sum((y_pred>=.5) == y)/num_obs\n",
    "#     accuracies.append(acc)\n",
    "\n",
    "#     ## Print the loss and accuracy for every 200th iteration\n",
    "#     if((i%200) == 0):\n",
    "#         print('iteration {}, log loss is {:.4f}, accuracy is {}'.format(\n",
    "#             i, curr_loss, acc\n",
    "#         ))\n",
    "# plot_loss_accuracy(loss_vals, accuracies)"
   ]
  },
  {
   "cell_type": "code",
   "execution_count": 15,
   "metadata": {},
   "outputs": [
    {
     "data": {
      "text/plain": [
       "4"
      ]
     },
     "execution_count": 15,
     "metadata": {},
     "output_type": "execute_result"
    }
   ],
   "source": [
    "a\n",
    "a1 = np.array([0, 0, 0, 1, 1, 1])\n",
    "a2 = np.array([1, 2, 3, 4, 5, 1])\n",
    "(a2 >= 3) == a1\n",
    "\n",
    "np.sum((a2 >= 3) == a1)\n"
   ]
  },
  {
   "cell_type": "code",
   "execution_count": 16,
   "metadata": {},
   "outputs": [
    {
     "name": "stdout",
     "output_type": "stream",
     "text": [
      "iteration 0, log loss is 0.812938, accuracy is 0.5\n",
      "iteration 200, log loss is 0.688275, accuracy is 0.57\n",
      "iteration 400, log loss is 0.675736, accuracy is 0.594\n",
      "iteration 600, log loss is 0.632371, accuracy is 0.724\n",
      "iteration 800, log loss is 0.572200, accuracy is 0.718\n",
      "iteration 1000, log loss is 0.545397, accuracy is 0.73\n",
      "iteration 1200, log loss is 0.534986, accuracy is 0.74\n",
      "iteration 1400, log loss is 0.506506, accuracy is 0.754\n",
      "iteration 1600, log loss is 0.424979, accuracy is 0.828\n",
      "iteration 1800, log loss is 0.358038, accuracy is 0.88\n",
      "iteration 2000, log loss is 0.323337, accuracy is 0.888\n",
      "iteration 2200, log loss is 0.298240, accuracy is 0.902\n",
      "iteration 2400, log loss is 0.272902, accuracy is 0.908\n",
      "iteration 2600, log loss is 0.247542, accuracy is 0.928\n",
      "iteration 2800, log loss is 0.226706, accuracy is 0.938\n",
      "iteration 3000, log loss is 0.210762, accuracy is 0.952\n",
      "iteration 3200, log loss is 0.198534, accuracy is 0.956\n",
      "iteration 3400, log loss is 0.188967, accuracy is 0.97\n",
      "iteration 3600, log loss is 0.181304, accuracy is 0.974\n",
      "iteration 3800, log loss is 0.175022, accuracy is 0.974\n",
      "iteration 4000, log loss is 0.169757, accuracy is 0.974\n",
      "iteration 4200, log loss is 0.165260, accuracy is 0.974\n",
      "iteration 4400, log loss is 0.161356, accuracy is 0.974\n",
      "iteration 4600, log loss is 0.157924, accuracy is 0.974\n",
      "iteration 4800, log loss is 0.154875, accuracy is 0.978\n",
      "iteration 5000, log loss is 0.152143, accuracy is 0.978\n",
      "iteration 5200, log loss is 0.149676, accuracy is 0.98\n",
      "iteration 5400, log loss is 0.147435, accuracy is 0.98\n",
      "iteration 5600, log loss is 0.145386, accuracy is 0.98\n",
      "iteration 5800, log loss is 0.143502, accuracy is 0.986\n",
      "iteration 6000, log loss is 0.141761, accuracy is 0.986\n",
      "iteration 6200, log loss is 0.140145, accuracy is 0.986\n",
      "iteration 6400, log loss is 0.138637, accuracy is 0.986\n",
      "iteration 6600, log loss is 0.137223, accuracy is 0.988\n",
      "iteration 6800, log loss is 0.135894, accuracy is 0.986\n",
      "iteration 7000, log loss is 0.134639, accuracy is 0.986\n",
      "iteration 7200, log loss is 0.133449, accuracy is 0.986\n",
      "iteration 7400, log loss is 0.132318, accuracy is 0.986\n",
      "iteration 7600, log loss is 0.131241, accuracy is 0.986\n",
      "iteration 7800, log loss is 0.130211, accuracy is 0.986\n",
      "iteration 8000, log loss is 0.129224, accuracy is 0.986\n",
      "iteration 8200, log loss is 0.128277, accuracy is 0.986\n",
      "iteration 8400, log loss is 0.127366, accuracy is 0.984\n",
      "iteration 8600, log loss is 0.126488, accuracy is 0.984\n",
      "iteration 8800, log loss is 0.125640, accuracy is 0.984\n",
      "iteration 9000, log loss is 0.124821, accuracy is 0.984\n",
      "iteration 9200, log loss is 0.124028, accuracy is 0.984\n",
      "iteration 9400, log loss is 0.123259, accuracy is 0.984\n",
      "iteration 9600, log loss is 0.122513, accuracy is 0.984\n",
      "iteration 9800, log loss is 0.121789, accuracy is 0.984\n"
     ]
    },
    {
     "data": {
      "image/png": "[encoded data removed]",
      "text/plain": [
       "<Figure size 1152x576 with 2 Axes>"
      ]
     },
     "metadata": {
      "needs_background": "light"
     },
     "output_type": "display_data"
    }
   ],
   "source": [
    "# Practice\n",
    "np.random.seed(1241)\n",
    "\n",
    "W_1 = np.random.uniform(-1, 1, size=(3,4))\n",
    "W_2 = np.random.uniform(-1, 1, size=(4))\n",
    "num_iter = 10000\n",
    "learning_rate = .001\n",
    "x_mat = x_mat_full\n",
    "\n",
    "loss_vals, accuracies = [], []\n",
    "for i in range(num_iter):\n",
    "    y_pred, (J_W_1_grad, J_W_2_grad) = forward_pass(W_1, W_2)\n",
    "    \n",
    "    W_1 = W_1 - learning_rate * J_W_1_grad\n",
    "    W_2 = W_2 - learning_rate * J_W_2_grad\n",
    "    \n",
    "    curr_loss = loss_fn(y, y_pred)\n",
    "    loss_vals.append(curr_loss)\n",
    "    acc = np.sum((y_pred>=0.5) == y)/num_obs\n",
    "    accuracies.append(acc)\n",
    "    \n",
    "    if((i%200)==0):\n",
    "        print('iteration {}, log loss is {:4f}, accuracy is {}'.format(i, curr_loss, acc))\n",
    "plot_loss_accuracy(loss_vals, accuracies)\n"
   ]
  },
  {
   "cell_type": "markdown",
   "metadata": {},
   "source": [
    "Plot the predicted answers, with mistakes in yellow"
   ]
  },
  {
   "cell_type": "code",
   "execution_count": 17,
   "metadata": {},
   "outputs": [
    {
     "data": {
      "image/png": "[encoded data removed]",
      "text/plain": [
       "<Figure size 576x576 with 1 Axes>"
      ]
     },
     "metadata": {
      "needs_background": "light"
     },
     "output_type": "display_data"
    }
   ],
   "source": [
    "pred1 = (y_pred>=.5)\n",
    "pred0 = (y_pred<.5)\n",
    "\n",
    "fig, ax = plt.subplots(figsize=(8, 8))\n",
    "# true predictions\n",
    "ax.plot(x_mat[pred1 & (y==1),0],x_mat[pred1 & (y==1),1], 'ro', label='true positives')\n",
    "ax.plot(x_mat[pred0 & (y==0),0],x_mat[pred0 & (y==0),1], 'bx', label='true negatives')\n",
    "# false predictions\n",
    "ax.plot(x_mat[pred1 & (y==0),0],x_mat[pred1 & (y==0),1], 'yx', label='false positives', markersize=15)\n",
    "ax.plot(x_mat[pred0 & (y==1),0],x_mat[pred0 & (y==1),1], 'yo', label='false negatives', markersize=15, alpha=.6)\n",
    "ax.set(title='Truth vs Prediction')\n",
    "ax.legend(bbox_to_anchor=(1, 0.8), fancybox=True, shadow=True, fontsize='x-large');"
   ]
  },
  {
   "cell_type": "markdown",
   "metadata": {},
   "source": [
    "---\n",
    "### Machine Learning Foundation (C) 2020 IBM Corporation"
   ]
  }
 ],
 "metadata": {
  "kernelspec": {
   "display_name": "Python 3",
   "language": "python",
   "name": "python3"
  },
  "language_info": {
   "codemirror_mode": {
    "name": "ipython",
    "version": 3
   },
   "file_extension": ".py",
   "mimetype": "text/x-python",
   "name": "python",
   "nbconvert_exporter": "python",
   "pygments_lexer": "ipython3",
   "version": "3.9.4"
  }
 },
 "nbformat": 4,
 "nbformat_minor": 4
}
