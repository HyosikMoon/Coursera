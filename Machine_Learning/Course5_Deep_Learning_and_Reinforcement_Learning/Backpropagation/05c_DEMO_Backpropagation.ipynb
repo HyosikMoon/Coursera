{
 "cells": [
  {
   "cell_type": "markdown",
   "metadata": {
    "run_control": {
     "marked": true
    }
   },
   "source": [
    "# Machine Learning Foundation\n",
    "\n",
    "## Course 5, Part c: Backpropagation DEMO"
   ]
  },
  {
   "cell_type": "markdown",
   "metadata": {},
   "source": [
    "## Overview\n",
    "In this exercise we will use backpropagation to train a multi-layer perceptron (with a single hidden layer).  We will experiment with different patterns and see how quickly or slowly the weights converge.  We will see the impact and interplay of different parameters such as learning rate, number of iterations, and number of data points."
   ]
  },
  {
   "cell_type": "code",
   "execution_count": 1,
   "metadata": {},
   "outputs": [],
   "source": [
    "#Setup\n",
    "import numpy as np\n",
    "import matplotlib.pyplot as plt"
   ]
  },
  {
   "cell_type": "markdown",
   "metadata": {},
   "source": [
    "In this exercise, we will prepare code to create a multi-layer perceptron with a single hidden layer (with 4 nodes) and train it via back-propagation.  We will take the following steps:\n",
    "\n",
    "1. Initialize the weights to random values between -1 and 1\n",
    "1. Perform the feed-forward computation\n",
    "1. Compute the loss function\n",
    "1. Calculate the gradients for all the weights via back-propagation\n",
    "1. Update the weight matrices (using a learning_rate parameter)\n",
    "1. Execute steps 2-5 for a fixed number of iterations\n",
    "1. Plot the accuracies and log loss and observe how they change over time\n",
    "\n",
    "\n",
    "Once the code is running, we can address the following questions:\n",
    "- Which patterns was the neural network able to learn quickly and which took longer?\n",
    "- What learning rates and numbers of iterations worked well?\n",
    "- If you have time, try varying the size of the hidden layer and experiment with different activation functions (e.g. ReLu)"
   ]
  },
  {
   "cell_type": "code",
   "execution_count": 2,
   "metadata": {},
   "outputs": [
    {
     "data": {
      "text/plain": [
       "array([[-0.73981085,  0.85673541,  1.        ],\n",
       "       [ 0.60163477,  0.52588063,  1.        ],\n",
       "       [ 0.92904194, -0.35598975,  1.        ],\n",
       "       ...,\n",
       "       [-0.01425675, -0.98984471,  1.        ],\n",
       "       [-0.59272107, -0.96464042,  1.        ],\n",
       "       [-0.82140875, -0.78518315,  1.        ]])"
      ]
     },
     "execution_count": 2,
     "metadata": {},
     "output_type": "execute_result"
    }
   ],
   "source": [
    "num_obs = 500\n",
    "x_mat_1 = np.random.uniform(-1,1,size = (num_obs,2))\n",
    "x_mat_bias = np.ones((num_obs,1))\n",
    "x_mat_full = np.concatenate( (x_mat_1,x_mat_bias), axis=1)\n",
    "x_mat_full"
   ]
  },
  {
   "cell_type": "code",
   "execution_count": 3,
   "metadata": {},
   "outputs": [
    {
     "data": {
      "text/plain": [
       "array([ 1, 10, 15])"
      ]
     },
     "execution_count": 3,
     "metadata": {},
     "output_type": "execute_result"
    }
   ],
   "source": [
    "a = np.array([True, True, False, True])\n",
    "b = np.array([[1, 2], [10, 20], [11, 22], [15, 25]])\n",
    "b[a, 0]"
   ]
  },
  {
   "cell_type": "code",
   "execution_count": 4,
   "metadata": {},
   "outputs": [
    {
     "data": {
      "text/plain": [
       "array([[-0.73981085,  0.85673541,  1.        ],\n",
       "       [ 0.60163477,  0.52588063,  1.        ],\n",
       "       [ 0.92904194, -0.35598975,  1.        ],\n",
       "       ...,\n",
       "       [-0.01425675, -0.98984471,  1.        ],\n",
       "       [-0.59272107, -0.96464042,  1.        ],\n",
       "       [-0.82140875, -0.78518315,  1.        ]])"
      ]
     },
     "execution_count": 4,
     "metadata": {},
     "output_type": "execute_result"
    }
   ],
   "source": [
    "x_mat_full"
   ]
  },
  {
   "cell_type": "code",
   "execution_count": 5,
   "metadata": {
    "scrolled": false
   },
   "outputs": [
    {
     "data": {
      "text/plain": [
       "array([0, 0, 0, 1, 0, 1, 0, 0, 0, 1, 0, 0, 0, 0, 0, 1, 1, 0, 1, 1, 1, 1,\n",
       "       0, 1, 1, 0, 1, 1, 1, 0, 1, 1, 1, 0, 0, 0, 1, 0, 0, 1, 1, 0, 1, 1,\n",
       "       0, 0, 1, 0, 0, 0, 1, 1, 0, 1, 0, 0, 0, 0, 1, 0, 1, 1, 0, 0, 1, 0,\n",
       "       1, 0, 1, 0, 0, 0, 0, 1, 1, 0, 1, 1, 0, 0, 1, 0, 1, 0, 0, 0, 1, 0,\n",
       "       0, 1, 1, 0, 0, 1, 0, 1, 0, 1, 1, 1, 1, 0, 1, 1, 1, 1, 1, 1, 1, 0,\n",
       "       0, 1, 0, 1, 0, 1, 1, 0, 0, 1, 1, 1, 1, 0, 1, 1, 0, 1, 0, 0, 1, 0,\n",
       "       1, 1, 1, 1, 0, 1, 1, 1, 1, 0, 1, 1, 0, 1, 0, 0, 1, 1, 0, 1, 1, 1,\n",
       "       1, 1, 0, 0, 0, 1, 1, 0, 1, 1, 0, 1, 1, 0, 0, 1, 0, 1, 0, 0, 0, 0,\n",
       "       0, 1, 1, 1, 0, 1, 1, 1, 0, 0, 1, 0, 0, 0, 1, 1, 1, 0, 1, 1, 1, 1,\n",
       "       1, 1, 1, 1, 0, 0, 0, 0, 0, 0, 0, 0, 1, 0, 1, 0, 0, 1, 0, 1, 0, 0,\n",
       "       1, 1, 1, 0, 0, 0, 1, 1, 1, 1, 1, 0, 0, 1, 0, 1, 0, 0, 1, 1, 1, 1,\n",
       "       1, 1, 0, 1, 1, 1, 1, 1, 1, 1, 1, 0, 0, 1, 1, 1, 1, 0, 1, 1, 0, 1,\n",
       "       0, 1, 1, 1, 1, 1, 0, 1, 0, 0, 0, 1, 0, 1, 0, 1, 0, 0, 1, 1, 0, 1,\n",
       "       1, 1, 1, 0, 1, 1, 1, 0, 1, 1, 0, 1, 1, 1, 0, 1, 1, 0, 0, 1, 0, 0,\n",
       "       1, 0, 0, 1, 0, 0, 0, 1, 0, 0, 1, 1, 0, 1, 0, 0, 1, 0, 1, 0, 1, 0,\n",
       "       0, 0, 1, 1, 1, 0, 0, 1, 0, 1, 1, 0, 0, 0, 0, 0, 0, 0, 0, 0, 0, 0,\n",
       "       1, 1, 1, 1, 1, 0, 0, 1, 0, 0, 0, 0, 0, 1, 1, 0, 1, 1, 1, 0, 1, 0,\n",
       "       0, 0, 0, 1, 1, 0, 0, 1, 0, 1, 0, 0, 1, 0, 1, 1, 0, 1, 1, 0, 0, 0,\n",
       "       1, 1, 1, 1, 1, 1, 0, 0, 0, 0, 0, 0, 0, 0, 1, 0, 0, 0, 0, 0, 0, 1,\n",
       "       0, 1, 1, 0, 1, 1, 1, 0, 0, 1, 0, 1, 1, 1, 1, 1, 0, 1, 0, 1, 1, 1,\n",
       "       1, 1, 1, 1, 0, 1, 1, 0, 0, 0, 1, 0, 1, 0, 0, 1, 0, 0, 0, 1, 0, 0,\n",
       "       0, 0, 0, 1, 0, 1, 0, 0, 0, 1, 1, 0, 1, 0, 1, 1, 0, 1, 0, 0, 1, 0,\n",
       "       1, 0, 1, 1, 0, 1, 1, 0, 1, 1, 0, 0, 0, 0, 0, 0])"
      ]
     },
     "execution_count": 5,
     "metadata": {},
     "output_type": "execute_result"
    }
   ],
   "source": [
    "y = ((np.abs(x_mat_full[:,0]) + np.abs(x_mat_full[:,1]))<1).astype(int)\n",
    "y"
   ]
  },
  {
   "cell_type": "code",
   "execution_count": 6,
   "metadata": {
    "scrolled": true
   },
   "outputs": [
    {
     "data": {
      "text/plain": [
       "array([-8.32534675e-02,  2.84068824e-01,  4.12272447e-01, -3.33499903e-01,\n",
       "       -4.97723259e-01, -5.23458851e-01,  2.83886351e-02, -3.08187122e-01,\n",
       "        1.33372242e-01, -4.02963398e-01,  5.80807305e-01, -2.78120567e-01,\n",
       "       -1.60358195e-01, -9.27676685e-02, -2.22721062e-01,  2.35256728e-01,\n",
       "       -9.24948585e-01,  8.31729572e-01,  6.06078054e-01,  3.07688446e-01,\n",
       "       -3.37024460e-01,  7.46479651e-02,  3.20537375e-01,  4.69443247e-01,\n",
       "       -5.67797006e-01, -4.75825518e-02, -1.37930902e-01, -1.25994777e-01,\n",
       "       -3.85170199e-01,  2.03909553e-01,  5.88866341e-01,  3.02577478e-01,\n",
       "       -5.93020633e-01,  1.12487890e-01, -6.48734009e-02, -7.80997325e-01,\n",
       "       -3.90346850e-01, -3.70123570e-01, -7.08369910e-01,  3.61662961e-01,\n",
       "       -4.02455565e-01, -8.76173381e-01,  5.58764778e-01, -5.84542549e-01,\n",
       "       -2.39805156e-01, -8.22059086e-01, -1.06648216e-01,  2.59442853e-02,\n",
       "        1.96981927e-01,  3.91935654e-01, -4.21077355e-01,  2.16726489e-01,\n",
       "       -6.12033147e-01,  3.43697875e-02, -6.82584597e-01,  6.35097151e-02,\n",
       "       -7.66535068e-02, -4.39114311e-01, -7.83524419e-02,  2.23105552e-01,\n",
       "        3.89718570e-01, -1.83307575e-01, -2.05834876e-01, -1.68585886e-01,\n",
       "       -4.93599686e-01,  1.24184086e-01, -3.20423981e-01,  3.45087349e-01,\n",
       "        9.99286080e-02, -8.23360267e-03,  3.49702096e-01,  1.51557294e-01,\n",
       "        2.94586009e-01, -9.67126196e-02, -1.39911947e-01, -9.24018865e-01,\n",
       "        7.42289392e-01, -8.06298673e-01,  8.15907634e-01, -8.78803904e-01,\n",
       "        7.07511463e-01,  2.24000174e-01, -2.65183573e-01,  1.49025626e-01,\n",
       "       -5.49657292e-01, -2.28821577e-03,  3.95629390e-02,  3.64767581e-01,\n",
       "        3.09826380e-01, -1.66355718e-01, -4.11685059e-01,  5.73367379e-01,\n",
       "        4.58214715e-01,  6.75549660e-02,  5.18772316e-02, -1.69310642e-01,\n",
       "       -8.41062164e-01, -6.38830647e-01, -1.07459890e-02, -5.27478704e-01,\n",
       "       -1.04412383e-01, -4.41162763e-01,  4.79259997e-01, -6.09021281e-02,\n",
       "        6.12018247e-01,  2.82092312e-01, -9.97844975e-02,  3.75044495e-02,\n",
       "       -2.49969935e-01,  1.13125769e-01, -3.49467235e-01,  2.75561081e-01,\n",
       "        2.45659042e-01, -3.64591130e-01, -2.61009286e-01,  5.61262801e-02,\n",
       "        2.00674282e-02,  7.66405086e-02, -5.64916511e-01, -4.62039261e-01,\n",
       "        5.56223598e-01, -4.95325365e-01,  1.63313579e-02,  1.71148576e-02,\n",
       "       -5.81107473e-01, -2.22415109e-01,  8.50872452e-01,  2.81649114e-01,\n",
       "       -5.69519490e-03,  9.47477147e-02, -2.95824929e-01,  1.50883578e-01,\n",
       "       -3.27690080e-01,  6.21204290e-01, -1.92401661e-02, -2.99110410e-01,\n",
       "       -3.85053326e-04, -2.07759079e-01, -4.52749828e-01, -8.01117787e-01,\n",
       "        2.79324301e-01,  1.23168957e-01,  1.38508697e-02, -5.08575532e-01,\n",
       "        2.56882033e-01, -5.91987020e-01, -7.67463513e-01, -5.38045224e-01,\n",
       "       -6.09676129e-01,  1.48672062e-01,  3.22890366e-01,  4.99694025e-01,\n",
       "        2.04856130e-01,  7.01086567e-01,  5.45508587e-01, -5.90395666e-01,\n",
       "        1.35575039e-01,  3.42146643e-01,  4.11094808e-01, -8.24364124e-01,\n",
       "        2.29682032e-02, -2.42483924e-01, -8.98004219e-01, -3.72587362e-01,\n",
       "       -2.23910111e-01, -4.78849158e-01,  6.31572621e-01, -3.40116015e-02,\n",
       "       -7.48155272e-01, -2.25176715e-02, -9.07294607e-01,  5.44296340e-01,\n",
       "        2.83891918e-01,  3.56882921e-01, -1.50018060e-01, -1.88573898e-01,\n",
       "       -3.64696828e-01, -2.72794747e-02, -1.16007086e-01, -3.27324040e-01,\n",
       "        4.74599413e-01, -1.41325338e-01,  2.52267626e-01, -1.81098221e-02,\n",
       "       -4.50867834e-01, -5.48787499e-01, -1.64621142e-01, -4.67823724e-04,\n",
       "        2.24020291e-01,  4.72909010e-02,  6.37242957e-01,  6.80488599e-01,\n",
       "        3.21104776e-01, -2.88310853e-01,  4.23185931e-01,  2.96615742e-01,\n",
       "       -7.64989189e-01, -2.49159377e-01, -8.07317991e-02, -6.53855712e-01,\n",
       "        6.10155694e-01,  8.09191912e-01, -1.23022550e-01,  3.59917176e-01,\n",
       "        6.23306917e-02, -2.15164795e-01,  2.59185029e-01,  1.51124378e-01,\n",
       "        3.98733763e-02, -3.65966250e-01,  1.01651401e-01,  2.47532083e-01,\n",
       "       -8.92367476e-02,  6.82047616e-04, -3.32587802e-01,  9.60317130e-02,\n",
       "       -3.26032661e-01, -6.52450012e-02,  1.92602473e-01, -3.41877012e-01,\n",
       "       -3.73478913e-01, -4.18183202e-01,  5.51443577e-02,  2.69539075e-01,\n",
       "       -3.39772128e-01, -7.16954190e-01, -3.85214970e-01, -2.83625760e-01,\n",
       "       -5.04030462e-01, -3.59562487e-01, -1.21324884e-01, -2.68525796e-01,\n",
       "       -1.31866988e-01, -9.59323996e-02,  1.76629163e-01, -6.18894390e-01,\n",
       "       -6.11283325e-01, -6.31068909e-02,  4.37801465e-01,  2.92967834e-01,\n",
       "       -4.05697633e-01,  8.63769330e-01, -2.99525386e-01,  9.44240643e-03,\n",
       "        9.34624925e-02, -3.24208439e-01,  2.93097278e-01,  3.60669815e-01,\n",
       "       -5.38760303e-01,  5.90247414e-02, -1.99234787e-03,  1.84594472e-01,\n",
       "       -6.66244740e-02,  6.24415204e-01,  7.60969840e-01,  8.40143515e-01])"
      ]
     },
     "execution_count": 6,
     "metadata": {},
     "output_type": "execute_result"
    }
   ],
   "source": [
    "x_mat_full[y==1, 0]"
   ]
  },
  {
   "cell_type": "code",
   "execution_count": 7,
   "metadata": {},
   "outputs": [
    {
     "name": "stdout",
     "output_type": "stream",
     "text": [
      "shape of x_mat_full is (500, 3)\n",
      "shape of y is (500,)\n"
     ]
    },
    {
     "data": {
      "image/png": "[encoded data removed]",
      "text/plain": [
       "<Figure size 360x360 with 1 Axes>"
      ]
     },
     "metadata": {
      "needs_background": "light"
     },
     "output_type": "display_data"
    }
   ],
   "source": [
    "## This code below generates two x values and a y value according to different patterns\n",
    "## It also creates a \"bias\" term (a vector of 1s)\n",
    "## The goal is then to learn the mapping from x to y using a neural network via back-propagation\n",
    "\n",
    "num_obs = 500\n",
    "x_mat_1 = np.random.uniform(-1,1,size = (num_obs,2))\n",
    "x_mat_bias = np.ones((num_obs,1))\n",
    "x_mat_full = np.concatenate( (x_mat_1,x_mat_bias), axis=1)\n",
    "\n",
    "# PICK ONE PATTERN BELOW and comment out the rest.\n",
    "\n",
    "# # Circle pattern\n",
    "# y = (np.sqrt(x_mat_full[:,0]**2 + x_mat_full[:,1]**2)<.75).astype(int)\n",
    "\n",
    "# # Diamond Pattern\n",
    "y = ((np.abs(x_mat_full[:,0]) + np.abs(x_mat_full[:,1]))<1).astype(int)\n",
    "\n",
    "# # Centered square\n",
    "# y = ((np.maximum(np.abs(x_mat_full[:,0]), np.abs(x_mat_full[:,1])))<.5).astype(int)\n",
    "\n",
    "# # Thick Right Angle pattern\n",
    "# y = (((np.maximum((x_mat_full[:,0]), (x_mat_full[:,1])))<.5) & ((np.maximum((x_mat_full[:,0]), (x_mat_full[:,1])))>-.5)).astype(int)\n",
    "\n",
    "# # Thin right angle pattern\n",
    "# y = (((np.maximum((x_mat_full[:,0]), (x_mat_full[:,1])))<.5) & ((np.maximum((x_mat_full[:,0]), (x_mat_full[:,1])))>0)).astype(int)\n",
    "\n",
    "\n",
    "print('shape of x_mat_full is {}'.format(x_mat_full.shape))\n",
    "print('shape of y is {}'.format(y.shape))\n",
    "\n",
    "fig, ax = plt.subplots(figsize=(5, 5))\n",
    "ax.plot(x_mat_full[y==1, 0],x_mat_full[y==1, 1], 'o', label='class 1', color='darkslateblue')\n",
    "ax.plot(x_mat_full[y==0, 0],x_mat_full[y==0, 1], 'x', label='class 0', color='chocolate')\n",
    "# ax.grid(True)\n",
    "ax.legend(loc='best')\n",
    "ax.axis('equal');"
   ]
  },
  {
   "cell_type": "code",
   "execution_count": 8,
   "metadata": {},
   "outputs": [
    {
     "data": {
      "text/plain": [
       "(-1.098844402834864,\n",
       " 1.0988306471577556,\n",
       " -1.096547086344076,\n",
       " 1.0991914934293527)"
      ]
     },
     "execution_count": 8,
     "metadata": {},
     "output_type": "execute_result"
    }
   ],
   "source": [
    "ax.axis('equal')"
   ]
  },
  {
   "cell_type": "markdown",
   "metadata": {},
   "source": [
    "Here are some helper functions"
   ]
  },
  {
   "cell_type": "code",
   "execution_count": 9,
   "metadata": {},
   "outputs": [],
   "source": [
    "# def sigmoid(x):\n",
    "#     \"\"\"\n",
    "#     Sigmoid function\n",
    "#     \"\"\"\n",
    "#     return 1.0 / (1.0 + np.exp(-x))\n",
    "\n",
    "\n",
    "# def loss_fn(y_true, y_pred, eps=1e-16):\n",
    "#     \"\"\"\n",
    "#     Loss function we would like to optimize (minimize)\n",
    "#     We are using Logarithmic Loss\n",
    "#     http://scikit-learn.org/stable/modules/model_evaluation.html#log-loss\n",
    "#     \"\"\"\n",
    "#     y_pred = np.maximum(y_pred,eps)\n",
    "#     y_pred = np.minimum(y_pred,(1-eps))\n",
    "#     return -(np.sum(y_true * np.log(y_pred)) + np.sum((1-y_true)*np.log(1-y_pred)))/len(y_true)\n",
    "\n",
    "\n",
    "# def forward_pass(W1, W2):\n",
    "#     \"\"\"\n",
    "#     Does a forward computation of the neural network\n",
    "#     Takes the input `x_mat` (global variable) and produces the output `y_pred`\n",
    "#     Also produces the gradient of the log loss function\n",
    "#     \"\"\"\n",
    "#     global x_mat\n",
    "#     global y\n",
    "#     global num_\n",
    "#     # First, compute the new predictions `y_pred`\n",
    "#     z_2 = np.dot(x_mat, W_1)\n",
    "#     a_2 = sigmoid(z_2)\n",
    "#     z_3 = np.dot(a_2, W_2)\n",
    "#     y_pred = sigmoid(z_3).reshape((len(x_mat),))\n",
    "#     # Now compute the gradient\n",
    "#     J_z_3_grad = -y + y_pred\n",
    "#     J_W_2_grad = np.dot(J_z_3_grad, a_2)\n",
    "#     a_2_z_2_grad = sigmoid(z_2)*(1-sigmoid(z_2))\n",
    "#     J_W_1_grad = (np.dot((J_z_3_grad).reshape(-1,1), W_2.reshape(-1,1).T)*a_2_z_2_grad).T.dot(x_mat).T\n",
    "#     gradient = (J_W_1_grad, J_W_2_grad)\n",
    "    \n",
    "#     # return\n",
    "#     return y_pred, gradient\n",
    "\n",
    "\n",
    "# def plot_loss_accuracy(loss_vals, accuracies):\n",
    "#     fig = plt.figure(figsize=(16, 8))\n",
    "#     fig.suptitle('Log Loss and Accuracy over iterations')\n",
    "    \n",
    "#     ax = fig.add_subplot(1, 2, 1)\n",
    "#     ax.plot(loss_vals)\n",
    "#     ax.grid(True)\n",
    "#     ax.set(xlabel='iterations', title='Log Loss')\n",
    "    \n",
    "#     ax = fig.add_subplot(1, 2, 2)\n",
    "#     ax.plot(accuracies)\n",
    "#     ax.grid(True)\n",
    "#     ax.set(xlabel='iterations', title='Accuracy');"
   ]
  },
  {
   "cell_type": "code",
   "execution_count": 21,
   "metadata": {},
   "outputs": [
    {
     "data": {
      "text/plain": [
       "(4, 3)"
      ]
     },
     "execution_count": 21,
     "metadata": {},
     "output_type": "execute_result"
    }
   ],
   "source": [
    "a\n",
    "c = b.copy()\n",
    "c = c*2\n",
    "d = np.array([[1, 2, 3], [3, 4, 5]])\n",
    "c.dot(d).shape\n",
    "np.dot(c, d).shape"
   ]
  },
  {
   "cell_type": "code",
   "execution_count": null,
   "metadata": {},
   "outputs": [],
   "source": []
  },
  {
   "cell_type": "code",
   "execution_count": 11,
   "metadata": {},
   "outputs": [
    {
     "data": {
      "text/plain": [
       "(500, 3)"
      ]
     },
     "execution_count": 11,
     "metadata": {},
     "output_type": "execute_result"
    }
   ],
   "source": [
    "x_mat_full.shape"
   ]
  },
  {
   "cell_type": "code",
   "execution_count": 32,
   "metadata": {},
   "outputs": [],
   "source": [
    "# Practice\n",
    "def sigmoid(x):\n",
    "    return 1 / (1 + np.exp(-x))\n",
    "\n",
    "def loss_fn(y_true, y_pred, eps=1e-16):\n",
    "    \"\"\"\n",
    "    Loss function we would like to optimize (minimize)\n",
    "    We are using Logarithmic Loss\n",
    "    http://scikit-learn.org/stable/modules/model_evaluation.html#log-loss\n",
    "    \"\"\"\n",
    "    y_pred = np.maximum(y_pred,eps)\n",
    "    y_pred = np.minimum(y_pred,(1-eps))\n",
    "    return -(np.sum(y_true * np.log(y_pred)) + np.sum((1-y_true)*np.log(1-y_pred)))/len(y_true)\n",
    "\n",
    "def loss_fn(y_true, y_pred, eps=1e-16):\n",
    "    y_pred = np.maximum(y_pred, eps)\n",
    "    y_pred = np.minimum(y_pred, (1-eps))\n",
    "    return -(np.sum(y_true * np.log(y_pred)) + np.sum((1-y_true)*np.log(1-y_pred)))/len(y_true)\n",
    "\n",
    "\n",
    "def forward_pass(W1, W2):\n",
    "    global x_mat\n",
    "    global y\n",
    "    global num_\n",
    "\n",
    "    z_2 = np.dot(x_mat, W_1)\n",
    "    a_2 = sigmoid(z_2)\n",
    "    z_3 = np.dot(a_2, W_2)\n",
    "    y_pred = sigmoid(z_3).reshape((len(x_mat),))\n",
    "    \n",
    "    J_z_3_grad = -y + y_pred\n",
    "    J_W_2_grad = np.dot(J_z_3_grad, a_2)\n",
    "    a_2_z_2_grad = sigmoid(z_2)*(1 - sigmoid(z_2))\n",
    "#     J_W_1_grad = a_1 * a_2_z_2_grad * W_2 * J_z_3_grad\n",
    "#     J_W_1_grad = np.dot(x_mat, a_2_z_2_grad).dot(W_2).dot(J_z_3_grad)\n",
    "    J_W_1_grad = (np.dot((J_z_3_grad).reshape(-1,1), W_2.reshape(-1,1).T)*a_2_z_2_grad).T.dot(x_mat).T\n",
    "    gradient = (J_W_1_grad, J_W_2_grad)\n",
    "    return y_pred, gradient\n",
    "\n",
    "def plot_loss_accuracy(loss_vals, accuracies):\n",
    "    fig = plt.figure(figsize=(16, 8))\n",
    "    fig.suptitle('Log Loss and Accuracy over iterations')\n",
    "    \n",
    "    ax = fig.add_subplot(1, 2, 1)\n",
    "    ax.plot(loss_vals)\n",
    "    ax.grid(True)\n",
    "    ax.set(xlabel='iterations', title='Log Loss')\n",
    "    \n",
    "    ax = fig.add_subplot(1, 2, 2)\n",
    "    ax.plot(accuracies)\n",
    "    ax.grid(True)\n",
    "    ax.set(xlabel='iterations', title='Accuracy');"
   ]
  },
  {
   "cell_type": "code",
   "execution_count": 28,
   "metadata": {},
   "outputs": [
    {
     "data": {
      "text/plain": [
       "array([[-0.64685472],\n",
       "       [ 0.15966044],\n",
       "       [-0.50273999],\n",
       "       [-0.45931612]])"
      ]
     },
     "execution_count": 28,
     "metadata": {},
     "output_type": "execute_result"
    }
   ],
   "source": [
    "w2 = np.random.uniform(-1,1,size=(4,1))\n",
    "w2"
   ]
  },
  {
   "cell_type": "code",
   "execution_count": 29,
   "metadata": {},
   "outputs": [],
   "source": [
    "# #### Initialize the network parameters\n",
    "\n",
    "# np.random.seed(1241)\n",
    "\n",
    "# W_1 = np.random.uniform(-1,1,size=(3,4))\n",
    "# W_2 = np.random.uniform(-1,1,size=(4))\n",
    "# num_iter = 10000\n",
    "# learning_rate = .001\n",
    "# x_mat = x_mat_full\n",
    "\n",
    "\n",
    "# loss_vals, accuracies = [], []\n",
    "# for i in range(num_iter):\n",
    "#     ### Do a forward computation, and get the gradient\n",
    "#     y_pred, (J_W_1_grad, J_W_2_grad) = forward_pass(W_1, W_2)\n",
    "    \n",
    "#     ## Update the weight matrices\n",
    "#     W_1 = W_1 - learning_rate*J_W_1_grad \n",
    "#     W_2 = W_2 - learning_rate*J_W_2_grad\n",
    "    \n",
    "#     ### Compute the loss and accuracy\n",
    "#     curr_loss = loss_fn(y,y_pred)\n",
    "#     loss_vals.append(curr_loss)\n",
    "#     acc = np.sum((y_pred>=.5) == y)/num_obs\n",
    "#     accuracies.append(acc)\n",
    "\n",
    "#     ## Print the loss and accuracy for every 200th iteration\n",
    "#     if((i%200) == 0):\n",
    "#         print('iteration {}, log loss is {:.4f}, accuracy is {}'.format(\n",
    "#             i, curr_loss, acc\n",
    "#         ))\n",
    "# plot_loss_accuracy(loss_vals, accuracies)"
   ]
  },
  {
   "cell_type": "code",
   "execution_count": 30,
   "metadata": {},
   "outputs": [
    {
     "data": {
      "text/plain": [
       "4"
      ]
     },
     "execution_count": 30,
     "metadata": {},
     "output_type": "execute_result"
    }
   ],
   "source": [
    "a\n",
    "a1 = np.array([0, 0, 0, 1, 1, 1])\n",
    "a2 = np.array([1, 2, 3, 4, 5, 1])\n",
    "(a2 >= 3) == a1\n",
    "\n",
    "np.sum((a2 >= 3) == a1)\n"
   ]
  },
  {
   "cell_type": "code",
   "execution_count": 33,
   "metadata": {},
   "outputs": [
    {
     "name": "stdout",
     "output_type": "stream",
     "text": [
      "iteration 0, log loss is 0.784704, accuracy is 0.528\n",
      "iteration 200, log loss is 0.681092, accuracy is 0.518\n",
      "iteration 400, log loss is 0.664492, accuracy is 0.568\n",
      "iteration 600, log loss is 0.611974, accuracy is 0.742\n",
      "iteration 800, log loss is 0.541183, accuracy is 0.744\n",
      "iteration 1000, log loss is 0.512215, accuracy is 0.75\n",
      "iteration 1200, log loss is 0.491420, accuracy is 0.76\n",
      "iteration 1400, log loss is 0.430193, accuracy is 0.856\n",
      "iteration 1600, log loss is 0.331932, accuracy is 0.904\n",
      "iteration 1800, log loss is 0.287913, accuracy is 0.91\n",
      "iteration 2000, log loss is 0.265178, accuracy is 0.906\n",
      "iteration 2200, log loss is 0.249003, accuracy is 0.91\n",
      "iteration 2400, log loss is 0.234678, accuracy is 0.916\n",
      "iteration 2600, log loss is 0.221215, accuracy is 0.914\n",
      "iteration 2800, log loss is 0.209648, accuracy is 0.914\n",
      "iteration 3000, log loss is 0.199718, accuracy is 0.922\n",
      "iteration 3200, log loss is 0.191286, accuracy is 0.924\n",
      "iteration 3400, log loss is 0.184294, accuracy is 0.932\n",
      "iteration 3600, log loss is 0.178232, accuracy is 0.934\n",
      "iteration 3800, log loss is 0.172716, accuracy is 0.944\n",
      "iteration 4000, log loss is 0.167613, accuracy is 0.948\n",
      "iteration 4200, log loss is 0.162904, accuracy is 0.948\n",
      "iteration 4400, log loss is 0.158584, accuracy is 0.954\n",
      "iteration 4600, log loss is 0.154640, accuracy is 0.958\n",
      "iteration 4800, log loss is 0.151042, accuracy is 0.96\n",
      "iteration 5000, log loss is 0.147759, accuracy is 0.96\n",
      "iteration 5200, log loss is 0.144757, accuracy is 0.96\n",
      "iteration 5400, log loss is 0.142005, accuracy is 0.962\n",
      "iteration 5600, log loss is 0.139475, accuracy is 0.964\n",
      "iteration 5800, log loss is 0.137140, accuracy is 0.962\n",
      "iteration 6000, log loss is 0.134978, accuracy is 0.962\n",
      "iteration 6200, log loss is 0.132971, accuracy is 0.962\n",
      "iteration 6400, log loss is 0.131102, accuracy is 0.962\n",
      "iteration 6600, log loss is 0.129357, accuracy is 0.964\n",
      "iteration 6800, log loss is 0.127722, accuracy is 0.964\n",
      "iteration 7000, log loss is 0.126186, accuracy is 0.968\n",
      "iteration 7200, log loss is 0.124741, accuracy is 0.968\n",
      "iteration 7400, log loss is 0.123378, accuracy is 0.97\n",
      "iteration 7600, log loss is 0.122089, accuracy is 0.97\n",
      "iteration 7800, log loss is 0.120867, accuracy is 0.968\n",
      "iteration 8000, log loss is 0.119707, accuracy is 0.968\n",
      "iteration 8200, log loss is 0.118604, accuracy is 0.968\n",
      "iteration 8400, log loss is 0.117552, accuracy is 0.968\n",
      "iteration 8600, log loss is 0.116548, accuracy is 0.968\n",
      "iteration 8800, log loss is 0.115588, accuracy is 0.968\n",
      "iteration 9000, log loss is 0.114669, accuracy is 0.968\n",
      "iteration 9200, log loss is 0.113787, accuracy is 0.97\n",
      "iteration 9400, log loss is 0.112939, accuracy is 0.97\n",
      "iteration 9600, log loss is 0.112125, accuracy is 0.97\n",
      "iteration 9800, log loss is 0.111340, accuracy is 0.97\n"
     ]
    },
    {
     "data": {
      "image/png": "[encoded data removed]",
      "text/plain": [
       "<Figure size 1152x576 with 2 Axes>"
      ]
     },
     "metadata": {
      "needs_background": "light"
     },
     "output_type": "display_data"
    }
   ],
   "source": [
    "# Practice\n",
    "np.random.seed(1241)\n",
    "\n",
    "W_1 = np.random.uniform(-1, 1, size=(3,4))\n",
    "W_2 = np.random.uniform(-1, 1, size=(4))\n",
    "num_iter = 10000\n",
    "learning_rate = .001\n",
    "x_mat = x_mat_full\n",
    "\n",
    "loss_vals, accuracies = [], []\n",
    "for i in range(num_iter):\n",
    "    y_pred, (J_W_1_grad, J_W_2_grad) = forward_pass(W_1, W_2)\n",
    "    \n",
    "    W_1 = W_1 - learning_rate * J_W_1_grad\n",
    "    W_2 = W_2 - learning_rate * J_W_2_grad\n",
    "    \n",
    "    curr_loss = loss_fn(y, y_pred)\n",
    "    loss_vals.append(curr_loss)\n",
    "    acc = np.sum((y_pred>=0.5) == y)/num_obs\n",
    "    accuracies.append(acc)\n",
    "    \n",
    "    if((i%200)==0):\n",
    "        print('iteration {}, log loss is {:4f}, accuracy is {}'.format(i, curr_loss, acc))\n",
    "plot_loss_accuracy(loss_vals, accuracies)\n"
   ]
  },
  {
   "cell_type": "markdown",
   "metadata": {},
   "source": [
    "Plot the predicted answers, with mistakes in yellow"
   ]
  },
  {
   "cell_type": "code",
   "execution_count": 34,
   "metadata": {},
   "outputs": [
    {
     "data": {
      "image/png": "[encoded data removed]",
      "text/plain": [
       "<Figure size 576x576 with 1 Axes>"
      ]
     },
     "metadata": {
      "needs_background": "light"
     },
     "output_type": "display_data"
    }
   ],
   "source": [
    "pred1 = (y_pred>=.5)\n",
    "pred0 = (y_pred<.5)\n",
    "\n",
    "fig, ax = plt.subplots(figsize=(8, 8))\n",
    "# true predictions\n",
    "ax.plot(x_mat[pred1 & (y==1),0],x_mat[pred1 & (y==1),1], 'ro', label='true positives')\n",
    "ax.plot(x_mat[pred0 & (y==0),0],x_mat[pred0 & (y==0),1], 'bx', label='true negatives')\n",
    "# false predictions\n",
    "ax.plot(x_mat[pred1 & (y==0),0],x_mat[pred1 & (y==0),1], 'yx', label='false positives', markersize=15)\n",
    "ax.plot(x_mat[pred0 & (y==1),0],x_mat[pred0 & (y==1),1], 'yo', label='false negatives', markersize=15, alpha=.6)\n",
    "ax.set(title='Truth vs Prediction')\n",
    "ax.legend(bbox_to_anchor=(1, 0.8), fancybox=True, shadow=True, fontsize='x-large');"
   ]
  },
  {
   "cell_type": "markdown",
   "metadata": {},
   "source": [
    "---\n",
    "### Machine Learning Foundation (C) 2020 IBM Corporation"
   ]
  }
 ],
 "metadata": {
  "kernelspec": {
   "display_name": "Python 3",
   "language": "python",
   "name": "python3"
  },
  "language_info": {
   "codemirror_mode": {
    "name": "ipython",
    "version": 3
   },
   "file_extension": ".py",
   "mimetype": "text/x-python",
   "name": "python",
   "nbconvert_exporter": "python",
   "pygments_lexer": "ipython3",
   "version": "3.8.3"
  }
 },
 "nbformat": 4,
 "nbformat_minor": 4
}
