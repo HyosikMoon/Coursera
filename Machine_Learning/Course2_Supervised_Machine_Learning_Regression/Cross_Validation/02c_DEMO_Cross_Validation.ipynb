{
 "cells": [
  {
   "cell_type": "markdown",
   "metadata": {},
   "source": [
    "# Machine Learning Foundation\n",
    "\n",
    "## Section 2, Part c: Cross Validation "
   ]
  },
  {
   "cell_type": "markdown",
   "metadata": {},
   "source": [
    "## Learning objectives\n",
    "\n",
    "By the end of this lesson, you will be able to:\n",
    "\n",
    "* Chain multiple data processing steps together using `Pipeline`\n",
    "* Use the `KFolds` object to split data into multiple folds.\n",
    "* Perform cross validation using SciKit Learn with `cross_val_predict` and `GridSearchCV`\n"
   ]
  },
  {
   "cell_type": "code",
   "execution_count": 6,
   "metadata": {
    "ExecuteTime": {
     "end_time": "2019-02-19T17:20:55.865735Z",
     "start_time": "2019-02-19T17:20:54.685698Z"
    }
   },
   "outputs": [],
   "source": [
    "import numpy as np\n",
    "import pickle\n",
    "import pandas as pd\n",
    "import matplotlib.pyplot as plt\n",
    "\n",
    "from sklearn.preprocessing import StandardScaler, PolynomialFeatures\n",
    "from sklearn.model_selection import KFold, cross_val_predict\n",
    "from sklearn.linear_model import LinearRegression, Lasso, Ridge\n",
    "from sklearn.metrics import r2_score\n",
    "from sklearn.pipeline import Pipeline"
   ]
  },
  {
   "cell_type": "code",
   "execution_count": 7,
   "metadata": {
    "ExecuteTime": {
     "end_time": "2019-02-19T17:20:58.445911Z",
     "start_time": "2019-02-19T17:20:58.440191Z"
    }
   },
   "outputs": [],
   "source": [
    "# Note we are loading a slightly different (\"cleaned\") pickle file\n",
    "boston = pickle.load(open('data/boston_housing_clean.pickle', \"rb\" ))"
   ]
  },
  {
   "cell_type": "code",
   "execution_count": 8,
   "metadata": {
    "ExecuteTime": {
     "end_time": "2019-02-19T17:21:01.676948Z",
     "start_time": "2019-02-19T17:21:01.671315Z"
    }
   },
   "outputs": [
    {
     "data": {
      "text/plain": [
       "dict_keys(['dataframe', 'description'])"
      ]
     },
     "execution_count": 8,
     "metadata": {},
     "output_type": "execute_result"
    }
   ],
   "source": [
    "boston.keys()"
   ]
  },
  {
   "cell_type": "code",
   "execution_count": 9,
   "metadata": {
    "ExecuteTime": {
     "end_time": "2019-02-19T17:21:10.682135Z",
     "start_time": "2019-02-19T17:21:10.678835Z"
    }
   },
   "outputs": [],
   "source": [
    "boston_data = boston['dataframe']\n",
    "boston_description = boston['description']"
   ]
  },
  {
   "cell_type": "code",
   "execution_count": 10,
   "metadata": {
    "ExecuteTime": {
     "end_time": "2019-02-19T17:22:10.274974Z",
     "start_time": "2019-02-19T17:22:10.256879Z"
    },
    "scrolled": true
   },
   "outputs": [
    {
     "data": {
      "text/html": [
       "<div>\n",
       "<style scoped>\n",
       "    .dataframe tbody tr th:only-of-type {\n",
       "        vertical-align: middle;\n",
       "    }\n",
       "\n",
       "    .dataframe tbody tr th {\n",
       "        vertical-align: top;\n",
       "    }\n",
       "\n",
       "    .dataframe thead th {\n",
       "        text-align: right;\n",
       "    }\n",
       "</style>\n",
       "<table border=\"1\" class=\"dataframe\">\n",
       "  <thead>\n",
       "    <tr style=\"text-align: right;\">\n",
       "      <th></th>\n",
       "      <th>CRIM</th>\n",
       "      <th>ZN</th>\n",
       "      <th>INDUS</th>\n",
       "      <th>CHAS</th>\n",
       "      <th>NOX</th>\n",
       "      <th>RM</th>\n",
       "      <th>AGE</th>\n",
       "      <th>DIS</th>\n",
       "      <th>RAD</th>\n",
       "      <th>TAX</th>\n",
       "      <th>PTRATIO</th>\n",
       "      <th>B</th>\n",
       "      <th>LSTAT</th>\n",
       "      <th>MEDV</th>\n",
       "    </tr>\n",
       "  </thead>\n",
       "  <tbody>\n",
       "    <tr>\n",
       "      <th>0</th>\n",
       "      <td>0.00632</td>\n",
       "      <td>18.0</td>\n",
       "      <td>2.31</td>\n",
       "      <td>0.0</td>\n",
       "      <td>0.538</td>\n",
       "      <td>6.575</td>\n",
       "      <td>65.2</td>\n",
       "      <td>4.0900</td>\n",
       "      <td>1.0</td>\n",
       "      <td>296.0</td>\n",
       "      <td>15.3</td>\n",
       "      <td>396.90</td>\n",
       "      <td>4.98</td>\n",
       "      <td>24.0</td>\n",
       "    </tr>\n",
       "    <tr>\n",
       "      <th>1</th>\n",
       "      <td>0.02731</td>\n",
       "      <td>0.0</td>\n",
       "      <td>7.07</td>\n",
       "      <td>0.0</td>\n",
       "      <td>0.469</td>\n",
       "      <td>6.421</td>\n",
       "      <td>78.9</td>\n",
       "      <td>4.9671</td>\n",
       "      <td>2.0</td>\n",
       "      <td>242.0</td>\n",
       "      <td>17.8</td>\n",
       "      <td>396.90</td>\n",
       "      <td>9.14</td>\n",
       "      <td>21.6</td>\n",
       "    </tr>\n",
       "    <tr>\n",
       "      <th>2</th>\n",
       "      <td>0.02729</td>\n",
       "      <td>0.0</td>\n",
       "      <td>7.07</td>\n",
       "      <td>0.0</td>\n",
       "      <td>0.469</td>\n",
       "      <td>7.185</td>\n",
       "      <td>61.1</td>\n",
       "      <td>4.9671</td>\n",
       "      <td>2.0</td>\n",
       "      <td>242.0</td>\n",
       "      <td>17.8</td>\n",
       "      <td>392.83</td>\n",
       "      <td>4.03</td>\n",
       "      <td>34.7</td>\n",
       "    </tr>\n",
       "    <tr>\n",
       "      <th>3</th>\n",
       "      <td>0.03237</td>\n",
       "      <td>0.0</td>\n",
       "      <td>2.18</td>\n",
       "      <td>0.0</td>\n",
       "      <td>0.458</td>\n",
       "      <td>6.998</td>\n",
       "      <td>45.8</td>\n",
       "      <td>6.0622</td>\n",
       "      <td>3.0</td>\n",
       "      <td>222.0</td>\n",
       "      <td>18.7</td>\n",
       "      <td>394.63</td>\n",
       "      <td>2.94</td>\n",
       "      <td>33.4</td>\n",
       "    </tr>\n",
       "    <tr>\n",
       "      <th>4</th>\n",
       "      <td>0.06905</td>\n",
       "      <td>0.0</td>\n",
       "      <td>2.18</td>\n",
       "      <td>0.0</td>\n",
       "      <td>0.458</td>\n",
       "      <td>7.147</td>\n",
       "      <td>54.2</td>\n",
       "      <td>6.0622</td>\n",
       "      <td>3.0</td>\n",
       "      <td>222.0</td>\n",
       "      <td>18.7</td>\n",
       "      <td>396.90</td>\n",
       "      <td>5.33</td>\n",
       "      <td>36.2</td>\n",
       "    </tr>\n",
       "  </tbody>\n",
       "</table>\n",
       "</div>"
      ],
      "text/plain": [
       "      CRIM    ZN  INDUS  CHAS    NOX     RM   AGE     DIS  RAD    TAX  \\\n",
       "0  0.00632  18.0   2.31   0.0  0.538  6.575  65.2  4.0900  1.0  296.0   \n",
       "1  0.02731   0.0   7.07   0.0  0.469  6.421  78.9  4.9671  2.0  242.0   \n",
       "2  0.02729   0.0   7.07   0.0  0.469  7.185  61.1  4.9671  2.0  242.0   \n",
       "3  0.03237   0.0   2.18   0.0  0.458  6.998  45.8  6.0622  3.0  222.0   \n",
       "4  0.06905   0.0   2.18   0.0  0.458  7.147  54.2  6.0622  3.0  222.0   \n",
       "\n",
       "   PTRATIO       B  LSTAT  MEDV  \n",
       "0     15.3  396.90   4.98  24.0  \n",
       "1     17.8  396.90   9.14  21.6  \n",
       "2     17.8  392.83   4.03  34.7  \n",
       "3     18.7  394.63   2.94  33.4  \n",
       "4     18.7  396.90   5.33  36.2  "
      ]
     },
     "execution_count": 10,
     "metadata": {},
     "output_type": "execute_result"
    }
   ],
   "source": [
    "boston_data.head()"
   ]
  },
  {
   "cell_type": "code",
   "execution_count": 15,
   "metadata": {},
   "outputs": [
    {
     "name": "stdout",
     "output_type": "stream",
     "text": [
      "<class 'pandas.core.frame.DataFrame'>\n",
      "RangeIndex: 506 entries, 0 to 505\n",
      "Data columns (total 14 columns):\n",
      " #   Column   Non-Null Count  Dtype  \n",
      "---  ------   --------------  -----  \n",
      " 0   CRIM     506 non-null    float64\n",
      " 1   ZN       506 non-null    float64\n",
      " 2   INDUS    506 non-null    float64\n",
      " 3   CHAS     506 non-null    float64\n",
      " 4   NOX      506 non-null    float64\n",
      " 5   RM       506 non-null    float64\n",
      " 6   AGE      506 non-null    float64\n",
      " 7   DIS      506 non-null    float64\n",
      " 8   RAD      506 non-null    float64\n",
      " 9   TAX      506 non-null    float64\n",
      " 10  PTRATIO  506 non-null    float64\n",
      " 11  B        506 non-null    float64\n",
      " 12  LSTAT    506 non-null    float64\n",
      " 13  MEDV     506 non-null    float64\n",
      "dtypes: float64(14)\n",
      "memory usage: 55.5 KB\n"
     ]
    }
   ],
   "source": [
    "boston_data.info()"
   ]
  },
  {
   "cell_type": "markdown",
   "metadata": {},
   "source": [
    "### Discussion: \n",
    "\n",
    "Suppose we want to do Linear Regression on our dataset to get an estimate, based on mean squared error, of how well our model will perform on data outside our dataset. \n",
    "\n",
    "Suppose also that our data is split into three folds: Fold 1, Fold 2, and Fold 3.\n",
    "\n",
    "What would the steps be, in English, to do this?"
   ]
  },
  {
   "cell_type": "markdown",
   "metadata": {},
   "source": [
    "**Your response below**"
   ]
  },
  {
   "cell_type": "markdown",
   "metadata": {},
   "source": [
    " "
   ]
  },
  {
   "cell_type": "markdown",
   "metadata": {},
   "source": [
    "#### Coding this up\n",
    "\n",
    "The [`KFold`](http://scikit-learn.org/stable/modules/generated/sklearn.model_selection.KFold.html) object in SciKit Learn tells the cross validation object (see below) how to split up the data:"
   ]
  },
  {
   "cell_type": "code",
   "execution_count": 12,
   "metadata": {
    "ExecuteTime": {
     "end_time": "2019-02-19T17:23:05.068445Z",
     "start_time": "2019-02-19T17:23:05.064683Z"
    }
   },
   "outputs": [],
   "source": [
    "X = boston_data.drop('MEDV', axis=1)\n",
    "y = boston_data.MEDV"
   ]
  },
  {
   "cell_type": "code",
   "execution_count": 34,
   "metadata": {
    "ExecuteTime": {
     "end_time": "2019-02-19T17:23:10.538982Z",
     "start_time": "2019-02-19T17:23:10.534325Z"
    }
   },
   "outputs": [],
   "source": [
    "kf = KFold(shuffle=True, random_state=72018, n_splits=3)\n",
    "# [(x, y) for x, y in kf.split(X)]"
   ]
  },
  {
   "cell_type": "code",
   "execution_count": 17,
   "metadata": {
    "ExecuteTime": {
     "end_time": "2019-02-19T17:25:04.578536Z",
     "start_time": "2019-02-19T17:25:04.568959Z"
    },
    "scrolled": true
   },
   "outputs": [
    {
     "name": "stdout",
     "output_type": "stream",
     "text": [
      "Train index: [ 1  3  4  5  7  8 10 11 12 13] 337\n",
      "Test index: [ 0  2  6  9 15 17 19 23 25 26] 169\n",
      "\n",
      "Train index: [ 0  2  6  9 10 11 12 13 15 17] 337\n",
      "Test index: [ 1  3  4  5  7  8 14 16 22 27] 169\n",
      "\n",
      "Train index: [0 1 2 3 4 5 6 7 8 9] 338\n",
      "Test index: [10 11 12 13 18 20 21 24 28 31] 168\n",
      "\n"
     ]
    }
   ],
   "source": [
    "for train_index, test_index in kf.split(X):\n",
    "    print(\"Train index:\", train_index[:10], len(train_index))\n",
    "    print(\"Test index:\",test_index[:10], len(test_index))\n",
    "    print('')"
   ]
  },
  {
   "cell_type": "code",
   "execution_count": 26,
   "metadata": {},
   "outputs": [],
   "source": [
    "# Practice\n",
    "# X = boston_data.drop('MEDV', axis=1)\n",
    "# y = boston_data.MEDV\n",
    "\n",
    "# kf = KFold(shuffle=True, random_state=72018, n_splits=3)\n",
    "\n",
    "# for train_index, test_index in kf.split(X):\n",
    "#     print(\"Train index:\", train_index[:100], len(train_index))\n",
    "#     print(\"Test index:\",test_index[:100], len(test_index))\n",
    "#     print('')"
   ]
  },
  {
   "cell_type": "code",
   "execution_count": null,
   "metadata": {
    "ExecuteTime": {
     "end_time": "2019-02-19T17:28:10.441616Z",
     "start_time": "2019-02-19T17:28:10.204857Z"
    }
   },
   "outputs": [],
   "source": [
    "#from sklearn.metrics import r2_score, mean_squared_error\n",
    "\n",
    "scores = []\n",
    "lr = LinearRegression()\n",
    "\n",
    "for train_index, test_index in kf.split(X):\n",
    "    X_train, X_test, y_train, y_test = (X.iloc[train_index, :], \n",
    "                                        X.iloc[test_index, :], \n",
    "                                        y[train_index], \n",
    "                                        y[test_index])\n",
    "    \n",
    "    lr.fit(X_train, y_train)\n",
    "        \n",
    "    y_pred = lr.predict(X_test)\n",
    "\n",
    "    score = r2_score(y_test.values, y_pred)\n",
    "    \n",
    "    scores.append(score)\n",
    "    \n",
    "scores"
   ]
  },
  {
   "cell_type": "code",
   "execution_count": 27,
   "metadata": {},
   "outputs": [],
   "source": [
    "# Practice\n",
    "\n",
    "score = []\n",
    "lr = LinearRegression()\n",
    "\n",
    "for train_index, test_index in kf.split(X):\n",
    "    X.iloc?"
   ]
  },
  {
   "cell_type": "markdown",
   "metadata": {},
   "source": [
    "A bit cumbersome, but do-able."
   ]
  },
  {
   "cell_type": "markdown",
   "metadata": {},
   "source": [
    "### Discussion (Part 2): \n",
    "\n",
    "Now suppose we want to do the same, but appropriately scaling our data as we go through the folds.\n",
    "\n",
    "What would the steps be _now_?"
   ]
  },
  {
   "cell_type": "markdown",
   "metadata": {},
   "source": [
    "**Your response below**"
   ]
  },
  {
   "cell_type": "markdown",
   "metadata": {},
   "source": [
    "### Coding this up"
   ]
  },
  {
   "cell_type": "code",
   "execution_count": 45,
   "metadata": {
    "ExecuteTime": {
     "end_time": "2019-02-19T17:32:07.846336Z",
     "start_time": "2019-02-19T17:32:07.808810Z"
    }
   },
   "outputs": [
    {
     "data": {
      "text/plain": [
       "[0.6719348798472715, 0.748502005921238, 0.6976807323597743]"
      ]
     },
     "execution_count": 45,
     "metadata": {},
     "output_type": "execute_result"
    }
   ],
   "source": [
    "scores = []\n",
    "\n",
    "lr = LinearRegression()\n",
    "s = StandardScaler()\n",
    "\n",
    "for train_index, test_index in kf.split(X):\n",
    "    X_train, X_test, y_train, y_test = (X.iloc[train_index, :], \n",
    "                                        X.iloc[test_index, :], \n",
    "                                        y[train_index], \n",
    "                                        y[test_index])\n",
    "    \n",
    "    X_train_s = s.fit_transform(X_train)\n",
    "    \n",
    "    lr.fit(X_train_s, y_train)\n",
    "    \n",
    "    X_test_s = s.transform(X_test)\n",
    "    \n",
    "    y_pred = lr.predict(X_test_s)\n",
    "\n",
    "    score = r2_score(y_test.values, y_pred)\n",
    "    \n",
    "    scores.append(score)\n",
    "\n",
    "scores"
   ]
  },
  {
   "cell_type": "code",
   "execution_count": 58,
   "metadata": {},
   "outputs": [
    {
     "data": {
      "text/plain": [
       "[0.6719348798472715, 0.748502005921238, 0.6976807323597743]"
      ]
     },
     "execution_count": 58,
     "metadata": {},
     "output_type": "execute_result"
    }
   ],
   "source": [
    "# # Practice\n",
    "# scores = []\n",
    "# lr = LinearRegression()\n",
    "# s = StandardScaler()\n",
    "\n",
    "# for train_index, test_index in kf.split(X):\n",
    "#     X_train, X_test, y_train, y_test = (X.iloc[train_index, :],\n",
    "#                                         X.iloc[test_index, :],\n",
    "#                                         y[train_index],\n",
    "#                                         y[test_index])\n",
    "    \n",
    "#     X_train_s = s.fit_transform(X_train)\n",
    "#     lr.fit(X_train_s, y_train)\n",
    "#     X_test_s = s.transform(X_test)\n",
    "#     y_pred = lr.predict(X_test_s)\n",
    "#     score = r2_score(y_test.values, y_pred)\n",
    "#     ### score = r2_score(y_pred, y_test.values) -- This is Wrong!!!\n",
    "#     scores.append(score)\n",
    "    \n",
    "# scores"
   ]
  },
  {
   "cell_type": "markdown",
   "metadata": {},
   "source": [
    "(same scores, because for vanilla linear regression with no regularization, scaling actually doesn't matter for performance)"
   ]
  },
  {
   "cell_type": "markdown",
   "metadata": {},
   "source": [
    "This is getting quite cumbersome! \n",
    "\n",
    "_Very_ luckily, SciKit Learn has some wonderful functions that handle a lot of this for us."
   ]
  },
  {
   "cell_type": "markdown",
   "metadata": {},
   "source": [
    "### `Pipeline` and `cross_val_predict`"
   ]
  },
  {
   "cell_type": "markdown",
   "metadata": {},
   "source": [
    "`Pipeline` lets you chain together multiple operators on your data that both have a `fit` method."
   ]
  },
  {
   "cell_type": "code",
   "execution_count": 59,
   "metadata": {
    "ExecuteTime": {
     "end_time": "2019-02-19T17:33:28.695381Z",
     "start_time": "2019-02-19T17:33:28.691865Z"
    }
   },
   "outputs": [],
   "source": [
    "s = StandardScaler()\n",
    "lr = LinearRegression()"
   ]
  },
  {
   "cell_type": "markdown",
   "metadata": {},
   "source": [
    "### Combine multiple processing steps into a `Pipeline`\n",
    "\n",
    "A pipeline contains a series of steps, where a step is (\"name of step\", actual_model). The \"name of step\" string is only used to help you identify which step you are on, and to allow you to specify parameters at that step.  "
   ]
  },
  {
   "cell_type": "code",
   "execution_count": 63,
   "metadata": {
    "ExecuteTime": {
     "end_time": "2019-02-19T17:33:32.657281Z",
     "start_time": "2019-02-19T17:33:32.653852Z"
    }
   },
   "outputs": [],
   "source": [
    "estimator = Pipeline([(\"scaler\", s),\n",
    "                      (\"regression\", lr)])\n",
    "# estimator"
   ]
  },
  {
   "cell_type": "code",
   "execution_count": 64,
   "metadata": {},
   "outputs": [
    {
     "data": {
      "text/plain": [
       "Pipeline(steps=[('scaler', StandardScaler()),\n",
       "                ('regression', LinearRegression())])"
      ]
     },
     "execution_count": 64,
     "metadata": {},
     "output_type": "execute_result"
    }
   ],
   "source": [
    "estimator.fit(X_train, y_train)"
   ]
  },
  {
   "cell_type": "code",
   "execution_count": 67,
   "metadata": {},
   "outputs": [
    {
     "data": {
      "text/plain": [
       "array([19.44230308, 22.8687781 , 20.72201438, 20.19685225, 16.02553328,\n",
       "       13.19670707, 18.48717304, 16.41260539, 20.08040483, 19.16027923,\n",
       "       23.03341265, 23.52809897, 24.64808538, 23.84554003, 22.37992895,\n",
       "       18.54423788,  9.23453025, 24.86310535, 27.35965358, 29.95093715,\n",
       "       21.71928179, 18.63649236, 19.67735609, 29.98064881, 20.78659698,\n",
       "       17.29484103, 20.88767674, 23.59352298, 23.01287114, 24.82516061,\n",
       "       28.1550891 , 26.59019417, 28.40170962, 28.61954803, 28.99730977,\n",
       "       25.46130359, 20.83346878, 21.39384122, 21.12590183, 24.80991192,\n",
       "       22.64896843, 20.63582629, 20.04498128, 20.28679691, 16.04272023,\n",
       "       15.75494076, 12.78067624, 11.43558055, 21.98898014, 23.31730716,\n",
       "       24.28692882, 21.28789025, 14.88646576, 31.00959189, 35.37282463,\n",
       "       37.57270926, 23.58942636, 24.75302163, 30.63215847, 34.85770942,\n",
       "       32.94090699, 30.0536187 , 39.86200512, 29.05010705, 35.53401305,\n",
       "       41.89294309, 23.54417467, 23.61752172,  8.51966664, 24.3803473 ,\n",
       "       31.93213161, 35.04907462, 33.74198666, 30.95975523, 38.16572411,\n",
       "       34.04572219, 25.50003895, 26.9008276 , 26.81331202, 17.52450192,\n",
       "       23.0561211 , 23.35940105, 27.41662679, 37.95283941, 35.39695531,\n",
       "       37.15560829, 30.16078745, 31.7987809 , 22.17460829, 36.87065984,\n",
       "       29.95618041, 35.45099005, 38.96516444, 19.04113986, 27.03723525,\n",
       "       33.28276705, 19.71614458, 30.7356145 , 35.74753519, 33.31789906,\n",
       "       29.82085216, 19.17675208, 26.73030054, 18.85119288, 25.10080811,\n",
       "       25.2310572 , 23.35918589, 20.55011533, 23.44439899, 21.43873939,\n",
       "       22.28755319, 21.55265486, 22.1886005 , 30.13309578, 27.73873544,\n",
       "       27.83343144, 21.22476747, 20.29426743, 16.43151094, 24.1989263 ,\n",
       "       23.86222031, 20.4568203 , 22.28180574, 36.99716281,  6.35326377,\n",
       "       25.54462242, 15.91166325, 14.2172422 ,  8.43052398, 21.03393529,\n",
       "       19.10628664, 19.46324302, 12.20521866, 18.2420435 , 18.49378935,\n",
       "       21.90422664, 13.82169579, 19.42918743,  8.44262399,  7.195685  ,\n",
       "       20.36534151, 19.00376186, 17.79256504, 17.87715422, 21.34551178,\n",
       "        8.19204123,  3.32788461, 11.70535034, 11.96121376, 18.89797015,\n",
       "       22.06307051, 14.60280556, 23.32232899, 14.26431606, 20.57202772,\n",
       "       19.80582497, 27.50273944, 19.08219115, 21.53979588, 13.11731152,\n",
       "       15.37086566, 20.96805073, 20.21749107, 19.62802415, 21.55434999,\n",
       "       20.98843917, 23.32746873, 26.67017418])"
      ]
     },
     "execution_count": 67,
     "metadata": {},
     "output_type": "execute_result"
    }
   ],
   "source": [
    "# estimator.predict(X_test)\n",
    "\n",
    "# Practice\n",
    "# estimator = Pipeline([(\"Scaler\", s), (\"Regression\", lr)])\n",
    "# estimator.fit(X_train, y_train)\n",
    "# estimator.predict(X_test)"
   ]
  },
  {
   "cell_type": "markdown",
   "metadata": {},
   "source": [
    "### `cross_val_predict`\n",
    "\n",
    "[`cross_val_predict`](http://scikit-learn.org/stable/modules/generated/sklearn.model_selection.cross_val_predict.html) is a function that does K-fold cross validation for us, appropriately fitting and transforming at every step of the way."
   ]
  },
  {
   "cell_type": "code",
   "execution_count": 68,
   "metadata": {},
   "outputs": [
    {
     "data": {
      "text/plain": [
       "KFold(n_splits=3, random_state=72018, shuffle=True)"
      ]
     },
     "execution_count": 68,
     "metadata": {},
     "output_type": "execute_result"
    }
   ],
   "source": [
    "kf"
   ]
  },
  {
   "cell_type": "code",
   "execution_count": 74,
   "metadata": {
    "ExecuteTime": {
     "end_time": "2019-02-19T17:35:55.255356Z",
     "start_time": "2019-02-19T17:35:55.240376Z"
    }
   },
   "outputs": [],
   "source": [
    "predictions = cross_val_predict(estimator, X, y, cv=kf)"
   ]
  },
  {
   "cell_type": "code",
   "execution_count": 73,
   "metadata": {
    "ExecuteTime": {
     "end_time": "2019-02-19T17:36:03.801732Z",
     "start_time": "2019-02-19T17:36:03.796646Z"
    },
    "scrolled": true
   },
   "outputs": [
    {
     "data": {
      "text/plain": [
       "0.706353106416156"
      ]
     },
     "execution_count": 73,
     "metadata": {},
     "output_type": "execute_result"
    }
   ],
   "source": [
    "r2_score(y, predictions)"
   ]
  },
  {
   "cell_type": "code",
   "execution_count": 75,
   "metadata": {
    "ExecuteTime": {
     "end_time": "2019-02-19T17:36:19.831481Z",
     "start_time": "2019-02-19T17:36:19.827131Z"
    }
   },
   "outputs": [
    {
     "data": {
      "text/plain": [
       "0.7060392060427613"
      ]
     },
     "execution_count": 75,
     "metadata": {},
     "output_type": "execute_result"
    }
   ],
   "source": [
    "np.mean(scores) # almost identical!"
   ]
  },
  {
   "cell_type": "code",
   "execution_count": 78,
   "metadata": {},
   "outputs": [
    {
     "data": {
      "text/plain": [
       "0.706353106416156"
      ]
     },
     "execution_count": 78,
     "metadata": {},
     "output_type": "execute_result"
    }
   ],
   "source": [
    "# # Practice\n",
    "# predictions = cross_val_predict(estimator, X, y, cv=kf)\n",
    "# r2_score(y, predictions)"
   ]
  },
  {
   "cell_type": "markdown",
   "metadata": {},
   "source": [
    "Note that `cross_val_predict` doesn't use the same model for all steps; the predictions for each row are made when that row is in the validation set. We really have the collected results of 3 (i.e. `kf.num_splits`) different models. \n",
    "\n",
    "When we are done, `estimator` is still not fitted. If we want to predict on _new_ data, we still have to train our `estimator`. "
   ]
  },
  {
   "cell_type": "markdown",
   "metadata": {},
   "source": [
    "## Hyperparameter tuning"
   ]
  },
  {
   "cell_type": "markdown",
   "metadata": {},
   "source": [
    "### Definition\n",
    "\n",
    "**Hyperparameter tuning** involves using cross validation (or train-test split) to determine which hyperparameters are most likely to generate a model that _generalizes_ well outside of your sample.\n",
    "\n",
    "### Mechanics\n",
    "\n",
    "We can generate an exponentially spaces range of values using the numpy [`geomspace`](https://docs.scipy.org/doc/numpy/reference/generated/numpy.geomspace.html#numpy.geomspace) function.\n",
    "\n",
    "```python\n",
    "np.geomspace(1, 1000, num=4)\n",
    "```\n",
    "\n",
    "produces:\n",
    "\n",
    "```\n",
    "array([    1.,    10.,   100.,  1000.])\n",
    "```\n",
    "\n",
    "Use this function to generate a list of length 10 called `alphas` for hyperparameter tuning:"
   ]
  },
  {
   "cell_type": "code",
   "execution_count": 79,
   "metadata": {
    "ExecuteTime": {
     "end_time": "2019-02-19T17:40:36.220744Z",
     "start_time": "2019-02-19T17:40:36.214714Z"
    }
   },
   "outputs": [
    {
     "data": {
      "text/plain": [
       "array([1.e-09, 1.e-08, 1.e-07, 1.e-06, 1.e-05, 1.e-04, 1.e-03, 1.e-02,\n",
       "       1.e-01, 1.e+00])"
      ]
     },
     "execution_count": 79,
     "metadata": {},
     "output_type": "execute_result"
    }
   ],
   "source": [
    "alphas = np.geomspace(1e-9, 1e0, num=10)\n",
    "alphas"
   ]
  },
  {
   "cell_type": "markdown",
   "metadata": {},
   "source": [
    "The code below tunes the `alpha` hyperparameter for Lasso regression."
   ]
  },
  {
   "cell_type": "code",
   "execution_count": 80,
   "metadata": {
    "ExecuteTime": {
     "end_time": "2019-02-19T17:47:34.947390Z",
     "start_time": "2019-02-19T17:47:34.845011Z"
    }
   },
   "outputs": [],
   "source": [
    "scores = []\n",
    "coefs = []\n",
    "for alpha in alphas:\n",
    "    las = Lasso(alpha=alpha, max_iter=100000)\n",
    "    \n",
    "    estimator = Pipeline([\n",
    "        (\"scaler\", s),\n",
    "        (\"lasso_regression\", las)])\n",
    "\n",
    "    predictions = cross_val_predict(estimator, X, y, cv = kf)\n",
    "    \n",
    "    score = r2_score(y, predictions)\n",
    "    \n",
    "    scores.append(score)"
   ]
  },
  {
   "cell_type": "code",
   "execution_count": 87,
   "metadata": {},
   "outputs": [],
   "source": [
    "# # Practice\n",
    "# scores = []\n",
    "# coefs = []\n",
    "# for alpha in alphas:\n",
    "#     las = Lasso(alpha=alpha, max_iter=100000)\n",
    "#     estimator = Pipeline([(\"scaler\", s), (\"lasso_regression\", las)])\n",
    "#     predictions = cross_val_predict(estimator, X, y, cv=kf)\n",
    "#     score = r2_score(y, predictions)\n",
    "#     scores.append(score)"
   ]
  },
  {
   "cell_type": "code",
   "execution_count": 81,
   "metadata": {
    "ExecuteTime": {
     "end_time": "2019-02-19T17:47:35.397285Z",
     "start_time": "2019-02-19T17:47:35.390917Z"
    }
   },
   "outputs": [
    {
     "data": {
      "text/plain": [
       "[(1e-09, 0.7063531064981925),\n",
       " (1e-08, 0.7063531072356071),\n",
       " (1e-07, 0.7063531145602442),\n",
       " (1e-06, 0.7063531882052063),\n",
       " (1e-05, 0.7063539165191507),\n",
       " (0.0001, 0.706361268093463),\n",
       " (0.001, 0.706433467041546),\n",
       " (0.01, 0.7070865958083233),\n",
       " (0.1, 0.705838151167185),\n",
       " (1.0, 0.6512724532884888)]"
      ]
     },
     "execution_count": 81,
     "metadata": {},
     "output_type": "execute_result"
    }
   ],
   "source": [
    "list(zip(alphas,scores))"
   ]
  },
  {
   "cell_type": "code",
   "execution_count": 88,
   "metadata": {
    "ExecuteTime": {
     "end_time": "2019-02-19T17:48:16.943881Z",
     "start_time": "2019-02-19T17:48:16.937741Z"
    }
   },
   "outputs": [
    {
     "data": {
      "text/plain": [
       "array([-1.07170372e-01,  4.63952623e-02,  2.08588308e-02,  2.68854318e+00,\n",
       "       -1.77954207e+01,  3.80475296e+00,  7.50802707e-04, -1.47575348e+00,\n",
       "        3.05654279e-01, -1.23293755e-02, -9.53459908e-01,  9.39253013e-03,\n",
       "       -5.25467196e-01])"
      ]
     },
     "execution_count": 88,
     "metadata": {},
     "output_type": "execute_result"
    }
   ],
   "source": [
    "Lasso(alpha=1e-6).fit(X, y).coef_"
   ]
  },
  {
   "cell_type": "code",
   "execution_count": 89,
   "metadata": {
    "ExecuteTime": {
     "end_time": "2019-02-19T17:48:40.778026Z",
     "start_time": "2019-02-19T17:48:40.771732Z"
    }
   },
   "outputs": [
    {
     "data": {
      "text/plain": [
       "array([-0.06342255,  0.04916867, -0.        ,  0.        , -0.        ,\n",
       "        0.94678567,  0.02092737, -0.66900864,  0.26417501, -0.01520915,\n",
       "       -0.72319901,  0.00829117, -0.76143296])"
      ]
     },
     "execution_count": 89,
     "metadata": {},
     "output_type": "execute_result"
    }
   ],
   "source": [
    "Lasso(alpha=1.0).fit(X, y).coef_"
   ]
  },
  {
   "cell_type": "code",
   "execution_count": 90,
   "metadata": {},
   "outputs": [
    {
     "data": {
      "text/plain": [
       "array([-1.05330983e-01,  4.68329072e-02,  6.77570009e-03,  2.50607938e+00,\n",
       "       -1.44226291e+01,  3.80918476e+00, -1.76057409e-03, -1.42229358e+00,\n",
       "        2.98099885e-01, -1.26220655e-02, -9.17066833e-01,  9.56558992e-03,\n",
       "       -5.31194326e-01])"
      ]
     },
     "execution_count": 90,
     "metadata": {},
     "output_type": "execute_result"
    }
   ],
   "source": [
    "Lasso(alpha=0.01).fit(X, y).coef_"
   ]
  },
  {
   "cell_type": "code",
   "execution_count": 91,
   "metadata": {
    "ExecuteTime": {
     "end_time": "2019-02-19T17:46:03.208768Z",
     "start_time": "2019-02-19T17:46:02.898338Z"
    },
    "scrolled": false
   },
   "outputs": [
    {
     "data": {
      "image/png": "[encoded data removed]",
      "text/plain": [
       "<Figure size 720x432 with 1 Axes>"
      ]
     },
     "metadata": {
      "needs_background": "light"
     },
     "output_type": "display_data"
    }
   ],
   "source": [
    "plt.figure(figsize=(10,6))\n",
    "plt.semilogx(alphas, scores, '-o')\n",
    "plt.xlabel('$\\\\alpha$')\n",
    "plt.ylabel('$R^2$');"
   ]
  },
  {
   "cell_type": "code",
   "execution_count": 95,
   "metadata": {},
   "outputs": [
    {
     "data": {
      "image/png": "[encoded data removed]",
      "text/plain": [
       "<Figure size 432x288 with 1 Axes>"
      ]
     },
     "metadata": {
      "needs_background": "light"
     },
     "output_type": "display_data"
    }
   ],
   "source": [
    "plt.semilogx(alphas, scores, '-x');"
   ]
  },
  {
   "cell_type": "markdown",
   "metadata": {},
   "source": [
    "### Exercise\n",
    "\n",
    "Add `PolynomialFeatures` to this `Pipeline`, and re-run the cross validation with the `PolynomialFeatures` added.\n",
    "\n",
    "**Hint #1:** pipelines process input from first to last. Think about the order that it would make sense to add Polynomial Features to the data in sequence and add them in the appropriate place in the pipeline.\n",
    "\n",
    "**Hint #2:** you should see a significant increase in cross validation accuracy from doing this"
   ]
  },
  {
   "cell_type": "code",
   "execution_count": 116,
   "metadata": {
    "ExecuteTime": {
     "end_time": "2019-02-19T17:56:02.883875Z",
     "start_time": "2019-02-19T17:56:00.477593Z"
    }
   },
   "outputs": [
    {
     "data": {
      "text/plain": [
       "[<matplotlib.lines.Line2D at 0x207af22b1f0>]"
      ]
     },
     "execution_count": 116,
     "metadata": {},
     "output_type": "execute_result"
    },
    {
     "data": {
      "image/png": "[encoded data removed]",
      "text/plain": [
       "<Figure size 432x288 with 1 Axes>"
      ]
     },
     "metadata": {
      "needs_background": "light"
     },
     "output_type": "display_data"
    }
   ],
   "source": [
    "pf = PolynomialFeatures(degree=3)\n",
    "\n",
    "scores = []\n",
    "alphas = np.geomspace(0.06, 6.0, 20)\n",
    "for alpha in alphas:\n",
    "    las = Lasso(alpha=alpha, max_iter=100000)\n",
    "    \n",
    "    estimator = Pipeline([\n",
    "        (\"scaler\", s),\n",
    "        (\"make_higher_degree\", pf),\n",
    "        (\"lasso_regression\", las)])\n",
    "\n",
    "    predictions = cross_val_predict(estimator, X, y, cv = kf)\n",
    "    \n",
    "    score = r2_score(y, predictions)\n",
    "    \n",
    "    scores.append(score)\n",
    "plt.semilogx(alphas, scores, '-o');"
   ]
  },
  {
   "cell_type": "code",
   "execution_count": 121,
   "metadata": {},
   "outputs": [
    {
     "data": {
      "text/plain": [
       "[(0.06, 0.8370717288829701),\n",
       " (0.07645649914218805, 0.8326948144310432),\n",
       " (0.0974266043513233, 0.8286529559925637),\n",
       " (0.12414828486688738, 0.8233523152510991),\n",
       " (0.1581990539238215, 0.8167906006184344),\n",
       " (0.20158909717702692, 0.810900248915436),\n",
       " (0.2568799439231636, 0.8034074560144936),\n",
       " (0.3273356868701111, 0.7982062979349632),\n",
       " (0.4171156777065363, 0.7905903084402228),\n",
       " (0.5315200742460495, 0.7792012048156848),\n",
       " (0.6773027350108134, 0.7631274541298403),\n",
       " (0.8630699329725978, 0.7436899702283892),\n",
       " (1.0997884264994613, 0.7247567692648977),\n",
       " (1.4014328814540729, 0.7078517759504638),\n",
       " (1.7858108649787907, 0.6868696898940607),\n",
       " (2.27561411443935, 0.6540332780702032),\n",
       " (2.8997581431430515, 0.600898452609131),\n",
       " (3.6950892663961565, 0.5151125189903576),\n",
       " (4.708559822108766, 0.3773695477866673),\n",
       " (6.0, 0.15638110822737483)]"
      ]
     },
     "execution_count": 121,
     "metadata": {},
     "output_type": "execute_result"
    }
   ],
   "source": [
    "list(zip(alphas, scores))"
   ]
  },
  {
   "cell_type": "code",
   "execution_count": 117,
   "metadata": {},
   "outputs": [
    {
     "data": {
      "image/png": "[encoded data removed]",
      "text/plain": [
       "<Figure size 432x288 with 1 Axes>"
      ]
     },
     "metadata": {
      "needs_background": "light"
     },
     "output_type": "display_data"
    }
   ],
   "source": [
    "# Practice\n",
    "pf = PolynomialFeatures(degree=3)\n",
    "\n",
    "scores = []\n",
    "alphas = np.geomspace(0.06, 6.0, 20)\n",
    "for alpha in alphas:\n",
    "    las = Lasso(alpha=alpha, max_iter=100000)\n",
    "    estimator = Pipeline([\n",
    "        (\"make_higher_features\", pf),\n",
    "        (\"scaler\", s),\n",
    "        (\"lasso_regression\", las)])\n",
    "    predictions = cross_val_predict(estimator, X, y, cv=kf)\n",
    "    score = r2_score(y, predictions)\n",
    "    scores.append(score)\n",
    "plt.semilogx(alphas, scores, '-o');"
   ]
  },
  {
   "cell_type": "code",
   "execution_count": 120,
   "metadata": {},
   "outputs": [
    {
     "data": {
      "text/plain": [
       "[(0.06, 0.8370717288829701),\n",
       " (0.07645649914218805, 0.8326948144310432),\n",
       " (0.0974266043513233, 0.8286529559925637),\n",
       " (0.12414828486688738, 0.8233523152510991),\n",
       " (0.1581990539238215, 0.8167906006184344),\n",
       " (0.20158909717702692, 0.810900248915436),\n",
       " (0.2568799439231636, 0.8034074560144936),\n",
       " (0.3273356868701111, 0.7982062979349632),\n",
       " (0.4171156777065363, 0.7905903084402228),\n",
       " (0.5315200742460495, 0.7792012048156848),\n",
       " (0.6773027350108134, 0.7631274541298403),\n",
       " (0.8630699329725978, 0.7436899702283892),\n",
       " (1.0997884264994613, 0.7247567692648977),\n",
       " (1.4014328814540729, 0.7078517759504638),\n",
       " (1.7858108649787907, 0.6868696898940607),\n",
       " (2.27561411443935, 0.6540332780702032),\n",
       " (2.8997581431430515, 0.600898452609131),\n",
       " (3.6950892663961565, 0.5151125189903576),\n",
       " (4.708559822108766, 0.3773695477866673),\n",
       " (6.0, 0.15638110822737483)]"
      ]
     },
     "execution_count": 120,
     "metadata": {},
     "output_type": "execute_result"
    }
   ],
   "source": [
    "list(zip(alphas, scores))"
   ]
  },
  {
   "cell_type": "markdown",
   "metadata": {},
   "source": [
    "If you store the results in a list called `scores`, the following will work:"
   ]
  },
  {
   "cell_type": "code",
   "execution_count": 118,
   "metadata": {
    "ExecuteTime": {
     "end_time": "2019-02-19T17:56:05.154628Z",
     "start_time": "2019-02-19T17:56:04.987932Z"
    }
   },
   "outputs": [
    {
     "data": {
      "image/png": "[encoded data removed]",
      "text/plain": [
       "<Figure size 432x288 with 1 Axes>"
      ]
     },
     "metadata": {
      "needs_background": "light"
     },
     "output_type": "display_data"
    }
   ],
   "source": [
    "plt.semilogx(alphas, scores);"
   ]
  },
  {
   "cell_type": "code",
   "execution_count": 129,
   "metadata": {
    "ExecuteTime": {
     "end_time": "2019-02-19T17:56:40.051147Z",
     "start_time": "2019-02-19T17:56:40.009641Z"
    }
   },
   "outputs": [
    {
     "data": {
      "text/plain": [
       "0.9134777735196521"
      ]
     },
     "execution_count": 129,
     "metadata": {},
     "output_type": "execute_result"
    }
   ],
   "source": [
    "# Once we have found the hyperparameter (alpha~1e-2=0.01)\n",
    "# make the model and train it on ALL the data\n",
    "# Then release it into the wild .....\n",
    "best_estimator = Pipeline([\n",
    "                    (\"scaler\", s),\n",
    "                    (\"make_higher_degree\", PolynomialFeatures(degree=2)),\n",
    "                    (\"lasso_regression\", Lasso(alpha=0.03, max_iter=100000))])\n",
    "\n",
    "best_estimator.fit(X, y)\n",
    "best_estimator.score(X, y)"
   ]
  },
  {
   "cell_type": "code",
   "execution_count": 128,
   "metadata": {},
   "outputs": [],
   "source": [
    "# best_estimator = Pipeline([\n",
    "#                     (\"make_higher_degree\", PolynomialFeatures(degree=2)),\n",
    "#                     (\"scaler\", s),\n",
    "#                     (\"lasso_regression\", Lasso(alpha=0.06, max_iter=100000))])\n",
    "\n",
    "# best_estimator.fit(X, y)\n",
    "# best_estimator.score(X, y)"
   ]
  },
  {
   "cell_type": "code",
   "execution_count": 130,
   "metadata": {
    "ExecuteTime": {
     "end_time": "2019-02-19T17:56:51.526585Z",
     "start_time": "2019-02-19T17:56:51.521094Z"
    }
   },
   "outputs": [
    {
     "data": {
      "text/plain": [
       "array([ 0.00000000e+00, -0.00000000e+00, -0.00000000e+00, -0.00000000e+00,\n",
       "        0.00000000e+00, -1.00309168e+00,  3.32679107e+00, -1.01840878e+00,\n",
       "       -2.56161421e+00,  1.12778302e+00, -1.72266155e+00, -5.37088506e-01,\n",
       "        4.39555878e-01, -3.39542586e+00,  7.22387712e-02,  0.00000000e+00,\n",
       "        0.00000000e+00,  3.53653554e+00, -0.00000000e+00,  3.72285440e-01,\n",
       "        0.00000000e+00,  0.00000000e+00, -5.49528703e-01, -0.00000000e+00,\n",
       "       -0.00000000e+00, -4.05522485e-02,  2.25864611e-01,  1.78508858e-01,\n",
       "        0.00000000e+00,  0.00000000e+00,  0.00000000e+00,  6.50874606e-02,\n",
       "       -0.00000000e+00, -2.07295802e-01, -0.00000000e+00,  3.71781995e-01,\n",
       "        0.00000000e+00, -0.00000000e+00, -5.89531100e-02,  3.47180625e-01,\n",
       "        0.00000000e+00,  9.23666274e-01,  3.48873365e-01,  7.29463442e-02,\n",
       "        0.00000000e+00,  0.00000000e+00,  7.68485586e-02, -7.21083596e-01,\n",
       "        0.00000000e+00, -5.98542558e-01,  4.18420677e-01, -7.98165728e-01,\n",
       "       -7.25062683e-01,  2.34818861e-01, -0.00000000e+00, -0.00000000e+00,\n",
       "        0.00000000e+00, -1.68164447e-02,  0.00000000e+00, -4.04477826e-01,\n",
       "       -4.22989874e-01, -4.06983988e-01, -3.75443720e-01,  4.17684564e-01,\n",
       "       -8.91841193e-01,  0.00000000e+00, -2.69309481e-01,  0.00000000e+00,\n",
       "        1.02286785e-01,  2.02570379e-01, -6.88345376e-01, -0.00000000e+00,\n",
       "       -1.08598703e+00, -3.98751731e-01, -9.37684760e-01, -1.17343147e-01,\n",
       "       -7.37427594e-01,  0.00000000e+00,  0.00000000e+00,  1.36340670e+00,\n",
       "       -0.00000000e+00, -2.94691228e-03, -8.98125013e-01, -8.68198373e-01,\n",
       "        8.03396788e-01, -1.91683803e-01, -1.14706070e-01,  0.00000000e+00,\n",
       "       -0.00000000e+00,  5.83161589e-01, -0.00000000e+00,  5.81365491e-02,\n",
       "        0.00000000e+00, -2.32896159e-01, -1.12440837e+00,  0.00000000e+00,\n",
       "        1.96286997e+00, -0.00000000e+00, -1.00915801e+00, -7.04656486e-02,\n",
       "       -1.06456357e-02, -4.78389591e-02, -3.97645601e-01, -3.84121840e-01,\n",
       "        9.97402419e-01])"
      ]
     },
     "execution_count": 130,
     "metadata": {},
     "output_type": "execute_result"
    }
   ],
   "source": [
    "best_estimator.named_steps[\"lasso_regression\"].coef_"
   ]
  },
  {
   "cell_type": "markdown",
   "metadata": {},
   "source": [
    "### Exercise\n",
    "\n",
    "Do the same, but with `Ridge` regression \n",
    "\n",
    "Which model, `Ridge` or `Lasso`, performs best with its optimal hyperparameters on the Boston dataset?"
   ]
  },
  {
   "cell_type": "code",
   "execution_count": null,
   "metadata": {
    "ExecuteTime": {
     "end_time": "2019-02-19T17:59:17.634414Z",
     "start_time": "2019-02-19T17:59:17.238684Z"
    }
   },
   "outputs": [],
   "source": [
    "pf = PolynomialFeatures(degree=2)\n",
    "alphas = np.geomspace(4, 20, 20)\n",
    "scores=[]\n",
    "for alpha in alphas:\n",
    "    ridge = Ridge(alpha=alpha, max_iter=100000)\n",
    "\n",
    "    estimator = Pipeline([\n",
    "        (\"scaler\", s),\n",
    "        (\"polynomial_features\", pf),\n",
    "        (\"ridge_regression\", ridge)])\n",
    "\n",
    "    predictions = cross_val_predict(estimator, X, y, cv = kf)\n",
    "    score = r2_score(y, predictions)\n",
    "    scores.append(score)\n",
    "\n",
    "plt.plot(alphas, scores)"
   ]
  },
  {
   "cell_type": "markdown",
   "metadata": {},
   "source": [
    "**Conclusion:** Both Lasso and Ridge with proper hyperparameter tuning give better results than plain ol' Linear Regression!"
   ]
  },
  {
   "cell_type": "markdown",
   "metadata": {},
   "source": [
    "### Exercise:"
   ]
  },
  {
   "cell_type": "markdown",
   "metadata": {},
   "source": [
    "Now, for whatever your best overall hyperparameter was: \n",
    "\n",
    "* Standardize the data\n",
    "* Fit and predict on the entire dataset\n",
    "* See what the largest coefficients were\n",
    "    * Hint: use \n",
    "    ```python\n",
    "    dict(zip(model.coef_, pf.get_feature_names()))\n",
    "    ```\n",
    "    for your model `model` to get the feature names from `PolynomialFeatures`.\n",
    "    \n",
    "    Then, use\n",
    "    ```python\n",
    "    dict(zip(list(range(len(X.columns.values))), X.columns.values))\n",
    "    ```\n",
    "    \n",
    "    to see which features in the `PolynomialFeatures` DataFrame correspond to which columns in the original DataFrame.\n"
   ]
  },
  {
   "cell_type": "code",
   "execution_count": null,
   "metadata": {
    "ExecuteTime": {
     "end_time": "2019-02-19T17:56:40.051147Z",
     "start_time": "2019-02-19T17:56:40.009641Z"
    }
   },
   "outputs": [],
   "source": [
    "# Once we have found the hyperparameter (alpha~1e-2=0.01)\n",
    "# make the model and train it on ALL the data\n",
    "# Then release it into the wild .....\n",
    "best_estimator = Pipeline([\n",
    "                    (\"scaler\", s),\n",
    "                    (\"make_higher_degree\", PolynomialFeatures(degree=2)),\n",
    "                    (\"lasso_regression\", Lasso(alpha=0.03))])\n",
    "\n",
    "best_estimator.fit(X, y)\n",
    "best_estimator.score(X, y)"
   ]
  },
  {
   "cell_type": "code",
   "execution_count": null,
   "metadata": {
    "ExecuteTime": {
     "end_time": "2019-02-19T17:56:51.526585Z",
     "start_time": "2019-02-19T17:56:51.521094Z"
    }
   },
   "outputs": [],
   "source": [
    "df_importances = pd.DataFrame(zip(best_estimator.named_steps[\"make_higher_degree\"].get_feature_names(),\n",
    "                 best_estimator.named_steps[\"lasso_regression\"].coef_,\n",
    "))"
   ]
  },
  {
   "cell_type": "code",
   "execution_count": null,
   "metadata": {},
   "outputs": [],
   "source": [
    "col_names_dict = dict(zip(list(range(len(X.columns.values))), X.columns.values))"
   ]
  },
  {
   "cell_type": "code",
   "execution_count": null,
   "metadata": {},
   "outputs": [],
   "source": [
    "col_names_dict"
   ]
  },
  {
   "cell_type": "code",
   "execution_count": null,
   "metadata": {},
   "outputs": [],
   "source": [
    "df_importances.sort_values(by=1)"
   ]
  },
  {
   "cell_type": "markdown",
   "metadata": {},
   "source": [
    "## Grid Search CV"
   ]
  },
  {
   "cell_type": "markdown",
   "metadata": {},
   "source": [
    "To do cross-validation, we used two techniques:\n",
    "- use `KFolds` and manually create a loop to do cross-validation\n",
    "- use `cross_val_predict` and `score` to get a cross-valiated score in a couple of lines.\n",
    "\n",
    "To do hyper-parameter tuning, we see a general pattern:\n",
    "- use `cross_val_predict` and `score` in a manually written loop over hyperparemeters, then select the best one.\n",
    "\n",
    "Perhaps not surprisingly, there is a function that does this for us -- `GridSearchCV`"
   ]
  },
  {
   "cell_type": "code",
   "execution_count": null,
   "metadata": {
    "ExecuteTime": {
     "end_time": "2019-02-19T18:02:31.945804Z",
     "start_time": "2019-02-19T18:02:31.938416Z"
    }
   },
   "outputs": [],
   "source": [
    "from sklearn.model_selection import GridSearchCV\n",
    "\n",
    "# Same estimator as before\n",
    "estimator = Pipeline([(\"scaler\", StandardScaler()),\n",
    "        (\"polynomial_features\", PolynomialFeatures()),\n",
    "        (\"ridge_regression\", Ridge())])\n",
    "\n",
    "params = {\n",
    "    'polynomial_features__degree': [1, 2, 3],\n",
    "    'ridge_regression__alpha': np.geomspace(4, 20, 30)\n",
    "}\n",
    "\n",
    "grid = GridSearchCV(estimator, params, cv=kf)"
   ]
  },
  {
   "cell_type": "code",
   "execution_count": null,
   "metadata": {
    "ExecuteTime": {
     "end_time": "2019-02-19T18:02:49.319148Z",
     "start_time": "2019-02-19T18:02:46.093880Z"
    }
   },
   "outputs": [],
   "source": [
    "grid.fit(X, y)"
   ]
  },
  {
   "cell_type": "code",
   "execution_count": null,
   "metadata": {
    "ExecuteTime": {
     "end_time": "2019-02-19T18:03:07.016198Z",
     "start_time": "2019-02-19T18:03:07.010215Z"
    }
   },
   "outputs": [],
   "source": [
    "grid.best_score_, grid.best_params_"
   ]
  },
  {
   "cell_type": "code",
   "execution_count": null,
   "metadata": {
    "ExecuteTime": {
     "end_time": "2019-02-19T18:03:31.735568Z",
     "start_time": "2019-02-19T18:03:31.728658Z"
    }
   },
   "outputs": [],
   "source": [
    "y_predict = grid.predict(X)"
   ]
  },
  {
   "cell_type": "code",
   "execution_count": null,
   "metadata": {
    "ExecuteTime": {
     "end_time": "2019-02-19T18:04:17.838943Z",
     "start_time": "2019-02-19T18:04:17.832872Z"
    }
   },
   "outputs": [],
   "source": [
    "# This includes both in-sample and out-of-sample\n",
    "r2_score(y, y_predict)"
   ]
  },
  {
   "cell_type": "code",
   "execution_count": null,
   "metadata": {
    "ExecuteTime": {
     "end_time": "2019-02-19T18:04:27.088854Z",
     "start_time": "2019-02-19T18:04:27.082915Z"
    }
   },
   "outputs": [],
   "source": [
    "# Notice that \"grid\" is a fit object!\n",
    "# We can use grid.predict(X_test) to get brand new predictions!\n",
    "grid.best_estimator_.named_steps['ridge_regression'].coef_"
   ]
  },
  {
   "cell_type": "code",
   "execution_count": null,
   "metadata": {
    "ExecuteTime": {
     "end_time": "2019-02-19T18:05:34.756588Z",
     "start_time": "2019-02-19T18:05:34.728508Z"
    }
   },
   "outputs": [],
   "source": [
    "grid.cv_results_"
   ]
  },
  {
   "cell_type": "markdown",
   "metadata": {},
   "source": [
    "## Summary\n",
    "\n",
    "1. We can manually generate folds by using `KFolds`\n",
    "2. We can get a score using `cross_val_predict(X, y, cv=KFoldObject_or_integer)`. \n",
    "   This will produce the out-of-bag prediction for each row.\n",
    "3. When doing hyperparameter selection, we should be optimizing on out-of-bag scores. This means either using `cross_val_predict` in a loop, or ....\n",
    "4. .... use `GridSearchCV`. GridSearchCV takes a model (or pipeline) and a dictionary of parameters to scan over. It finds the hyperparameter set that has the best out-of-sample score on all the parameters, and calls that it's \"best estimator\". It then retrains on all data with the \"best\" hyper-parameters.\n",
    "\n",
    "### Extensions\n",
    "\n",
    "Here are some additional items to keep in mind:\n",
    "* There is a `RandomSearchCV` that tries random combination of model parameters. This can be helpful if you have a prohibitive number of combinations to test them all exhaustively.\n",
    "* KFolds will randomly select rows to be in the training and test folds. There are other methods (such as `StratifiedKFolds` and `GroupKFold`, which are useful when you need more control over how the data is split (e.g. to prevent data leakage). You can create these specialized objects and pass them to the `cv` argument of `GridSearchCV`."
   ]
  },
  {
   "cell_type": "markdown",
   "metadata": {},
   "source": [
    "---\n",
    "### Machine Learning Foundation (C) 2020 IBM Corporation"
   ]
  }
 ],
 "metadata": {
  "kernelspec": {
   "display_name": "Python 3",
   "language": "python",
   "name": "python3"
  },
  "language_info": {
   "codemirror_mode": {
    "name": "ipython",
    "version": 3
   },
   "file_extension": ".py",
   "mimetype": "text/x-python",
   "name": "python",
   "nbconvert_exporter": "python",
   "pygments_lexer": "ipython3",
   "version": "3.8.3"
  },
  "varInspector": {
   "cols": {
    "lenName": 16,
    "lenType": 16,
    "lenVar": 40
   },
   "kernels_config": {
    "python": {
     "delete_cmd_postfix": "",
     "delete_cmd_prefix": "del ",
     "library": "var_list.py",
     "varRefreshCmd": "print(var_dic_list())"
    },
    "r": {
     "delete_cmd_postfix": ") ",
     "delete_cmd_prefix": "rm(",
     "library": "var_list.r",
     "varRefreshCmd": "cat(var_dic_list()) "
    }
   },
   "types_to_exclude": [
    "module",
    "function",
    "builtin_function_or_method",
    "instance",
    "_Feature"
   ],
   "window_display": false
  }
 },
 "nbformat": 4,
 "nbformat_minor": 4
}
