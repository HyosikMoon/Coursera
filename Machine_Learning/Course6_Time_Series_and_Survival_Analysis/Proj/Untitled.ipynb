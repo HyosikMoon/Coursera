{
 "cells": [
  {
   "cell_type": "code",
   "execution_count": 2,
   "id": "1748b3a9",
   "metadata": {},
   "outputs": [
    {
     "data": {
      "text/html": [
       "<div>\n",
       "<style scoped>\n",
       "    .dataframe tbody tr th:only-of-type {\n",
       "        vertical-align: middle;\n",
       "    }\n",
       "\n",
       "    .dataframe tbody tr th {\n",
       "        vertical-align: top;\n",
       "    }\n",
       "\n",
       "    .dataframe thead th {\n",
       "        text-align: right;\n",
       "    }\n",
       "</style>\n",
       "<table border=\"1\" class=\"dataframe\">\n",
       "  <thead>\n",
       "    <tr style=\"text-align: right;\">\n",
       "      <th></th>\n",
       "      <th>Open</th>\n",
       "      <th>High</th>\n",
       "      <th>Low</th>\n",
       "      <th>Close</th>\n",
       "      <th>Adj Close</th>\n",
       "      <th>Volume</th>\n",
       "    </tr>\n",
       "  </thead>\n",
       "  <tbody>\n",
       "    <tr>\n",
       "      <th>count</th>\n",
       "      <td>5577.000000</td>\n",
       "      <td>5577.000000</td>\n",
       "      <td>5577.000000</td>\n",
       "      <td>5577.000000</td>\n",
       "      <td>5577.000000</td>\n",
       "      <td>5.577000e+03</td>\n",
       "    </tr>\n",
       "    <tr>\n",
       "      <th>mean</th>\n",
       "      <td>153.388107</td>\n",
       "      <td>155.255690</td>\n",
       "      <td>151.518473</td>\n",
       "      <td>153.413700</td>\n",
       "      <td>134.953673</td>\n",
       "      <td>5.347931e+06</td>\n",
       "    </tr>\n",
       "    <tr>\n",
       "      <th>std</th>\n",
       "      <td>59.548650</td>\n",
       "      <td>59.940215</td>\n",
       "      <td>59.125804</td>\n",
       "      <td>59.536651</td>\n",
       "      <td>60.874014</td>\n",
       "      <td>6.154837e+06</td>\n",
       "    </tr>\n",
       "    <tr>\n",
       "      <th>min</th>\n",
       "      <td>54.000000</td>\n",
       "      <td>54.540001</td>\n",
       "      <td>47.410000</td>\n",
       "      <td>52.000000</td>\n",
       "      <td>43.174923</td>\n",
       "      <td>1.076000e+05</td>\n",
       "    </tr>\n",
       "    <tr>\n",
       "      <th>25%</th>\n",
       "      <td>99.375000</td>\n",
       "      <td>101.070000</td>\n",
       "      <td>97.809998</td>\n",
       "      <td>99.300003</td>\n",
       "      <td>81.400467</td>\n",
       "      <td>2.525500e+06</td>\n",
       "    </tr>\n",
       "    <tr>\n",
       "      <th>50%</th>\n",
       "      <td>155.300003</td>\n",
       "      <td>157.000000</td>\n",
       "      <td>153.720001</td>\n",
       "      <td>155.330002</td>\n",
       "      <td>134.594437</td>\n",
       "      <td>3.598300e+06</td>\n",
       "    </tr>\n",
       "    <tr>\n",
       "      <th>75%</th>\n",
       "      <td>194.839996</td>\n",
       "      <td>197.399994</td>\n",
       "      <td>192.449997</td>\n",
       "      <td>194.970001</td>\n",
       "      <td>173.237244</td>\n",
       "      <td>5.660900e+06</td>\n",
       "    </tr>\n",
       "    <tr>\n",
       "      <th>max</th>\n",
       "      <td>393.000000</td>\n",
       "      <td>393.260010</td>\n",
       "      <td>387.549988</td>\n",
       "      <td>391.450012</td>\n",
       "      <td>391.450012</td>\n",
       "      <td>1.145907e+08</td>\n",
       "    </tr>\n",
       "  </tbody>\n",
       "</table>\n",
       "</div>"
      ],
      "text/plain": [
       "              Open         High          Low        Close    Adj Close  \\\n",
       "count  5577.000000  5577.000000  5577.000000  5577.000000  5577.000000   \n",
       "mean    153.388107   155.255690   151.518473   153.413700   134.953673   \n",
       "std      59.548650    59.940215    59.125804    59.536651    60.874014   \n",
       "min      54.000000    54.540001    47.410000    52.000000    43.174923   \n",
       "25%      99.375000   101.070000    97.809998    99.300003    81.400467   \n",
       "50%     155.300003   157.000000   153.720001   155.330002   134.594437   \n",
       "75%     194.839996   197.399994   192.449997   194.970001   173.237244   \n",
       "max     393.000000   393.260010   387.549988   391.450012   391.450012   \n",
       "\n",
       "             Volume  \n",
       "count  5.577000e+03  \n",
       "mean   5.347931e+06  \n",
       "std    6.154837e+06  \n",
       "min    1.076000e+05  \n",
       "25%    2.525500e+06  \n",
       "50%    3.598300e+06  \n",
       "75%    5.660900e+06  \n",
       "max    1.145907e+08  "
      ]
     },
     "execution_count": 2,
     "metadata": {},
     "output_type": "execute_result"
    }
   ],
   "source": [
    "import pandas as pd\n",
    "path = 'data/GS.csv'\n",
    "df = pd.read_csv(path)\n",
    "df.head()\n",
    "df.describe()"
   ]
  },
  {
   "cell_type": "code",
   "execution_count": 4,
   "id": "dd37595b",
   "metadata": {},
   "outputs": [
    {
     "data": {
      "text/plain": [
       "Index(['Date', 'Open', 'High', 'Low', 'Close', 'Adj Close', 'Volume'], dtype='object')"
      ]
     },
     "execution_count": 4,
     "metadata": {},
     "output_type": "execute_result"
    }
   ],
   "source": [
    "df.columns"
   ]
  },
  {
   "cell_type": "code",
   "execution_count": 6,
   "id": "039f6fc3",
   "metadata": {},
   "outputs": [],
   "source": [
    "del_cols = [str for str in list(df.columns) if str != 'Data']"
   ]
  },
  {
   "cell_type": "code",
   "execution_count": 12,
   "id": "04d322ff",
   "metadata": {},
   "outputs": [],
   "source": [
    "data = df."
   ]
  },
  {
   "cell_type": "code",
   "execution_count": null,
   "id": "fbea2d09",
   "metadata": {},
   "outputs": [],
   "source": [
    "del_cols.remove('Date')"
   ]
  }
 ],
 "metadata": {
  "kernelspec": {
   "display_name": "Python 3",
   "language": "python",
   "name": "python3"
  },
  "language_info": {
   "codemirror_mode": {
    "name": "ipython",
    "version": 3
   },
   "file_extension": ".py",
   "mimetype": "text/x-python",
   "name": "python",
   "nbconvert_exporter": "python",
   "pygments_lexer": "ipython3",
   "version": "3.8.3"
  }
 },
 "nbformat": 4,
 "nbformat_minor": 5
}
